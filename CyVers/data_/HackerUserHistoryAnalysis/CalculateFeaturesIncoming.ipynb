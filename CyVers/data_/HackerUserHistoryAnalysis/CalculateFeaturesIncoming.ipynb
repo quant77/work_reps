{
 "cells": [
  {
   "cell_type": "markdown",
   "metadata": {},
   "source": [
    "[![CyVers](https://i.imgur.com/yyhmZET.png)](https://www.cyvers.ai/)\n",
    "\n",
    "# Calculate Features - Incoming\n",
    "\n",
    "> Notebook by:\n",
    "> - Royi Avital Royi@cyverse.com\n",
    "\n",
    "## Revision History\n",
    "\n",
    "| Version | Date       | Content / Changes                      |\n",
    "|---------|------------|----------------------------------------|\n",
    "| 0.1.000 | 19/07/2022 | First version                          |\n",
    "|         |            |                                        |"
   ]
  },
  {
   "cell_type": "code",
   "execution_count": null,
   "metadata": {},
   "outputs": [],
   "source": [
    "# General Tools\n",
    "import numpy as np\n",
    "# import scipy as sp\n",
    "import pandas as pd\n",
    "\n",
    "# Misc\n",
    "# import datetime\n",
    "import os\n",
    "from platform import python_version\n",
    "import random\n",
    "\n",
    "# EDA Tools\n",
    "# import ppscore as pps #<! See https://github.com/8080labs/ppscore -> pip install git+https://github.com/8080labs/ppscore.git\n",
    "\n",
    "# Machine Learning\n",
    "\n",
    "# Ensemble Engines\n",
    "# import lightgbm\n",
    "# import xgboost\n",
    "\n",
    "# Visualization\n",
    "import matplotlib.pyplot as plt\n",
    "import seaborn as sns\n",
    "# from bokeh.plotting import figure, show\n",
    "\n",
    "# Jupyter\n",
    "# from ipywidgets import interact, Dropdown, Layout"
   ]
  },
  {
   "cell_type": "code",
   "execution_count": null,
   "metadata": {},
   "outputs": [],
   "source": [
    "# Configuration\n",
    "%matplotlib inline\n",
    "\n",
    "seedNum = 512\n",
    "np.random.seed(seedNum)\n",
    "random.seed(seedNum)\n",
    "\n",
    "sns.set_theme() #>! Apply SeaBorn theme"
   ]
  },
  {
   "cell_type": "code",
   "execution_count": null,
   "metadata": {},
   "outputs": [],
   "source": [
    "# Constants\n",
    "\n",
    "DATA_FOLDER_NAME    = '.'\n",
    "DATA_FILE_EXT       = 'csv'"
   ]
  },
  {
   "cell_type": "code",
   "execution_count": null,
   "metadata": {},
   "outputs": [],
   "source": [
    "# Parameters\n",
    "\n",
    "calcNumTransactions = True\n",
    "calcTotalAmount     = True\n",
    "calcAvgAmount       = True\n",
    "calcStdAmount       = True\n",
    "calcTimeInterval    = False\n",
    "calcTimeDiffAvg     = False\n",
    "calcTimeDiffStd     = False\n",
    "\n",
    "\n",
    "incomingCsvFileName = 'Incoming_2022_07_18'\n",
    "assetsCsvFileName   = 'SAMADataCollection_2022_07_18'\n"
   ]
  },
  {
   "cell_type": "code",
   "execution_count": null,
   "metadata": {},
   "outputs": [],
   "source": [
    "# Loading / Generating Data\n",
    "\n",
    "dfData = pd.read_csv(os.path.join(DATA_FOLDER_NAME, incomingCsvFileName + '.' + DATA_FILE_EXT))\n",
    "numRows, numCols = dfData.shape\n",
    "\n",
    "print(f'DF Info: File Name - {incomingCsvFileName}, Number of rows (Samples) - {numRows}, Number of columns - {numCols}')\n",
    "\n",
    "dfDataAssets = pd.read_csv(os.path.join(DATA_FOLDER_NAME, assetsCsvFileName + '.' + DATA_FILE_EXT))\n",
    "\n",
    "numRows, numCols = dfDataAssets.shape\n",
    "\n",
    "print(f'DF Info: File Name - {assetsCsvFileName}, Number of rows (Samples) - {numRows}, Number of columns - {numCols}')"
   ]
  },
  {
   "cell_type": "code",
   "execution_count": null,
   "metadata": {},
   "outputs": [],
   "source": [
    "# Convert time data into Pandas format\n",
    "dfData['Transaction Time'] = pd.to_datetime(dfData['Transaction Time'], infer_datetime_format = 'True') #<! Stable time format\n",
    "dfData.sort_values('Transaction Time', inplace = True)\n",
    "dfData.reset_index(drop = True, inplace = True) #<! So now we can drop by index anything after the last transaction"
   ]
  },
  {
   "cell_type": "code",
   "execution_count": null,
   "metadata": {},
   "outputs": [],
   "source": [
    "dfData.head()"
   ]
  },
  {
   "cell_type": "code",
   "execution_count": null,
   "metadata": {},
   "outputs": [],
   "source": [
    "dfGrpByRcvr = dfData.groupby('Receiver ID') #<! Incoming Trnasactions -> The asset is the receiver"
   ]
  },
  {
   "cell_type": "code",
   "execution_count": null,
   "metadata": {},
   "outputs": [],
   "source": [
    "# Extract a dictionary\n",
    "\n",
    "dfTmp = dfDataAssets[['User ID', 'Activity with Assets ID']]\n",
    "dAssetsTsxId = dfTmp.set_index(keys = 'User ID').to_dict() #<! Creating a Dict: {'User ID': TSX with Asset}\n",
    "dAssetsTsxId = dAssetsTsxId['Activity with Assets ID'] #<! Creating a Dict: {'User ID': TSX with Asset}"
   ]
  },
  {
   "cell_type": "code",
   "execution_count": null,
   "metadata": {},
   "outputs": [],
   "source": [
    "lInvalidIdx = []\n",
    "\n",
    "for ii, (grpName, dfGroup) in enumerate(dfGrpByRcvr):\n",
    "    lastTsx = dAssetsTsxId[grpName]\n",
    "    dfGroup[] == dfGroup[dfGroup['Transaction ID'] == lastTsx].index()\n",
    "    "
   ]
  }
 ],
 "metadata": {
  "kernelspec": {
   "display_name": "Python 3.10.5 64-bit (system)",
   "language": "python",
   "name": "python3"
  },
  "language_info": {
   "codemirror_mode": {
    "name": "ipython",
    "version": 3
   },
   "file_extension": ".py",
   "mimetype": "text/x-python",
   "name": "python",
   "nbconvert_exporter": "python",
   "pygments_lexer": "ipython3",
   "version": "3.10.5"
  },
  "orig_nbformat": 4,
  "vscode": {
   "interpreter": {
    "hash": "b091ae1a5f61fa4269f1f2c4a075dfd3ba6d6b741f8802b3932e01e064097caa"
   }
  }
 },
 "nbformat": 4,
 "nbformat_minor": 2
}
