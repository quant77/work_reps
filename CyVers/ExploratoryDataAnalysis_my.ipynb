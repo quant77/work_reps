{
 "cells": [
  {
   "cell_type": "markdown",
   "metadata": {},
   "source": [
    "[![CyVers](https://i.imgur.com/yyhmZET.png)](https://www.cyvers.ai/)\n",
    "\n",
    "# BlockChain Attack Data Set - Exploratory Data Analysis (EDA)\n",
    "\n",
    "> Notebook by:\n",
    "> - Royi Avital Royi@cyverse.com\n",
    "\n",
    "## Revision History\n",
    "\n",
    "| Version | Date       | Content / Changes                      |\n",
    "|---------|------------|----------------------------------------|\n",
    "| 0.1.000 | 30/06/2022 | First version                          |\n",
    "|         |            |                                        |"
   ]
  },
  {
   "cell_type": "code",
   "execution_count": 70,
   "metadata": {},
   "outputs": [],
   "source": [
    "# General Tools\n",
    "import numpy as np\n",
    "import scipy as sp\n",
    "import pandas as pd\n",
    "\n",
    "# Misc\n",
    "import datetime\n",
    "import os\n",
    "from platform import python_version\n",
    "import random\n",
    "\n",
    "# EDA Tools\n",
    "import ppscore as pps #<! See https://github.com/8080labs/ppscore -> pip install git+https://github.com/8080labs/ppscore.git\n",
    "\n",
    "# Machine Learning\n",
    "\n",
    "# Ensemble Engines\n",
    "import lightgbm\n",
    "import xgboost\n",
    "\n",
    "# Visualization\n",
    "import matplotlib.pyplot as plt\n",
    "import seaborn as sns\n",
    "from bokeh.plotting import figure, show\n",
    "\n",
    "# Jupyter\n",
    "from ipywidgets import interact, Dropdown, Layout"
   ]
  },
  {
   "cell_type": "code",
   "execution_count": 71,
   "metadata": {},
   "outputs": [],
   "source": [
    "# Configuration\n",
    "%matplotlib inline\n",
    "\n",
    "seedNum = 512\n",
    "np.random.seed(seedNum)\n",
    "random.seed(seedNum)\n",
    "\n",
    "sns.set_theme() #>! Apply SeaBorn theme"
   ]
  },
  {
   "cell_type": "code",
   "execution_count": 72,
   "metadata": {},
   "outputs": [],
   "source": [
    "#my imports\n",
    "#warning supression\n",
    "import warnings\n",
    "warnings.filterwarnings(\"ignore\")\n",
    "from sklearn.preprocessing import StandardScaler\n",
    "from sklearn.discriminant_analysis import LinearDiscriminantAnalysis as LDA\n",
    "from sklearn.discriminant_analysis import LinearDiscriminantAnalysis\n",
    "\n",
    "from sklearn.manifold import TSNE\n",
    "from numpy import reshape\n",
    "import seaborn as sns\n",
    "import pandas as pd\n",
    "\n",
    "\n",
    "\n",
    "\n"
   ]
  },
  {
   "cell_type": "code",
   "execution_count": 73,
   "metadata": {},
   "outputs": [],
   "source": [
    "### feature strings consts\n",
    "SUM = 'SUM';MEAN = \"MEAN\"; STD = \"STD\" ; VAR = 'VAR'; MEDIAN ='MEDIAN' ; COUNT = 'COUNT' ; MIN = 'MIN' ; MAX = 'MAX'\n",
    "TD_MEAN = \"TD_MEAN\"; TD_STD = \"TD_STD\" ;  TD_MEDIAN ='TD_MEDIAN' ;TD_MIN = 'TD_MIN' ; TD_MAX = 'TD_MAX' "
   ]
  },
  {
   "cell_type": "code",
   "execution_count": 74,
   "metadata": {},
   "outputs": [],
   "source": [
    "# Constants\n",
    "\n",
    "DATA_FOLDER_NAME    = 'BlockChainAttacksDataSet'\n",
    "DATA_FOLDER_PATTERN = 'DataSet'\n",
    "DATA_FILE_EXT       = 'csv'\n",
    "\n",
    "PROJECT_DIR_NAME = '_CyVers'\n",
    "PROJECT_DIR_PATH = os.path.join(os.getcwd()[:os.getcwd().find(PROJECT_DIR_NAME)], PROJECT_DIR_NAME) #>! Pay attention, it will create issues in cases you name the folder `CyVersMe` or anything after `CyVers`"
   ]
  },
  {
   "cell_type": "code",
   "execution_count": 75,
   "metadata": {},
   "outputs": [],
   "source": [
    "# CyVers Packages\n",
    "from DataSetsAuxFun import *"
   ]
  },
  {
   "cell_type": "code",
   "execution_count": 76,
   "metadata": {},
   "outputs": [],
   "source": [
    "# Parameters\n",
    "dataSetRotoDir = os.path.join(PROJECT_DIR_PATH, DATA_FOLDER_NAME)\n",
    "\n",
    "# csvFileName = 'Dataset Bitmart.csv'\n",
    "# csvFileName = 'All.csv'"
   ]
  },
  {
   "cell_type": "code",
   "execution_count": 77,
   "metadata": {},
   "outputs": [
    {
     "name": "stdout",
     "output_type": "stream",
     "text": [
      "The number of file found: 133\n",
      "The number of rows (Samples): 758637, The number of columns: 12\n"
     ]
    }
   ],
   "source": [
    "# Loading / Generating Data\n",
    "lCsvFile = ExtractCsvFiles(dataSetRotoDir, folderNamePattern = DATA_FOLDER_PATTERN)\n",
    "print(f'The number of file found: {len(lCsvFile)}')\n",
    "\n",
    "# dfData = pd.read_csv(os.path.join(DATA_FOLDER_NAME, csvFileName))\n",
    "dfData = LoadCsvFilesDf(lCsvFile, baseFoldePath = '')\n",
    "numRows, numCols = dfData.shape\n",
    "\n",
    "print(f'The number of rows (Samples): {numRows}, The number of columns: {numCols}')"
   ]
  },
  {
   "cell_type": "code",
   "execution_count": 78,
   "metadata": {},
   "outputs": [],
   "source": [
    "dfData.drop(dfData[dfData['Transaction Time'] == '0x13b432914a996b0a48695df9b2d701eda45ff264'].index, inplace=True)\n",
    "dfData.drop(dfData[dfData['Transaction Time'] == '0xdef171fe48cf0115b1d80b88dc8eab59176fee57'].index, inplace=True)"
   ]
  },
  {
   "cell_type": "code",
   "execution_count": 79,
   "metadata": {},
   "outputs": [],
   "source": [
    "# Convert time data into Pandas format\n",
    "dfData['Transaction Time'] = pd.to_datetime(dfData['Transaction Time'], infer_datetime_format = 'True') #<! Stable time format"
   ]
  },
  {
   "cell_type": "code",
   "execution_count": 80,
   "metadata": {},
   "outputs": [],
   "source": [
    "#dfData[dfData['Transaction Time'] == '0x13b432914a996b0a48695df9b2d701eda45ff264']\n"
   ]
  },
  {
   "cell_type": "code",
   "execution_count": 81,
   "metadata": {},
   "outputs": [
    {
     "data": {
      "text/html": [
       "<div>\n",
       "<style scoped>\n",
       "    .dataframe tbody tr th:only-of-type {\n",
       "        vertical-align: middle;\n",
       "    }\n",
       "\n",
       "    .dataframe tbody tr th {\n",
       "        vertical-align: top;\n",
       "    }\n",
       "\n",
       "    .dataframe thead th {\n",
       "        text-align: right;\n",
       "    }\n",
       "</style>\n",
       "<table border=\"1\" class=\"dataframe\">\n",
       "  <thead>\n",
       "    <tr style=\"text-align: right;\">\n",
       "      <th></th>\n",
       "      <th>Transaction ID</th>\n",
       "      <th>Transaction Time</th>\n",
       "      <th>Sender ID</th>\n",
       "      <th>Receiver ID</th>\n",
       "      <th>Amount</th>\n",
       "      <th>Currency</th>\n",
       "      <th>Currency Hash</th>\n",
       "      <th>Currency Type</th>\n",
       "      <th>Amount [USD]</th>\n",
       "      <th>Receiver Type</th>\n",
       "      <th>Label</th>\n",
       "      <th>tx_hash</th>\n",
       "    </tr>\n",
       "  </thead>\n",
       "  <tbody>\n",
       "    <tr>\n",
       "      <th>0</th>\n",
       "      <td>0x93b0611af943755018561b03d16080243be62a3284f5...</td>\n",
       "      <td>2021-10-30 23:56:38+00:00</td>\n",
       "      <td>0xba12222222228d8ba445958a75a0704d566bf2c8</td>\n",
       "      <td>0x579d9d1e1c2066bc6fa52820b915a35fb6cc6da1</td>\n",
       "      <td>17.924146</td>\n",
       "      <td>BAL</td>\n",
       "      <td>0xba100000625a3754423978a60c9317c58a424e3d</td>\n",
       "      <td>ERC20</td>\n",
       "      <td>442.169472</td>\n",
       "      <td>Wallet</td>\n",
       "      <td>0.0</td>\n",
       "      <td>NaN</td>\n",
       "    </tr>\n",
       "    <tr>\n",
       "      <th>1</th>\n",
       "      <td>0x80a40106ef61a6216ce09df89f5c131c0976f7ca7c82...</td>\n",
       "      <td>2021-10-30 23:55:10+00:00</td>\n",
       "      <td>0xba12222222228d8ba445958a75a0704d566bf2c8</td>\n",
       "      <td>0x07e54e08f7e6ad85916ab549a9287b1134c31df5</td>\n",
       "      <td>1.800439</td>\n",
       "      <td>WBTC</td>\n",
       "      <td>0x2260fac5e5542a773aa44fbcfedf7c193bc2c599</td>\n",
       "      <td>ERC20</td>\n",
       "      <td>110563.5509</td>\n",
       "      <td>Wallet</td>\n",
       "      <td>0.0</td>\n",
       "      <td>NaN</td>\n",
       "    </tr>\n",
       "    <tr>\n",
       "      <th>2</th>\n",
       "      <td>0xa2df49e0399a00954a1a9f0435e838e0433ca6d5cc35...</td>\n",
       "      <td>2021-10-30 23:55:05+00:00</td>\n",
       "      <td>0xba12222222228d8ba445958a75a0704d566bf2c8</td>\n",
       "      <td>0x3f3b7d0f3da05f6cd44e9d35a9517b59c83ad560</td>\n",
       "      <td>475980.4624</td>\n",
       "      <td>eYyvDAI-16OCT21</td>\n",
       "      <td>0xa1cc9bbcd3731a9fd43e1f1416f9b6bf824f37d7</td>\n",
       "      <td>ERC20</td>\n",
       "      <td>0.0</td>\n",
       "      <td>Wallet</td>\n",
       "      <td>0.0</td>\n",
       "      <td>NaN</td>\n",
       "    </tr>\n",
       "    <tr>\n",
       "      <th>3</th>\n",
       "      <td>0x71e5a959862844a95aeeb06e5faad964a254de18b9f1...</td>\n",
       "      <td>2021-10-30 23:54:53+00:00</td>\n",
       "      <td>0xba12222222228d8ba445958a75a0704d566bf2c8</td>\n",
       "      <td>0xa1006d0051a35b0000f961a8000000009ea8d2db</td>\n",
       "      <td>176.068727</td>\n",
       "      <td>BAL</td>\n",
       "      <td>0xba100000625a3754423978a60c9317c58a424e3d</td>\n",
       "      <td>ERC20</td>\n",
       "      <td>4343.426908</td>\n",
       "      <td>Smart Contract</td>\n",
       "      <td>0.0</td>\n",
       "      <td>NaN</td>\n",
       "    </tr>\n",
       "    <tr>\n",
       "      <th>4</th>\n",
       "      <td>0xce8ebbac900febb8ad4e89c9fcf9448baafee09fcfdf...</td>\n",
       "      <td>2021-10-30 23:53:22+00:00</td>\n",
       "      <td>0xba12222222228d8ba445958a75a0704d566bf2c8</td>\n",
       "      <td>0xdef171fe48cf0115b1d80b88dc8eab59176fee57</td>\n",
       "      <td>2.382376</td>\n",
       "      <td>ETH</td>\n",
       "      <td>0x0000000000000000000000000000000000000000</td>\n",
       "      <td>NaN</td>\n",
       "      <td>10537.10833</td>\n",
       "      <td>Smart Contract</td>\n",
       "      <td>0.0</td>\n",
       "      <td>NaN</td>\n",
       "    </tr>\n",
       "    <tr>\n",
       "      <th>5</th>\n",
       "      <td>0xce8ebbac900febb8ad4e89c9fcf9448baafee09fcfdf...</td>\n",
       "      <td>2021-10-30 23:53:22+00:00</td>\n",
       "      <td>0xba12222222228d8ba445958a75a0704d566bf2c8</td>\n",
       "      <td>0xc02aaa39b223fe8d0a0e5c4f27ead9083c756cc2</td>\n",
       "      <td>2.382376</td>\n",
       "      <td>WETH</td>\n",
       "      <td>0xc02aaa39b223fe8d0a0e5c4f27ead9083c756cc2</td>\n",
       "      <td>ERC20</td>\n",
       "      <td>10224.66064</td>\n",
       "      <td>Token</td>\n",
       "      <td>0.0</td>\n",
       "      <td>NaN</td>\n",
       "    </tr>\n",
       "    <tr>\n",
       "      <th>6</th>\n",
       "      <td>0x200370346912558828ea6651f1413f4b14355f068a01...</td>\n",
       "      <td>2021-10-30 23:48:43+00:00</td>\n",
       "      <td>0xba12222222228d8ba445958a75a0704d566bf2c8</td>\n",
       "      <td>0x22f9dcf4647084d6c31b2765f6910cd85c178c18</td>\n",
       "      <td>0.124323</td>\n",
       "      <td>WETH</td>\n",
       "      <td>0xc02aaa39b223fe8d0a0e5c4f27ead9083c756cc2</td>\n",
       "      <td>ERC20</td>\n",
       "      <td>533.568702</td>\n",
       "      <td>Smart Contract</td>\n",
       "      <td>0.0</td>\n",
       "      <td>NaN</td>\n",
       "    </tr>\n",
       "    <tr>\n",
       "      <th>7</th>\n",
       "      <td>0x6e90a8d5c4c474e25da3a2907cf8eeb94480f6503429...</td>\n",
       "      <td>2021-10-30 23:43:55+00:00</td>\n",
       "      <td>0xba12222222228d8ba445958a75a0704d566bf2c8</td>\n",
       "      <td>0x16f33b3d0272f897d9bc55282fa151215215602c</td>\n",
       "      <td>130298.156</td>\n",
       "      <td>USDT</td>\n",
       "      <td>0xdac17f958d2ee523a2206206994597c13d831ec7</td>\n",
       "      <td>ERC20</td>\n",
       "      <td>130297.97</td>\n",
       "      <td>Wallet</td>\n",
       "      <td>0.0</td>\n",
       "      <td>NaN</td>\n",
       "    </tr>\n",
       "    <tr>\n",
       "      <th>8</th>\n",
       "      <td>0xdbab70d05bb4a01da712b1d31fcd5fd5aa3b13a7720c...</td>\n",
       "      <td>2021-10-30 23:41:35+00:00</td>\n",
       "      <td>0xba12222222228d8ba445958a75a0704d566bf2c8</td>\n",
       "      <td>0x4876a43304640a02fc8efab117056397c0e5ecad</td>\n",
       "      <td>1277.699</td>\n",
       "      <td>USDC</td>\n",
       "      <td>0xa0b86991c6218b36c1d19d4a2e9eb0ce3606eb48</td>\n",
       "      <td>ERC20</td>\n",
       "      <td>1276.041469</td>\n",
       "      <td>Wallet</td>\n",
       "      <td>0.0</td>\n",
       "      <td>NaN</td>\n",
       "    </tr>\n",
       "    <tr>\n",
       "      <th>9</th>\n",
       "      <td>0xdbab70d05bb4a01da712b1d31fcd5fd5aa3b13a7720c...</td>\n",
       "      <td>2021-10-30 23:41:35+00:00</td>\n",
       "      <td>0xba12222222228d8ba445958a75a0704d566bf2c8</td>\n",
       "      <td>0x4876a43304640a02fc8efab117056397c0e5ecad</td>\n",
       "      <td>1075.303035</td>\n",
       "      <td>ePyvUSDC-28JAN22</td>\n",
       "      <td>0x8a2228705ec979961f0e16df311debcf097a2766</td>\n",
       "      <td>ERC20</td>\n",
       "      <td>0.0</td>\n",
       "      <td>Wallet</td>\n",
       "      <td>0.0</td>\n",
       "      <td>NaN</td>\n",
       "    </tr>\n",
       "    <tr>\n",
       "      <th>10</th>\n",
       "      <td>0xb96f494c8624de01f240aed60f80d4e1b527b6b43a23...</td>\n",
       "      <td>2021-10-30 23:39:13+00:00</td>\n",
       "      <td>0xba12222222228d8ba445958a75a0704d566bf2c8</td>\n",
       "      <td>0x0000006daea1723962647b7e189d311d757fb793</td>\n",
       "      <td>34.7247</td>\n",
       "      <td>WETH</td>\n",
       "      <td>0xc02aaa39b223fe8d0a0e5c4f27ead9083c756cc2</td>\n",
       "      <td>ERC20</td>\n",
       "      <td>149031.1526</td>\n",
       "      <td>Smart Contract</td>\n",
       "      <td>0.0</td>\n",
       "      <td>NaN</td>\n",
       "    </tr>\n",
       "    <tr>\n",
       "      <th>11</th>\n",
       "      <td>0x31e96e98427198467b080e4dcfb879b1fbefbd9590dc...</td>\n",
       "      <td>2021-10-30 23:36:23+00:00</td>\n",
       "      <td>0xba12222222228d8ba445958a75a0704d566bf2c8</td>\n",
       "      <td>0x911605012f87a3017322c81fcb4c90ada7c09116</td>\n",
       "      <td>728.174121</td>\n",
       "      <td>BAL</td>\n",
       "      <td>0xba100000625a3754423978a60c9317c58a424e3d</td>\n",
       "      <td>ERC20</td>\n",
       "      <td>17963.27565</td>\n",
       "      <td>Smart Contract</td>\n",
       "      <td>0.0</td>\n",
       "      <td>NaN</td>\n",
       "    </tr>\n",
       "    <tr>\n",
       "      <th>12</th>\n",
       "      <td>0xe4eb46767a23d77bfc1a23f6ba0a8c4d672ba88e6c37...</td>\n",
       "      <td>2021-10-30 23:35:54+00:00</td>\n",
       "      <td>0xba12222222228d8ba445958a75a0704d566bf2c8</td>\n",
       "      <td>0x0000006daea1723962647b7e189d311d757fb793</td>\n",
       "      <td>9.2758</td>\n",
       "      <td>WETH</td>\n",
       "      <td>0xc02aaa39b223fe8d0a0e5c4f27ead9083c756cc2</td>\n",
       "      <td>ERC20</td>\n",
       "      <td>39809.79434</td>\n",
       "      <td>Smart Contract</td>\n",
       "      <td>0.0</td>\n",
       "      <td>NaN</td>\n",
       "    </tr>\n",
       "    <tr>\n",
       "      <th>13</th>\n",
       "      <td>0xd899cdbbf68e5fff4d0d1e128179296b05b870529753...</td>\n",
       "      <td>2021-10-30 23:35:37+00:00</td>\n",
       "      <td>0xba12222222228d8ba445958a75a0704d566bf2c8</td>\n",
       "      <td>0xc88ac988a655b91b70def427c8778b4d43f2048d</td>\n",
       "      <td>2995.804506</td>\n",
       "      <td>USDC</td>\n",
       "      <td>0xa0b86991c6218b36c1d19d4a2e9eb0ce3606eb48</td>\n",
       "      <td>ERC20</td>\n",
       "      <td>2991.918115</td>\n",
       "      <td>DEX</td>\n",
       "      <td>0.0</td>\n",
       "      <td>NaN</td>\n",
       "    </tr>\n",
       "    <tr>\n",
       "      <th>14</th>\n",
       "      <td>0x802e50cea35b6c315b8a45f795a3677d2f9d5a2b74e7...</td>\n",
       "      <td>2021-10-30 23:35:05+00:00</td>\n",
       "      <td>0xba12222222228d8ba445958a75a0704d566bf2c8</td>\n",
       "      <td>0xc02aaa39b223fe8d0a0e5c4f27ead9083c756cc2</td>\n",
       "      <td>5.900267</td>\n",
       "      <td>WETH</td>\n",
       "      <td>0xc02aaa39b223fe8d0a0e5c4f27ead9083c756cc2</td>\n",
       "      <td>ERC20</td>\n",
       "      <td>25322.71378</td>\n",
       "      <td>Token</td>\n",
       "      <td>0.0</td>\n",
       "      <td>NaN</td>\n",
       "    </tr>\n",
       "    <tr>\n",
       "      <th>15</th>\n",
       "      <td>0x802e50cea35b6c315b8a45f795a3677d2f9d5a2b74e7...</td>\n",
       "      <td>2021-10-30 23:35:05+00:00</td>\n",
       "      <td>0xba12222222228d8ba445958a75a0704d566bf2c8</td>\n",
       "      <td>0x6e90ae41af1dea6f0006aa7752d9db2cf5e6a49f</td>\n",
       "      <td>5.900267</td>\n",
       "      <td>ETH</td>\n",
       "      <td>0x0000000000000000000000000000000000000000</td>\n",
       "      <td>NaN</td>\n",
       "      <td>26096.53149</td>\n",
       "      <td>Wallet</td>\n",
       "      <td>0.0</td>\n",
       "      <td>NaN</td>\n",
       "    </tr>\n",
       "    <tr>\n",
       "      <th>16</th>\n",
       "      <td>0x42697ff6b86381a8a1f89e3724b10a68078fc6a1af2e...</td>\n",
       "      <td>2021-10-30 23:34:26+00:00</td>\n",
       "      <td>0xba12222222228d8ba445958a75a0704d566bf2c8</td>\n",
       "      <td>0x4d246be90c2f36730bb853ad41d0a189061192d3</td>\n",
       "      <td>17.553146</td>\n",
       "      <td>WETH</td>\n",
       "      <td>0xc02aaa39b223fe8d0a0e5c4f27ead9083c756cc2</td>\n",
       "      <td>ERC20</td>\n",
       "      <td>75334.43256</td>\n",
       "      <td>Smart Contract</td>\n",
       "      <td>0.0</td>\n",
       "      <td>NaN</td>\n",
       "    </tr>\n",
       "    <tr>\n",
       "      <th>17</th>\n",
       "      <td>0x2fa476ed8feeb19e0a8686df05fb8566cf8a52678f92...</td>\n",
       "      <td>2021-10-30 23:29:37+00:00</td>\n",
       "      <td>0xba12222222228d8ba445958a75a0704d566bf2c8</td>\n",
       "      <td>0x56178a0d5f301baf6cf3e1cd53d9863437345bf9</td>\n",
       "      <td>30.162529</td>\n",
       "      <td>WETH</td>\n",
       "      <td>0xc02aaa39b223fe8d0a0e5c4f27ead9083c756cc2</td>\n",
       "      <td>ERC20</td>\n",
       "      <td>129451.2667</td>\n",
       "      <td>Wallet</td>\n",
       "      <td>0.0</td>\n",
       "      <td>NaN</td>\n",
       "    </tr>\n",
       "    <tr>\n",
       "      <th>18</th>\n",
       "      <td>0x9ec8014df47538d1342f1d63b548d809cc4a25f0b4cc...</td>\n",
       "      <td>2021-10-30 23:29:37+00:00</td>\n",
       "      <td>0xba12222222228d8ba445958a75a0704d566bf2c8</td>\n",
       "      <td>0xc02aaa39b223fe8d0a0e5c4f27ead9083c756cc2</td>\n",
       "      <td>4.582399</td>\n",
       "      <td>WETH</td>\n",
       "      <td>0xc02aaa39b223fe8d0a0e5c4f27ead9083c756cc2</td>\n",
       "      <td>ERC20</td>\n",
       "      <td>19666.69943</td>\n",
       "      <td>Token</td>\n",
       "      <td>0.0</td>\n",
       "      <td>NaN</td>\n",
       "    </tr>\n",
       "    <tr>\n",
       "      <th>19</th>\n",
       "      <td>0x9ec8014df47538d1342f1d63b548d809cc4a25f0b4cc...</td>\n",
       "      <td>2021-10-30 23:29:37+00:00</td>\n",
       "      <td>0xba12222222228d8ba445958a75a0704d566bf2c8</td>\n",
       "      <td>0xdef171fe48cf0115b1d80b88dc8eab59176fee57</td>\n",
       "      <td>4.582399</td>\n",
       "      <td>ETH</td>\n",
       "      <td>0x0000000000000000000000000000000000000000</td>\n",
       "      <td>NaN</td>\n",
       "      <td>20267.67926</td>\n",
       "      <td>Smart Contract</td>\n",
       "      <td>0.0</td>\n",
       "      <td>NaN</td>\n",
       "    </tr>\n",
       "  </tbody>\n",
       "</table>\n",
       "</div>"
      ],
      "text/plain": [
       "                                       Transaction ID  \\\n",
       "0   0x93b0611af943755018561b03d16080243be62a3284f5...   \n",
       "1   0x80a40106ef61a6216ce09df89f5c131c0976f7ca7c82...   \n",
       "2   0xa2df49e0399a00954a1a9f0435e838e0433ca6d5cc35...   \n",
       "3   0x71e5a959862844a95aeeb06e5faad964a254de18b9f1...   \n",
       "4   0xce8ebbac900febb8ad4e89c9fcf9448baafee09fcfdf...   \n",
       "5   0xce8ebbac900febb8ad4e89c9fcf9448baafee09fcfdf...   \n",
       "6   0x200370346912558828ea6651f1413f4b14355f068a01...   \n",
       "7   0x6e90a8d5c4c474e25da3a2907cf8eeb94480f6503429...   \n",
       "8   0xdbab70d05bb4a01da712b1d31fcd5fd5aa3b13a7720c...   \n",
       "9   0xdbab70d05bb4a01da712b1d31fcd5fd5aa3b13a7720c...   \n",
       "10  0xb96f494c8624de01f240aed60f80d4e1b527b6b43a23...   \n",
       "11  0x31e96e98427198467b080e4dcfb879b1fbefbd9590dc...   \n",
       "12  0xe4eb46767a23d77bfc1a23f6ba0a8c4d672ba88e6c37...   \n",
       "13  0xd899cdbbf68e5fff4d0d1e128179296b05b870529753...   \n",
       "14  0x802e50cea35b6c315b8a45f795a3677d2f9d5a2b74e7...   \n",
       "15  0x802e50cea35b6c315b8a45f795a3677d2f9d5a2b74e7...   \n",
       "16  0x42697ff6b86381a8a1f89e3724b10a68078fc6a1af2e...   \n",
       "17  0x2fa476ed8feeb19e0a8686df05fb8566cf8a52678f92...   \n",
       "18  0x9ec8014df47538d1342f1d63b548d809cc4a25f0b4cc...   \n",
       "19  0x9ec8014df47538d1342f1d63b548d809cc4a25f0b4cc...   \n",
       "\n",
       "            Transaction Time                                   Sender ID  \\\n",
       "0  2021-10-30 23:56:38+00:00  0xba12222222228d8ba445958a75a0704d566bf2c8   \n",
       "1  2021-10-30 23:55:10+00:00  0xba12222222228d8ba445958a75a0704d566bf2c8   \n",
       "2  2021-10-30 23:55:05+00:00  0xba12222222228d8ba445958a75a0704d566bf2c8   \n",
       "3  2021-10-30 23:54:53+00:00  0xba12222222228d8ba445958a75a0704d566bf2c8   \n",
       "4  2021-10-30 23:53:22+00:00  0xba12222222228d8ba445958a75a0704d566bf2c8   \n",
       "5  2021-10-30 23:53:22+00:00  0xba12222222228d8ba445958a75a0704d566bf2c8   \n",
       "6  2021-10-30 23:48:43+00:00  0xba12222222228d8ba445958a75a0704d566bf2c8   \n",
       "7  2021-10-30 23:43:55+00:00  0xba12222222228d8ba445958a75a0704d566bf2c8   \n",
       "8  2021-10-30 23:41:35+00:00  0xba12222222228d8ba445958a75a0704d566bf2c8   \n",
       "9  2021-10-30 23:41:35+00:00  0xba12222222228d8ba445958a75a0704d566bf2c8   \n",
       "10 2021-10-30 23:39:13+00:00  0xba12222222228d8ba445958a75a0704d566bf2c8   \n",
       "11 2021-10-30 23:36:23+00:00  0xba12222222228d8ba445958a75a0704d566bf2c8   \n",
       "12 2021-10-30 23:35:54+00:00  0xba12222222228d8ba445958a75a0704d566bf2c8   \n",
       "13 2021-10-30 23:35:37+00:00  0xba12222222228d8ba445958a75a0704d566bf2c8   \n",
       "14 2021-10-30 23:35:05+00:00  0xba12222222228d8ba445958a75a0704d566bf2c8   \n",
       "15 2021-10-30 23:35:05+00:00  0xba12222222228d8ba445958a75a0704d566bf2c8   \n",
       "16 2021-10-30 23:34:26+00:00  0xba12222222228d8ba445958a75a0704d566bf2c8   \n",
       "17 2021-10-30 23:29:37+00:00  0xba12222222228d8ba445958a75a0704d566bf2c8   \n",
       "18 2021-10-30 23:29:37+00:00  0xba12222222228d8ba445958a75a0704d566bf2c8   \n",
       "19 2021-10-30 23:29:37+00:00  0xba12222222228d8ba445958a75a0704d566bf2c8   \n",
       "\n",
       "                                   Receiver ID       Amount          Currency  \\\n",
       "0   0x579d9d1e1c2066bc6fa52820b915a35fb6cc6da1    17.924146               BAL   \n",
       "1   0x07e54e08f7e6ad85916ab549a9287b1134c31df5     1.800439              WBTC   \n",
       "2   0x3f3b7d0f3da05f6cd44e9d35a9517b59c83ad560  475980.4624   eYyvDAI-16OCT21   \n",
       "3   0xa1006d0051a35b0000f961a8000000009ea8d2db   176.068727               BAL   \n",
       "4   0xdef171fe48cf0115b1d80b88dc8eab59176fee57     2.382376               ETH   \n",
       "5   0xc02aaa39b223fe8d0a0e5c4f27ead9083c756cc2     2.382376              WETH   \n",
       "6   0x22f9dcf4647084d6c31b2765f6910cd85c178c18     0.124323              WETH   \n",
       "7   0x16f33b3d0272f897d9bc55282fa151215215602c   130298.156              USDT   \n",
       "8   0x4876a43304640a02fc8efab117056397c0e5ecad     1277.699              USDC   \n",
       "9   0x4876a43304640a02fc8efab117056397c0e5ecad  1075.303035  ePyvUSDC-28JAN22   \n",
       "10  0x0000006daea1723962647b7e189d311d757fb793      34.7247              WETH   \n",
       "11  0x911605012f87a3017322c81fcb4c90ada7c09116   728.174121               BAL   \n",
       "12  0x0000006daea1723962647b7e189d311d757fb793       9.2758              WETH   \n",
       "13  0xc88ac988a655b91b70def427c8778b4d43f2048d  2995.804506              USDC   \n",
       "14  0xc02aaa39b223fe8d0a0e5c4f27ead9083c756cc2     5.900267              WETH   \n",
       "15  0x6e90ae41af1dea6f0006aa7752d9db2cf5e6a49f     5.900267               ETH   \n",
       "16  0x4d246be90c2f36730bb853ad41d0a189061192d3    17.553146              WETH   \n",
       "17  0x56178a0d5f301baf6cf3e1cd53d9863437345bf9    30.162529              WETH   \n",
       "18  0xc02aaa39b223fe8d0a0e5c4f27ead9083c756cc2     4.582399              WETH   \n",
       "19  0xdef171fe48cf0115b1d80b88dc8eab59176fee57     4.582399               ETH   \n",
       "\n",
       "                                 Currency Hash Currency Type Amount [USD]  \\\n",
       "0   0xba100000625a3754423978a60c9317c58a424e3d         ERC20   442.169472   \n",
       "1   0x2260fac5e5542a773aa44fbcfedf7c193bc2c599         ERC20  110563.5509   \n",
       "2   0xa1cc9bbcd3731a9fd43e1f1416f9b6bf824f37d7         ERC20          0.0   \n",
       "3   0xba100000625a3754423978a60c9317c58a424e3d         ERC20  4343.426908   \n",
       "4   0x0000000000000000000000000000000000000000           NaN  10537.10833   \n",
       "5   0xc02aaa39b223fe8d0a0e5c4f27ead9083c756cc2         ERC20  10224.66064   \n",
       "6   0xc02aaa39b223fe8d0a0e5c4f27ead9083c756cc2         ERC20   533.568702   \n",
       "7   0xdac17f958d2ee523a2206206994597c13d831ec7         ERC20    130297.97   \n",
       "8   0xa0b86991c6218b36c1d19d4a2e9eb0ce3606eb48         ERC20  1276.041469   \n",
       "9   0x8a2228705ec979961f0e16df311debcf097a2766         ERC20          0.0   \n",
       "10  0xc02aaa39b223fe8d0a0e5c4f27ead9083c756cc2         ERC20  149031.1526   \n",
       "11  0xba100000625a3754423978a60c9317c58a424e3d         ERC20  17963.27565   \n",
       "12  0xc02aaa39b223fe8d0a0e5c4f27ead9083c756cc2         ERC20  39809.79434   \n",
       "13  0xa0b86991c6218b36c1d19d4a2e9eb0ce3606eb48         ERC20  2991.918115   \n",
       "14  0xc02aaa39b223fe8d0a0e5c4f27ead9083c756cc2         ERC20  25322.71378   \n",
       "15  0x0000000000000000000000000000000000000000           NaN  26096.53149   \n",
       "16  0xc02aaa39b223fe8d0a0e5c4f27ead9083c756cc2         ERC20  75334.43256   \n",
       "17  0xc02aaa39b223fe8d0a0e5c4f27ead9083c756cc2         ERC20  129451.2667   \n",
       "18  0xc02aaa39b223fe8d0a0e5c4f27ead9083c756cc2         ERC20  19666.69943   \n",
       "19  0x0000000000000000000000000000000000000000           NaN  20267.67926   \n",
       "\n",
       "     Receiver Type  Label tx_hash  \n",
       "0           Wallet    0.0     NaN  \n",
       "1           Wallet    0.0     NaN  \n",
       "2           Wallet    0.0     NaN  \n",
       "3   Smart Contract    0.0     NaN  \n",
       "4   Smart Contract    0.0     NaN  \n",
       "5            Token    0.0     NaN  \n",
       "6   Smart Contract    0.0     NaN  \n",
       "7           Wallet    0.0     NaN  \n",
       "8           Wallet    0.0     NaN  \n",
       "9           Wallet    0.0     NaN  \n",
       "10  Smart Contract    0.0     NaN  \n",
       "11  Smart Contract    0.0     NaN  \n",
       "12  Smart Contract    0.0     NaN  \n",
       "13             DEX    0.0     NaN  \n",
       "14           Token    0.0     NaN  \n",
       "15          Wallet    0.0     NaN  \n",
       "16  Smart Contract    0.0     NaN  \n",
       "17          Wallet    0.0     NaN  \n",
       "18           Token    0.0     NaN  \n",
       "19  Smart Contract    0.0     NaN  "
      ]
     },
     "execution_count": 81,
     "metadata": {},
     "output_type": "execute_result"
    }
   ],
   "source": [
    "dfData.head(20)"
   ]
  },
  {
   "cell_type": "code",
   "execution_count": 82,
   "metadata": {},
   "outputs": [
    {
     "data": {
      "text/html": [
       "<div>\n",
       "<style scoped>\n",
       "    .dataframe tbody tr th:only-of-type {\n",
       "        vertical-align: middle;\n",
       "    }\n",
       "\n",
       "    .dataframe tbody tr th {\n",
       "        vertical-align: top;\n",
       "    }\n",
       "\n",
       "    .dataframe thead th {\n",
       "        text-align: right;\n",
       "    }\n",
       "</style>\n",
       "<table border=\"1\" class=\"dataframe\">\n",
       "  <thead>\n",
       "    <tr style=\"text-align: right;\">\n",
       "      <th></th>\n",
       "      <th>Transaction ID</th>\n",
       "      <th>Transaction Time</th>\n",
       "      <th>Sender ID</th>\n",
       "      <th>Receiver ID</th>\n",
       "      <th>Amount</th>\n",
       "      <th>Currency</th>\n",
       "      <th>Currency Hash</th>\n",
       "      <th>Currency Type</th>\n",
       "      <th>Amount [USD]</th>\n",
       "      <th>Receiver Type</th>\n",
       "      <th>Label</th>\n",
       "      <th>tx_hash</th>\n",
       "    </tr>\n",
       "  </thead>\n",
       "  <tbody>\n",
       "    <tr>\n",
       "      <th>1274</th>\n",
       "      <td>0x551890a877c57cf19ddcb312c0a9962029225373daf2...</td>\n",
       "      <td>2021-10-29 11:58:47+00:00</td>\n",
       "      <td>0xba12222222228d8ba445958a75a0704d566bf2c8</td>\n",
       "      <td>0x872254d530ae8983628cb1eaafc51f78d78c86d9</td>\n",
       "      <td>13556.36574</td>\n",
       "      <td>WETH</td>\n",
       "      <td>0xc02aaa39b223fe8d0a0e5c4f27ead9083c756cc2</td>\n",
       "      <td>ERC20</td>\n",
       "      <td>58482353.33</td>\n",
       "      <td>Wallet</td>\n",
       "      <td>1.0</td>\n",
       "      <td>NaN</td>\n",
       "    </tr>\n",
       "    <tr>\n",
       "      <th>1275</th>\n",
       "      <td>0x551890a877c57cf19ddcb312c0a9962029225373daf2...</td>\n",
       "      <td>2021-10-29 11:58:47+00:00</td>\n",
       "      <td>0xba12222222228d8ba445958a75a0704d566bf2c8</td>\n",
       "      <td>0x872254d530ae8983628cb1eaafc51f78d78c86d9</td>\n",
       "      <td>176093930.8</td>\n",
       "      <td>ANKH</td>\n",
       "      <td>0x507586012a126421c3669a64b8393fffa9c44462</td>\n",
       "      <td>ERC20</td>\n",
       "      <td>37331913.32</td>\n",
       "      <td>Wallet</td>\n",
       "      <td>1.0</td>\n",
       "      <td>NaN</td>\n",
       "    </tr>\n",
       "    <tr>\n",
       "      <th>46920</th>\n",
       "      <td>0xc80e7cfeb16143cba4d5fb3b192b7dbe70e9bcd5ca03...</td>\n",
       "      <td>2021-07-10 20:13:04+00:00</td>\n",
       "      <td>0x7ea2be2df7ba6e54b1a9c70676f668455e329d29</td>\n",
       "      <td>0x0ae1554860e51844b61ae20823ef1268c3949f7c</td>\n",
       "      <td>1536821.769</td>\n",
       "      <td>USDC</td>\n",
       "      <td>0xa0b86991c6218b36c1d19d4a2e9eb0ce3606eb48</td>\n",
       "      <td>ERC20</td>\n",
       "      <td>1538586.372662</td>\n",
       "      <td>Wallet</td>\n",
       "      <td>1.0</td>\n",
       "      <td>NaN</td>\n",
       "    </tr>\n",
       "    <tr>\n",
       "      <th>47226</th>\n",
       "      <td>0x951babdddbfbbba81bbbb7991a959d9815e80cc5d941...</td>\n",
       "      <td>2021-12-02 00:00:23+00:00</td>\n",
       "      <td>0x53461e4fddcc1385f1256ae24ce3505be664f249</td>\n",
       "      <td>0x4fbf7701b3078b5bed6f3e64df3ae09650ee7de5</td>\n",
       "      <td>896.859875</td>\n",
       "      <td>byvWBTC</td>\n",
       "      <td>0x4b92d19c11435614cd49af1b589001b7c08cd4d5</td>\n",
       "      <td>ERC20</td>\n",
       "      <td>27501500.31</td>\n",
       "      <td>Wallet</td>\n",
       "      <td>1.0</td>\n",
       "      <td>NaN</td>\n",
       "    </tr>\n",
       "    <tr>\n",
       "      <th>55597</th>\n",
       "      <td>0x2997e678d02970399c0a05da770ab4a62327e5a527d9...</td>\n",
       "      <td>2021-12-04 22:41:43+00:00</td>\n",
       "      <td>0x68b22215ff74e3606bd5e6c1de8c2d68180c85f7</td>\n",
       "      <td>0x39fb0dcd13945b835d47410ae0de7181d3edf270</td>\n",
       "      <td>48.873863</td>\n",
       "      <td>ETH</td>\n",
       "      <td>0x0000000000000000000000000000000000000000</td>\n",
       "      <td>NaN</td>\n",
       "      <td>207232.7795</td>\n",
       "      <td>Wallet</td>\n",
       "      <td>1.0</td>\n",
       "      <td>NaN</td>\n",
       "    </tr>\n",
       "    <tr>\n",
       "      <th>...</th>\n",
       "      <td>...</td>\n",
       "      <td>...</td>\n",
       "      <td>...</td>\n",
       "      <td>...</td>\n",
       "      <td>...</td>\n",
       "      <td>...</td>\n",
       "      <td>...</td>\n",
       "      <td>...</td>\n",
       "      <td>...</td>\n",
       "      <td>...</td>\n",
       "      <td>...</td>\n",
       "      <td>...</td>\n",
       "    </tr>\n",
       "    <tr>\n",
       "      <th>757334</th>\n",
       "      <td>0x78219dc6ed5de545467b9529461c8ce90ff70c00fcb0...</td>\n",
       "      <td>2018-04-07 01:49:21+00:00</td>\n",
       "      <td>0x08993b12cb8eebcb4452b0d6fabdc8aaa95ccd47</td>\n",
       "      <td>0x6ca33486eed915816560630b883a047c4e2b92df</td>\n",
       "      <td>2002.99855</td>\n",
       "      <td>ETH</td>\n",
       "      <td>0x0000000000000000000000000000000000000000</td>\n",
       "      <td>NaN</td>\n",
       "      <td>740937.000656</td>\n",
       "      <td>Wallet</td>\n",
       "      <td>1.0</td>\n",
       "      <td>NaN</td>\n",
       "    </tr>\n",
       "    <tr>\n",
       "      <th>758594</th>\n",
       "      <td>0x78d6355703507f88f2090eb780d245b0ab26bf470eab...</td>\n",
       "      <td>2021-09-16 16:04:19+00:00</td>\n",
       "      <td>0xc2704dec22e552164dee240b20b840ea379b878e</td>\n",
       "      <td>0x3ddd8b6d092df917473680d6c41f80f708c45395</td>\n",
       "      <td>864.800446</td>\n",
       "      <td>ETH</td>\n",
       "      <td>0x0000000000000000000000000000000000000000</td>\n",
       "      <td>NaN</td>\n",
       "      <td>3109790.035931</td>\n",
       "      <td>Wallet</td>\n",
       "      <td>1.0</td>\n",
       "      <td>NaN</td>\n",
       "    </tr>\n",
       "    <tr>\n",
       "      <th>758596</th>\n",
       "      <td>0x97f7662322d56e1c54bd1bab39bccf98bc736fcb9c7e...</td>\n",
       "      <td>2017-07-19 12:14:18+00:00</td>\n",
       "      <td>0x50126e8fcb9be29f83c6bbd913cc85b40eaf86fc</td>\n",
       "      <td>0xb3764761e297d6f121e79c32a65829cd1ddb4d32</td>\n",
       "      <td>44055.0</td>\n",
       "      <td>ETH</td>\n",
       "      <td>0x0000000000000000000000000000000000000000</td>\n",
       "      <td>NaN</td>\n",
       "      <td>8792960.161791</td>\n",
       "      <td>Wallet</td>\n",
       "      <td>1.0</td>\n",
       "      <td>NaN</td>\n",
       "    </tr>\n",
       "    <tr>\n",
       "      <th>758624</th>\n",
       "      <td>0x0e0d16475d2ac6a4802437a35a21776e5c9b681a77fe...</td>\n",
       "      <td>2017-07-18 22:33:23+00:00</td>\n",
       "      <td>0x91efffb9c6cd3a66474688d0a48aa6ecfe515aa5</td>\n",
       "      <td>0xb3764761e297d6f121e79c32a65829cd1ddb4d32</td>\n",
       "      <td>26793.0</td>\n",
       "      <td>ETH</td>\n",
       "      <td>0x0000000000000000000000000000000000000000</td>\n",
       "      <td>NaN</td>\n",
       "      <td>6122288.382023</td>\n",
       "      <td>Wallet</td>\n",
       "      <td>1.0</td>\n",
       "      <td>NaN</td>\n",
       "    </tr>\n",
       "    <tr>\n",
       "      <th>758636</th>\n",
       "      <td>0xeef10fc5170f669b86c4cd0444882a96087221325f8b...</td>\n",
       "      <td>2017-07-19 12:19:36+00:00</td>\n",
       "      <td>0xbec591de75b8699a3ba52f073428822d0bfc0d7e</td>\n",
       "      <td>0xb3764761e297d6f121e79c32a65829cd1ddb4d32</td>\n",
       "      <td>82189.0</td>\n",
       "      <td>ETH</td>\n",
       "      <td>0x0000000000000000000000000000000000000000</td>\n",
       "      <td>NaN</td>\n",
       "      <td>16404144.881113</td>\n",
       "      <td>Wallet</td>\n",
       "      <td>1.0</td>\n",
       "      <td>NaN</td>\n",
       "    </tr>\n",
       "  </tbody>\n",
       "</table>\n",
       "<p>1790 rows × 12 columns</p>\n",
       "</div>"
      ],
      "text/plain": [
       "                                           Transaction ID  \\\n",
       "1274    0x551890a877c57cf19ddcb312c0a9962029225373daf2...   \n",
       "1275    0x551890a877c57cf19ddcb312c0a9962029225373daf2...   \n",
       "46920   0xc80e7cfeb16143cba4d5fb3b192b7dbe70e9bcd5ca03...   \n",
       "47226   0x951babdddbfbbba81bbbb7991a959d9815e80cc5d941...   \n",
       "55597   0x2997e678d02970399c0a05da770ab4a62327e5a527d9...   \n",
       "...                                                   ...   \n",
       "757334  0x78219dc6ed5de545467b9529461c8ce90ff70c00fcb0...   \n",
       "758594  0x78d6355703507f88f2090eb780d245b0ab26bf470eab...   \n",
       "758596  0x97f7662322d56e1c54bd1bab39bccf98bc736fcb9c7e...   \n",
       "758624  0x0e0d16475d2ac6a4802437a35a21776e5c9b681a77fe...   \n",
       "758636  0xeef10fc5170f669b86c4cd0444882a96087221325f8b...   \n",
       "\n",
       "                Transaction Time                                   Sender ID  \\\n",
       "1274   2021-10-29 11:58:47+00:00  0xba12222222228d8ba445958a75a0704d566bf2c8   \n",
       "1275   2021-10-29 11:58:47+00:00  0xba12222222228d8ba445958a75a0704d566bf2c8   \n",
       "46920  2021-07-10 20:13:04+00:00  0x7ea2be2df7ba6e54b1a9c70676f668455e329d29   \n",
       "47226  2021-12-02 00:00:23+00:00  0x53461e4fddcc1385f1256ae24ce3505be664f249   \n",
       "55597  2021-12-04 22:41:43+00:00  0x68b22215ff74e3606bd5e6c1de8c2d68180c85f7   \n",
       "...                          ...                                         ...   \n",
       "757334 2018-04-07 01:49:21+00:00  0x08993b12cb8eebcb4452b0d6fabdc8aaa95ccd47   \n",
       "758594 2021-09-16 16:04:19+00:00  0xc2704dec22e552164dee240b20b840ea379b878e   \n",
       "758596 2017-07-19 12:14:18+00:00  0x50126e8fcb9be29f83c6bbd913cc85b40eaf86fc   \n",
       "758624 2017-07-18 22:33:23+00:00  0x91efffb9c6cd3a66474688d0a48aa6ecfe515aa5   \n",
       "758636 2017-07-19 12:19:36+00:00  0xbec591de75b8699a3ba52f073428822d0bfc0d7e   \n",
       "\n",
       "                                       Receiver ID       Amount Currency  \\\n",
       "1274    0x872254d530ae8983628cb1eaafc51f78d78c86d9  13556.36574     WETH   \n",
       "1275    0x872254d530ae8983628cb1eaafc51f78d78c86d9  176093930.8     ANKH   \n",
       "46920   0x0ae1554860e51844b61ae20823ef1268c3949f7c  1536821.769     USDC   \n",
       "47226   0x4fbf7701b3078b5bed6f3e64df3ae09650ee7de5   896.859875  byvWBTC   \n",
       "55597   0x39fb0dcd13945b835d47410ae0de7181d3edf270    48.873863      ETH   \n",
       "...                                            ...          ...      ...   \n",
       "757334  0x6ca33486eed915816560630b883a047c4e2b92df   2002.99855      ETH   \n",
       "758594  0x3ddd8b6d092df917473680d6c41f80f708c45395   864.800446      ETH   \n",
       "758596  0xb3764761e297d6f121e79c32a65829cd1ddb4d32      44055.0      ETH   \n",
       "758624  0xb3764761e297d6f121e79c32a65829cd1ddb4d32      26793.0      ETH   \n",
       "758636  0xb3764761e297d6f121e79c32a65829cd1ddb4d32      82189.0      ETH   \n",
       "\n",
       "                                     Currency Hash Currency Type  \\\n",
       "1274    0xc02aaa39b223fe8d0a0e5c4f27ead9083c756cc2         ERC20   \n",
       "1275    0x507586012a126421c3669a64b8393fffa9c44462         ERC20   \n",
       "46920   0xa0b86991c6218b36c1d19d4a2e9eb0ce3606eb48         ERC20   \n",
       "47226   0x4b92d19c11435614cd49af1b589001b7c08cd4d5         ERC20   \n",
       "55597   0x0000000000000000000000000000000000000000           NaN   \n",
       "...                                            ...           ...   \n",
       "757334  0x0000000000000000000000000000000000000000           NaN   \n",
       "758594  0x0000000000000000000000000000000000000000           NaN   \n",
       "758596  0x0000000000000000000000000000000000000000           NaN   \n",
       "758624  0x0000000000000000000000000000000000000000           NaN   \n",
       "758636  0x0000000000000000000000000000000000000000           NaN   \n",
       "\n",
       "           Amount [USD] Receiver Type  Label tx_hash  \n",
       "1274        58482353.33        Wallet    1.0     NaN  \n",
       "1275        37331913.32        Wallet    1.0     NaN  \n",
       "46920    1538586.372662        Wallet    1.0     NaN  \n",
       "47226       27501500.31        Wallet    1.0     NaN  \n",
       "55597       207232.7795        Wallet    1.0     NaN  \n",
       "...                 ...           ...    ...     ...  \n",
       "757334    740937.000656        Wallet    1.0     NaN  \n",
       "758594   3109790.035931        Wallet    1.0     NaN  \n",
       "758596   8792960.161791        Wallet    1.0     NaN  \n",
       "758624   6122288.382023        Wallet    1.0     NaN  \n",
       "758636  16404144.881113        Wallet    1.0     NaN  \n",
       "\n",
       "[1790 rows x 12 columns]"
      ]
     },
     "execution_count": 82,
     "metadata": {},
     "output_type": "execute_result"
    }
   ],
   "source": [
    "dfData.loc[dfData['Label'] == 1, :]"
   ]
  },
  {
   "cell_type": "code",
   "execution_count": 83,
   "metadata": {},
   "outputs": [
    {
     "data": {
      "text/plain": [
       "0.0    722093\n",
       "1.0      1790\n",
       "Name: Label, dtype: int64"
      ]
     },
     "execution_count": 83,
     "metadata": {},
     "output_type": "execute_result"
    }
   ],
   "source": [
    "dfData['Label'].value_counts()"
   ]
  },
  {
   "cell_type": "markdown",
   "metadata": {},
   "source": [
    "original:\n",
    "0.0    722093\n",
    "1.0      1790\n",
    "Name: Label, dtype: int64"
   ]
  },
  {
   "cell_type": "code",
   "execution_count": 84,
   "metadata": {},
   "outputs": [
    {
     "data": {
      "text/plain": [
       "0         False\n",
       "1         False\n",
       "2          True\n",
       "3         False\n",
       "4         False\n",
       "          ...  \n",
       "758632    False\n",
       "758633    False\n",
       "758634    False\n",
       "758635    False\n",
       "758636    False\n",
       "Name: Amount [USD], Length: 723883, dtype: bool"
      ]
     },
     "execution_count": 84,
     "metadata": {},
     "output_type": "execute_result"
    }
   ],
   "source": [
    "dsValidTrns = ((dfData['Amount [USD]'] == 0) | (dfData['Amount [USD]'] == np.nan))\n",
    "dsValidTrns"
   ]
  },
  {
   "cell_type": "code",
   "execution_count": 85,
   "metadata": {},
   "outputs": [
    {
     "data": {
      "text/plain": [
       "126"
      ]
     },
     "execution_count": 85,
     "metadata": {},
     "output_type": "execute_result"
    }
   ],
   "source": [
    "len(dfData['Sender ID'].unique())"
   ]
  },
  {
   "cell_type": "code",
   "execution_count": 86,
   "metadata": {},
   "outputs": [
    {
     "data": {
      "text/plain": [
       "Int64Index([     2,      9,     21,     97,    117,    120,    122,    125,\n",
       "               127,    135,\n",
       "            ...\n",
       "            723847, 723859, 723863, 723868, 730639, 731387, 732214, 735074,\n",
       "            735076, 735078],\n",
       "           dtype='int64', length=31145)"
      ]
     },
     "execution_count": 86,
     "metadata": {},
     "output_type": "execute_result"
    }
   ],
   "source": [
    "dsValidTrns.index[dsValidTrns]"
   ]
  },
  {
   "cell_type": "code",
   "execution_count": 87,
   "metadata": {},
   "outputs": [],
   "source": [
    "dfData.drop(dsValidTrns.index[dsValidTrns], inplace = True)"
   ]
  },
  {
   "cell_type": "code",
   "execution_count": 88,
   "metadata": {},
   "outputs": [
    {
     "name": "stdout",
     "output_type": "stream",
     "text": [
      "The number of rows (Samples): 692738, The number of columns: 12\n"
     ]
    }
   ],
   "source": [
    "numRows, numCols = dfData.shape\n",
    "\n",
    "print(f'The number of rows (Samples): {numRows}, The number of columns: {numCols}')"
   ]
  },
  {
   "cell_type": "code",
   "execution_count": 89,
   "metadata": {},
   "outputs": [
    {
     "data": {
      "text/plain": [
       "0.0    691010\n",
       "1.0      1728\n",
       "Name: Label, dtype: int64"
      ]
     },
     "execution_count": 89,
     "metadata": {},
     "output_type": "execute_result"
    }
   ],
   "source": [
    "dfData['Label'].value_counts()"
   ]
  },
  {
   "cell_type": "code",
   "execution_count": 90,
   "metadata": {},
   "outputs": [
    {
     "data": {
      "text/plain": [
       "126"
      ]
     },
     "execution_count": 90,
     "metadata": {},
     "output_type": "execute_result"
    }
   ],
   "source": [
    "#!!!!! It seems the constructore is only called at first call (Lazy) and not on the form of the DF\n",
    "#!!!!! Hence once it is called, no rows can be removed or any change of the index!\n",
    "dfData.GrpBySender.numGrps #<! Check if the extension works\n",
    "\n",
    "#TODO: Add methods for feature extraction to the extending class"
   ]
  },
  {
   "cell_type": "code",
   "execution_count": 91,
   "metadata": {},
   "outputs": [],
   "source": [
    "#gbs = GrpBySender(dfData)"
   ]
  },
  {
   "cell_type": "code",
   "execution_count": 92,
   "metadata": {},
   "outputs": [],
   "source": [
    "lLabelIdx = dfData.GrpBySender.lLabelIdx"
   ]
  },
  {
   "cell_type": "code",
   "execution_count": 93,
   "metadata": {},
   "outputs": [
    {
     "data": {
      "text/plain": [
       "[[468985, 468986, 468987, 468988]]"
      ]
     },
     "execution_count": 93,
     "metadata": {},
     "output_type": "execute_result"
    }
   ],
   "source": [
    "dfData.GrpBySender.lSubGrpUsrLabelIdx[6][0] #<! The 6th Sender Group, 3rd Group of User in the 6th..."
   ]
  },
  {
   "cell_type": "code",
   "execution_count": 94,
   "metadata": {},
   "outputs": [
    {
     "data": {
      "text/plain": [
       "90"
      ]
     },
     "execution_count": 94,
     "metadata": {},
     "output_type": "execute_result"
    }
   ],
   "source": [
    "len(lLabelIdx[0])"
   ]
  },
  {
   "cell_type": "code",
   "execution_count": 95,
   "metadata": {},
   "outputs": [
    {
     "data": {
      "text/plain": [
       "0     1.345854e+09\n",
       "1     1.345854e+09\n",
       "3     1.345854e+09\n",
       "4     1.345854e+09\n",
       "5     1.345854e+09\n",
       "6     1.345854e+09\n",
       "7     1.345854e+09\n",
       "8     1.345854e+09\n",
       "10    1.345854e+09\n",
       "11    1.345854e+09\n",
       "dtype: float64"
      ]
     },
     "execution_count": 95,
     "metadata": {},
     "output_type": "execute_result"
    }
   ],
   "source": [
    "dsTotalSentValue = dfData.GrpBySender.TotalSentValue()\n",
    "dsTotalSentValue.head(10)"
   ]
  },
  {
   "cell_type": "code",
   "execution_count": 96,
   "metadata": {},
   "outputs": [
    {
     "data": {
      "text/plain": [
       "126"
      ]
     },
     "execution_count": 96,
     "metadata": {},
     "output_type": "execute_result"
    }
   ],
   "source": [
    "len(dfData['Sender ID'].unique())"
   ]
  },
  {
   "cell_type": "code",
   "execution_count": 97,
   "metadata": {},
   "outputs": [
    {
     "name": "stdout",
     "output_type": "stream",
     "text": [
      "<class 'pandas.core.frame.DataFrame'>\n",
      "Int64Index: 692738 entries, 0 to 758636\n",
      "Data columns (total 12 columns):\n",
      " #   Column            Non-Null Count   Dtype              \n",
      "---  ------            --------------   -----              \n",
      " 0   Transaction ID    692738 non-null  object             \n",
      " 1   Transaction Time  692738 non-null  datetime64[ns, UTC]\n",
      " 2   Sender ID         692738 non-null  object             \n",
      " 3   Receiver ID       692738 non-null  object             \n",
      " 4   Amount            692738 non-null  object             \n",
      " 5   Currency          692083 non-null  object             \n",
      " 6   Currency Hash     692738 non-null  object             \n",
      " 7   Currency Type     420436 non-null  object             \n",
      " 8   Amount [USD]      619035 non-null  object             \n",
      " 9   Receiver Type     692738 non-null  object             \n",
      " 10  Label             692738 non-null  float64            \n",
      " 11  tx_hash           0 non-null       object             \n",
      "dtypes: datetime64[ns, UTC](1), float64(1), object(10)\n",
      "memory usage: 84.8+ MB\n"
     ]
    }
   ],
   "source": [
    "dfData.info()"
   ]
  },
  {
   "cell_type": "code",
   "execution_count": 98,
   "metadata": {},
   "outputs": [
    {
     "data": {
      "text/html": [
       "<div>\n",
       "<style scoped>\n",
       "    .dataframe tbody tr th:only-of-type {\n",
       "        vertical-align: middle;\n",
       "    }\n",
       "\n",
       "    .dataframe tbody tr th {\n",
       "        vertical-align: top;\n",
       "    }\n",
       "\n",
       "    .dataframe thead th {\n",
       "        text-align: right;\n",
       "    }\n",
       "</style>\n",
       "<table border=\"1\" class=\"dataframe\">\n",
       "  <thead>\n",
       "    <tr style=\"text-align: right;\">\n",
       "      <th></th>\n",
       "      <th>Label</th>\n",
       "    </tr>\n",
       "  </thead>\n",
       "  <tbody>\n",
       "    <tr>\n",
       "      <th>count</th>\n",
       "      <td>692738.000000</td>\n",
       "    </tr>\n",
       "    <tr>\n",
       "      <th>mean</th>\n",
       "      <td>0.002494</td>\n",
       "    </tr>\n",
       "    <tr>\n",
       "      <th>std</th>\n",
       "      <td>0.049882</td>\n",
       "    </tr>\n",
       "    <tr>\n",
       "      <th>min</th>\n",
       "      <td>0.000000</td>\n",
       "    </tr>\n",
       "    <tr>\n",
       "      <th>25%</th>\n",
       "      <td>0.000000</td>\n",
       "    </tr>\n",
       "    <tr>\n",
       "      <th>50%</th>\n",
       "      <td>0.000000</td>\n",
       "    </tr>\n",
       "    <tr>\n",
       "      <th>75%</th>\n",
       "      <td>0.000000</td>\n",
       "    </tr>\n",
       "    <tr>\n",
       "      <th>max</th>\n",
       "      <td>1.000000</td>\n",
       "    </tr>\n",
       "  </tbody>\n",
       "</table>\n",
       "</div>"
      ],
      "text/plain": [
       "               Label\n",
       "count  692738.000000\n",
       "mean        0.002494\n",
       "std         0.049882\n",
       "min         0.000000\n",
       "25%         0.000000\n",
       "50%         0.000000\n",
       "75%         0.000000\n",
       "max         1.000000"
      ]
     },
     "execution_count": 98,
     "metadata": {},
     "output_type": "execute_result"
    }
   ],
   "source": [
    "dfData.describe()"
   ]
  },
  {
   "cell_type": "markdown",
   "metadata": {},
   "source": [
    "## Feature Engineering\n",
    "\n",
    "This section adds features and engineers them.  \n",
    "It is assuemd the files havd a single unique `Sender`. Hence all analysis is done on the eceivers.\n",
    "\n",
    "\n",
    "The features are:\n",
    "\n",
    " 1. \n",
    "\n",
    "Remarks:\n",
    "\n",
    " *  Features x-y are time / frequency related.\n",
    " *  Features z-t are trasnaction realted.\n"
   ]
  },
  {
   "cell_type": "code",
   "execution_count": 99,
   "metadata": {},
   "outputs": [],
   "source": [
    "# Pre Process\n",
    "gbs = GrpBySender(dfData)\n",
    "\n"
   ]
  },
  {
   "cell_type": "code",
   "execution_count": 100,
   "metadata": {},
   "outputs": [],
   "source": [
    "# Features - Amount Based (Anton)\n",
    "'''    TYPE_SUM     TYPE_MEAN            TYPE_STD              TYPE_VAR                    TYPE_MEDIAN           TYPE_COUNT                  TYPE_MIN              TYPE_MAX                    '''\n",
    "sum_s = gbs._SentValue(amountCol = AmountType.AMOUNT_USD, tokenId = None, grpLabel = None , calcType =  CalcType.TYPE_SUM)\n",
    "mean_s = gbs._SentValue(amountCol = AmountType.AMOUNT_USD, tokenId = None, grpLabel = None , calcType =  CalcType.TYPE_MEAN)\n",
    "std_s = gbs._SentValue(amountCol = AmountType.AMOUNT_USD, tokenId = None, grpLabel = None , calcType =  CalcType.TYPE_STD)\n",
    "var_s = gbs._SentValue(amountCol = AmountType.AMOUNT_USD, tokenId = None, grpLabel = None , calcType =  CalcType.TYPE_VAR)\n",
    "median_s = gbs._SentValue(amountCol = AmountType.AMOUNT_USD, tokenId = None, grpLabel = None , calcType =  CalcType.TYPE_MEDIAN)\n",
    "count_s = gbs._SentValue(amountCol = AmountType.AMOUNT_USD, tokenId = None, grpLabel = None , calcType =  CalcType.TYPE_COUNT)\n",
    "min_s = gbs._SentValue(amountCol = AmountType.AMOUNT_USD, tokenId = None, grpLabel = None , calcType =  CalcType.TYPE_MIN)\n",
    "max_s = gbs._SentValue(amountCol = AmountType.AMOUNT_USD, tokenId = None, grpLabel = None , calcType =  CalcType.TYPE_MAX)\n",
    "#SUM = 'SUM';MEAN = \"MEAN\"; STD = \"STD\" ; VAR = 'VAR'; MEDIAN ='MEDIAN' ; COUNT = 'COUNT' ; MIN = 'MIN' ; MAX = 'MAX'\n",
    "#TD_MEAN = \"TD_MEAN\"; TD_STD = \"TD_STD\" ;  TD_MEDIAN ='TD_MEDIAN' ;TD_MIN = 'TD_MIN' ; TD_MAX = 'TD_MAX' \n",
    "dfData[SUM] = sum_s\n",
    "dfData[MEAN] = mean_s\n",
    "dfData[STD] = std_s\n",
    "dfData[VAR] = var_s\n",
    "dfData[MEDIAN] = median_s\n",
    "dfData[COUNT] = count_s\n",
    "dfData[MIN] = min_s\n",
    "dfData[MAX] = max_s"
   ]
  },
  {
   "cell_type": "code",
   "execution_count": 101,
   "metadata": {},
   "outputs": [],
   "source": [
    "# Features - Time Based (Anton)\n",
    "'TYPE_TIME_DIFF_MEAN      TYPE_TIME_DIFF_STD TYPE_TIME_DIFF_MEDIAN  TYPE_TIME_DIFF_MIN      TYPE_TIME_DIFF_MAX'      \n",
    "td_mean_s = gbs._SentValue(amountCol = AmountType.AMOUNT_USD, tokenId = None, grpLabel = None , calcType =  CalcType.TYPE_TIME_DIFF_MEAN)\n",
    "td_std_s = gbs._SentValue(amountCol = AmountType.AMOUNT_USD, tokenId = None, grpLabel = None , calcType =  CalcType.TYPE_TIME_DIFF_STD)\n",
    "td_median_s = gbs._SentValue(amountCol = AmountType.AMOUNT_USD, tokenId = None, grpLabel = None , calcType =  CalcType.TYPE_TIME_DIFF_MEDIAN)\n",
    "td_min_s = gbs._SentValue(amountCol = AmountType.AMOUNT_USD, tokenId = None, grpLabel = None , calcType =  CalcType.TYPE_TIME_DIFF_MIN)\n",
    "td_max_s = gbs._SentValue(amountCol = AmountType.AMOUNT_USD, tokenId = None, grpLabel = None , calcType =  CalcType.TYPE_TIME_DIFF_MAX)\n",
    "dfData[TD_MEAN] = td_mean_s\n",
    "dfData[TD_STD] = td_std_s\n",
    "dfData[TD_MEDIAN] = td_median_s\n",
    "dfData[TD_MIN] = td_min_s\n",
    "dfData[TD_MAX] = td_max_s\n"
   ]
  },
  {
   "cell_type": "code",
   "execution_count": 102,
   "metadata": {},
   "outputs": [],
   "source": [
    "# Feature PPS (Anton)\n",
    "#load into X,y vars and basic preprocessing\n",
    "dfData.fillna(0, inplace=True)\n",
    "X = dfData[dfData.columns[~dfData.columns.isin(['Transaction ID', 'Transaction Time', 'Sender ID', 'Receiver ID', 'Currency', 'Currency Hash', 'Currency Type', 'Receiver Type','tx_hash','Label'])]].to_numpy()\n",
    "Y = dfData['Label'].to_numpy()\n",
    "#Y = Y.reshape(-1,1)\n",
    "sc = StandardScaler()\n",
    "X_scaled = sc.fit_transform(X)\n",
    "\n"
   ]
  },
  {
   "cell_type": "code",
   "execution_count": 115,
   "metadata": {},
   "outputs": [
    {
     "data": {
      "text/plain": [
       "(array([0., 1.]), array([0., 1.]))"
      ]
     },
     "execution_count": 115,
     "metadata": {},
     "output_type": "execute_result"
    }
   ],
   "source": [
    "np.unique(Y) , np.unique(dfData['Label'].to_numpy())"
   ]
  },
  {
   "cell_type": "code",
   "execution_count": 116,
   "metadata": {},
   "outputs": [
    {
     "data": {
      "text/plain": [
       "[Text(0.5, 1.0, 'LDA projection')]"
      ]
     },
     "execution_count": 116,
     "metadata": {},
     "output_type": "execute_result"
    },
    {
     "data": {
      "image/png": "[encoded data removed]",
      "text/plain": [
       "<Figure size 432x288 with 1 Axes>"
      ]
     },
     "metadata": {},
     "output_type": "display_data"
    }
   ],
   "source": [
    "colors = [\"navy\", \"darkorange\",\"turquiose\"] ;lw = 2 ; target_names = ['valid','fraud', 'fake']\n",
    "x = X_scaled ; y = Y\n",
    "#y[-7:-1] = 2\n",
    "number_of_rows = x.shape[0]\n",
    "random_indices = np.random.choice(number_of_rows, size=100000, replace=False)\n",
    "x = x[random_indices, :]\n",
    "y = y[random_indices]\n",
    "y[-7:-1] = 2\n",
    "lda = LinearDiscriminantAnalysis(n_components=2)\n",
    "X_r2 = lda.fit(x, y).transform(x)\n",
    "\n",
    "'''\n",
    "plt.figure()\n",
    "for color, i, target_name in zip(colors, [0, 1, 2], target_names):\n",
    "    plt.scatter(\n",
    "        X_r2[y == i, 0], X_r2[y == i, 1], alpha=0.8, color=color, label=target_name\n",
    "    )\n",
    "plt.legend(loc=\"best\", shadow=False, scatterpoints=1)\n",
    "plt.title(\"LDA \")\n",
    "\n",
    "plt.show()\n",
    "'''\n",
    "\n",
    "df = pd.DataFrame()\n",
    "df[\"y\"] = y\n",
    "df[\"comp-1\"] = X_r2[:,0]\n",
    "df[\"comp-2\"] = X_r2[:,1]\n",
    "\n",
    "sns.scatterplot(x=\"comp-1\", y=\"comp-2\", hue=df.y.tolist(),\n",
    "                #palette=sns.color_palette(\"hls\", 2),\n",
    "                data=df).set(title=\"LDA projection\")"
   ]
  },
  {
   "cell_type": "code",
   "execution_count": 119,
   "metadata": {},
   "outputs": [
    {
     "ename": "AttributeError",
     "evalue": "'QuadraticDiscriminantAnalysis' object has no attribute 'transform'",
     "output_type": "error",
     "traceback": [
      "\u001b[1;31m---------------------------------------------------------------------------\u001b[0m",
      "\u001b[1;31mAttributeError\u001b[0m                            Traceback (most recent call last)",
      "\u001b[1;32mc:\\Users\\Anton\\Desktop\\_CyVers\\SolidusBlindTest\\ExploratoryDataAnalysis_my.ipynb Cell 39'\u001b[0m in \u001b[0;36m<cell line: 14>\u001b[1;34m()\u001b[0m\n\u001b[0;32m     <a href='vscode-notebook-cell:/c%3A/Users/Anton/Desktop/_CyVers/SolidusBlindTest/ExploratoryDataAnalysis_my.ipynb#ch0000042?line=11'>12</a>\u001b[0m \u001b[39mimport\u001b[39;00m \u001b[39mnumpy\u001b[39;00m \u001b[39mas\u001b[39;00m \u001b[39mnp\u001b[39;00m\n\u001b[0;32m     <a href='vscode-notebook-cell:/c%3A/Users/Anton/Desktop/_CyVers/SolidusBlindTest/ExploratoryDataAnalysis_my.ipynb#ch0000042?line=12'>13</a>\u001b[0m qda \u001b[39m=\u001b[39m QuadraticDiscriminantAnalysis()\n\u001b[1;32m---> <a href='vscode-notebook-cell:/c%3A/Users/Anton/Desktop/_CyVers/SolidusBlindTest/ExploratoryDataAnalysis_my.ipynb#ch0000042?line=13'>14</a>\u001b[0m X_r2 \u001b[39m=\u001b[39m qda\u001b[39m.\u001b[39;49mfit(x, y)\u001b[39m.\u001b[39;49mtransform(x)\n\u001b[0;32m     <a href='vscode-notebook-cell:/c%3A/Users/Anton/Desktop/_CyVers/SolidusBlindTest/ExploratoryDataAnalysis_my.ipynb#ch0000042?line=14'>15</a>\u001b[0m \u001b[39m#lda = LinearDiscriminantAnalysis(n_components=2)\u001b[39;00m\n\u001b[0;32m     <a href='vscode-notebook-cell:/c%3A/Users/Anton/Desktop/_CyVers/SolidusBlindTest/ExploratoryDataAnalysis_my.ipynb#ch0000042?line=15'>16</a>\u001b[0m \u001b[39m#X_r2 = lda.fit(x, y).transform(x)\u001b[39;00m\n\u001b[0;32m     <a href='vscode-notebook-cell:/c%3A/Users/Anton/Desktop/_CyVers/SolidusBlindTest/ExploratoryDataAnalysis_my.ipynb#ch0000042?line=18'>19</a>\u001b[0m df \u001b[39m=\u001b[39m pd\u001b[39m.\u001b[39mDataFrame()\n",
      "\u001b[1;31mAttributeError\u001b[0m: 'QuadraticDiscriminantAnalysis' object has no attribute 'transform'"
     ]
    }
   ],
   "source": [
    "\n",
    "\n",
    "colors = [\"navy\", \"darkorange\",\"turquiose\"] ;lw = 2 ; target_names = ['valid','fraud', 'fake']\n",
    "x = X_scaled ; y = Y\n",
    "#y[-7:-1] = 2\n",
    "number_of_rows = x.shape[0]\n",
    "random_indices = np.random.choice(number_of_rows, size=100000, replace=False)\n",
    "x = x[random_indices, :]\n",
    "y = y[random_indices]\n",
    "y[-7:-1] = 2\n",
    "\n",
    "\n",
    "from sklearn.discriminant_analysis import QuadraticDiscriminantAnalysis\n",
    "import numpy as np\n",
    "qda = QuadraticDiscriminantAnalysis()\n",
    "X_r2 = qda.fit(x, y).transform(x)\n",
    "#lda = LinearDiscriminantAnalysis(n_components=2)\n",
    "#X_r2 = lda.fit(x, y).transform(x)\n",
    "\n",
    "\n",
    "df = pd.DataFrame()\n",
    "df[\"y\"] = y\n",
    "df[\"comp-1\"] = X_r2[:,0]\n",
    "df[\"comp-2\"] = X_r2[:,1]\n",
    "\n",
    "sns.scatterplot(x=\"comp-1\", y=\"comp-2\", hue=df.y.tolist(),\n",
    "                #palette=sns.color_palette(\"hls\", 2),\n",
    "                data=df).set(title=\"LDA projection\")\n"
   ]
  },
  {
   "cell_type": "code",
   "execution_count": null,
   "metadata": {},
   "outputs": [],
   "source": []
  },
  {
   "cell_type": "code",
   "execution_count": 121,
   "metadata": {},
   "outputs": [
    {
     "data": {
      "image/png": "[encoded data removed]",
      "text/plain": [
       "<Figure size 432x288 with 1 Axes>"
      ]
     },
     "metadata": {},
     "output_type": "display_data"
    }
   ],
   "source": [
    "def d2_plot(x_lda,y,x):\n",
    "    \n",
    "    colors = [\"navy\", \"darkorange\",\"turquiose\"] ;lw = 2 ; target_names = ['valid','fraud', 'fake']\n",
    "    df = pd.DataFrame()\n",
    "    df[\"y\"] = y\n",
    "    df[\"comp-1\"] = x_lda[:,0]\n",
    "    df[\"comp-2\"] = x_lda[:,1]\n",
    "\n",
    "    sns.scatterplot(x=\"comp-1\", y=\"comp-2\", hue=df.y.tolist(),\n",
    "                    #palette=sns.color_palette(\"hls\", 2),\n",
    "                    data=df).set(title=\"LDA projection\")\n",
    "x = X_scaled ; y = Y\n",
    "\n",
    "#number_of_rows = x.shape[0]\n",
    "#random_indices = np.random.choice(number_of_rows, size=100000, replace=False)\n",
    "#x = x[random_indices, :]\n",
    "#y = y[random_indices]\n",
    "y[-7:-1] = 2\n",
    "lda = LinearDiscriminantAnalysis(n_components=2)\n",
    "x_lda = lda.fit(x, y).transform(x)\n",
    "d2_plot(x_lda,y,x)\n"
   ]
  },
  {
   "cell_type": "code",
   "execution_count": 29,
   "metadata": {},
   "outputs": [
    {
     "data": {
      "text/plain": [
       "dtype('float64')"
      ]
     },
     "execution_count": 29,
     "metadata": {},
     "output_type": "execute_result"
    }
   ],
   "source": [
    "x.dtype"
   ]
  },
  {
   "cell_type": "code",
   "execution_count": 30,
   "metadata": {},
   "outputs": [
    {
     "data": {
      "text/plain": [
       "dtype('float64')"
      ]
     },
     "execution_count": 30,
     "metadata": {},
     "output_type": "execute_result"
    }
   ],
   "source": [
    "y.dtype"
   ]
  },
  {
   "cell_type": "code",
   "execution_count": null,
   "metadata": {},
   "outputs": [],
   "source": []
  }
 ],
 "metadata": {
  "kernelspec": {
   "display_name": "Python 3.10.5 64-bit (windows store)",
   "language": "python",
   "name": "python3"
  },
  "language_info": {
   "codemirror_mode": {
    "name": "ipython",
    "version": 3
   },
   "file_extension": ".py",
   "mimetype": "text/x-python",
   "name": "python",
   "nbconvert_exporter": "python",
   "pygments_lexer": "ipython3",
   "version": "3.10.5"
  },
  "orig_nbformat": 4,
  "vscode": {
   "interpreter": {
    "hash": "e4dd14267cae23840dea038347bc16e5034e9d5e8854ee2a5f16737016150660"
   }
  }
 },
 "nbformat": 4,
 "nbformat_minor": 2
}
