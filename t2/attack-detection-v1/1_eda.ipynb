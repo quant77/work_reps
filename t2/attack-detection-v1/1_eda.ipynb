{
 "cells": [
  {
   "cell_type": "markdown",
   "metadata": {},
   "source": [
    "# Exploratory data analysis"
   ]
  },
  {
   "cell_type": "code",
   "execution_count": 2,
   "metadata": {
    "tags": []
   },
   "outputs": [],
   "source": [
    "import pandas as pd"
   ]
  },
  {
   "cell_type": "code",
   "execution_count": 3,
   "metadata": {
    "tags": []
   },
   "outputs": [],
   "source": [
    "cases = pd.read_csv(\"Validated_V0_Desriptions.csv\")"
   ]
  },
  {
   "cell_type": "code",
   "execution_count": 4,
   "metadata": {
    "tags": []
   },
   "outputs": [
    {
     "data": {
      "text/html": [
       "<div>\n",
       "<style scoped>\n",
       "    .dataframe tbody tr th:only-of-type {\n",
       "        vertical-align: middle;\n",
       "    }\n",
       "\n",
       "    .dataframe tbody tr th {\n",
       "        vertical-align: top;\n",
       "    }\n",
       "\n",
       "    .dataframe thead th {\n",
       "        text-align: right;\n",
       "    }\n",
       "</style>\n",
       "<table border=\"1\" class=\"dataframe\">\n",
       "  <thead>\n",
       "    <tr style=\"text-align: right;\">\n",
       "      <th></th>\n",
       "      <th>File Names</th>\n",
       "      <th>Attack Link</th>\n",
       "      <th>Exploit Types</th>\n",
       "      <th>Minimum Time</th>\n",
       "      <th>train/test splits</th>\n",
       "      <th>Number of Labeled Transactions</th>\n",
       "      <th>Number of Transactions</th>\n",
       "      <th>Validated</th>\n",
       "      <th>Sum of Stolen Amount</th>\n",
       "    </tr>\n",
       "  </thead>\n",
       "  <tbody>\n",
       "    <tr>\n",
       "      <th>0</th>\n",
       "      <td>Bo_Shen001</td>\n",
       "      <td>https://defiyield.app/rekt-database/bo_shen</td>\n",
       "      <td>Access Control</td>\n",
       "      <td>30/11/2016 12:41</td>\n",
       "      <td>Train</td>\n",
       "      <td>2</td>\n",
       "      <td>144</td>\n",
       "      <td>Yes</td>\n",
       "      <td>4.013972e+07</td>\n",
       "    </tr>\n",
       "    <tr>\n",
       "      <th>1</th>\n",
       "      <td>Bancor001</td>\n",
       "      <td>https://www.apriorit.com/dev-blog/554-bancor-e...</td>\n",
       "      <td>Access Control</td>\n",
       "      <td>10/06/2017 14:27</td>\n",
       "      <td>Train</td>\n",
       "      <td>2</td>\n",
       "      <td>580</td>\n",
       "      <td>Yes</td>\n",
       "      <td>3.126104e+06</td>\n",
       "    </tr>\n",
       "    <tr>\n",
       "      <th>2</th>\n",
       "      <td>Stazie001</td>\n",
       "      <td>https://coinlive.me/how-did-the-founder-of-nft...</td>\n",
       "      <td>Access Control</td>\n",
       "      <td>26/01/2018 20:36</td>\n",
       "      <td>Train</td>\n",
       "      <td>3</td>\n",
       "      <td>1710</td>\n",
       "      <td>Yes</td>\n",
       "      <td>1.999709e+06</td>\n",
       "    </tr>\n",
       "    <tr>\n",
       "      <th>3</th>\n",
       "      <td>Taylor001</td>\n",
       "      <td>https://www.zdnet.com/article/all-of-cryptocur...</td>\n",
       "      <td>Access Control</td>\n",
       "      <td>23/03/2018 15:59</td>\n",
       "      <td>Train</td>\n",
       "      <td>1</td>\n",
       "      <td>7</td>\n",
       "      <td>Yes</td>\n",
       "      <td>1.715527e+06</td>\n",
       "    </tr>\n",
       "    <tr>\n",
       "      <th>4</th>\n",
       "      <td>MerkleTreeVentures001</td>\n",
       "      <td>NaN</td>\n",
       "      <td>Access Control</td>\n",
       "      <td>10/05/2018 15:25</td>\n",
       "      <td>Train</td>\n",
       "      <td>2</td>\n",
       "      <td>21</td>\n",
       "      <td>Yes</td>\n",
       "      <td>8.460593e+04</td>\n",
       "    </tr>\n",
       "  </tbody>\n",
       "</table>\n",
       "</div>"
      ],
      "text/plain": [
       "              File Names                                        Attack Link  \\\n",
       "0             Bo_Shen001        https://defiyield.app/rekt-database/bo_shen   \n",
       "1              Bancor001  https://www.apriorit.com/dev-blog/554-bancor-e...   \n",
       "2              Stazie001  https://coinlive.me/how-did-the-founder-of-nft...   \n",
       "3              Taylor001  https://www.zdnet.com/article/all-of-cryptocur...   \n",
       "4  MerkleTreeVentures001                                                NaN   \n",
       "\n",
       "    Exploit Types      Minimum Time train/test splits  \\\n",
       "0  Access Control  30/11/2016 12:41             Train   \n",
       "1  Access Control  10/06/2017 14:27             Train   \n",
       "2  Access Control  26/01/2018 20:36             Train   \n",
       "3  Access Control  23/03/2018 15:59             Train   \n",
       "4  Access Control  10/05/2018 15:25             Train   \n",
       "\n",
       "   Number of Labeled Transactions  Number of Transactions Validated  \\\n",
       "0                               2                     144       Yes   \n",
       "1                               2                     580       Yes   \n",
       "2                               3                    1710       Yes   \n",
       "3                               1                       7       Yes   \n",
       "4                               2                      21       Yes   \n",
       "\n",
       "   Sum of Stolen Amount  \n",
       "0          4.013972e+07  \n",
       "1          3.126104e+06  \n",
       "2          1.999709e+06  \n",
       "3          1.715527e+06  \n",
       "4          8.460593e+04  "
      ]
     },
     "execution_count": 4,
     "metadata": {},
     "output_type": "execute_result"
    }
   ],
   "source": [
    "cases.head()"
   ]
  },
  {
   "cell_type": "code",
   "execution_count": 5,
   "metadata": {
    "tags": []
   },
   "outputs": [
    {
     "data": {
      "text/plain": [
       "Exploit Types       train/test splits\n",
       "Access Control      Test                  6\n",
       "                    Train                54\n",
       "                    Validation           11\n",
       "Flash Loan Attack   Test                  2\n",
       "                    Train                18\n",
       "                    Validation            5\n",
       "Phishing            Test                  2\n",
       "                    Train                16\n",
       "                    Validation            5\n",
       "Price Manupilation  Train                 5\n",
       "                    Validation            1\n",
       "Rug pull            Test                  4\n",
       "                    Train                25\n",
       "                    Validation            6\n",
       "Name: File Names, dtype: int64"
      ]
     },
     "execution_count": 5,
     "metadata": {},
     "output_type": "execute_result"
    }
   ],
   "source": [
    "cases.groupby([\"Exploit Types\", \"train/test splits\"])[\"File Names\"].count()"
   ]
  },
  {
   "cell_type": "code",
   "execution_count": 6,
   "metadata": {
    "tags": []
   },
   "outputs": [
    {
     "data": {
      "text/plain": [
       "Exploit Types       train/test splits\n",
       "Access Control      Test                 24.666667\n",
       "                    Train                24.722222\n",
       "                    Validation           12.363636\n",
       "Flash Loan Attack   Test                 14.500000\n",
       "                    Train                 1.055556\n",
       "                    Validation           26.400000\n",
       "Phishing            Test                  4.500000\n",
       "                    Train                 1.625000\n",
       "                    Validation            4.800000\n",
       "Price Manupilation  Train                 1.000000\n",
       "                    Validation            5.000000\n",
       "Rug pull            Test                  1.750000\n",
       "                    Train                12.560000\n",
       "                    Validation            4.000000\n",
       "Name: Number of Labeled Transactions, dtype: float64"
      ]
     },
     "execution_count": 6,
     "metadata": {},
     "output_type": "execute_result"
    }
   ],
   "source": [
    "cases.groupby([\"Exploit Types\", \"train/test splits\"])[\n",
    "    \"Number of Labeled Transactions\"\n",
    "].mean()"
   ]
  },
  {
   "cell_type": "code",
   "execution_count": 7,
   "metadata": {
    "tags": []
   },
   "outputs": [
    {
     "name": "stderr",
     "output_type": "stream",
     "text": [
      "/tmp/ipykernel_401/1695098993.py:1: DtypeWarning: Columns (15) have mixed types. Specify dtype option on import or set low_memory=False.\n",
      "  data = pd.read_csv(\"data/raw_data.csv\", parse_dates=[\"block_time\"])\n"
     ]
    }
   ],
   "source": [
    "data = pd.read_csv(\"data/raw_data.csv\", parse_dates=[\"block_time\"])"
   ]
  },
  {
   "cell_type": "code",
   "execution_count": 8,
   "metadata": {
    "tags": []
   },
   "outputs": [],
   "source": [
    "case_split = cases.loc[:, [\"File Names\", \"train/test splits\"]]\n",
    "case_split.columns = [\"file_name\", \"experiment_part\"]\n",
    "case_split[\"file_name\"] += \".csv\""
   ]
  },
  {
   "cell_type": "code",
   "execution_count": 9,
   "metadata": {
    "tags": []
   },
   "outputs": [],
   "source": [
    "data = data.merge(case_split)"
   ]
  },
  {
   "cell_type": "code",
   "execution_count": 10,
   "metadata": {
    "tags": []
   },
   "outputs": [
    {
     "data": {
      "text/plain": [
       "experiment_part  label\n",
       "Test             0         95353\n",
       "                 1           193\n",
       "Train            0        553327\n",
       "                 1          1699\n",
       "Validation       0        143502\n",
       "                 1           321\n",
       "Name: label, dtype: int64"
      ]
     },
     "execution_count": 10,
     "metadata": {},
     "output_type": "execute_result"
    }
   ],
   "source": [
    "data.groupby(\"experiment_part\")[\"label\"].value_counts()"
   ]
  },
  {
   "cell_type": "code",
   "execution_count": 11,
   "metadata": {
    "tags": []
   },
   "outputs": [
    {
     "data": {
      "text/plain": [
       "experiment_part  label\n",
       "Test             0         41105\n",
       "                 1           170\n",
       "Train            0        515418\n",
       "                 1          1652\n",
       "Validation       0         98520\n",
       "                 1           195\n",
       "Name: transaction_id, dtype: int64"
      ]
     },
     "execution_count": 11,
     "metadata": {},
     "output_type": "execute_result"
    }
   ],
   "source": [
    "data.groupby([\"experiment_part\", \"label\"])[\"transaction_id\"].nunique()"
   ]
  },
  {
   "cell_type": "markdown",
   "metadata": {},
   "source": [
    "## Look for transactions that shoud be excluded from the dataset"
   ]
  },
  {
   "cell_type": "markdown",
   "metadata": {},
   "source": [
    "Transactions with very low dollar amounts."
   ]
  },
  {
   "cell_type": "code",
   "execution_count": 12,
   "metadata": {
    "tags": []
   },
   "outputs": [],
   "source": [
    "g = data.groupby(\"transaction_id\")"
   ]
  },
  {
   "cell_type": "code",
   "execution_count": 13,
   "metadata": {
    "tags": []
   },
   "outputs": [],
   "source": [
    "tx_data = pd.DataFrame()"
   ]
  },
  {
   "cell_type": "code",
   "execution_count": 14,
   "metadata": {
    "tags": []
   },
   "outputs": [],
   "source": [
    "tx_data[\"label\"] = g[\"label\"].max()\n",
    "tx_data[\"amount_usd\"] = g[\"amount_usd\"].sum()"
   ]
  },
  {
   "cell_type": "code",
   "execution_count": 38,
   "metadata": {
    "tags": []
   },
   "outputs": [
    {
     "data": {
      "text/plain": [
       "268"
      ]
     },
     "execution_count": 38,
     "metadata": {},
     "output_type": "execute_result"
    }
   ],
   "source": [
    "low_dollar_tx = tx_data.loc[\n",
    "    (tx_data[\"label\"] == 1) & (tx_data[\"amount_usd\"] < 1), :\n",
    "].index\n",
    "len(low_dollar_tx)"
   ]
  },
  {
   "cell_type": "code",
   "execution_count": 30,
   "metadata": {
    "tags": []
   },
   "outputs": [],
   "source": [
    "target_data = data.loc[data[\"label\"] == 1, :].copy()"
   ]
  },
  {
   "cell_type": "code",
   "execution_count": 31,
   "metadata": {
    "tags": []
   },
   "outputs": [],
   "source": [
    "target_data[\"low_dollar_amt\"] = target_data[\"transaction_id\"].isin(low_dollar_tx)"
   ]
  },
  {
   "cell_type": "code",
   "execution_count": 32,
   "metadata": {
    "tags": []
   },
   "outputs": [
    {
     "data": {
      "text/plain": [
       "file_name\n",
       "Unidark001.csv      0.893130\n",
       "Kucoin001.csv       0.379487\n",
       "CoinSWOP001.csv     0.333333\n",
       "Kucoin002.csv       0.316940\n",
       "Lendfme001.csv      0.160000\n",
       "BasketDAO001.csv    0.142857\n",
       "Nomad001.csv        0.090909\n",
       "Cryptopia001.csv    0.040000\n",
       "Liquid002.csv       0.037736\n",
       "Bitmart001.csv      0.012048\n",
       "Name: low_dollar_amt, dtype: float64"
      ]
     },
     "execution_count": 32,
     "metadata": {},
     "output_type": "execute_result"
    }
   ],
   "source": [
    "target_data.groupby(\"file_name\")[\"low_dollar_amt\"].mean().sort_values(\n",
    "    ascending=False\n",
    ").head(10)"
   ]
  },
  {
   "cell_type": "code",
   "execution_count": 34,
   "metadata": {
    "tags": []
   },
   "outputs": [
    {
     "data": {
      "text/html": [
       "<div>\n",
       "<style scoped>\n",
       "    .dataframe tbody tr th:only-of-type {\n",
       "        vertical-align: middle;\n",
       "    }\n",
       "\n",
       "    .dataframe tbody tr th {\n",
       "        vertical-align: top;\n",
       "    }\n",
       "\n",
       "    .dataframe thead th {\n",
       "        text-align: right;\n",
       "    }\n",
       "</style>\n",
       "<table border=\"1\" class=\"dataframe\">\n",
       "  <thead>\n",
       "    <tr style=\"text-align: right;\">\n",
       "      <th></th>\n",
       "      <th>transaction_id</th>\n",
       "      <th>amount_usd</th>\n",
       "    </tr>\n",
       "  </thead>\n",
       "  <tbody>\n",
       "    <tr>\n",
       "      <th>522777</th>\n",
       "      <td>0x159245dcf1f0214fb365e9d1bb0770ca036007f39463...</td>\n",
       "      <td>65.551136</td>\n",
       "    </tr>\n",
       "    <tr>\n",
       "      <th>522830</th>\n",
       "      <td>0xa6772f13dfc1aac537987513c9447f6ba2f5d3c10d3d...</td>\n",
       "      <td>311.945828</td>\n",
       "    </tr>\n",
       "    <tr>\n",
       "      <th>522841</th>\n",
       "      <td>0xb07d5312af46b925d44935f4a46f04670cabd47766a5...</td>\n",
       "      <td>1454.561452</td>\n",
       "    </tr>\n",
       "    <tr>\n",
       "      <th>522868</th>\n",
       "      <td>0xc32b64cbff6650812e77266aebc56dd0d264328a73a2...</td>\n",
       "      <td>2025.545079</td>\n",
       "    </tr>\n",
       "    <tr>\n",
       "      <th>522895</th>\n",
       "      <td>0x2fadfe543b10f86446e45ed5c40aaf5422f9bc23a3cf...</td>\n",
       "      <td>3453.286374</td>\n",
       "    </tr>\n",
       "    <tr>\n",
       "      <th>...</th>\n",
       "      <td>...</td>\n",
       "      <td>...</td>\n",
       "    </tr>\n",
       "    <tr>\n",
       "      <th>524822</th>\n",
       "      <td>0x24d5b928a936ab4c84232b5bc25a8eb14af113ece37d...</td>\n",
       "      <td>0.000000</td>\n",
       "    </tr>\n",
       "    <tr>\n",
       "      <th>524823</th>\n",
       "      <td>0x201b8e657c75171aaa126859f6c3304722f0713359fb...</td>\n",
       "      <td>0.000000</td>\n",
       "    </tr>\n",
       "    <tr>\n",
       "      <th>524824</th>\n",
       "      <td>0x1c1a6ed586e95ed1462d7d004e33a3ced4abdec3119a...</td>\n",
       "      <td>0.000000</td>\n",
       "    </tr>\n",
       "    <tr>\n",
       "      <th>524825</th>\n",
       "      <td>0xcc8ec6c1d38c165a0f8d8331ed38a8b21eea4d75406e...</td>\n",
       "      <td>0.000000</td>\n",
       "    </tr>\n",
       "    <tr>\n",
       "      <th>524828</th>\n",
       "      <td>0xfa04a396f9fc06b4d1a7a01382dde92e488e268759af...</td>\n",
       "      <td>29057.689830</td>\n",
       "    </tr>\n",
       "  </tbody>\n",
       "</table>\n",
       "<p>131 rows × 2 columns</p>\n",
       "</div>"
      ],
      "text/plain": [
       "                                           transaction_id    amount_usd\n",
       "522777  0x159245dcf1f0214fb365e9d1bb0770ca036007f39463...     65.551136\n",
       "522830  0xa6772f13dfc1aac537987513c9447f6ba2f5d3c10d3d...    311.945828\n",
       "522841  0xb07d5312af46b925d44935f4a46f04670cabd47766a5...   1454.561452\n",
       "522868  0xc32b64cbff6650812e77266aebc56dd0d264328a73a2...   2025.545079\n",
       "522895  0x2fadfe543b10f86446e45ed5c40aaf5422f9bc23a3cf...   3453.286374\n",
       "...                                                   ...           ...\n",
       "524822  0x24d5b928a936ab4c84232b5bc25a8eb14af113ece37d...      0.000000\n",
       "524823  0x201b8e657c75171aaa126859f6c3304722f0713359fb...      0.000000\n",
       "524824  0x1c1a6ed586e95ed1462d7d004e33a3ced4abdec3119a...      0.000000\n",
       "524825  0xcc8ec6c1d38c165a0f8d8331ed38a8b21eea4d75406e...      0.000000\n",
       "524828  0xfa04a396f9fc06b4d1a7a01382dde92e488e268759af...  29057.689830\n",
       "\n",
       "[131 rows x 2 columns]"
      ]
     },
     "execution_count": 34,
     "metadata": {},
     "output_type": "execute_result"
    }
   ],
   "source": [
    "target_data.loc[\n",
    "    target_data[\"file_name\"] == \"Unidark001.csv\", [\"transaction_id\", \"amount_usd\"]\n",
    "]"
   ]
  },
  {
   "cell_type": "code",
   "execution_count": 35,
   "metadata": {
    "tags": []
   },
   "outputs": [
    {
     "data": {
      "text/html": [
       "<div>\n",
       "<style scoped>\n",
       "    .dataframe tbody tr th:only-of-type {\n",
       "        vertical-align: middle;\n",
       "    }\n",
       "\n",
       "    .dataframe tbody tr th {\n",
       "        vertical-align: top;\n",
       "    }\n",
       "\n",
       "    .dataframe thead th {\n",
       "        text-align: right;\n",
       "    }\n",
       "</style>\n",
       "<table border=\"1\" class=\"dataframe\">\n",
       "  <thead>\n",
       "    <tr style=\"text-align: right;\">\n",
       "      <th></th>\n",
       "      <th>transaction_id</th>\n",
       "      <th>amount_usd</th>\n",
       "    </tr>\n",
       "  </thead>\n",
       "  <tbody>\n",
       "    <tr>\n",
       "      <th>301451</th>\n",
       "      <td>0x232211d5be7cee21d7719e67e473c29d0b69e508bc8b...</td>\n",
       "      <td>9.213716e+05</td>\n",
       "    </tr>\n",
       "    <tr>\n",
       "      <th>301452</th>\n",
       "      <td>0x3c62b8e9f646c431f7bb829e928ab85367adf6ed9d2c...</td>\n",
       "      <td>4.230000e-13</td>\n",
       "    </tr>\n",
       "    <tr>\n",
       "      <th>301453</th>\n",
       "      <td>0x56b552ac390fc33a5dd83ceb26d0fc01feff5752c071...</td>\n",
       "      <td>NaN</td>\n",
       "    </tr>\n",
       "    <tr>\n",
       "      <th>301454</th>\n",
       "      <td>0xfa130e3e78c97b8238303149b5bbf9ad8c93c3e06594...</td>\n",
       "      <td>8.720000e-13</td>\n",
       "    </tr>\n",
       "    <tr>\n",
       "      <th>301455</th>\n",
       "      <td>0x97e7835d30fcc383d9286db0683c1e8fa4492a6f3205...</td>\n",
       "      <td>7.150000e-13</td>\n",
       "    </tr>\n",
       "    <tr>\n",
       "      <th>...</th>\n",
       "      <td>...</td>\n",
       "      <td>...</td>\n",
       "    </tr>\n",
       "    <tr>\n",
       "      <th>301737</th>\n",
       "      <td>0x6edcf53bc46ee5fbcd5d1895193dcebbfd2aad526725...</td>\n",
       "      <td>0.000000e+00</td>\n",
       "    </tr>\n",
       "    <tr>\n",
       "      <th>301740</th>\n",
       "      <td>0x91075c0508834ca1874ef1a485921fe94f64e8dfc4af...</td>\n",
       "      <td>1.349524e+06</td>\n",
       "    </tr>\n",
       "    <tr>\n",
       "      <th>301741</th>\n",
       "      <td>0x4f956345abd0d9f3a3ee411291840d2a5d69dfa80cd0...</td>\n",
       "      <td>NaN</td>\n",
       "    </tr>\n",
       "    <tr>\n",
       "      <th>301742</th>\n",
       "      <td>0x087061a0e062bd436be8f3b08cac795725637c897c85...</td>\n",
       "      <td>4.807435e+06</td>\n",
       "    </tr>\n",
       "    <tr>\n",
       "      <th>301743</th>\n",
       "      <td>0x4b738df5d7f12e3fa1cbe83b8165c542da461ef0c925...</td>\n",
       "      <td>3.037894e+06</td>\n",
       "    </tr>\n",
       "  </tbody>\n",
       "</table>\n",
       "<p>195 rows × 2 columns</p>\n",
       "</div>"
      ],
      "text/plain": [
       "                                           transaction_id    amount_usd\n",
       "301451  0x232211d5be7cee21d7719e67e473c29d0b69e508bc8b...  9.213716e+05\n",
       "301452  0x3c62b8e9f646c431f7bb829e928ab85367adf6ed9d2c...  4.230000e-13\n",
       "301453  0x56b552ac390fc33a5dd83ceb26d0fc01feff5752c071...           NaN\n",
       "301454  0xfa130e3e78c97b8238303149b5bbf9ad8c93c3e06594...  8.720000e-13\n",
       "301455  0x97e7835d30fcc383d9286db0683c1e8fa4492a6f3205...  7.150000e-13\n",
       "...                                                   ...           ...\n",
       "301737  0x6edcf53bc46ee5fbcd5d1895193dcebbfd2aad526725...  0.000000e+00\n",
       "301740  0x91075c0508834ca1874ef1a485921fe94f64e8dfc4af...  1.349524e+06\n",
       "301741  0x4f956345abd0d9f3a3ee411291840d2a5d69dfa80cd0...           NaN\n",
       "301742  0x087061a0e062bd436be8f3b08cac795725637c897c85...  4.807435e+06\n",
       "301743  0x4b738df5d7f12e3fa1cbe83b8165c542da461ef0c925...  3.037894e+06\n",
       "\n",
       "[195 rows x 2 columns]"
      ]
     },
     "execution_count": 35,
     "metadata": {},
     "output_type": "execute_result"
    }
   ],
   "source": [
    "target_data.loc[\n",
    "    target_data[\"file_name\"] == \"Kucoin001.csv\", [\"transaction_id\", \"amount_usd\"]\n",
    "]"
   ]
  },
  {
   "cell_type": "code",
   "execution_count": null,
   "metadata": {},
   "outputs": [],
   "source": []
  }
 ],
 "metadata": {
  "instance_type": "ml.m5.xlarge",
  "kernelspec": {
   "display_name": "Python 3 (Base Python 3.0)",
   "language": "python",
   "name": "python3__SAGEMAKER_INTERNAL__arn:aws:sagemaker:us-east-1:081325390199:image/sagemaker-base-python-310-v1"
  },
  "language_info": {
   "codemirror_mode": {
    "name": "ipython",
    "version": 3
   },
   "file_extension": ".py",
   "mimetype": "text/x-python",
   "name": "python",
   "nbconvert_exporter": "python",
   "pygments_lexer": "ipython3",
   "version": "3.10.8"
  },
  "vscode": {
   "interpreter": {
    "hash": "c52e82a535f873ccdbbc514f272df126dd80566b4218920d349d6cfdddfda4b2"
   }
  }
 },
 "nbformat": 4,
 "nbformat_minor": 4
}
