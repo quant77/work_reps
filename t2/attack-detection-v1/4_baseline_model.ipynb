{
 "cells": [
  {
   "cell_type": "markdown",
   "metadata": {},
   "source": [
    "# Baseline models"
   ]
  },
  {
   "cell_type": "code",
   "execution_count": 1,
   "metadata": {
    "tags": []
   },
   "outputs": [],
   "source": [
    "import numpy as np\n",
    "import pandas as pd\n",
    "\n",
    "import seaborn as sns\n",
    "\n",
    "from sklearn.linear_model import LogisticRegression\n",
    "from sklearn.ensemble import RandomForestClassifier, GradientBoostingClassifier\n",
    "from sklearn.svm import SVC\n",
    "\n",
    "import scikitplot as skplt\n",
    "\n",
    "import scikitplot as skplt\n",
    "\n",
    "import xgboost as xgb\n",
    "\n",
    "from utils.evaluation import evaluate_model\n",
    "from utils.report import report_by_sections"
   ]
  },
  {
   "cell_type": "code",
   "execution_count": 2,
   "metadata": {
    "tags": []
   },
   "outputs": [],
   "source": [
    "train_data = pd.read_csv(\"data/train_data.csv\", parse_dates=[\"block_time\"])"
   ]
  },
  {
   "cell_type": "code",
   "execution_count": 3,
   "metadata": {
    "tags": []
   },
   "outputs": [],
   "source": [
    "features = [f for f in train_data.columns if f.endswith(\"_log_to_median_ratio\")]"
   ]
  },
  {
   "cell_type": "code",
   "execution_count": 4,
   "metadata": {
    "tags": []
   },
   "outputs": [
    {
     "data": {
      "text/plain": [
       "53"
      ]
     },
     "execution_count": 4,
     "metadata": {},
     "output_type": "execute_result"
    }
   ],
   "source": [
    "len(features)"
   ]
  },
  {
   "cell_type": "code",
   "execution_count": 5,
   "metadata": {
    "tags": []
   },
   "outputs": [],
   "source": [
    "model_train_data = train_data.loc[\n",
    "    :, [\"file_name\", \"transaction_id\", \"block_time\"] + features + [\"label\"]\n",
    "].fillna(0)"
   ]
  },
  {
   "cell_type": "code",
   "execution_count": 6,
   "metadata": {
    "tags": []
   },
   "outputs": [],
   "source": [
    "validation_data = pd.read_csv(\"data/validation_data.csv\", parse_dates=[\"block_time\"])"
   ]
  },
  {
   "cell_type": "code",
   "execution_count": 7,
   "metadata": {},
   "outputs": [],
   "source": [
    "validation_model_data = validation_data.loc[\n",
    "    :, [\"file_name\", \"transaction_id\", \"block_time\"] + features + [\"label\"]\n",
    "].fillna(0)"
   ]
  },
  {
   "cell_type": "markdown",
   "metadata": {},
   "source": [
    "## 1 Simple feature selection"
   ]
  },
  {
   "cell_type": "code",
   "execution_count": 8,
   "metadata": {
    "tags": []
   },
   "outputs": [],
   "source": [
    "from sklearn.feature_selection import mutual_info_classif"
   ]
  },
  {
   "cell_type": "code",
   "execution_count": 9,
   "metadata": {
    "tags": []
   },
   "outputs": [],
   "source": [
    "target_data = model_train_data.loc[model_train_data[\"label\"] == 1, :]\n",
    "ref_sample = model_train_data.loc[model_train_data[\"label\"] == 0, :].sample(\n",
    "    20000, random_state=1234\n",
    ")\n",
    "train_sample = pd.concat([ref_sample, target_data], axis=0).reset_index(drop=True)"
   ]
  },
  {
   "cell_type": "code",
   "execution_count": 10,
   "metadata": {
    "tags": []
   },
   "outputs": [],
   "source": [
    "mu_score = mutual_info_classif(\n",
    "    train_sample.loc[:, features], train_sample[\"label\"], random_state=1234\n",
    ")"
   ]
  },
  {
   "cell_type": "code",
   "execution_count": 11,
   "metadata": {
    "tags": []
   },
   "outputs": [],
   "source": [
    "mu_score_df = pd.DataFrame(\n",
    "    zip(features, mu_score), columns=[\"feature\", \"score\"]\n",
    ").sort_values(\"score\", ascending=False)"
   ]
  },
  {
   "cell_type": "code",
   "execution_count": 12,
   "metadata": {
    "tags": []
   },
   "outputs": [],
   "source": [
    "# mu_score_df.to_csv(\"mu_score.csv\", index=False)"
   ]
  },
  {
   "cell_type": "code",
   "execution_count": 13,
   "metadata": {},
   "outputs": [
    {
     "data": {
      "text/html": [
       "<div>\n",
       "<style scoped>\n",
       "    .dataframe tbody tr th:only-of-type {\n",
       "        vertical-align: middle;\n",
       "    }\n",
       "\n",
       "    .dataframe tbody tr th {\n",
       "        vertical-align: top;\n",
       "    }\n",
       "\n",
       "    .dataframe thead th {\n",
       "        text-align: right;\n",
       "    }\n",
       "</style>\n",
       "<table border=\"1\" class=\"dataframe\">\n",
       "  <thead>\n",
       "    <tr style=\"text-align: right;\">\n",
       "      <th></th>\n",
       "      <th>feature</th>\n",
       "      <th>score</th>\n",
       "    </tr>\n",
       "  </thead>\n",
       "  <tbody>\n",
       "    <tr>\n",
       "      <th>20</th>\n",
       "      <td>snd_rcv_amt_usd_sum_tx_sum_log_to_median_ratio</td>\n",
       "      <td>0.156763</td>\n",
       "    </tr>\n",
       "    <tr>\n",
       "      <th>15</th>\n",
       "      <td>snd_rcv_amt_usd_sum_tx_min_log_to_median_ratio</td>\n",
       "      <td>0.150969</td>\n",
       "    </tr>\n",
       "    <tr>\n",
       "      <th>18</th>\n",
       "      <td>snd_rcv_amt_usd_sum_tx_mean_log_to_median_ratio</td>\n",
       "      <td>0.146914</td>\n",
       "    </tr>\n",
       "    <tr>\n",
       "      <th>17</th>\n",
       "      <td>snd_rcv_amt_usd_sum_tx_median_log_to_median_ratio</td>\n",
       "      <td>0.146618</td>\n",
       "    </tr>\n",
       "    <tr>\n",
       "      <th>16</th>\n",
       "      <td>snd_rcv_amt_usd_sum_tx_max_log_to_median_ratio</td>\n",
       "      <td>0.146384</td>\n",
       "    </tr>\n",
       "    <tr>\n",
       "      <th>39</th>\n",
       "      <td>snd_rcv_mean_time_diff_sec_tx_min_log_to_media...</td>\n",
       "      <td>0.136345</td>\n",
       "    </tr>\n",
       "    <tr>\n",
       "      <th>40</th>\n",
       "      <td>snd_rcv_mean_time_diff_sec_tx_max_log_to_media...</td>\n",
       "      <td>0.134952</td>\n",
       "    </tr>\n",
       "    <tr>\n",
       "      <th>41</th>\n",
       "      <td>snd_rcv_mean_time_diff_sec_tx_median_log_to_me...</td>\n",
       "      <td>0.134863</td>\n",
       "    </tr>\n",
       "    <tr>\n",
       "      <th>42</th>\n",
       "      <td>snd_rcv_mean_time_diff_sec_tx_mean_log_to_medi...</td>\n",
       "      <td>0.134172</td>\n",
       "    </tr>\n",
       "    <tr>\n",
       "      <th>33</th>\n",
       "      <td>snd_rcv_life_time_sec_tx_min_log_to_median_ratio</td>\n",
       "      <td>0.132944</td>\n",
       "    </tr>\n",
       "    <tr>\n",
       "      <th>26</th>\n",
       "      <td>snd_rcv_mean_amt_usd_tx_sum_log_to_median_ratio</td>\n",
       "      <td>0.131665</td>\n",
       "    </tr>\n",
       "    <tr>\n",
       "      <th>35</th>\n",
       "      <td>snd_rcv_life_time_sec_tx_median_log_to_median_...</td>\n",
       "      <td>0.131653</td>\n",
       "    </tr>\n",
       "    <tr>\n",
       "      <th>36</th>\n",
       "      <td>snd_rcv_life_time_sec_tx_mean_log_to_median_ratio</td>\n",
       "      <td>0.130943</td>\n",
       "    </tr>\n",
       "    <tr>\n",
       "      <th>0</th>\n",
       "      <td>gas_price_log_to_median_ratio</td>\n",
       "      <td>0.129240</td>\n",
       "    </tr>\n",
       "    <tr>\n",
       "      <th>8</th>\n",
       "      <td>snd_rcv_tkn_type_cnt_tx_sum_log_to_median_ratio</td>\n",
       "      <td>0.127548</td>\n",
       "    </tr>\n",
       "    <tr>\n",
       "      <th>22</th>\n",
       "      <td>snd_rcv_mean_amt_usd_tx_max_log_to_median_ratio</td>\n",
       "      <td>0.125886</td>\n",
       "    </tr>\n",
       "    <tr>\n",
       "      <th>24</th>\n",
       "      <td>snd_rcv_mean_amt_usd_tx_mean_log_to_median_ratio</td>\n",
       "      <td>0.125706</td>\n",
       "    </tr>\n",
       "    <tr>\n",
       "      <th>23</th>\n",
       "      <td>snd_rcv_mean_amt_usd_tx_median_log_to_median_r...</td>\n",
       "      <td>0.125494</td>\n",
       "    </tr>\n",
       "    <tr>\n",
       "      <th>34</th>\n",
       "      <td>snd_rcv_life_time_sec_tx_max_log_to_median_ratio</td>\n",
       "      <td>0.123726</td>\n",
       "    </tr>\n",
       "    <tr>\n",
       "      <th>38</th>\n",
       "      <td>snd_rcv_life_time_sec_tx_sum_log_to_median_ratio</td>\n",
       "      <td>0.123662</td>\n",
       "    </tr>\n",
       "  </tbody>\n",
       "</table>\n",
       "</div>"
      ],
      "text/plain": [
       "                                              feature     score\n",
       "20     snd_rcv_amt_usd_sum_tx_sum_log_to_median_ratio  0.156763\n",
       "15     snd_rcv_amt_usd_sum_tx_min_log_to_median_ratio  0.150969\n",
       "18    snd_rcv_amt_usd_sum_tx_mean_log_to_median_ratio  0.146914\n",
       "17  snd_rcv_amt_usd_sum_tx_median_log_to_median_ratio  0.146618\n",
       "16     snd_rcv_amt_usd_sum_tx_max_log_to_median_ratio  0.146384\n",
       "39  snd_rcv_mean_time_diff_sec_tx_min_log_to_media...  0.136345\n",
       "40  snd_rcv_mean_time_diff_sec_tx_max_log_to_media...  0.134952\n",
       "41  snd_rcv_mean_time_diff_sec_tx_median_log_to_me...  0.134863\n",
       "42  snd_rcv_mean_time_diff_sec_tx_mean_log_to_medi...  0.134172\n",
       "33   snd_rcv_life_time_sec_tx_min_log_to_median_ratio  0.132944\n",
       "26    snd_rcv_mean_amt_usd_tx_sum_log_to_median_ratio  0.131665\n",
       "35  snd_rcv_life_time_sec_tx_median_log_to_median_...  0.131653\n",
       "36  snd_rcv_life_time_sec_tx_mean_log_to_median_ratio  0.130943\n",
       "0                       gas_price_log_to_median_ratio  0.129240\n",
       "8     snd_rcv_tkn_type_cnt_tx_sum_log_to_median_ratio  0.127548\n",
       "22    snd_rcv_mean_amt_usd_tx_max_log_to_median_ratio  0.125886\n",
       "24   snd_rcv_mean_amt_usd_tx_mean_log_to_median_ratio  0.125706\n",
       "23  snd_rcv_mean_amt_usd_tx_median_log_to_median_r...  0.125494\n",
       "34   snd_rcv_life_time_sec_tx_max_log_to_median_ratio  0.123726\n",
       "38   snd_rcv_life_time_sec_tx_sum_log_to_median_ratio  0.123662"
      ]
     },
     "execution_count": 13,
     "metadata": {},
     "output_type": "execute_result"
    }
   ],
   "source": [
    "mu_score_df.head(20)"
   ]
  },
  {
   "cell_type": "code",
   "execution_count": 14,
   "metadata": {
    "tags": []
   },
   "outputs": [
    {
     "data": {
      "text/plain": [
       "(21671, 57)"
      ]
     },
     "execution_count": 14,
     "metadata": {},
     "output_type": "execute_result"
    }
   ],
   "source": [
    "train_sample.shape"
   ]
  },
  {
   "cell_type": "code",
   "execution_count": 15,
   "metadata": {
    "tags": []
   },
   "outputs": [],
   "source": [
    "selected = [\n",
    "    \"snd_rcv_amt_usd_sum_tx_sum_log_to_median_ratio\",\n",
    "    \"snd_rcv_amt_usd_sum_tx_max_log_to_median_ratio\",\n",
    "    \"snd_rcv_mean_time_diff_sec_tx_min_log_to_median_ratio\",\n",
    "    \"snd_rcv_mean_time_diff_sec_tx_median_log_to_median_ratio\",\n",
    "    # \"snd_rcv_life_time_sec_tx_min_log_to_median_ratio\",\n",
    "    \"snd_rcv_life_time_sec_tx_median_log_to_median_ratio\",\n",
    "    \"snd_rcv_tkn_type_cnt_tx_max_log_to_median_ratio\"\n",
    "    #'snd_rcv_tkn_type_cnt_tx_min_log_to_median_ratio',\n",
    "    #'gas_limit_log_to_median_ratio',\n",
    "    #'gas_price_log_to_median_ratio'\n",
    "]"
   ]
  },
  {
   "cell_type": "markdown",
   "metadata": {},
   "source": [
    "## 2 Model training and evaluation"
   ]
  },
  {
   "cell_type": "code",
   "execution_count": 16,
   "metadata": {
    "tags": []
   },
   "outputs": [],
   "source": [
    "X = model_train_data.loc[:, selected]\n",
    "y = model_train_data[\"label\"]\n",
    "model = LogisticRegression(class_weight=\"balanced\").fit(X, y)\n",
    "# model = SVC(class_weight='balanced').fit(X, y)"
   ]
  },
  {
   "cell_type": "code",
   "execution_count": 17,
   "metadata": {
    "tags": []
   },
   "outputs": [],
   "source": [
    "train_pred_label = model.predict(model_train_data.loc[:, selected])\n",
    "train_true_label = model_train_data[\"label\"]"
   ]
  },
  {
   "cell_type": "code",
   "execution_count": 18,
   "metadata": {
    "tags": []
   },
   "outputs": [
    {
     "name": "stdout",
     "output_type": "stream",
     "text": [
      "recall: 0.832, precision: 0.03, specificity: 0.913\n"
     ]
    },
    {
     "data": {
      "image/png": "[encoded data removed]",
      "text/plain": [
       "<Figure size 640x480 with 2 Axes>"
      ]
     },
     "metadata": {},
     "output_type": "display_data"
    }
   ],
   "source": [
    "train_metrics = evaluate_model(\n",
    "    train_true_label, train_pred_label, confusion_title=\"train\"\n",
    ")\n",
    "print(\n",
    "    f\"recall: {train_metrics['recall']}, \"\n",
    "    + f\"precision: {train_metrics['precision']}, \"\n",
    "    + f\"specificity: {train_metrics['specificity']}\"\n",
    ")"
   ]
  },
  {
   "cell_type": "code",
   "execution_count": 19,
   "metadata": {
    "tags": []
   },
   "outputs": [],
   "source": [
    "val_pred_label = model.predict(validation_model_data.loc[:, selected])\n",
    "val_true_label = validation_model_data[\"label\"]"
   ]
  },
  {
   "cell_type": "code",
   "execution_count": 20,
   "metadata": {
    "tags": []
   },
   "outputs": [
    {
     "name": "stdout",
     "output_type": "stream",
     "text": [
      "recall: 0.703, precision: 0.039, specificity: 0.966\n"
     ]
    },
    {
     "data": {
      "image/png": "[encoded data removed]",
      "text/plain": [
       "<Figure size 640x480 with 2 Axes>"
      ]
     },
     "metadata": {},
     "output_type": "display_data"
    }
   ],
   "source": [
    "val_metrics = evaluate_model(\n",
    "    val_true_label, val_pred_label, confusion_title=\"validation\"\n",
    ")\n",
    "print(\n",
    "    f\"recall: {val_metrics['recall']}, \"\n",
    "    + f\"precision: {val_metrics['precision']}, \"\n",
    "    + f\"specificity: {val_metrics['specificity']}\"\n",
    ")"
   ]
  },
  {
   "cell_type": "markdown",
   "metadata": {},
   "source": [
    "## 3 Report"
   ]
  },
  {
   "cell_type": "code",
   "execution_count": 21,
   "metadata": {
    "tags": []
   },
   "outputs": [
    {
     "name": "stdout",
     "output_type": "stream",
     "text": [
      "                                             feature      coef\n",
      "0  snd_rcv_mean_time_diff_sec_tx_min_log_to_media... -0.356516\n",
      "1    snd_rcv_tkn_type_cnt_tx_max_log_to_median_ratio -0.125351\n",
      "2  snd_rcv_life_time_sec_tx_median_log_to_median_... -0.106081\n",
      "3  snd_rcv_mean_time_diff_sec_tx_median_log_to_me... -0.102204\n",
      "4     snd_rcv_amt_usd_sum_tx_sum_log_to_median_ratio  0.094479\n",
      "5     snd_rcv_amt_usd_sum_tx_max_log_to_median_ratio  0.275353\n"
     ]
    }
   ],
   "source": [
    "if type(model) is LogisticRegression:\n",
    "    model_coefs = (\n",
    "        pd.DataFrame(zip(selected, model.coef_[0]), columns=[\"feature\", \"coef\"])\n",
    "        .sort_values(\"coef\")\n",
    "        .reset_index(drop=True)\n",
    "    )\n",
    "    print(model_coefs)"
   ]
  },
  {
   "cell_type": "code",
   "execution_count": 22,
   "metadata": {},
   "outputs": [],
   "source": [
    "if type(model) in {RandomForestClassifier, GradientBoostingClassifier}:\n",
    "    feature_importance = pd.DataFrame(\n",
    "        zip(selected, model.feature_importances_), columns=[\"feature\", \"importance\"]\n",
    "    )\n",
    "    print(feature_importance)"
   ]
  },
  {
   "cell_type": "code",
   "execution_count": 23,
   "metadata": {
    "tags": []
   },
   "outputs": [],
   "source": [
    "train_results = model_train_data.loc[:, [\"file_name\", \"label\"]].copy()\n",
    "train_results[\"pred_label\"] = train_pred_label\n",
    "train_results[\"exp_part\"] = \"train\"\n",
    "\n",
    "validation_results = validation_data.loc[:, [\"file_name\", \"label\"]]\n",
    "validation_results[\"pred_label\"] = val_pred_label\n",
    "validation_results[\"exp_part\"] = \"validation\"\n",
    "\n",
    "model_results = pd.concat([train_results, validation_results])"
   ]
  },
  {
   "cell_type": "code",
   "execution_count": 24,
   "metadata": {},
   "outputs": [],
   "source": [
    "cases = pd.read_csv(\"Validated_V0_Desriptions.csv\").rename(\n",
    "    {\"File Names\": \"file_name\", \"Exploit Types\": \"exploit_type\"}, axis=1\n",
    ")\n",
    "cases[\"file_name\"] += \".csv\"\n",
    "cases = cases.loc[\n",
    "    :, [\"file_name\", \"exploit_type\", \"Minimum Time\", \"train/test splits\", \"Attack Link\"]\n",
    "]\n",
    "\n",
    "model_results = model_results.merge(cases)"
   ]
  },
  {
   "cell_type": "code",
   "execution_count": 25,
   "metadata": {},
   "outputs": [],
   "source": [
    "file_report, exploit_report = report_by_sections(model_results)"
   ]
  },
  {
   "cell_type": "code",
   "execution_count": 26,
   "metadata": {},
   "outputs": [
    {
     "data": {
      "text/html": [
       "<div>\n",
       "<style scoped>\n",
       "    .dataframe tbody tr th:only-of-type {\n",
       "        vertical-align: middle;\n",
       "    }\n",
       "\n",
       "    .dataframe tbody tr th {\n",
       "        vertical-align: top;\n",
       "    }\n",
       "\n",
       "    .dataframe thead th {\n",
       "        text-align: right;\n",
       "    }\n",
       "</style>\n",
       "<table border=\"1\" class=\"dataframe\">\n",
       "  <thead>\n",
       "    <tr style=\"text-align: right;\">\n",
       "      <th></th>\n",
       "      <th>exploit_type</th>\n",
       "      <th>exp_part</th>\n",
       "      <th>files</th>\n",
       "      <th>tp</th>\n",
       "      <th>fp</th>\n",
       "      <th>tn</th>\n",
       "      <th>fn</th>\n",
       "      <th>recall</th>\n",
       "      <th>precision</th>\n",
       "    </tr>\n",
       "  </thead>\n",
       "  <tbody>\n",
       "    <tr>\n",
       "      <th>0</th>\n",
       "      <td>Access Control</td>\n",
       "      <td>train</td>\n",
       "      <td>54</td>\n",
       "      <td>1208</td>\n",
       "      <td>33232</td>\n",
       "      <td>357636</td>\n",
       "      <td>100</td>\n",
       "      <td>0.923547</td>\n",
       "      <td>0.035075</td>\n",
       "    </tr>\n",
       "    <tr>\n",
       "      <th>1</th>\n",
       "      <td>Access Control</td>\n",
       "      <td>validation</td>\n",
       "      <td>11</td>\n",
       "      <td>111</td>\n",
       "      <td>2235</td>\n",
       "      <td>57225</td>\n",
       "      <td>23</td>\n",
       "      <td>0.828358</td>\n",
       "      <td>0.047315</td>\n",
       "    </tr>\n",
       "    <tr>\n",
       "      <th>2</th>\n",
       "      <td>Flash Loan Attack</td>\n",
       "      <td>train</td>\n",
       "      <td>18</td>\n",
       "      <td>4</td>\n",
       "      <td>5654</td>\n",
       "      <td>54416</td>\n",
       "      <td>15</td>\n",
       "      <td>0.210526</td>\n",
       "      <td>0.000707</td>\n",
       "    </tr>\n",
       "    <tr>\n",
       "      <th>3</th>\n",
       "      <td>Flash Loan Attack</td>\n",
       "      <td>validation</td>\n",
       "      <td>5</td>\n",
       "      <td>16</td>\n",
       "      <td>513</td>\n",
       "      <td>25873</td>\n",
       "      <td>2</td>\n",
       "      <td>0.888889</td>\n",
       "      <td>0.030246</td>\n",
       "    </tr>\n",
       "    <tr>\n",
       "      <th>4</th>\n",
       "      <td>Phishing</td>\n",
       "      <td>train</td>\n",
       "      <td>16</td>\n",
       "      <td>1</td>\n",
       "      <td>390</td>\n",
       "      <td>8793</td>\n",
       "      <td>25</td>\n",
       "      <td>0.038462</td>\n",
       "      <td>0.002558</td>\n",
       "    </tr>\n",
       "    <tr>\n",
       "      <th>5</th>\n",
       "      <td>Phishing</td>\n",
       "      <td>validation</td>\n",
       "      <td>5</td>\n",
       "      <td>7</td>\n",
       "      <td>7</td>\n",
       "      <td>239</td>\n",
       "      <td>13</td>\n",
       "      <td>0.350000</td>\n",
       "      <td>0.500000</td>\n",
       "    </tr>\n",
       "    <tr>\n",
       "      <th>6</th>\n",
       "      <td>Price Manupilation</td>\n",
       "      <td>train</td>\n",
       "      <td>5</td>\n",
       "      <td>5</td>\n",
       "      <td>27</td>\n",
       "      <td>631</td>\n",
       "      <td>0</td>\n",
       "      <td>1.000000</td>\n",
       "      <td>0.156250</td>\n",
       "    </tr>\n",
       "    <tr>\n",
       "      <th>7</th>\n",
       "      <td>Price Manupilation</td>\n",
       "      <td>validation</td>\n",
       "      <td>1</td>\n",
       "      <td>1</td>\n",
       "      <td>1</td>\n",
       "      <td>595</td>\n",
       "      <td>0</td>\n",
       "      <td>1.000000</td>\n",
       "      <td>0.500000</td>\n",
       "    </tr>\n",
       "    <tr>\n",
       "      <th>8</th>\n",
       "      <td>Rug pull</td>\n",
       "      <td>train</td>\n",
       "      <td>25</td>\n",
       "      <td>172</td>\n",
       "      <td>5628</td>\n",
       "      <td>50473</td>\n",
       "      <td>141</td>\n",
       "      <td>0.549521</td>\n",
       "      <td>0.029655</td>\n",
       "    </tr>\n",
       "    <tr>\n",
       "      <th>9</th>\n",
       "      <td>Rug pull</td>\n",
       "      <td>validation</td>\n",
       "      <td>6</td>\n",
       "      <td>2</td>\n",
       "      <td>616</td>\n",
       "      <td>11211</td>\n",
       "      <td>20</td>\n",
       "      <td>0.090909</td>\n",
       "      <td>0.003236</td>\n",
       "    </tr>\n",
       "  </tbody>\n",
       "</table>\n",
       "</div>"
      ],
      "text/plain": [
       "         exploit_type    exp_part  files    tp     fp      tn   fn    recall  \\\n",
       "0      Access Control       train     54  1208  33232  357636  100  0.923547   \n",
       "1      Access Control  validation     11   111   2235   57225   23  0.828358   \n",
       "2   Flash Loan Attack       train     18     4   5654   54416   15  0.210526   \n",
       "3   Flash Loan Attack  validation      5    16    513   25873    2  0.888889   \n",
       "4            Phishing       train     16     1    390    8793   25  0.038462   \n",
       "5            Phishing  validation      5     7      7     239   13  0.350000   \n",
       "6  Price Manupilation       train      5     5     27     631    0  1.000000   \n",
       "7  Price Manupilation  validation      1     1      1     595    0  1.000000   \n",
       "8            Rug pull       train     25   172   5628   50473  141  0.549521   \n",
       "9            Rug pull  validation      6     2    616   11211   20  0.090909   \n",
       "\n",
       "   precision  \n",
       "0   0.035075  \n",
       "1   0.047315  \n",
       "2   0.000707  \n",
       "3   0.030246  \n",
       "4   0.002558  \n",
       "5   0.500000  \n",
       "6   0.156250  \n",
       "7   0.500000  \n",
       "8   0.029655  \n",
       "9   0.003236  "
      ]
     },
     "execution_count": 26,
     "metadata": {},
     "output_type": "execute_result"
    }
   ],
   "source": [
    "exploit_report"
   ]
  },
  {
   "cell_type": "code",
   "execution_count": 27,
   "metadata": {},
   "outputs": [
    {
     "data": {
      "text/plain": [
       "exp_part\n",
       "train         0.440678\n",
       "validation    0.571429\n",
       "Name: catch_any, dtype: float64"
      ]
     },
     "execution_count": 27,
     "metadata": {},
     "output_type": "execute_result"
    }
   ],
   "source": [
    "file_report.groupby(\"exp_part\")[\"catch_any\"].mean()"
   ]
  }
 ],
 "metadata": {
  "instance_type": "ml.m5.xlarge",
  "kernelspec": {
   "display_name": "cyvers",
   "language": "python",
   "name": "python3"
  },
  "language_info": {
   "codemirror_mode": {
    "name": "ipython",
    "version": 3
   },
   "file_extension": ".py",
   "mimetype": "text/x-python",
   "name": "python",
   "nbconvert_exporter": "python",
   "pygments_lexer": "ipython3",
   "version": "3.10.6"
  },
  "vscode": {
   "interpreter": {
    "hash": "c52e82a535f873ccdbbc514f272df126dd80566b4218920d349d6cfdddfda4b2"
   }
  }
 },
 "nbformat": 4,
 "nbformat_minor": 4
}
