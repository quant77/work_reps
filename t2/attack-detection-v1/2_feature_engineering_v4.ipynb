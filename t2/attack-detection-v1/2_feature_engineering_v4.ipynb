{
 "cells": [
  {
   "cell_type": "code",
   "execution_count": null,
   "metadata": {
    "tags": []
   },
   "outputs": [],
   "source": [
    "import pandas as pd"
   ]
  },
  {
   "cell_type": "code",
   "execution_count": null,
   "metadata": {
    "tags": []
   },
   "outputs": [],
   "source": [
    "cases = pd.read_csv(\"V4_3.csv\")#pd.read_csv(\"Validated_V0_Desriptions.csv\")"
   ]
  },
  {
   "cell_type": "code",
   "execution_count": null,
   "metadata": {
    "tags": []
   },
   "outputs": [],
   "source": [
    "data = pd.read_csv(\"data/raw_data_new_.csv\", parse_dates=[\"block_time\"])"
   ]
  },
  {
   "cell_type": "code",
   "execution_count": null,
   "metadata": {
    "tags": []
   },
   "outputs": [],
   "source": [
    "data.head()"
   ]
  },
  {
   "cell_type": "code",
   "execution_count": null,
   "metadata": {},
   "outputs": [],
   "source": [
    "#data['amount_usd']\n",
    "#examinations of data integrity, check if data is corrupt from current load\n",
    "#data[(data['amount_usd'].isnull()) & (data['total_balance_usd'] ==0 ) & (data['current_token_balance'] ==0 ) & (data['current_token_to_usd'] ==0 ) & (data['current_token_balance_usd'] ==0 )].to_csv('empty_amount_usd.csv')\n",
    "\t\t\t"
   ]
  },
  {
   "cell_type": "code",
   "execution_count": null,
   "metadata": {},
   "outputs": [],
   "source": []
  },
  {
   "cell_type": "code",
   "execution_count": null,
   "metadata": {},
   "outputs": [],
   "source": [
    "df = data.groupby(['file_name'])['label'].sum().reset_index(name = 'n_attacks')  \n",
    "df.loc[df['n_attacks'] == 1, 'sngl_mlt'] = 'single'\n",
    "df.loc[df['n_attacks'] > 1, 'sngl_mlt'] = 'multi'\n",
    "df = df[['file_name' , 'sngl_mlt']]"
   ]
  },
  {
   "cell_type": "code",
   "execution_count": null,
   "metadata": {},
   "outputs": [],
   "source": [
    "data.columns"
   ]
  },
  {
   "cell_type": "code",
   "execution_count": null,
   "metadata": {},
   "outputs": [],
   "source": []
  },
  {
   "cell_type": "code",
   "execution_count": null,
   "metadata": {
    "tags": []
   },
   "outputs": [],
   "source": [
    "#case_split = cases.loc[:, [\"File Names\", \"train/test splits\"]]\n",
    "#case_split.columns = [\"file_name\", \"experiment_part\"]\n",
    "#case_split[\"file_name\"] += \".csv\"\n",
    "\n",
    "\n",
    "case_split = cases.loc[:, [\"File Names\", \"train/test splits\"]]#cases.loc[:, [\"File Names\", \"train/test splits\"]]\n",
    "case_split.columns = [\"file_name\", \"experiment_part\"]\n",
    "case_split[\"file_name\"] += \".csv\"\n",
    "case_split[\"file_name\"] = 'Balance_V4/' + case_split['file_name'].astype(str)#case_split[\"file_name\"] = 'V3/' + case_split['file_name'].astype(str)"
   ]
  },
  {
   "cell_type": "code",
   "execution_count": null,
   "metadata": {},
   "outputs": [],
   "source": [
    "data.shape"
   ]
  },
  {
   "cell_type": "code",
   "execution_count": null,
   "metadata": {
    "tags": []
   },
   "outputs": [],
   "source": [
    "data = data.merge(case_split)"
   ]
  },
  {
   "cell_type": "code",
   "execution_count": null,
   "metadata": {},
   "outputs": [],
   "source": [
    "data.shape"
   ]
  },
  {
   "cell_type": "code",
   "execution_count": null,
   "metadata": {},
   "outputs": [],
   "source": []
  },
  {
   "cell_type": "code",
   "execution_count": null,
   "metadata": {},
   "outputs": [],
   "source": [
    "###  data = data.merge(df)  #### <<--- df = multi/single"
   ]
  },
  {
   "cell_type": "code",
   "execution_count": null,
   "metadata": {},
   "outputs": [],
   "source": [
    "data.shape"
   ]
  },
  {
   "cell_type": "code",
   "execution_count": null,
   "metadata": {
    "tags": []
   },
   "outputs": [],
   "source": [
    "data[\"experiment_part\"].value_counts()"
   ]
  },
  {
   "cell_type": "code",
   "execution_count": null,
   "metadata": {},
   "outputs": [],
   "source": [
    "#data['sngl_mlt'].value_counts()"
   ]
  },
  {
   "cell_type": "code",
   "execution_count": null,
   "metadata": {},
   "outputs": [],
   "source": [
    "data"
   ]
  },
  {
   "cell_type": "markdown",
   "metadata": {},
   "source": [
    "## Configure featrure engineering"
   ]
  },
  {
   "cell_type": "code",
   "execution_count": null,
   "metadata": {
    "tags": []
   },
   "outputs": [],
   "source": [
    "from cyvers_ai_ds.features import AssetCentricFEPipeline\n",
    "from cyvers_ai_ds.features.transaction import DEFAULT_AGG_LIST"
   ]
  },
  {
   "cell_type": "code",
   "execution_count": null,
   "metadata": {
    "tags": []
   },
   "outputs": [],
   "source": [
    "pipe = AssetCentricFEPipeline()"
   ]
  },
  {
   "cell_type": "code",
   "execution_count": null,
   "metadata": {
    "tags": []
   },
   "outputs": [],
   "source": [
    "out_data = pipe.execute_(data)"
   ]
  },
  {
   "cell_type": "code",
   "execution_count": null,
   "metadata": {
    "tags": []
   },
   "outputs": [],
   "source": [
    "tx_df, asset_df = out_data"
   ]
  },
  {
   "cell_type": "code",
   "execution_count": null,
   "metadata": {},
   "outputs": [],
   "source": []
  },
  {
   "cell_type": "code",
   "execution_count": null,
   "metadata": {},
   "outputs": [],
   "source": [
    "#tx_df['amount_usd']#\n",
    "#tx_df['amount_usd_bal']#tx_df['current_token_balance_usd'] "
   ]
  },
  {
   "cell_type": "code",
   "execution_count": null,
   "metadata": {},
   "outputs": [],
   "source": []
  },
  {
   "cell_type": "code",
   "execution_count": null,
   "metadata": {
    "tags": []
   },
   "outputs": [],
   "source": [
    "tx_df.shape"
   ]
  },
  {
   "cell_type": "code",
   "execution_count": null,
   "metadata": {
    "tags": []
   },
   "outputs": [],
   "source": [
    "tx_df.columns"
   ]
  },
  {
   "cell_type": "code",
   "execution_count": null,
   "metadata": {
    "tags": []
   },
   "outputs": [],
   "source": [
    "tx_metadata = data.loc[\n",
    "    :, [\"transaction_id\", \"file_name\", \"experiment_part\"]#, \"sngl_mlt\"]\n",
    "].drop_duplicates()"
   ]
  },
  {
   "cell_type": "code",
   "execution_count": null,
   "metadata": {
    "tags": []
   },
   "outputs": [],
   "source": [
    "tx_metadata.shape"
   ]
  },
  {
   "cell_type": "code",
   "execution_count": null,
   "metadata": {
    "tags": []
   },
   "outputs": [],
   "source": [
    "tx_df = tx_df.merge(tx_metadata)"
   ]
  },
  {
   "cell_type": "code",
   "execution_count": null,
   "metadata": {
    "tags": []
   },
   "outputs": [],
   "source": [
    "tx_df.shape"
   ]
  },
  {
   "cell_type": "code",
   "execution_count": null,
   "metadata": {
    "tags": []
   },
   "outputs": [],
   "source": [
    "tx_df[\"experiment_part\"].value_counts()\n"
   ]
  },
  {
   "cell_type": "code",
   "execution_count": null,
   "metadata": {},
   "outputs": [],
   "source": [
    "### check how rations differ for fraud/non-fraud transactions per file\n",
    "df1 = tx_df[tx_df['label'] == 1][['file_name' , 'amount_usd_bal']].groupby(['file_name']).mean().reset_index()#['amount_usd_bal'].mean() , tx_df[tx_df['label'] == 0]['amount_usd_bal'].mean()\n",
    "df0 = tx_df[tx_df['label'] == 0][['file_name' , 'amount_usd_bal']].groupby(['file_name']).mean().reset_index()\n",
    "\n",
    "df1.rename(columns={'amount_usd_bal': 'fraud'}, inplace=True); df0.rename(columns={'amount_usd_bal': 'nfraud'}, inplace=True)\n",
    "df_r = df1.merge(df0)#.to_csv('balance_ratios.csv')#df1 , df0\n",
    "print(df_r)\n",
    "#df_r.to_csv('balance_ratios_.csv')"
   ]
  },
  {
   "cell_type": "code",
   "execution_count": null,
   "metadata": {},
   "outputs": [],
   "source": []
  },
  {
   "cell_type": "code",
   "execution_count": null,
   "metadata": {},
   "outputs": [],
   "source": []
  },
  {
   "cell_type": "code",
   "execution_count": null,
   "metadata": {},
   "outputs": [],
   "source": [
    "###overall ratios for fraud/non-fraud trx\n",
    "tx_df[tx_df['label'] == 1]['amount_usd_bal'].mean() , tx_df[tx_df['label'] == 0]['amount_usd_bal'].mean()"
   ]
  },
  {
   "cell_type": "code",
   "execution_count": null,
   "metadata": {},
   "outputs": [],
   "source": [
    "#tx_df[\"sngl_mlt\"].value_counts()\n"
   ]
  },
  {
   "cell_type": "code",
   "execution_count": null,
   "metadata": {},
   "outputs": [],
   "source": [
    "tx_df['file_name'].unique().shape"
   ]
  },
  {
   "cell_type": "code",
   "execution_count": null,
   "metadata": {
    "tags": []
   },
   "outputs": [],
   "source": [
    "tx_df.loc[tx_df[\"experiment_part\"] == \"Train\", :].to_csv(\n",
    "    \"data/train_data_b1.csv\", index=False\n",
    ")\n",
    "tx_df.loc[tx_df[\"experiment_part\"] == \"Validation\", :].to_csv(\n",
    "    \"data/validation_data_b1.csv\", index=False\n",
    ")\n",
    "tx_df.loc[tx_df[\"experiment_part\"] == \"Test\", :].to_csv(\n",
    "    \"data/test_data_b1.csv\", index=False\n",
    ")"
   ]
  },
  {
   "attachments": {},
   "cell_type": "markdown",
   "metadata": {},
   "source": [
    "Back up data to s3"
   ]
  },
  {
   "cell_type": "code",
   "execution_count": null,
   "metadata": {},
   "outputs": [],
   "source": [
    "from utils import MODEL_NAME\n",
    "from utils.s3 import MODELS_BUCKET\n",
    "import boto3"
   ]
  },
  {
   "cell_type": "code",
   "execution_count": null,
   "metadata": {},
   "outputs": [],
   "source": [
    "#don't push the data as of yet\n",
    "bucket = boto3.resource('s3').Bucket(MODELS_BUCKET)\n",
    "bucket.upload_file('data/train_data.csv', MODEL_NAME + '/data/train_data.csv')\n",
    "bucket.upload_file('data/validation_data.csv', MODEL_NAME + '/data/validation_data.csv')\n",
    "bucket.upload_file('data/test_data.csv', MODEL_NAME + '/data/test_data.csv')"
   ]
  }
 ],
 "metadata": {
  "instance_type": "ml.m5.xlarge",
  "kernelspec": {
   "display_name": "Python 3.10.9 ('venv': venv)",
   "language": "python",
   "name": "python3"
  },
  "language_info": {
   "codemirror_mode": {
    "name": "ipython",
    "version": 3
   },
   "file_extension": ".py",
   "mimetype": "text/x-python",
   "name": "python",
   "nbconvert_exporter": "python",
   "pygments_lexer": "ipython3",
   "version": "3.10.9"
  },
  "vscode": {
   "interpreter": {
    "hash": "1079cffce8acb24900d943b846c8edd8317bf787e482f9cf800cc5ac00a69054"
   }
  }
 },
 "nbformat": 4,
 "nbformat_minor": 4
}
