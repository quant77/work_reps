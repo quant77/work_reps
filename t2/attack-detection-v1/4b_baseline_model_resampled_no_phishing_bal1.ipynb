{
 "cells": [
  {
   "cell_type": "markdown",
   "metadata": {},
   "source": [
    "# Baseline models on resampled data"
   ]
  },
  {
   "cell_type": "code",
   "execution_count": null,
   "metadata": {
    "tags": []
   },
   "outputs": [],
   "source": [
    "import pickle\n",
    "\n",
    "import numpy as np\n",
    "import pandas as pd\n",
    "\n",
    "import matplotlib.pyplot as plt\n",
    "import seaborn as sns\n",
    "\n",
    "import boto3\n",
    "\n",
    "from sklearn.feature_selection import mutual_info_classif\n",
    "from sklearn.linear_model import LogisticRegression\n",
    "from sklearn.ensemble import RandomForestClassifier, GradientBoostingClassifier\n",
    "from sklearn.svm import SVC\n",
    "from sklearn.naive_bayes import GaussianNB\n",
    "from sklearn.tree import DecisionTreeClassifier\n",
    "\n",
    "\n",
    "import scikitplot as skplt\n",
    "\n",
    "import xgboost as xgb\n",
    "\n",
    "from utils.evaluation import evaluate_model\n",
    "from utils.report import report_by_sections\n",
    "from utils.plots import plot_case"
   ]
  },
  {
   "cell_type": "code",
   "execution_count": null,
   "metadata": {
    "tags": []
   },
   "outputs": [],
   "source": [
    "train_data = pd.read_csv(\"data/train_data_b1.csv\", parse_dates=[\"block_time\"])"
   ]
  },
  {
   "cell_type": "code",
   "execution_count": null,
   "metadata": {
    "tags": []
   },
   "outputs": [],
   "source": [
    "train_data.shape"
   ]
  },
  {
   "cell_type": "code",
   "execution_count": null,
   "metadata": {},
   "outputs": [],
   "source": []
  },
  {
   "cell_type": "code",
   "execution_count": null,
   "metadata": {
    "tags": []
   },
   "outputs": [],
   "source": [
    "#features = [f for f in train_data.columns]#[f for f in train_data.columns if f.endswith(\"_log_to_median_ratio\")]\n",
    "features = [f for f in train_data.columns if f.endswith(\"_log_to_median_ratio\") or f.endswith(\"_bal\")]"
   ]
  },
  {
   "cell_type": "code",
   "execution_count": null,
   "metadata": {
    "tags": []
   },
   "outputs": [],
   "source": [
    "len(features)\n"
   ]
  },
  {
   "cell_type": "code",
   "execution_count": null,
   "metadata": {},
   "outputs": [],
   "source": [
    "import os\n",
    "os.getcwd()"
   ]
  },
  {
   "cell_type": "code",
   "execution_count": null,
   "metadata": {
    "tags": []
   },
   "outputs": [],
   "source": [
    "#cases = pd.read_csv(\"Validated_V0_Desriptions.csv\").rename(\n",
    "#    {\"File Names\": \"file_name\", \"Exploit Types\": \"exploit_type\"}, axis=1\n",
    "#)\n",
    "cases = pd.read_csv(\"V4_2.csv\").rename(\n",
    "    {\"File Names\": \"file_name\", \"Exploit Types\": \"exploit_type\"}, axis=1\n",
    ")\n",
    "cases[\"file_name\"] += \".csv\"\n",
    "cases[\"file_name\"] = 'Balance_V4/' + cases['file_name'].astype(str)#cases[\"file_name\"] = 'V3/' + cases['file_name'].astype(str)\n",
    "cases = cases.loc[:, [\"file_name\", \"exploit_type\", \"train/test splits\"]]#cases = cases.loc[:, [\"file_name\", \"exploit_type\", \"Minimum Date\", \"train/test splits\"]]#\n",
    "#cases = cases.loc[:, [\"file_name\", \"exploit_type\", \"Minimum Time\", \"train/test splits\", \"Attack Link\"]]"
   ]
  },
  {
   "cell_type": "code",
   "execution_count": null,
   "metadata": {
    "tags": []
   },
   "outputs": [],
   "source": [
    "cases[\"exploit_type\"].value_counts()"
   ]
  },
  {
   "cell_type": "code",
   "execution_count": null,
   "metadata": {
    "tags": []
   },
   "outputs": [],
   "source": [
    "phishing_files = list(cases.loc[cases[\"exploit_type\"] == \"Phishing\", \"file_name\"])"
   ]
  },
  {
   "cell_type": "markdown",
   "metadata": {},
   "source": [
    "Mark transactions that we would not like the model to alert on"
   ]
  },
  {
   "cell_type": "code",
   "execution_count": null,
   "metadata": {
    "tags": []
   },
   "outputs": [],
   "source": [
    "def should_not_alert(df):\n",
    "    return (df[\"label\"] == 1) & (\n",
    "        (df[\"amount_usd_tx_sum\"] < 1)  # amount under $1\n",
    "        | (df[\"file_name\"].isin(phishing_files))  # phishing\n",
    "    )"
   ]
  },
  {
   "cell_type": "code",
   "execution_count": null,
   "metadata": {
    "tags": []
   },
   "outputs": [],
   "source": [
    "train_data.shape"
   ]
  },
  {
   "cell_type": "code",
   "execution_count": null,
   "metadata": {
    "tags": []
   },
   "outputs": [],
   "source": [
    "train_data[\"no_alert\"] = should_not_alert(train_data)"
   ]
  },
  {
   "cell_type": "code",
   "execution_count": null,
   "metadata": {},
   "outputs": [],
   "source": [
    "train_data[\"no_alert\"].unique()"
   ]
  },
  {
   "cell_type": "code",
   "execution_count": null,
   "metadata": {
    "tags": []
   },
   "outputs": [],
   "source": [
    "model_train_data = train_data.loc[\n",
    "    ~train_data[\"no_alert\"],\n",
    "    [\"file_name\", \"transaction_id\", \"block_time\"] + features + [\"label\"],\n",
    "].fillna(0)"
   ]
  },
  {
   "cell_type": "code",
   "execution_count": null,
   "metadata": {
    "tags": []
   },
   "outputs": [],
   "source": [
    "model_train_data.shape"
   ]
  },
  {
   "cell_type": "code",
   "execution_count": null,
   "metadata": {
    "tags": []
   },
   "outputs": [],
   "source": [
    "validation_data = pd.read_csv(\"data/validation_data_b1.csv\", parse_dates=[\"block_time\"])"
   ]
  },
  {
   "cell_type": "code",
   "execution_count": null,
   "metadata": {},
   "outputs": [],
   "source": [
    "validation_data['file_name'].unique().shape# , validation_data[\"no_alert\"].unique()"
   ]
  },
  {
   "cell_type": "code",
   "execution_count": null,
   "metadata": {},
   "outputs": [],
   "source": [
    "#fake_data = pd.read_csv(\"data/fake_data.csv\", parse_dates=[\"block_time\"])"
   ]
  },
  {
   "cell_type": "code",
   "execution_count": null,
   "metadata": {
    "tags": []
   },
   "outputs": [],
   "source": [
    "validation_data[\"no_alert\"] = should_not_alert(validation_data)"
   ]
  },
  {
   "cell_type": "code",
   "execution_count": null,
   "metadata": {},
   "outputs": [],
   "source": [
    "validation_data[\"no_alert\"].unique()"
   ]
  },
  {
   "cell_type": "markdown",
   "metadata": {
    "tags": []
   },
   "source": [
    "## 1 Create train sample with balanced tx count between cases"
   ]
  },
  {
   "cell_type": "code",
   "execution_count": null,
   "metadata": {
    "tags": []
   },
   "outputs": [],
   "source": [
    "tx_count = train_data.groupby(\"file_name\")[\"transaction_id\"].nunique()"
   ]
  },
  {
   "cell_type": "markdown",
   "metadata": {},
   "source": [
    "Exclude cases with very few transactions"
   ]
  },
  {
   "cell_type": "code",
   "execution_count": null,
   "metadata": {
    "tags": []
   },
   "outputs": [],
   "source": [
    "tx_count[tx_count < 20]"
   ]
  },
  {
   "cell_type": "code",
   "execution_count": null,
   "metadata": {
    "tags": []
   },
   "outputs": [],
   "source": [
    "files_to_exclude = list(tx_count[tx_count < 20].index)\n",
    "files_to_exclude"
   ]
  },
  {
   "cell_type": "code",
   "execution_count": null,
   "metadata": {
    "tags": []
   },
   "outputs": [],
   "source": [
    "files_to_exclude += phishing_files"
   ]
  },
  {
   "cell_type": "code",
   "execution_count": null,
   "metadata": {
    "tags": []
   },
   "outputs": [],
   "source": [
    "file_names = train_data[\"file_name\"].drop_duplicates()"
   ]
  },
  {
   "cell_type": "code",
   "execution_count": null,
   "metadata": {},
   "outputs": [],
   "source": []
  },
  {
   "cell_type": "code",
   "execution_count": null,
   "metadata": {},
   "outputs": [],
   "source": [
    "model_train_data = model_train_data.loc[:,~model_train_data.T.duplicated(keep='first')]\n"
   ]
  },
  {
   "cell_type": "code",
   "execution_count": null,
   "metadata": {
    "tags": []
   },
   "outputs": [],
   "source": [
    "target_fer_file = 50\n",
    "ref_per_file = 300\n",
    "samples = []\n",
    "np.random.seed(1234)\n",
    "for f in file_names:\n",
    "    if f not in files_to_exclude:\n",
    "        df = model_train_data.loc[model_train_data[\"file_name\"] == f, :]\n",
    "        samples.append(\n",
    "            df.loc[df[\"label\"] == 1, :].sample(target_fer_file, replace=True)\n",
    "        )\n",
    "        samples.append(df.loc[df[\"label\"] == 0, :].sample(ref_per_file, replace=True))\n",
    "train_sample = pd.concat(samples).reset_index(drop=True)"
   ]
  },
  {
   "cell_type": "code",
   "execution_count": null,
   "metadata": {
    "tags": []
   },
   "outputs": [],
   "source": [
    "train_sample.shape"
   ]
  },
  {
   "cell_type": "code",
   "execution_count": null,
   "metadata": {
    "tags": []
   },
   "outputs": [],
   "source": [
    "train_sample[\"label\"].value_counts()"
   ]
  },
  {
   "cell_type": "markdown",
   "metadata": {},
   "source": [
    "## 2 Simple feature selection"
   ]
  },
  {
   "cell_type": "code",
   "execution_count": null,
   "metadata": {
    "tags": []
   },
   "outputs": [],
   "source": [
    "mu_score = mutual_info_classif(\n",
    "    train_sample.loc[:, features].fillna(0), train_sample[\"label\"], random_state=1234\n",
    ")"
   ]
  },
  {
   "cell_type": "code",
   "execution_count": null,
   "metadata": {
    "tags": []
   },
   "outputs": [],
   "source": [
    "mu_score_df = pd.DataFrame(\n",
    "    zip(features, mu_score), columns=[\"feature\", \"score\"]\n",
    ").sort_values(\"score\", ascending=False)"
   ]
  },
  {
   "cell_type": "code",
   "execution_count": null,
   "metadata": {
    "tags": []
   },
   "outputs": [],
   "source": [
    "mu_score_df.to_csv(\"mu_score_resampled_no_phishing.csv\", index=False)"
   ]
  },
  {
   "cell_type": "code",
   "execution_count": null,
   "metadata": {
    "tags": []
   },
   "outputs": [],
   "source": [
    "train_sample.shape"
   ]
  },
  {
   "cell_type": "code",
   "execution_count": null,
   "metadata": {
    "tags": []
   },
   "outputs": [],
   "source": [
    "selected = [\n",
    "    \"snd_rcv_amt_usd_sum_tx_mean_log_to_median_ratio\",\n",
    "    \"snd_rcv_mean_amt_usd_tx_median_log_to_median_ratio\",\n",
    "    \"amount_usd_tx_sum_log_to_median_ratio\",\n",
    "    \"snd_rcv_life_time_sec_tx_min_log_to_median_ratio\",\n",
    "    \"snd_rcv_mean_time_diff_sec_tx_sum_log_to_median_ratio\",\n",
    "    \"snd_rcv_tx_cnt_tx_sum_log_to_median_ratio\",\n",
    "    \"snd_rcv_time_diff_sec_tx_mean_log_to_median_ratio\",\n",
    "    \"snd_rcv_tkn_type_cnt_tx_mean_log_to_median_ratio\",\n",
    "    \"amount_usd_bal\"\n",
    "    \n",
    "    \n",
    "]\n",
    "\n"
   ]
  },
  {
   "cell_type": "code",
   "execution_count": null,
   "metadata": {},
   "outputs": [],
   "source": [
    "'''    \n",
    "    'snd_rcv_amt_usd_sum_tx_min_bal', 'snd_rcv_amt_usd_sum_tx_max_bal', \n",
    "    'snd_rcv_amt_usd_sum_tx_median_bal', 'snd_rcv_amt_usd_sum_tx_mean_bal', \n",
    "    'snd_rcv_amt_usd_sum_tx_std_bal', 'snd_rcv_amt_usd_sum_tx_sum_bal', \n",
    "    'snd_rcv_mean_amt_usd_tx_min_bal', 'snd_rcv_mean_amt_usd_tx_max_bal',\n",
    "     'snd_rcv_mean_amt_usd_tx_median_bal', 'snd_rcv_mean_amt_usd_tx_mean_bal', \n",
    "     'snd_rcv_mean_amt_usd_tx_std_bal', 'snd_rcv_mean_amt_usd_tx_sum_bal', \n",
    "     'amount_usd_tx_min_bal', 'amount_usd_tx_max_bal', \n",
    "     'amount_usd_tx_median_bal', 'amount_usd_tx_mean_bal', \n",
    "     'amount_usd_tx_std_bal', 'amount_usd_tx_sum_bal'\n",
    "'''"
   ]
  },
  {
   "cell_type": "code",
   "execution_count": null,
   "metadata": {},
   "outputs": [],
   "source": []
  },
  {
   "cell_type": "markdown",
   "metadata": {},
   "source": [
    "## 3 Model training and evaluation"
   ]
  },
  {
   "cell_type": "code",
   "execution_count": null,
   "metadata": {
    "tags": []
   },
   "outputs": [],
   "source": [
    "X = train_sample.loc[:, selected].fillna(0)\n",
    "y = train_sample[\"label\"]\n",
    "# class_weight = {0: 1, 1: 3}\n",
    "# model = LogisticRegression(class_weight=class_weight).fit(X, y)\n",
    "# model = RandomForestClassifier(\n",
    "#    max_depth=3,\n",
    "#    n_estimators=100,\n",
    "#    class_weight=class_weight\n",
    "# ).fit(X, y)\n",
    "model = GradientBoostingClassifier(n_estimators=50, max_depth=2, random_state=1234).fit(\n",
    "    X, y\n",
    ")\n",
    "# model = SVC(class_weight='balanced').fit(X, y)\n",
    "# model = GaussianNB().fit(X, y)\n",
    "# dtrain = xgb.DMatrix(X, y)\n",
    "# param = {'max_depth': 3, 'eta': .2, 'objective': 'binary:logistic'}\n",
    "# model = xgb.train(param, dtrain)\n",
    "# model = DecisionTreeClassifier(max_depth=4).fit(X, y)"
   ]
  },
  {
   "cell_type": "code",
   "execution_count": null,
   "metadata": {
    "tags": []
   },
   "outputs": [],
   "source": [
    "train_pred_label = model.predict(X)\n",
    "# train_pred_prob = model.predict(dtrain)\n",
    "# train_pred_label = (train_pred_prob > 0.5).astype(int)\n",
    "train_true_label = train_sample[\"label\"]"
   ]
  },
  {
   "cell_type": "code",
   "execution_count": null,
   "metadata": {
    "tags": []
   },
   "outputs": [],
   "source": [
    "train_metrics = evaluate_model(\n",
    "    train_true_label, train_pred_label, confusion_title=\"train\"\n",
    ")\n",
    "print(\n",
    "    f\"recall: {train_metrics['recall']}, \"\n",
    "    + f\"precision: {train_metrics['precision']}, \"\n",
    "    + f\"specificity: {train_metrics['specificity']}\"\n",
    ")"
   ]
  },
  {
   "cell_type": "code",
   "execution_count": null,
   "metadata": {},
   "outputs": [],
   "source": [
    "#validation_model_data['file_name']\n",
    "validation_data[\"no_alert\"].unique()"
   ]
  },
  {
   "cell_type": "code",
   "execution_count": null,
   "metadata": {},
   "outputs": [],
   "source": [
    "#validation_data = validation_data.loc[:,~validation_data.T.duplicated(keep='first')]\n"
   ]
  },
  {
   "cell_type": "code",
   "execution_count": null,
   "metadata": {
    "tags": []
   },
   "outputs": [],
   "source": [
    "validation_model_data = validation_data.loc[\n",
    "    :, [\"file_name\", \"transaction_id\", \"block_time\"] + selected + [\"label\", \"no_alert\"]\n",
    "].fillna(0)\n",
    "clean_val_model_data = validation_model_data.loc[~validation_model_data[\"no_alert\"], :]"
   ]
  },
  {
   "cell_type": "code",
   "execution_count": null,
   "metadata": {
    "tags": []
   },
   "outputs": [],
   "source": [
    "validation_model_data[\"no_alert\"].value_counts()"
   ]
  },
  {
   "cell_type": "code",
   "execution_count": null,
   "metadata": {
    "tags": []
   },
   "outputs": [],
   "source": [
    "validation_model_data.shape"
   ]
  },
  {
   "cell_type": "code",
   "execution_count": null,
   "metadata": {
    "tags": []
   },
   "outputs": [],
   "source": [
    "clean_val_model_data.shape"
   ]
  },
  {
   "cell_type": "code",
   "execution_count": null,
   "metadata": {
    "tags": []
   },
   "outputs": [],
   "source": [
    "# dvalidation = xgb.DMatrix(validation_model_data.loc[:, selected], validation_model_data['label'])\n",
    "# val_pred_prob = model.predict(dvalidatio)\n",
    "# val_pred_label = (val_pred_prob > 0.5).astype(int)\n",
    "# val_pred_label = model.predict(validation_model_data.loc[:, selected].fillna(0))\n",
    "thr = 0.55\n",
    "val_pred_prob = model.predict_proba(validation_model_data.loc[:, selected].fillna(0))\n",
    "val_pred_label = (val_pred_prob[:, 1] > thr).astype(int)\n",
    "# clean_val_pred_label = model.predict(clean_val_model_data.loc[:, selected].fillna(0))\n",
    "clean_val_pred_prob = model.predict_proba(\n",
    "    clean_val_model_data.loc[:, selected].fillna(0)\n",
    ")\n",
    "clean_val_pred_label = (clean_val_pred_prob[:, 1] > thr).astype(int)"
   ]
  },
  {
   "cell_type": "code",
   "execution_count": null,
   "metadata": {
    "tags": []
   },
   "outputs": [],
   "source": [
    "# val_pred_label = model.predict(validation_model_data.loc[:, selected])\n",
    "val_true_label = validation_model_data[\"label\"]\n",
    "clean_val_true_label = clean_val_model_data[\"label\"]"
   ]
  },
  {
   "cell_type": "code",
   "execution_count": null,
   "metadata": {
    "tags": []
   },
   "outputs": [],
   "source": [
    "val_metrics = evaluate_model(\n",
    "    val_true_label, val_pred_label, confusion_title=\"validation\"\n",
    ")\n",
    "print(\n",
    "    f\"recall: {val_metrics['recall']}, \"\n",
    "    + f\"precision: {val_metrics['precision']}, \"\n",
    "    + f\"specificity: {val_metrics['specificity']}\"\n",
    ")"
   ]
  },
  {
   "cell_type": "code",
   "execution_count": null,
   "metadata": {
    "tags": []
   },
   "outputs": [],
   "source": [
    "clean_val_metrics = evaluate_model(\n",
    "    clean_val_true_label, clean_val_pred_label, confusion_title=\"clean validation\"\n",
    ")\n",
    "print(\n",
    "    f\"recall: {clean_val_metrics['recall']}, \"\n",
    "    + f\"precision: {clean_val_metrics['precision']}, \"\n",
    "    + f\"specificity: {clean_val_metrics['specificity']}\"\n",
    ")"
   ]
  },
  {
   "cell_type": "code",
   "execution_count": null,
   "metadata": {
    "tags": []
   },
   "outputs": [],
   "source": [
    "_ = skplt.metrics.plot_precision_recall(\n",
    "    clean_val_true_label,\n",
    "    clean_val_pred_prob,\n",
    "    title=\"Precision-recall on clean validation set\",\n",
    ")"
   ]
  },
  {
   "cell_type": "markdown",
   "metadata": {},
   "source": [
    "## 4 Report"
   ]
  },
  {
   "cell_type": "code",
   "execution_count": null,
   "metadata": {
    "tags": []
   },
   "outputs": [],
   "source": [
    "if type(model) is LogisticRegression:\n",
    "    model_coefs = (\n",
    "        pd.DataFrame(zip(selected, model.coef_[0]), columns=[\"feature\", \"coef\"])\n",
    "        .sort_values(\"coef\")\n",
    "        .reset_index(drop=True)\n",
    "    )\n",
    "    print(model_coefs)"
   ]
  },
  {
   "cell_type": "code",
   "execution_count": null,
   "metadata": {},
   "outputs": [],
   "source": [
    "if type(model) in {RandomForestClassifier, GradientBoostingClassifier}:\n",
    "    feature_importance = pd.DataFrame(\n",
    "        zip(selected, model.feature_importances_), columns=[\"feature\", \"importance\"]\n",
    "    )\n",
    "    print(feature_importance.sort_values(\"importance\", ascending=False))"
   ]
  },
  {
   "cell_type": "code",
   "execution_count": null,
   "metadata": {},
   "outputs": [],
   "source": [
    "train_pred_prob = model.predict_proba(train_data.loc[:, selected].fillna(0))[:, 1]\n",
    "train_pred_label = (train_pred_prob > thr).astype(int)"
   ]
  },
  {
   "cell_type": "code",
   "execution_count": null,
   "metadata": {},
   "outputs": [],
   "source": []
  },
  {
   "cell_type": "code",
   "execution_count": null,
   "metadata": {
    "tags": []
   },
   "outputs": [],
   "source": [
    "train_results = train_data.loc[:, [\"file_name\", \"label\",\"sngl_mlt\"]].copy()\n",
    "train_results[\"pred_label\"] = train_pred_label\n",
    "train_results[\"exp_part\"] = \"train\""
   ]
  },
  {
   "cell_type": "code",
   "execution_count": null,
   "metadata": {
    "tags": []
   },
   "outputs": [],
   "source": [
    "validation_results = validation_data.loc[:, [\"file_name\", \"label\", \"sngl_mlt\"]]\n",
    "validation_results[\"pred_label\"] = val_pred_label\n",
    "validation_results[\"exp_part\"] = \"validation\""
   ]
  },
  {
   "cell_type": "code",
   "execution_count": null,
   "metadata": {
    "tags": []
   },
   "outputs": [],
   "source": [
    "model_result = pd.concat([train_results, validation_results])"
   ]
  },
  {
   "cell_type": "code",
   "execution_count": null,
   "metadata": {},
   "outputs": [],
   "source": [
    "model_results = cases.merge(model_result)"
   ]
  },
  {
   "cell_type": "code",
   "execution_count": null,
   "metadata": {},
   "outputs": [],
   "source": [
    "model_results"
   ]
  },
  {
   "cell_type": "code",
   "execution_count": null,
   "metadata": {
    "tags": []
   },
   "outputs": [],
   "source": [
    "#file_report, exploit_report = report_by_sections(model_results)\n",
    "file_report, exploit_report, sng_mlt_report = report_by_sections(model_results)"
   ]
  },
  {
   "cell_type": "code",
   "execution_count": null,
   "metadata": {},
   "outputs": [],
   "source": [
    "file_report#exploit_report"
   ]
  },
  {
   "cell_type": "code",
   "execution_count": null,
   "metadata": {},
   "outputs": [],
   "source": [
    "exploit_report"
   ]
  },
  {
   "cell_type": "code",
   "execution_count": null,
   "metadata": {},
   "outputs": [],
   "source": [
    "sng_mlt_report"
   ]
  },
  {
   "cell_type": "code",
   "execution_count": null,
   "metadata": {},
   "outputs": [],
   "source": [
    "file_report.groupby(\"exp_part\")[\"catch_any\"].mean()\n",
    "#exploit_report.groupby(\"exp_part\")[\"recall\"].mean()"
   ]
  },
  {
   "cell_type": "code",
   "execution_count": null,
   "metadata": {},
   "outputs": [],
   "source": [
    "file_report.loc[file_report[\"exploit_type\"] != \"Phishing\", :].groupby(\"exp_part\")[\n",
    "    \"catch_any\"\n",
    "].mean()"
   ]
  },
  {
   "cell_type": "code",
   "execution_count": null,
   "metadata": {},
   "outputs": [],
   "source": [
    "train_data[\"pred_label\"] = train_pred_label\n",
    "validation_data[\"pred_label\"] = val_pred_label"
   ]
  },
  {
   "cell_type": "code",
   "execution_count": null,
   "metadata": {},
   "outputs": [],
   "source": [
    "top_features = list(feature_importance.sort_values(\"importance\")[\"feature\"].tail(3))"
   ]
  },
  {
   "cell_type": "code",
   "execution_count": null,
   "metadata": {},
   "outputs": [],
   "source": [
    "top_features"
   ]
  },
  {
   "cell_type": "code",
   "execution_count": null,
   "metadata": {},
   "outputs": [],
   "source": [
    "#validation_data[validation_data['file_name'] == \"V3/0xhabitat001.csv\"]\n",
    "#validation_data['file_name'].unique()"
   ]
  },
  {
   "cell_type": "code",
   "execution_count": null,
   "metadata": {
    "tags": []
   },
   "outputs": [],
   "source": [
    "fig, axs = plot_case(validation_data, 'V3/Wintermute001.csv', top_features)#plot_case(validation_data, \"V3/0xhabitat001.csv\", top_features)"
   ]
  },
  {
   "cell_type": "code",
   "execution_count": null,
   "metadata": {
    "tags": []
   },
   "outputs": [],
   "source": [
    "model_prefix = \"resampled_no_phishing\"\n",
    "features_rep_table = feature_importance.merge(mu_score_df)"
   ]
  },
  {
   "cell_type": "code",
   "execution_count": null,
   "metadata": {
    "tags": []
   },
   "outputs": [],
   "source": [
    "features_rep_table.to_csv(\"reports/\" + model_prefix + \"/feature_table.csv\", index=False)"
   ]
  },
  {
   "cell_type": "code",
   "execution_count": null,
   "metadata": {
    "tags": []
   },
   "outputs": [],
   "source": [
    "file_report.to_csv(\"reports/\" + model_prefix + \"/file_table.csv\", index=False)"
   ]
  },
  {
   "cell_type": "code",
   "execution_count": null,
   "metadata": {
    "tags": []
   },
   "outputs": [],
   "source": [
    "exploit_report.to_csv(\"reports/\" + model_prefix + \"/exploit_table.csv\", index=False)"
   ]
  },
  {
   "cell_type": "code",
   "execution_count": null,
   "metadata": {},
   "outputs": [],
   "source": [
    "sng_mlt_report.to_csv(\"reports/\" + model_prefix + \"/single_multiple_table.csv\", index=False)"
   ]
  },
  {
   "cell_type": "code",
   "execution_count": null,
   "metadata": {},
   "outputs": [],
   "source": [
    "with open('artifacts/' + model_prefix + '.pkl', 'wb') as f:\n",
    "    pickle.dump(model, f)"
   ]
  },
  {
   "cell_type": "code",
   "execution_count": null,
   "metadata": {},
   "outputs": [],
   "source": [
    "from utils.s3 import MODELS_BUCKET\n",
    "from utils import MODEL_NAME\n",
    "bucket = boto3.resource('s3').Bucket(MODELS_BUCKET)\n",
    "bucket.upload_file('artifacts/' + model_prefix + '.pkl', MODEL_NAME + '/artifacts/' + model_prefix + '.pkl')\n"
   ]
  },
  {
   "cell_type": "code",
   "execution_count": null,
   "metadata": {},
   "outputs": [],
   "source": []
  },
  {
   "cell_type": "code",
   "execution_count": null,
   "metadata": {},
   "outputs": [],
   "source": []
  }
 ],
 "metadata": {
  "instance_type": "ml.m5.xlarge",
  "kernelspec": {
   "display_name": "Python 3.10.9 ('venv': venv)",
   "language": "python",
   "name": "python3"
  },
  "language_info": {
   "codemirror_mode": {
    "name": "ipython",
    "version": 3
   },
   "file_extension": ".py",
   "mimetype": "text/x-python",
   "name": "python",
   "nbconvert_exporter": "python",
   "pygments_lexer": "ipython3",
   "version": "3.10.9"
  },
  "vscode": {
   "interpreter": {
    "hash": "1079cffce8acb24900d943b846c8edd8317bf787e482f9cf800cc5ac00a69054"
   }
  }
 },
 "nbformat": 4,
 "nbformat_minor": 4
}
