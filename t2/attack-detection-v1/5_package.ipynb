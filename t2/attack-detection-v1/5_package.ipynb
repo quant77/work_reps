{
 "cells": [
  {
   "cell_type": "markdown",
   "metadata": {},
   "source": [
    "# Prepare model package for deployment"
   ]
  },
  {
   "cell_type": "code",
   "execution_count": 16,
   "metadata": {},
   "outputs": [],
   "source": [
    "from collections import defaultdict\n",
    "import pickle\n",
    "import re\n",
    "import pandas as pd\n",
    "from cyvers_ai_ds.features import AssetCentricFEPipeline\n",
    "import boto3"
   ]
  },
  {
   "attachments": {},
   "cell_type": "markdown",
   "metadata": {},
   "source": [
    "## 1 Create preprocessor object with required features for the model"
   ]
  },
  {
   "cell_type": "code",
   "execution_count": 2,
   "metadata": {},
   "outputs": [],
   "source": [
    "model_name = 'resampled_no_phishing'"
   ]
  },
  {
   "cell_type": "code",
   "execution_count": 3,
   "metadata": {},
   "outputs": [],
   "source": [
    "selected = [\n",
    "    \"snd_rcv_amt_usd_sum_tx_mean_log_to_median_ratio\",\n",
    "    \"snd_rcv_mean_amt_usd_tx_median_log_to_median_ratio\",\n",
    "    \"amount_usd_tx_sum_log_to_median_ratio\",\n",
    "    \"snd_rcv_life_time_sec_tx_min_log_to_median_ratio\",\n",
    "    \"snd_rcv_mean_time_diff_sec_tx_sum_log_to_median_ratio\",\n",
    "    \"snd_rcv_tx_cnt_tx_sum_log_to_median_ratio\",\n",
    "    \"snd_rcv_time_diff_sec_tx_mean_log_to_median_ratio\",\n",
    "    \"snd_rcv_tkn_type_cnt_tx_mean_log_to_median_ratio\",\n",
    "]"
   ]
  },
  {
   "cell_type": "code",
   "execution_count": 4,
   "metadata": {},
   "outputs": [],
   "source": [
    "tx_agg_list = defaultdict(list)\n",
    "tx_agg_list['block_time'] = ['first']\n",
    "tx_agg_list['sender_id'] = ['first']\n",
    "for s in selected:\n",
    "    f, agg = re.findall('(.+)_tx_(.+)_log', s)[0]\n",
    "    tx_agg_list[f].append(agg)\n",
    "tx_agg_list = list(tx_agg_list.items())"
   ]
  },
  {
   "cell_type": "code",
   "execution_count": 5,
   "metadata": {},
   "outputs": [
    {
     "data": {
      "text/plain": [
       "[('block_time', ['first']),\n",
       " ('sender_id', ['first']),\n",
       " ('snd_rcv_amt_usd_sum', ['mean']),\n",
       " ('snd_rcv_mean_amt_usd', ['median']),\n",
       " ('amount_usd', ['sum']),\n",
       " ('snd_rcv_life_time_sec', ['min']),\n",
       " ('snd_rcv_mean_time_diff_sec', ['sum']),\n",
       " ('snd_rcv_tx_cnt', ['sum']),\n",
       " ('snd_rcv_time_diff_sec', ['mean']),\n",
       " ('snd_rcv_tkn_type_cnt', ['mean'])]"
      ]
     },
     "execution_count": 5,
     "metadata": {},
     "output_type": "execute_result"
    }
   ],
   "source": [
    "tx_agg_list"
   ]
  },
  {
   "cell_type": "code",
   "execution_count": 6,
   "metadata": {},
   "outputs": [],
   "source": [
    "rolling_features = [\n",
    "    s.replace('_log_to_median_ratio', '')\n",
    "    for s in selected\n",
    "]"
   ]
  },
  {
   "cell_type": "code",
   "execution_count": 7,
   "metadata": {},
   "outputs": [],
   "source": [
    "preprocessor = AssetCentricFEPipeline(\n",
    "    tx_agg_list=tx_agg_list,\n",
    "    rolling_features=rolling_features\n",
    ")"
   ]
  },
  {
   "attachments": {},
   "cell_type": "markdown",
   "metadata": {},
   "source": [
    "Test preprocessing and inference"
   ]
  },
  {
   "cell_type": "code",
   "execution_count": 8,
   "metadata": {},
   "outputs": [],
   "source": [
    "raw_data = pd.read_csv('data/raw_data.csv', parse_dates=['block_time'], nrows=1000)"
   ]
  },
  {
   "cell_type": "code",
   "execution_count": 9,
   "metadata": {},
   "outputs": [],
   "source": [
    "tx_data, sender_data = preprocessor.execute(raw_data)"
   ]
  },
  {
   "cell_type": "code",
   "execution_count": 10,
   "metadata": {},
   "outputs": [],
   "source": [
    "with open('artifacts/' + model_name + '.pkl', 'rb') as f:\n",
    "    model = pickle.load(f)"
   ]
  },
  {
   "cell_type": "code",
   "execution_count": 11,
   "metadata": {},
   "outputs": [],
   "source": [
    "pred_labels = model.predict(tx_data.loc[:, selected].fillna(0))"
   ]
  },
  {
   "attachments": {},
   "cell_type": "markdown",
   "metadata": {},
   "source": [
    "## 2 Test and package model instance"
   ]
  },
  {
   "cell_type": "code",
   "execution_count": 12,
   "metadata": {},
   "outputs": [],
   "source": [
    "from cyvers_ai_ds.models.v1 import TimeAmountClassifier"
   ]
  },
  {
   "cell_type": "code",
   "execution_count": 13,
   "metadata": {},
   "outputs": [],
   "source": [
    "model_pipeline = TimeAmountClassifier(\n",
    "    {\n",
    "        'model': model,\n",
    "        'preprocessor': preprocessor\n",
    "    }\n",
    ")"
   ]
  },
  {
   "cell_type": "code",
   "execution_count": 14,
   "metadata": {},
   "outputs": [
    {
     "data": {
      "text/html": [
       "<div>\n",
       "<style scoped>\n",
       "    .dataframe tbody tr th:only-of-type {\n",
       "        vertical-align: middle;\n",
       "    }\n",
       "\n",
       "    .dataframe tbody tr th {\n",
       "        vertical-align: top;\n",
       "    }\n",
       "\n",
       "    .dataframe thead th {\n",
       "        text-align: right;\n",
       "    }\n",
       "</style>\n",
       "<table border=\"1\" class=\"dataframe\">\n",
       "  <thead>\n",
       "    <tr style=\"text-align: right;\">\n",
       "      <th></th>\n",
       "      <th>transaction_id</th>\n",
       "      <th>pred_prob</th>\n",
       "      <th>pred_label</th>\n",
       "    </tr>\n",
       "  </thead>\n",
       "  <tbody>\n",
       "    <tr>\n",
       "      <th>0</th>\n",
       "      <td>0x12efb3a947d2c34bc20cceb797386f9f0c211f340374...</td>\n",
       "      <td>0.024746</td>\n",
       "      <td>0</td>\n",
       "    </tr>\n",
       "    <tr>\n",
       "      <th>1</th>\n",
       "      <td>0x2162f4e376fd15cfb91951d415adfabe6c9c5b5a431c...</td>\n",
       "      <td>0.024746</td>\n",
       "      <td>0</td>\n",
       "    </tr>\n",
       "    <tr>\n",
       "      <th>2</th>\n",
       "      <td>0xa16a83a95d62ed8fe73f1b8dd8daa1ffa0851f2d46c5...</td>\n",
       "      <td>0.024746</td>\n",
       "      <td>0</td>\n",
       "    </tr>\n",
       "    <tr>\n",
       "      <th>3</th>\n",
       "      <td>0x57a5f87de3d4825ed3dd37d3cdb333564fbbf1807141...</td>\n",
       "      <td>0.022359</td>\n",
       "      <td>0</td>\n",
       "    </tr>\n",
       "    <tr>\n",
       "      <th>4</th>\n",
       "      <td>0x5a2c8cb7b78d89e846300dce97cdf97c57d8163a4489...</td>\n",
       "      <td>0.024746</td>\n",
       "      <td>0</td>\n",
       "    </tr>\n",
       "  </tbody>\n",
       "</table>\n",
       "</div>"
      ],
      "text/plain": [
       "                                      transaction_id  pred_prob  pred_label\n",
       "0  0x12efb3a947d2c34bc20cceb797386f9f0c211f340374...   0.024746           0\n",
       "1  0x2162f4e376fd15cfb91951d415adfabe6c9c5b5a431c...   0.024746           0\n",
       "2  0xa16a83a95d62ed8fe73f1b8dd8daa1ffa0851f2d46c5...   0.024746           0\n",
       "3  0x57a5f87de3d4825ed3dd37d3cdb333564fbbf1807141...   0.022359           0\n",
       "4  0x5a2c8cb7b78d89e846300dce97cdf97c57d8163a4489...   0.024746           0"
      ]
     },
     "execution_count": 14,
     "metadata": {},
     "output_type": "execute_result"
    }
   ],
   "source": [
    "result = model_pipeline.infer(raw_data)\n",
    "result.head()"
   ]
  },
  {
   "attachments": {},
   "cell_type": "markdown",
   "metadata": {},
   "source": [
    "Pickle final version for production"
   ]
  },
  {
   "cell_type": "code",
   "execution_count": 15,
   "metadata": {},
   "outputs": [],
   "source": [
    "with open('artifacts/model_pipline.pkl', 'wb') as f:\n",
    "    pickle.dump(model_pipeline, f)"
   ]
  },
  {
   "attachments": {},
   "cell_type": "markdown",
   "metadata": {},
   "source": [
    "Backup in s3"
   ]
  },
  {
   "cell_type": "code",
   "execution_count": 17,
   "metadata": {},
   "outputs": [],
   "source": [
    "from utils.s3 import MODELS_BUCKET\n",
    "from utils import MODEL_NAME\n",
    "bucket = boto3.resource('s3').Bucket(MODELS_BUCKET)\n",
    "bucket.upload_file('artifacts/model_pipline.pkl', MODEL_NAME + 'artifacts/model_pipline.pkl')"
   ]
  }
 ],
 "metadata": {
  "kernelspec": {
   "display_name": "cyvers",
   "language": "python",
   "name": "python3"
  },
  "language_info": {
   "codemirror_mode": {
    "name": "ipython",
    "version": 3
   },
   "file_extension": ".py",
   "mimetype": "text/x-python",
   "name": "python",
   "nbconvert_exporter": "python",
   "pygments_lexer": "ipython3",
   "version": "3.10.6"
  },
  "orig_nbformat": 4,
  "vscode": {
   "interpreter": {
    "hash": "c52e82a535f873ccdbbc514f272df126dd80566b4218920d349d6cfdddfda4b2"
   }
  }
 },
 "nbformat": 4,
 "nbformat_minor": 2
}
