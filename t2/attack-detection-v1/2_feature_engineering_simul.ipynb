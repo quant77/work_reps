{
 "cells": [
  {
   "cell_type": "code",
   "execution_count": 29,
   "metadata": {
    "tags": []
   },
   "outputs": [],
   "source": [
    "import pandas as pd"
   ]
  },
  {
   "cell_type": "code",
   "execution_count": 30,
   "metadata": {},
   "outputs": [
    {
     "data": {
      "text/plain": [
       "'c:\\\\Users\\\\Anton\\\\Desktop\\\\s2\\\\attack-detection-v1'"
      ]
     },
     "execution_count": 30,
     "metadata": {},
     "output_type": "execute_result"
    }
   ],
   "source": [
    "import os\n",
    "os.getcwd()"
   ]
  },
  {
   "cell_type": "code",
   "execution_count": 31,
   "metadata": {
    "tags": []
   },
   "outputs": [],
   "source": [
    "cases = pd.read_csv(\"V3_.csv\")#pd.read_csv(\"Validated_V0_Desriptions.csv\")"
   ]
  },
  {
   "cell_type": "code",
   "execution_count": 32,
   "metadata": {
    "tags": []
   },
   "outputs": [
    {
     "name": "stderr",
     "output_type": "stream",
     "text": [
      "C:\\Users\\Anton\\AppData\\Local\\Temp\\ipykernel_36972\\2791140844.py:1: DtypeWarning: Columns (5,15) have mixed types. Specify dtype option on import or set low_memory=False.\n",
      "  data = pd.read_csv(\"data/raw_data_sim.csv\", parse_dates=[\"block_time\"])\n"
     ]
    }
   ],
   "source": [
    "data = pd.read_csv(\"data/raw_data_sim.csv\", parse_dates=[\"block_time\"])"
   ]
  },
  {
   "cell_type": "code",
   "execution_count": 33,
   "metadata": {
    "tags": []
   },
   "outputs": [
    {
     "data": {
      "text/html": [
       "<div>\n",
       "<style scoped>\n",
       "    .dataframe tbody tr th:only-of-type {\n",
       "        vertical-align: middle;\n",
       "    }\n",
       "\n",
       "    .dataframe tbody tr th {\n",
       "        vertical-align: top;\n",
       "    }\n",
       "\n",
       "    .dataframe thead th {\n",
       "        text-align: right;\n",
       "    }\n",
       "</style>\n",
       "<table border=\"1\" class=\"dataframe\">\n",
       "  <thead>\n",
       "    <tr style=\"text-align: right;\">\n",
       "      <th></th>\n",
       "      <th>transaction_id</th>\n",
       "      <th>transaction_time</th>\n",
       "      <th>block_time</th>\n",
       "      <th>sender_id</th>\n",
       "      <th>receiver_id</th>\n",
       "      <th>receiver_type</th>\n",
       "      <th>amount</th>\n",
       "      <th>currency</th>\n",
       "      <th>currency_hash</th>\n",
       "      <th>currency_type</th>\n",
       "      <th>amount_usd</th>\n",
       "      <th>gas_price</th>\n",
       "      <th>gas_limit</th>\n",
       "      <th>gas_used</th>\n",
       "      <th>gas_predicted</th>\n",
       "      <th>balance_in</th>\n",
       "      <th>balance_out</th>\n",
       "      <th>label</th>\n",
       "      <th>risk_level</th>\n",
       "      <th>file_name</th>\n",
       "    </tr>\n",
       "  </thead>\n",
       "  <tbody>\n",
       "    <tr>\n",
       "      <th>0</th>\n",
       "      <td>0x603882c65e180a52ca883dd7817f08d2eb828bbce600...</td>\n",
       "      <td>NaN</td>\n",
       "      <td>2021-09-16 08:45:00</td>\n",
       "      <td>0xc97f82c80df57c34e84491c0eda050ba924d7429</td>\n",
       "      <td>0x27239549dd40e1d60f5b80b0c4196923745b1fd2</td>\n",
       "      <td>NaN</td>\n",
       "      <td>10000.000</td>\n",
       "      <td>HBT</td>\n",
       "      <td>0x0ace32f6e87ac1457a5385f8eb0208f37263b415</td>\n",
       "      <td>erc20</td>\n",
       "      <td>9300.164784</td>\n",
       "      <td>5.370000e-08</td>\n",
       "      <td>412836</td>\n",
       "      <td>283366</td>\n",
       "      <td>NaN</td>\n",
       "      <td>NaN</td>\n",
       "      <td>NaN</td>\n",
       "      <td>0</td>\n",
       "      <td>NaN</td>\n",
       "      <td>V3/0xhabitat001.csv</td>\n",
       "    </tr>\n",
       "    <tr>\n",
       "      <th>1</th>\n",
       "      <td>0x2b6a267fbd6616cba3ef055ec53bcf658c36d44be690...</td>\n",
       "      <td>NaN</td>\n",
       "      <td>2021-05-17 11:36:00</td>\n",
       "      <td>0xc97f82c80df57c34e84491c0eda050ba924d7429</td>\n",
       "      <td>0xf0a3da0e045fdac0ffec2285d360e706586809e6</td>\n",
       "      <td>NaN</td>\n",
       "      <td>4000.000</td>\n",
       "      <td>DAI</td>\n",
       "      <td>0x6b175474e89094c44da98b954eedeac495271d0f</td>\n",
       "      <td>erc20</td>\n",
       "      <td>4013.530044</td>\n",
       "      <td>5.500000e-08</td>\n",
       "      <td>172764</td>\n",
       "      <td>115759</td>\n",
       "      <td>NaN</td>\n",
       "      <td>NaN</td>\n",
       "      <td>NaN</td>\n",
       "      <td>0</td>\n",
       "      <td>NaN</td>\n",
       "      <td>V3/0xhabitat001.csv</td>\n",
       "    </tr>\n",
       "    <tr>\n",
       "      <th>2</th>\n",
       "      <td>0x2b6a267fbd6616cba3ef055ec53bcf658c36d44be690...</td>\n",
       "      <td>NaN</td>\n",
       "      <td>2021-05-17 11:36:00</td>\n",
       "      <td>0xc97f82c80df57c34e84491c0eda050ba924d7429</td>\n",
       "      <td>0x3336318c7cd22d0a32477235637f779e7071459b</td>\n",
       "      <td>NaN</td>\n",
       "      <td>2500.000</td>\n",
       "      <td>DAI</td>\n",
       "      <td>0x6b175474e89094c44da98b954eedeac495271d0f</td>\n",
       "      <td>erc20</td>\n",
       "      <td>2508.456277</td>\n",
       "      <td>5.500000e-08</td>\n",
       "      <td>172764</td>\n",
       "      <td>115759</td>\n",
       "      <td>NaN</td>\n",
       "      <td>NaN</td>\n",
       "      <td>NaN</td>\n",
       "      <td>0</td>\n",
       "      <td>NaN</td>\n",
       "      <td>V3/0xhabitat001.csv</td>\n",
       "    </tr>\n",
       "    <tr>\n",
       "      <th>3</th>\n",
       "      <td>0x2b6a267fbd6616cba3ef055ec53bcf658c36d44be690...</td>\n",
       "      <td>NaN</td>\n",
       "      <td>2021-05-17 11:36:00</td>\n",
       "      <td>0xc97f82c80df57c34e84491c0eda050ba924d7429</td>\n",
       "      <td>0x0b5a2a20ed3773aa33274f6684e97810338c09cb</td>\n",
       "      <td>NaN</td>\n",
       "      <td>2500.000</td>\n",
       "      <td>DAI</td>\n",
       "      <td>0x6b175474e89094c44da98b954eedeac495271d0f</td>\n",
       "      <td>erc20</td>\n",
       "      <td>2508.456277</td>\n",
       "      <td>5.500000e-08</td>\n",
       "      <td>172764</td>\n",
       "      <td>115759</td>\n",
       "      <td>NaN</td>\n",
       "      <td>NaN</td>\n",
       "      <td>NaN</td>\n",
       "      <td>0</td>\n",
       "      <td>NaN</td>\n",
       "      <td>V3/0xhabitat001.csv</td>\n",
       "    </tr>\n",
       "    <tr>\n",
       "      <th>4</th>\n",
       "      <td>0x572ccb64ed02bf86d8826a6c47ecbe6fecbe754539c6...</td>\n",
       "      <td>NaN</td>\n",
       "      <td>2021-09-06 10:15:00</td>\n",
       "      <td>0xc97f82c80df57c34e84491c0eda050ba924d7429</td>\n",
       "      <td>0xdf708717070981a8097912318c722f19eefb3bef</td>\n",
       "      <td>NaN</td>\n",
       "      <td>41702.342</td>\n",
       "      <td>HBT</td>\n",
       "      <td>0x0ace32f6e87ac1457a5385f8eb0208f37263b415</td>\n",
       "      <td>erc20</td>\n",
       "      <td>79306.986250</td>\n",
       "      <td>1.400000e-08</td>\n",
       "      <td>103918</td>\n",
       "      <td>68492</td>\n",
       "      <td>NaN</td>\n",
       "      <td>NaN</td>\n",
       "      <td>NaN</td>\n",
       "      <td>0</td>\n",
       "      <td>NaN</td>\n",
       "      <td>V3/0xhabitat001.csv</td>\n",
       "    </tr>\n",
       "  </tbody>\n",
       "</table>\n",
       "</div>"
      ],
      "text/plain": [
       "                                      transaction_id  transaction_time  \\\n",
       "0  0x603882c65e180a52ca883dd7817f08d2eb828bbce600...               NaN   \n",
       "1  0x2b6a267fbd6616cba3ef055ec53bcf658c36d44be690...               NaN   \n",
       "2  0x2b6a267fbd6616cba3ef055ec53bcf658c36d44be690...               NaN   \n",
       "3  0x2b6a267fbd6616cba3ef055ec53bcf658c36d44be690...               NaN   \n",
       "4  0x572ccb64ed02bf86d8826a6c47ecbe6fecbe754539c6...               NaN   \n",
       "\n",
       "           block_time                                   sender_id  \\\n",
       "0 2021-09-16 08:45:00  0xc97f82c80df57c34e84491c0eda050ba924d7429   \n",
       "1 2021-05-17 11:36:00  0xc97f82c80df57c34e84491c0eda050ba924d7429   \n",
       "2 2021-05-17 11:36:00  0xc97f82c80df57c34e84491c0eda050ba924d7429   \n",
       "3 2021-05-17 11:36:00  0xc97f82c80df57c34e84491c0eda050ba924d7429   \n",
       "4 2021-09-06 10:15:00  0xc97f82c80df57c34e84491c0eda050ba924d7429   \n",
       "\n",
       "                                  receiver_id receiver_type     amount  \\\n",
       "0  0x27239549dd40e1d60f5b80b0c4196923745b1fd2           NaN  10000.000   \n",
       "1  0xf0a3da0e045fdac0ffec2285d360e706586809e6           NaN   4000.000   \n",
       "2  0x3336318c7cd22d0a32477235637f779e7071459b           NaN   2500.000   \n",
       "3  0x0b5a2a20ed3773aa33274f6684e97810338c09cb           NaN   2500.000   \n",
       "4  0xdf708717070981a8097912318c722f19eefb3bef           NaN  41702.342   \n",
       "\n",
       "  currency                               currency_hash currency_type  \\\n",
       "0      HBT  0x0ace32f6e87ac1457a5385f8eb0208f37263b415         erc20   \n",
       "1      DAI  0x6b175474e89094c44da98b954eedeac495271d0f         erc20   \n",
       "2      DAI  0x6b175474e89094c44da98b954eedeac495271d0f         erc20   \n",
       "3      DAI  0x6b175474e89094c44da98b954eedeac495271d0f         erc20   \n",
       "4      HBT  0x0ace32f6e87ac1457a5385f8eb0208f37263b415         erc20   \n",
       "\n",
       "     amount_usd     gas_price  gas_limit  gas_used  gas_predicted balance_in  \\\n",
       "0   9300.164784  5.370000e-08     412836    283366            NaN        NaN   \n",
       "1   4013.530044  5.500000e-08     172764    115759            NaN        NaN   \n",
       "2   2508.456277  5.500000e-08     172764    115759            NaN        NaN   \n",
       "3   2508.456277  5.500000e-08     172764    115759            NaN        NaN   \n",
       "4  79306.986250  1.400000e-08     103918     68492            NaN        NaN   \n",
       "\n",
       "   balance_out  label  risk_level            file_name  \n",
       "0          NaN      0         NaN  V3/0xhabitat001.csv  \n",
       "1          NaN      0         NaN  V3/0xhabitat001.csv  \n",
       "2          NaN      0         NaN  V3/0xhabitat001.csv  \n",
       "3          NaN      0         NaN  V3/0xhabitat001.csv  \n",
       "4          NaN      0         NaN  V3/0xhabitat001.csv  "
      ]
     },
     "execution_count": 33,
     "metadata": {},
     "output_type": "execute_result"
    }
   ],
   "source": [
    "data.head()"
   ]
  },
  {
   "cell_type": "code",
   "execution_count": 34,
   "metadata": {},
   "outputs": [],
   "source": [
    "df = data.groupby(['file_name'])['label'].sum().reset_index(name = 'n_attacks')  \n",
    "df.loc[df['n_attacks'] == 1, 'sngl_mlt'] = 'single'\n",
    "df.loc[df['n_attacks'] > 1, 'sngl_mlt'] = 'multi'\n",
    "df = df[['file_name' , 'sngl_mlt']]\n",
    "\n"
   ]
  },
  {
   "cell_type": "code",
   "execution_count": null,
   "metadata": {},
   "outputs": [],
   "source": []
  },
  {
   "cell_type": "code",
   "execution_count": null,
   "metadata": {},
   "outputs": [],
   "source": []
  },
  {
   "cell_type": "code",
   "execution_count": 35,
   "metadata": {
    "tags": []
   },
   "outputs": [],
   "source": [
    "#case_split = cases.loc[:, [\"File Names\", \"train/test splits\"]]\n",
    "#case_split.columns = [\"file_name\", \"experiment_part\"]\n",
    "#case_split[\"file_name\"] += \".csv\"\n",
    "\n",
    "\n",
    "case_split = cases.loc[:, [\"File Names\", \"train/test splits\"]]#cases.loc[:, [\"File Names\", \"train/test splits\"]]\n",
    "case_split.columns = [\"file_name\", \"experiment_part\"]\n",
    "case_split[\"file_name\"] += \".csv\"\n",
    "case_split[\"file_name\"] = 'V3/' + case_split['file_name'].astype(str)#case_split[\"file_name\"] = 'V3/' + case_split['file_name'].astype(str)"
   ]
  },
  {
   "cell_type": "code",
   "execution_count": 36,
   "metadata": {},
   "outputs": [
    {
     "data": {
      "text/plain": [
       "(951868, 20)"
      ]
     },
     "execution_count": 36,
     "metadata": {},
     "output_type": "execute_result"
    }
   ],
   "source": [
    "data.shape"
   ]
  },
  {
   "cell_type": "code",
   "execution_count": 37,
   "metadata": {
    "tags": []
   },
   "outputs": [],
   "source": [
    "data = data.merge(case_split)"
   ]
  },
  {
   "cell_type": "code",
   "execution_count": null,
   "metadata": {},
   "outputs": [],
   "source": []
  },
  {
   "cell_type": "code",
   "execution_count": 38,
   "metadata": {},
   "outputs": [
    {
     "data": {
      "text/plain": [
       "(951868, 21)"
      ]
     },
     "execution_count": 38,
     "metadata": {},
     "output_type": "execute_result"
    }
   ],
   "source": [
    "data.shape"
   ]
  },
  {
   "cell_type": "code",
   "execution_count": 39,
   "metadata": {},
   "outputs": [],
   "source": [
    "data = data.merge(df)"
   ]
  },
  {
   "cell_type": "code",
   "execution_count": 40,
   "metadata": {},
   "outputs": [
    {
     "data": {
      "text/plain": [
       "(951868, 22)"
      ]
     },
     "execution_count": 40,
     "metadata": {},
     "output_type": "execute_result"
    }
   ],
   "source": [
    "data.shape"
   ]
  },
  {
   "cell_type": "code",
   "execution_count": 41,
   "metadata": {
    "tags": []
   },
   "outputs": [
    {
     "data": {
      "text/plain": [
       "Train         697954\n",
       "Validation    138322\n",
       "Test          115587\n",
       "Fake               5\n",
       "Name: experiment_part, dtype: int64"
      ]
     },
     "execution_count": 41,
     "metadata": {},
     "output_type": "execute_result"
    }
   ],
   "source": [
    "data[\"experiment_part\"].value_counts()"
   ]
  },
  {
   "cell_type": "code",
   "execution_count": 14,
   "metadata": {},
   "outputs": [
    {
     "data": {
      "text/plain": [
       "multi     715841\n",
       "single    236027\n",
       "Name: sngl_mlt, dtype: int64"
      ]
     },
     "execution_count": 14,
     "metadata": {},
     "output_type": "execute_result"
    }
   ],
   "source": [
    "data['sngl_mlt'].value_counts()"
   ]
  },
  {
   "cell_type": "code",
   "execution_count": 15,
   "metadata": {},
   "outputs": [],
   "source": [
    "#train_data = data[data['experiment_part'] == 'Train']"
   ]
  },
  {
   "cell_type": "markdown",
   "metadata": {},
   "source": [
    "## Configure featrure engineering"
   ]
  },
  {
   "cell_type": "code",
   "execution_count": 16,
   "metadata": {
    "tags": []
   },
   "outputs": [],
   "source": [
    "from cyvers_ai_ds.features import AssetCentricFEPipeline\n",
    "from cyvers_ai_ds.features.transaction import DEFAULT_AGG_LIST"
   ]
  },
  {
   "cell_type": "code",
   "execution_count": 17,
   "metadata": {
    "tags": []
   },
   "outputs": [],
   "source": [
    "pipe = AssetCentricFEPipeline()"
   ]
  },
  {
   "cell_type": "code",
   "execution_count": 18,
   "metadata": {
    "tags": []
   },
   "outputs": [
    {
     "name": "stdout",
     "output_type": "stream",
     "text": [
      "df columns after compute_sender_receiver_info :  Index(['transaction_id', 'transaction_time', 'block_time', 'sender_id',\n",
      "       'receiver_id', 'receiver_type', 'amount', 'currency', 'currency_hash',\n",
      "       'currency_type', 'amount_usd', 'gas_price', 'gas_limit', 'gas_used',\n",
      "       'gas_predicted', 'balance_in', 'balance_out', 'label', 'risk_level',\n",
      "       'file_name', 'experiment_part', 'sngl_mlt', 'index',\n",
      "       'snd_rcv_tkn_type_cnt', 'snd_rcv_tx_cnt', 'snd_rcv_amt_usd_sum',\n",
      "       'snd_rcv_mean_amt_usd', 'snd_rcv_time_diff_sec', 'snd_rcv_min_time',\n",
      "       'snd_rcv_life_time_sec', 'snd_rcv_mean_time_diff_sec'],\n",
      "      dtype='object')\n",
      "df columns after group_by_tx_hash :  Index(['transaction_id', 'sender_id', 'block_time', 'gas_price', 'gas_limit',\n",
      "       'gas_used', 'snd_rcv_tkn_type_cnt_tx_min',\n",
      "       'snd_rcv_tkn_type_cnt_tx_max', 'snd_rcv_tkn_type_cnt_tx_median',\n",
      "       'snd_rcv_tkn_type_cnt_tx_mean', 'snd_rcv_tkn_type_cnt_tx_std',\n",
      "       'snd_rcv_tkn_type_cnt_tx_sum', 'snd_rcv_tx_cnt_tx_min',\n",
      "       'snd_rcv_tx_cnt_tx_max', 'snd_rcv_tx_cnt_tx_median',\n",
      "       'snd_rcv_tx_cnt_tx_mean', 'snd_rcv_tx_cnt_tx_std',\n",
      "       'snd_rcv_tx_cnt_tx_sum', 'snd_rcv_amt_usd_sum_tx_min',\n",
      "       'snd_rcv_amt_usd_sum_tx_max', 'snd_rcv_amt_usd_sum_tx_median',\n",
      "       'snd_rcv_amt_usd_sum_tx_mean', 'snd_rcv_amt_usd_sum_tx_std',\n",
      "       'snd_rcv_amt_usd_sum_tx_sum', 'snd_rcv_mean_amt_usd_tx_min',\n",
      "       'snd_rcv_mean_amt_usd_tx_max', 'snd_rcv_mean_amt_usd_tx_median',\n",
      "       'snd_rcv_mean_amt_usd_tx_mean', 'snd_rcv_mean_amt_usd_tx_std',\n",
      "       'snd_rcv_mean_amt_usd_tx_sum', 'snd_rcv_time_diff_sec_tx_min',\n",
      "       'snd_rcv_time_diff_sec_tx_max', 'snd_rcv_time_diff_sec_tx_median',\n",
      "       'snd_rcv_time_diff_sec_tx_mean', 'snd_rcv_time_diff_sec_tx_std',\n",
      "       'snd_rcv_time_diff_sec_tx_sum', 'snd_rcv_life_time_sec_tx_min',\n",
      "       'snd_rcv_life_time_sec_tx_max', 'snd_rcv_life_time_sec_tx_median',\n",
      "       'snd_rcv_life_time_sec_tx_mean', 'snd_rcv_life_time_sec_tx_std',\n",
      "       'snd_rcv_life_time_sec_tx_sum', 'snd_rcv_mean_time_diff_sec_tx_min',\n",
      "       'snd_rcv_mean_time_diff_sec_tx_max',\n",
      "       'snd_rcv_mean_time_diff_sec_tx_median',\n",
      "       'snd_rcv_mean_time_diff_sec_tx_mean',\n",
      "       'snd_rcv_mean_time_diff_sec_tx_std',\n",
      "       'snd_rcv_mean_time_diff_sec_tx_sum', 'amount_usd_tx_min',\n",
      "       'amount_usd_tx_max', 'amount_usd_tx_median', 'amount_usd_tx_mean',\n",
      "       'amount_usd_tx_std', 'amount_usd_tx_sum', 'receiver_type_tx_nunique',\n",
      "       'label', 'receiver_type_wallet_tx_cnt',\n",
      "       'receiver_type_smart_contract_tx_cnt', 'receiver_type_dex_tx_cnt',\n",
      "       'receiver_type_token_tx_cnt', 'internal_tx_cnt'],\n",
      "      dtype='object')\n"
     ]
    }
   ],
   "source": [
    "out_data = pipe.execute(data)"
   ]
  },
  {
   "cell_type": "code",
   "execution_count": 42,
   "metadata": {
    "tags": []
   },
   "outputs": [],
   "source": [
    "tx_df, asset_df = out_data"
   ]
  },
  {
   "cell_type": "code",
   "execution_count": null,
   "metadata": {},
   "outputs": [],
   "source": []
  },
  {
   "cell_type": "code",
   "execution_count": null,
   "metadata": {},
   "outputs": [],
   "source": []
  },
  {
   "cell_type": "code",
   "execution_count": 43,
   "metadata": {
    "tags": []
   },
   "outputs": [
    {
     "data": {
      "text/plain": [
       "(811733, 114)"
      ]
     },
     "execution_count": 43,
     "metadata": {},
     "output_type": "execute_result"
    }
   ],
   "source": [
    "tx_df.shape"
   ]
  },
  {
   "cell_type": "code",
   "execution_count": 44,
   "metadata": {
    "tags": []
   },
   "outputs": [
    {
     "data": {
      "text/plain": [
       "Index(['transaction_id', 'sender_id', 'block_time', 'gas_price', 'gas_limit',\n",
       "       'gas_used', 'snd_rcv_tkn_type_cnt_tx_min',\n",
       "       'snd_rcv_tkn_type_cnt_tx_max', 'snd_rcv_tkn_type_cnt_tx_median',\n",
       "       'snd_rcv_tkn_type_cnt_tx_mean',\n",
       "       ...\n",
       "       'snd_rcv_mean_time_diff_sec_tx_std_log_to_median_ratio',\n",
       "       'snd_rcv_mean_time_diff_sec_tx_sum_log_to_median_ratio',\n",
       "       'amount_usd_tx_min_log_to_median_ratio',\n",
       "       'amount_usd_tx_max_log_to_median_ratio',\n",
       "       'amount_usd_tx_median_log_to_median_ratio',\n",
       "       'amount_usd_tx_mean_log_to_median_ratio',\n",
       "       'amount_usd_tx_std_log_to_median_ratio',\n",
       "       'amount_usd_tx_sum_log_to_median_ratio',\n",
       "       'receiver_type_tx_nunique_log_to_median_ratio',\n",
       "       'internal_tx_cnt_log_to_median_ratio'],\n",
       "      dtype='object', length=114)"
      ]
     },
     "execution_count": 44,
     "metadata": {},
     "output_type": "execute_result"
    }
   ],
   "source": [
    "tx_df.columns"
   ]
  },
  {
   "cell_type": "code",
   "execution_count": 45,
   "metadata": {
    "tags": []
   },
   "outputs": [],
   "source": [
    "tx_metadata = data.loc[\n",
    "    :, [\"transaction_id\", \"file_name\", \"experiment_part\", \"sngl_mlt\"]\n",
    "].drop_duplicates()"
   ]
  },
  {
   "cell_type": "code",
   "execution_count": 46,
   "metadata": {
    "tags": []
   },
   "outputs": [
    {
     "data": {
      "text/plain": [
       "(813006, 4)"
      ]
     },
     "execution_count": 46,
     "metadata": {},
     "output_type": "execute_result"
    }
   ],
   "source": [
    "tx_metadata.shape"
   ]
  },
  {
   "cell_type": "code",
   "execution_count": 47,
   "metadata": {
    "tags": []
   },
   "outputs": [],
   "source": [
    "tx_df = tx_df.merge(tx_metadata)"
   ]
  },
  {
   "cell_type": "code",
   "execution_count": 48,
   "metadata": {
    "tags": []
   },
   "outputs": [
    {
     "data": {
      "text/plain": [
       "(813006, 117)"
      ]
     },
     "execution_count": 48,
     "metadata": {},
     "output_type": "execute_result"
    }
   ],
   "source": [
    "tx_df.shape"
   ]
  },
  {
   "cell_type": "code",
   "execution_count": 26,
   "metadata": {},
   "outputs": [],
   "source": [
    "#tx_df = tx_df[tx_df[\"experiment_part\"] == 'Train']"
   ]
  },
  {
   "cell_type": "code",
   "execution_count": 49,
   "metadata": {
    "tags": []
   },
   "outputs": [
    {
     "data": {
      "text/plain": [
       "Train         651040\n",
       "Validation    112755\n",
       "Test           49206\n",
       "Fake               5\n",
       "Name: experiment_part, dtype: int64"
      ]
     },
     "execution_count": 49,
     "metadata": {},
     "output_type": "execute_result"
    }
   ],
   "source": [
    "tx_df[\"experiment_part\"].value_counts()\n"
   ]
  },
  {
   "cell_type": "code",
   "execution_count": 50,
   "metadata": {},
   "outputs": [
    {
     "data": {
      "text/plain": [
       "multi     614857\n",
       "single    198149\n",
       "Name: sngl_mlt, dtype: int64"
      ]
     },
     "execution_count": 50,
     "metadata": {},
     "output_type": "execute_result"
    }
   ],
   "source": [
    "tx_df[\"sngl_mlt\"].value_counts()\n"
   ]
  },
  {
   "cell_type": "code",
   "execution_count": 51,
   "metadata": {},
   "outputs": [
    {
     "data": {
      "text/html": [
       "<div>\n",
       "<style scoped>\n",
       "    .dataframe tbody tr th:only-of-type {\n",
       "        vertical-align: middle;\n",
       "    }\n",
       "\n",
       "    .dataframe tbody tr th {\n",
       "        vertical-align: top;\n",
       "    }\n",
       "\n",
       "    .dataframe thead th {\n",
       "        text-align: right;\n",
       "    }\n",
       "</style>\n",
       "<table border=\"1\" class=\"dataframe\">\n",
       "  <thead>\n",
       "    <tr style=\"text-align: right;\">\n",
       "      <th></th>\n",
       "      <th>transaction_id</th>\n",
       "      <th>sender_id</th>\n",
       "      <th>block_time</th>\n",
       "      <th>gas_price</th>\n",
       "      <th>gas_limit</th>\n",
       "      <th>gas_used</th>\n",
       "      <th>snd_rcv_tkn_type_cnt_tx_min</th>\n",
       "      <th>snd_rcv_tkn_type_cnt_tx_max</th>\n",
       "      <th>snd_rcv_tkn_type_cnt_tx_median</th>\n",
       "      <th>snd_rcv_tkn_type_cnt_tx_mean</th>\n",
       "      <th>...</th>\n",
       "      <th>amount_usd_tx_max_log_to_median_ratio</th>\n",
       "      <th>amount_usd_tx_median_log_to_median_ratio</th>\n",
       "      <th>amount_usd_tx_mean_log_to_median_ratio</th>\n",
       "      <th>amount_usd_tx_std_log_to_median_ratio</th>\n",
       "      <th>amount_usd_tx_sum_log_to_median_ratio</th>\n",
       "      <th>receiver_type_tx_nunique_log_to_median_ratio</th>\n",
       "      <th>internal_tx_cnt_log_to_median_ratio</th>\n",
       "      <th>file_name</th>\n",
       "      <th>experiment_part</th>\n",
       "      <th>sngl_mlt</th>\n",
       "    </tr>\n",
       "  </thead>\n",
       "  <tbody>\n",
       "    <tr>\n",
       "      <th>640297</th>\n",
       "      <td>0xfe4589d222b704a9b9ed180b5acffa81693cd9f9fa56...</td>\n",
       "      <td>0xbea134b1920311f241416ba3bc6ebac277724d8a</td>\n",
       "      <td>2022-05-11 11:54:00</td>\n",
       "      <td>2.000000e-08</td>\n",
       "      <td>125000</td>\n",
       "      <td>21051</td>\n",
       "      <td>1.0</td>\n",
       "      <td>1.0</td>\n",
       "      <td>1.0</td>\n",
       "      <td>1.0</td>\n",
       "      <td>...</td>\n",
       "      <td>0.000000</td>\n",
       "      <td>0.000000</td>\n",
       "      <td>0.000000</td>\n",
       "      <td>0.0</td>\n",
       "      <td>0.000000</td>\n",
       "      <td>0.0</td>\n",
       "      <td>0.0</td>\n",
       "      <td>V3/fake_file3.csv</td>\n",
       "      <td>Fake</td>\n",
       "      <td>multi</td>\n",
       "    </tr>\n",
       "    <tr>\n",
       "      <th>640299</th>\n",
       "      <td>0x8fab10f1132369313063310d636b3b3f12ac975703bb...</td>\n",
       "      <td>0xbea134b1920311f241416ba3bc6ebac277724d8a</td>\n",
       "      <td>2022-05-11 14:44:00</td>\n",
       "      <td>2.000000e-08</td>\n",
       "      <td>125000</td>\n",
       "      <td>21000</td>\n",
       "      <td>1.0</td>\n",
       "      <td>1.0</td>\n",
       "      <td>1.0</td>\n",
       "      <td>1.0</td>\n",
       "      <td>...</td>\n",
       "      <td>-0.190505</td>\n",
       "      <td>-0.190505</td>\n",
       "      <td>-0.190505</td>\n",
       "      <td>0.0</td>\n",
       "      <td>-0.190505</td>\n",
       "      <td>0.0</td>\n",
       "      <td>0.0</td>\n",
       "      <td>V3/fake_file3.csv</td>\n",
       "      <td>Fake</td>\n",
       "      <td>multi</td>\n",
       "    </tr>\n",
       "    <tr>\n",
       "      <th>640301</th>\n",
       "      <td>0x34ee2879f360010e7d496ba30b88d5229e983080dd53...</td>\n",
       "      <td>0xbea134b1920311f241416ba3bc6ebac277724d8a</td>\n",
       "      <td>2022-05-11 19:18:00</td>\n",
       "      <td>2.000000e-08</td>\n",
       "      <td>250000</td>\n",
       "      <td>21000</td>\n",
       "      <td>1.0</td>\n",
       "      <td>1.0</td>\n",
       "      <td>1.0</td>\n",
       "      <td>1.0</td>\n",
       "      <td>...</td>\n",
       "      <td>-5.959458</td>\n",
       "      <td>-5.959458</td>\n",
       "      <td>-5.959458</td>\n",
       "      <td>0.0</td>\n",
       "      <td>-5.959458</td>\n",
       "      <td>0.0</td>\n",
       "      <td>0.0</td>\n",
       "      <td>V3/fake_file3.csv</td>\n",
       "      <td>Fake</td>\n",
       "      <td>multi</td>\n",
       "    </tr>\n",
       "    <tr>\n",
       "      <th>640303</th>\n",
       "      <td>0xd1b809ca1a4b221377de2de0c77a6d028c9b4756dc70...</td>\n",
       "      <td>0xbea134b1920311f241416ba3bc6ebac277724d8a</td>\n",
       "      <td>2022-05-11 19:18:00</td>\n",
       "      <td>2.000000e-08</td>\n",
       "      <td>250000</td>\n",
       "      <td>63197</td>\n",
       "      <td>1.0</td>\n",
       "      <td>1.0</td>\n",
       "      <td>1.0</td>\n",
       "      <td>1.0</td>\n",
       "      <td>...</td>\n",
       "      <td>-2.798592</td>\n",
       "      <td>-2.798592</td>\n",
       "      <td>-2.798592</td>\n",
       "      <td>0.0</td>\n",
       "      <td>-2.798592</td>\n",
       "      <td>0.0</td>\n",
       "      <td>0.0</td>\n",
       "      <td>V3/fake_file3.csv</td>\n",
       "      <td>Fake</td>\n",
       "      <td>multi</td>\n",
       "    </tr>\n",
       "    <tr>\n",
       "      <th>640305</th>\n",
       "      <td>0x5e572187eb87d7b16f73b6be8b8d4ea06d53b1106ba1...</td>\n",
       "      <td>0xbea134b1920311f241416ba3bc6ebac277724d8a</td>\n",
       "      <td>2022-05-11 19:19:00</td>\n",
       "      <td>2.000000e-08</td>\n",
       "      <td>250000</td>\n",
       "      <td>65613</td>\n",
       "      <td>2.0</td>\n",
       "      <td>3.0</td>\n",
       "      <td>2.5</td>\n",
       "      <td>2.5</td>\n",
       "      <td>...</td>\n",
       "      <td>-0.000103</td>\n",
       "      <td>-0.000103</td>\n",
       "      <td>-0.000103</td>\n",
       "      <td>0.0</td>\n",
       "      <td>-0.000103</td>\n",
       "      <td>0.0</td>\n",
       "      <td>0.0</td>\n",
       "      <td>V3/fake_file3.csv</td>\n",
       "      <td>Fake</td>\n",
       "      <td>multi</td>\n",
       "    </tr>\n",
       "  </tbody>\n",
       "</table>\n",
       "<p>5 rows × 117 columns</p>\n",
       "</div>"
      ],
      "text/plain": [
       "                                           transaction_id  \\\n",
       "640297  0xfe4589d222b704a9b9ed180b5acffa81693cd9f9fa56...   \n",
       "640299  0x8fab10f1132369313063310d636b3b3f12ac975703bb...   \n",
       "640301  0x34ee2879f360010e7d496ba30b88d5229e983080dd53...   \n",
       "640303  0xd1b809ca1a4b221377de2de0c77a6d028c9b4756dc70...   \n",
       "640305  0x5e572187eb87d7b16f73b6be8b8d4ea06d53b1106ba1...   \n",
       "\n",
       "                                         sender_id          block_time  \\\n",
       "640297  0xbea134b1920311f241416ba3bc6ebac277724d8a 2022-05-11 11:54:00   \n",
       "640299  0xbea134b1920311f241416ba3bc6ebac277724d8a 2022-05-11 14:44:00   \n",
       "640301  0xbea134b1920311f241416ba3bc6ebac277724d8a 2022-05-11 19:18:00   \n",
       "640303  0xbea134b1920311f241416ba3bc6ebac277724d8a 2022-05-11 19:18:00   \n",
       "640305  0xbea134b1920311f241416ba3bc6ebac277724d8a 2022-05-11 19:19:00   \n",
       "\n",
       "           gas_price  gas_limit  gas_used  snd_rcv_tkn_type_cnt_tx_min  \\\n",
       "640297  2.000000e-08     125000     21051                          1.0   \n",
       "640299  2.000000e-08     125000     21000                          1.0   \n",
       "640301  2.000000e-08     250000     21000                          1.0   \n",
       "640303  2.000000e-08     250000     63197                          1.0   \n",
       "640305  2.000000e-08     250000     65613                          2.0   \n",
       "\n",
       "        snd_rcv_tkn_type_cnt_tx_max  snd_rcv_tkn_type_cnt_tx_median  \\\n",
       "640297                          1.0                             1.0   \n",
       "640299                          1.0                             1.0   \n",
       "640301                          1.0                             1.0   \n",
       "640303                          1.0                             1.0   \n",
       "640305                          3.0                             2.5   \n",
       "\n",
       "        snd_rcv_tkn_type_cnt_tx_mean  ...  \\\n",
       "640297                           1.0  ...   \n",
       "640299                           1.0  ...   \n",
       "640301                           1.0  ...   \n",
       "640303                           1.0  ...   \n",
       "640305                           2.5  ...   \n",
       "\n",
       "        amount_usd_tx_max_log_to_median_ratio  \\\n",
       "640297                               0.000000   \n",
       "640299                              -0.190505   \n",
       "640301                              -5.959458   \n",
       "640303                              -2.798592   \n",
       "640305                              -0.000103   \n",
       "\n",
       "        amount_usd_tx_median_log_to_median_ratio  \\\n",
       "640297                                  0.000000   \n",
       "640299                                 -0.190505   \n",
       "640301                                 -5.959458   \n",
       "640303                                 -2.798592   \n",
       "640305                                 -0.000103   \n",
       "\n",
       "        amount_usd_tx_mean_log_to_median_ratio  \\\n",
       "640297                                0.000000   \n",
       "640299                               -0.190505   \n",
       "640301                               -5.959458   \n",
       "640303                               -2.798592   \n",
       "640305                               -0.000103   \n",
       "\n",
       "        amount_usd_tx_std_log_to_median_ratio  \\\n",
       "640297                                    0.0   \n",
       "640299                                    0.0   \n",
       "640301                                    0.0   \n",
       "640303                                    0.0   \n",
       "640305                                    0.0   \n",
       "\n",
       "        amount_usd_tx_sum_log_to_median_ratio  \\\n",
       "640297                               0.000000   \n",
       "640299                              -0.190505   \n",
       "640301                              -5.959458   \n",
       "640303                              -2.798592   \n",
       "640305                              -0.000103   \n",
       "\n",
       "        receiver_type_tx_nunique_log_to_median_ratio  \\\n",
       "640297                                           0.0   \n",
       "640299                                           0.0   \n",
       "640301                                           0.0   \n",
       "640303                                           0.0   \n",
       "640305                                           0.0   \n",
       "\n",
       "        internal_tx_cnt_log_to_median_ratio          file_name  \\\n",
       "640297                                  0.0  V3/fake_file3.csv   \n",
       "640299                                  0.0  V3/fake_file3.csv   \n",
       "640301                                  0.0  V3/fake_file3.csv   \n",
       "640303                                  0.0  V3/fake_file3.csv   \n",
       "640305                                  0.0  V3/fake_file3.csv   \n",
       "\n",
       "        experiment_part  sngl_mlt  \n",
       "640297             Fake     multi  \n",
       "640299             Fake     multi  \n",
       "640301             Fake     multi  \n",
       "640303             Fake     multi  \n",
       "640305             Fake     multi  \n",
       "\n",
       "[5 rows x 117 columns]"
      ]
     },
     "execution_count": 51,
     "metadata": {},
     "output_type": "execute_result"
    }
   ],
   "source": []
  },
  {
   "cell_type": "code",
   "execution_count": null,
   "metadata": {},
   "outputs": [],
   "source": [
    "#tx_df.loc[tx_df[\"experiment_part\"] == \"Train\", :].to_csv(\n",
    "#    \"data/train_data.csv\", index=False\n",
    "#)"
   ]
  },
  {
   "cell_type": "code",
   "execution_count": 52,
   "metadata": {
    "tags": []
   },
   "outputs": [],
   "source": [
    "tx_df.loc[tx_df[\"experiment_part\"] == \"Train\", :].to_csv(\n",
    "    \"data/train_data.csv\", index=False\n",
    ")\n",
    "tx_df.loc[tx_df[\"experiment_part\"] == \"Validation\", :].to_csv(\n",
    "    \"data/validation_data.csv\", index=False\n",
    ")\n",
    "tx_df.loc[tx_df[\"experiment_part\"] == \"Test\", :].to_csv(\n",
    "    \"data/test_data.csv\", index=False\n",
    ")\n",
    "tx_df.loc[tx_df[\"experiment_part\"] == \"Fake\", :].to_csv(\n",
    "    \"data/fake_data.csv\", index=False\n",
    ")"
   ]
  },
  {
   "attachments": {},
   "cell_type": "markdown",
   "metadata": {},
   "source": [
    "Back up data to s3"
   ]
  },
  {
   "cell_type": "code",
   "execution_count": null,
   "metadata": {},
   "outputs": [],
   "source": [
    "from utils import MODEL_NAME\n",
    "from utils.s3 import MODELS_BUCKET\n",
    "import boto3"
   ]
  },
  {
   "cell_type": "code",
   "execution_count": null,
   "metadata": {},
   "outputs": [],
   "source": [
    "bucket = boto3.resource('s3').Bucket(MODELS_BUCKET)\n",
    "bucket.upload_file('data/train_data.csv', MODEL_NAME + '/data/train_data.csv')\n",
    "bucket.upload_file('data/validation_data.csv', MODEL_NAME + '/data/validation_data.csv')\n",
    "bucket.upload_file('data/test_data.csv', MODEL_NAME + '/data/test_data.csv')"
   ]
  }
 ],
 "metadata": {
  "instance_type": "ml.m5.xlarge",
  "kernelspec": {
   "display_name": "Python 3.10.9 ('venv': venv)",
   "language": "python",
   "name": "python3"
  },
  "language_info": {
   "codemirror_mode": {
    "name": "ipython",
    "version": 3
   },
   "file_extension": ".py",
   "mimetype": "text/x-python",
   "name": "python",
   "nbconvert_exporter": "python",
   "pygments_lexer": "ipython3",
   "version": "3.10.9"
  },
  "vscode": {
   "interpreter": {
    "hash": "1079cffce8acb24900d943b846c8edd8317bf787e482f9cf800cc5ac00a69054"
   }
  }
 },
 "nbformat": 4,
 "nbformat_minor": 4
}
