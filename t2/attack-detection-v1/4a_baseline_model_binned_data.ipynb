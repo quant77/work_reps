{
 "cells": [
  {
   "cell_type": "markdown",
   "metadata": {},
   "source": [
    "# Baseline models on binned data"
   ]
  },
  {
   "cell_type": "code",
   "execution_count": 2,
   "metadata": {
    "tags": []
   },
   "outputs": [],
   "source": [
    "import re\n",
    "\n",
    "import numpy as np\n",
    "import pandas as pd\n",
    "\n",
    "import matplotlib.pyplot as plt\n",
    "import seaborn as sns\n",
    "\n",
    "from sklearn.feature_selection import mutual_info_classif\n",
    "from sklearn.linear_model import LogisticRegression\n",
    "from sklearn.ensemble import RandomForestClassifier, GradientBoostingClassifier\n",
    "from sklearn.svm import SVC\n",
    "from sklearn.naive_bayes import GaussianNB\n",
    "from sklearn.tree import DecisionTreeClassifier\n",
    "\n",
    "\n",
    "import scikitplot as skplt\n",
    "\n",
    "import xgboost as xgb\n",
    "\n",
    "from utils.evaluation import evaluate_model\n",
    "from utils.report import report_by_sections\n",
    "from utils.features import bin_numeric_feature"
   ]
  },
  {
   "cell_type": "code",
   "execution_count": 3,
   "metadata": {
    "tags": []
   },
   "outputs": [],
   "source": [
    "train_data = pd.read_csv(\"data/train_data.csv\", parse_dates=[\"block_time\"])"
   ]
  },
  {
   "cell_type": "code",
   "execution_count": 4,
   "metadata": {
    "tags": []
   },
   "outputs": [],
   "source": [
    "validation_data = pd.read_csv(\"data/validation_data.csv\", parse_dates=[\"block_time\"])"
   ]
  },
  {
   "cell_type": "code",
   "execution_count": 5,
   "metadata": {
    "tags": []
   },
   "outputs": [],
   "source": [
    "binned_features = pd.read_csv(\"binned_features.csv\")"
   ]
  },
  {
   "cell_type": "code",
   "execution_count": 6,
   "metadata": {
    "tags": []
   },
   "outputs": [],
   "source": [
    "feature_breaks = {\n",
    "    f: list(binned_features.loc[binned_features[\"feature\"] == f, \"to\"].dropna())\n",
    "    for f in binned_features[\"feature\"].drop_duplicates()\n",
    "}"
   ]
  },
  {
   "cell_type": "markdown",
   "metadata": {
    "tags": []
   },
   "source": [
    "## 1 Create train sample balanced between cases"
   ]
  },
  {
   "cell_type": "code",
   "execution_count": 11,
   "metadata": {
    "tags": []
   },
   "outputs": [],
   "source": [
    "tx_count = train_data.groupby(\"file_name\")[\"transaction_id\"].nunique()"
   ]
  },
  {
   "cell_type": "markdown",
   "metadata": {},
   "source": [
    "Exclude cases with very few transactions"
   ]
  },
  {
   "cell_type": "code",
   "execution_count": 12,
   "metadata": {
    "tags": []
   },
   "outputs": [
    {
     "data": {
      "text/plain": [
       "file_name\n",
       "Audius.csv                   5\n",
       "CompounderFinance004.csv    14\n",
       "CompounderFinance005.csv     3\n",
       "Lympo002.csv                 3\n",
       "Taylor001.csv                7\n",
       "dxHub001.csv                18\n",
       "Name: transaction_id, dtype: int64"
      ]
     },
     "execution_count": 12,
     "metadata": {},
     "output_type": "execute_result"
    }
   ],
   "source": [
    "tx_count[tx_count < 20]"
   ]
  },
  {
   "cell_type": "code",
   "execution_count": 13,
   "metadata": {
    "tags": []
   },
   "outputs": [
    {
     "data": {
      "text/plain": [
       "['Audius.csv',\n",
       " 'CompounderFinance004.csv',\n",
       " 'CompounderFinance005.csv',\n",
       " 'Lympo002.csv',\n",
       " 'Taylor001.csv',\n",
       " 'dxHub001.csv']"
      ]
     },
     "execution_count": 13,
     "metadata": {},
     "output_type": "execute_result"
    }
   ],
   "source": [
    "files_to_exclude = list(tx_count[tx_count < 20].index)\n",
    "files_to_exclude"
   ]
  },
  {
   "cell_type": "code",
   "execution_count": 14,
   "metadata": {
    "tags": []
   },
   "outputs": [],
   "source": [
    "file_names = train_data[\"file_name\"].drop_duplicates()"
   ]
  },
  {
   "cell_type": "code",
   "execution_count": 15,
   "metadata": {
    "tags": []
   },
   "outputs": [],
   "source": [
    "target_fer_file = 50\n",
    "ref_per_file = 300\n",
    "samples = []\n",
    "np.random.seed(1234)\n",
    "for f in file_names:\n",
    "    if f not in files_to_exclude:\n",
    "        df = train_data.loc[train_data[\"file_name\"] == f, :]\n",
    "        samples.append(\n",
    "            df.loc[df[\"label\"] == 1, :].sample(target_fer_file, replace=True)\n",
    "        )\n",
    "        samples.append(df.loc[df[\"label\"] == 0, :].sample(ref_per_file, replace=True))\n",
    "train_sample = pd.concat(samples).reset_index(drop=True)"
   ]
  },
  {
   "cell_type": "code",
   "execution_count": 16,
   "metadata": {
    "tags": []
   },
   "outputs": [
    {
     "data": {
      "text/plain": [
       "(39200, 116)"
      ]
     },
     "execution_count": 16,
     "metadata": {},
     "output_type": "execute_result"
    }
   ],
   "source": [
    "train_sample.shape"
   ]
  },
  {
   "cell_type": "code",
   "execution_count": 17,
   "metadata": {
    "tags": []
   },
   "outputs": [
    {
     "data": {
      "text/plain": [
       "0    33600\n",
       "1     5600\n",
       "Name: label, dtype: int64"
      ]
     },
     "execution_count": 17,
     "metadata": {},
     "output_type": "execute_result"
    }
   ],
   "source": [
    "train_sample[\"label\"].value_counts()"
   ]
  },
  {
   "cell_type": "markdown",
   "metadata": {},
   "source": [
    "## 2 binned features (based on binned_features.csv scores)"
   ]
  },
  {
   "cell_type": "markdown",
   "metadata": {},
   "source": [
    "When some bins have low count, it can be useful to merge them with neighboring bins to get better statistics."
   ]
  },
  {
   "cell_type": "code",
   "execution_count": 266,
   "metadata": {
    "tags": []
   },
   "outputs": [],
   "source": [
    "override_breaks = {\n",
    "    \"snd_rcv_mean_amt_usd_tx_std_log_to_median_ratio\": [-3.755, -0.888, 0.74]\n",
    "}"
   ]
  },
  {
   "cell_type": "code",
   "execution_count": 267,
   "metadata": {
    "tags": []
   },
   "outputs": [],
   "source": [
    "for f in override_breaks:\n",
    "    feature_breaks[f] = override_breaks[f]"
   ]
  },
  {
   "cell_type": "code",
   "execution_count": 34,
   "metadata": {
    "tags": []
   },
   "outputs": [],
   "source": [
    "binned_features[\"cnt\"] = binned_features[\"tgt_cnt\"] + binned_features[\"ref_cnt\"]"
   ]
  },
  {
   "cell_type": "code",
   "execution_count": 35,
   "metadata": {
    "tags": []
   },
   "outputs": [],
   "source": [
    "filtered_binned_features = binned_features.loc[binned_features[\"cnt\"] > 50, :]"
   ]
  },
  {
   "cell_type": "code",
   "execution_count": 36,
   "metadata": {
    "tags": []
   },
   "outputs": [],
   "source": [
    "top_positive = filtered_binned_features.sort_values(\"ratio\").tail(25)\n",
    "top_negative = filtered_binned_features.sort_values(\"ratio\").head(25)\n",
    "selected_feature_breaks = pd.concat(\n",
    "    [\n",
    "        top_positive[\"feature\"] + \"_\" + top_positive[\"bin_name\"],\n",
    "        top_negative[\"feature\"] + \"_\" + top_negative[\"bin_name\"],\n",
    "    ]\n",
    ")"
   ]
  },
  {
   "cell_type": "code",
   "execution_count": 37,
   "metadata": {
    "tags": []
   },
   "outputs": [
    {
     "name": "stdout",
     "output_type": "stream",
     "text": [
      "\"snd_rcv_amt_usd_sum_tx_max_log_to_median_ratio_bin0\",\n",
      "\"snd_rcv_amt_usd_sum_tx_max_log_to_median_ratio_bin4\",\n",
      "\"snd_rcv_amt_usd_sum_tx_mean_log_to_median_ratio_bin0\",\n",
      "\"snd_rcv_amt_usd_sum_tx_mean_log_to_median_ratio_bin4\",\n",
      "\"snd_rcv_amt_usd_sum_tx_median_log_to_median_ratio_bin0\",\n",
      "\"snd_rcv_amt_usd_sum_tx_median_log_to_median_ratio_bin4\",\n",
      "\"snd_rcv_amt_usd_sum_tx_min_log_to_median_ratio_bin0\",\n",
      "\"snd_rcv_amt_usd_sum_tx_min_log_to_median_ratio_bin4\",\n",
      "\"snd_rcv_amt_usd_sum_tx_std_log_to_median_ratio_bin4\",\n",
      "\"snd_rcv_life_time_sec_tx_max_log_to_median_ratio_bin4\",\n",
      "\"snd_rcv_life_time_sec_tx_mean_log_to_median_ratio_bin4\",\n",
      "\"snd_rcv_life_time_sec_tx_median_log_to_median_ratio_bin4\",\n",
      "\"snd_rcv_life_time_sec_tx_std_log_to_median_ratio_bin0\",\n",
      "\"snd_rcv_life_time_sec_tx_std_log_to_median_ratio_bin4\",\n",
      "\"snd_rcv_life_time_sec_tx_sum_log_to_median_ratio_bin4\",\n",
      "\"snd_rcv_mean_amt_usd_tx_max_log_to_median_ratio_bin0\",\n",
      "\"snd_rcv_mean_amt_usd_tx_max_log_to_median_ratio_bin1\",\n",
      "\"snd_rcv_mean_amt_usd_tx_max_log_to_median_ratio_bin4\",\n",
      "\"snd_rcv_mean_amt_usd_tx_mean_log_to_median_ratio_bin0\",\n",
      "\"snd_rcv_mean_amt_usd_tx_mean_log_to_median_ratio_bin1\",\n",
      "\"snd_rcv_mean_amt_usd_tx_mean_log_to_median_ratio_bin4\",\n",
      "\"snd_rcv_mean_amt_usd_tx_median_log_to_median_ratio_bin0\",\n",
      "\"snd_rcv_mean_amt_usd_tx_median_log_to_median_ratio_bin1\",\n",
      "\"snd_rcv_mean_amt_usd_tx_median_log_to_median_ratio_bin4\",\n",
      "\"snd_rcv_mean_amt_usd_tx_min_log_to_median_ratio_bin0\",\n",
      "\"snd_rcv_mean_amt_usd_tx_min_log_to_median_ratio_bin1\",\n",
      "\"snd_rcv_mean_amt_usd_tx_min_log_to_median_ratio_bin4\",\n",
      "\"snd_rcv_mean_amt_usd_tx_std_log_to_median_ratio_bin1\",\n",
      "\"snd_rcv_mean_amt_usd_tx_sum_log_to_median_ratio_bin1\",\n",
      "\"snd_rcv_mean_amt_usd_tx_sum_log_to_median_ratio_bin4\",\n",
      "\"snd_rcv_mean_time_diff_sec_tx_max_log_to_median_ratio_bin0\",\n",
      "\"snd_rcv_mean_time_diff_sec_tx_mean_log_to_median_ratio_bin0\",\n",
      "\"snd_rcv_mean_time_diff_sec_tx_median_log_to_median_ratio_bin0\",\n",
      "\"snd_rcv_mean_time_diff_sec_tx_min_log_to_median_ratio_bin0\",\n",
      "\"snd_rcv_mean_time_diff_sec_tx_std_log_to_median_ratio_bin3\",\n",
      "\"snd_rcv_mean_time_diff_sec_tx_sum_log_to_median_ratio_bin4\",\n",
      "\"snd_rcv_time_diff_sec_tx_max_log_to_median_ratio_bin0\",\n",
      "\"snd_rcv_time_diff_sec_tx_mean_log_to_median_ratio_bin0\",\n",
      "\"snd_rcv_time_diff_sec_tx_median_log_to_median_ratio_bin0\",\n",
      "\"snd_rcv_time_diff_sec_tx_min_log_to_median_ratio_bin0\",\n",
      "\"snd_rcv_time_diff_sec_tx_std_log_to_median_ratio_bin3\",\n",
      "\"snd_rcv_tkn_type_cnt_tx_max_log_to_median_ratio_bin4\",\n",
      "\"snd_rcv_tkn_type_cnt_tx_mean_log_to_median_ratio_bin4\",\n",
      "\"snd_rcv_tkn_type_cnt_tx_median_log_to_median_ratio_bin4\",\n",
      "\"snd_rcv_tkn_type_cnt_tx_min_log_to_median_ratio_bin4\",\n",
      "\"snd_rcv_tkn_type_cnt_tx_std_log_to_median_ratio_bin1\",\n",
      "\"snd_rcv_tkn_type_cnt_tx_sum_log_to_median_ratio_bin4\",\n",
      "\"snd_rcv_tx_cnt_tx_mean_log_to_median_ratio_bin4\",\n",
      "\"snd_rcv_tx_cnt_tx_std_log_to_median_ratio_bin3\",\n",
      "\"snd_rcv_tx_cnt_tx_sum_log_to_median_ratio_bin4\"\n"
     ]
    }
   ],
   "source": [
    "print('\"' + '\",\\n\"'.join(sorted(selected_feature_breaks)) + '\"')"
   ]
  },
  {
   "cell_type": "code",
   "execution_count": 306,
   "metadata": {
    "tags": []
   },
   "outputs": [],
   "source": [
    "selected_feature_breaks = [\n",
    "    \"snd_rcv_amt_usd_sum_tx_max_log_to_median_ratio_bin0\",\n",
    "    \"snd_rcv_amt_usd_sum_tx_max_log_to_median_ratio_bin1\",\n",
    "    \"snd_rcv_amt_usd_sum_tx_max_log_to_median_ratio_bin4\",\n",
    "    # \"snd_rcv_amt_usd_sum_tx_mean_log_to_median_ratio_bin0\",\n",
    "    # \"snd_rcv_amt_usd_sum_tx_mean_log_to_median_ratio_bin4\",\n",
    "    \"snd_rcv_amt_usd_sum_tx_median_log_to_median_ratio_bin0\",\n",
    "    \"snd_rcv_amt_usd_sum_tx_median_log_to_median_ratio_bin4\",\n",
    "    \"snd_rcv_amt_usd_sum_tx_min_log_to_median_ratio_bin0\",\n",
    "    \"snd_rcv_amt_usd_sum_tx_min_log_to_median_ratio_bin4\",\n",
    "    \"snd_rcv_amt_usd_sum_tx_std_log_to_median_ratio_bin4\",\n",
    "    \"snd_rcv_life_time_sec_tx_max_log_to_median_ratio_bin4\",\n",
    "    \"snd_rcv_life_time_sec_tx_max_log_to_median_ratio_bin1\",\n",
    "    \"snd_rcv_life_time_sec_tx_max_log_to_median_ratio_bin4\",\n",
    "    \"snd_rcv_life_time_sec_tx_mean_log_to_median_ratio_bin4\",\n",
    "    \"snd_rcv_life_time_sec_tx_median_log_to_median_ratio_bin4\",\n",
    "    # \"snd_rcv_life_time_sec_tx_std_log_to_median_ratio_bin0\",\n",
    "    # \"snd_rcv_life_time_sec_tx_std_log_to_median_ratio_bin4\",\n",
    "    # \"snd_rcv_life_time_sec_tx_sum_log_to_median_ratio_bin4\",\n",
    "    \"snd_rcv_mean_amt_usd_tx_max_log_to_median_ratio_bin0\",\n",
    "    \"snd_rcv_mean_amt_usd_tx_max_log_to_median_ratio_bin1\",\n",
    "    \"snd_rcv_mean_amt_usd_tx_max_log_to_median_ratio_bin4\",\n",
    "    # \"snd_rcv_mean_amt_usd_tx_mean_log_to_median_ratio_bin0\",\n",
    "    # \"snd_rcv_mean_amt_usd_tx_mean_log_to_median_ratio_bin1\",\n",
    "    # \"snd_rcv_mean_amt_usd_tx_mean_log_to_median_ratio_bin4\",\n",
    "    \"snd_rcv_mean_amt_usd_tx_median_log_to_median_ratio_bin0\",\n",
    "    \"snd_rcv_mean_amt_usd_tx_median_log_to_median_ratio_bin1\",\n",
    "    \"snd_rcv_mean_amt_usd_tx_median_log_to_median_ratio_bin4\",\n",
    "    \"snd_rcv_mean_amt_usd_tx_min_log_to_median_ratio_bin0\",\n",
    "    \"snd_rcv_mean_amt_usd_tx_min_log_to_median_ratio_bin1\",\n",
    "    \"snd_rcv_mean_amt_usd_tx_min_log_to_median_ratio_bin4\",\n",
    "    # \"snd_rcv_mean_amt_usd_tx_std_log_to_median_ratio_bin1\",\n",
    "    \"snd_rcv_mean_amt_usd_tx_std_log_to_median_ratio_bin3\",\n",
    "    \"snd_rcv_mean_amt_usd_tx_sum_log_to_median_ratio_bin0\",\n",
    "    \"snd_rcv_mean_amt_usd_tx_sum_log_to_median_ratio_bin1\",\n",
    "    \"snd_rcv_mean_amt_usd_tx_sum_log_to_median_ratio_bin2\",\n",
    "    \"snd_rcv_mean_amt_usd_tx_sum_log_to_median_ratio_bin4\",\n",
    "    \"snd_rcv_mean_time_diff_sec_tx_max_log_to_median_ratio_bin0\",\n",
    "    # snd_rcv_mean_time_diff_sec_tx_mean_log_to_median_ratio_bin0\",\n",
    "    \"snd_rcv_mean_time_diff_sec_tx_median_log_to_median_ratio_bin0\",\n",
    "    \"snd_rcv_mean_time_diff_sec_tx_min_log_to_median_ratio_bin0\",\n",
    "    # \"snd_rcv_mean_time_diff_sec_tx_std_log_to_median_ratio_bin3\",\n",
    "    # \"snd_rcv_mean_time_diff_sec_tx_sum_log_to_median_ratio_bin4\",\n",
    "    \"snd_rcv_time_diff_sec_tx_max_log_to_median_ratio_bin0\",\n",
    "    # \"snd_rcv_time_diff_sec_tx_mean_log_to_median_ratio_bin0\",\n",
    "    \"snd_rcv_time_diff_sec_tx_median_log_to_median_ratio_bin0\",\n",
    "    \"snd_rcv_time_diff_sec_tx_min_log_to_median_ratio_bin0\",\n",
    "    \"snd_rcv_time_diff_sec_tx_min_log_to_median_ratio_bin3\",\n",
    "    \"snd_rcv_time_diff_sec_tx_min_log_to_median_ratio_bin4\",\n",
    "    # \"snd_rcv_time_diff_sec_tx_std_log_to_median_ratio_bin3\",\n",
    "    # \"snd_rcv_time_diff_sec_tx_std_log_to_median_ratio_bin4\",\n",
    "    \"snd_rcv_tkn_type_cnt_tx_max_log_to_median_ratio_bin4\",\n",
    "    # \"snd_rcv_tkn_type_cnt_tx_mean_log_to_median_ratio_bin4\",\n",
    "    \"snd_rcv_tkn_type_cnt_tx_median_log_to_median_ratio_bin4\",\n",
    "    \"snd_rcv_tkn_type_cnt_tx_min_log_to_median_ratio_bin4\",\n",
    "    # \"snd_rcv_tkn_type_cnt_tx_std_log_to_median_ratio_bin1\",\n",
    "    \"snd_rcv_tkn_type_cnt_tx_sum_log_to_median_ratio_bin4\",\n",
    "    \"snd_rcv_tx_cnt_tx_mean_log_to_median_ratio_bin4\",\n",
    "    \"snd_rcv_tx_cnt_tx_max_log_to_median_ratio_bin0\",\n",
    "    # \"snd_rcv_tx_cnt_tx_std_log_to_median_ratio_bin3\",\n",
    "    # \"snd_rcv_tx_cnt_tx_sum_log_to_median_ratio_bin4\"\n",
    "]"
   ]
  },
  {
   "cell_type": "code",
   "execution_count": 307,
   "metadata": {
    "tags": []
   },
   "outputs": [],
   "source": [
    "selected_features = list(\n",
    "    set([re.sub(\"_bin\\d+$\", \"\", x) for x in selected_feature_breaks])\n",
    ")"
   ]
  },
  {
   "cell_type": "code",
   "execution_count": 308,
   "metadata": {
    "tags": []
   },
   "outputs": [],
   "source": [
    "model_train_sample = pd.concat(\n",
    "    [\n",
    "        bin_numeric_feature(train_sample[f], feature_breaks[f])\n",
    "        for f in selected_features\n",
    "    ],\n",
    "    axis=1,\n",
    ").loc[:, selected_feature_breaks]\n",
    "\n",
    "model_train_data = pd.concat(\n",
    "    [bin_numeric_feature(train_data[f], feature_breaks[f]) for f in selected_features],\n",
    "    axis=1,\n",
    ").loc[:, selected_feature_breaks]"
   ]
  },
  {
   "cell_type": "code",
   "execution_count": 309,
   "metadata": {
    "tags": []
   },
   "outputs": [],
   "source": [
    "model_train_sample[\"label\"] = train_sample[\"label\"]"
   ]
  },
  {
   "cell_type": "markdown",
   "metadata": {},
   "source": [
    "## 2 Model training and evaluation"
   ]
  },
  {
   "cell_type": "code",
   "execution_count": 361,
   "metadata": {
    "tags": []
   },
   "outputs": [],
   "source": [
    "X = model_train_sample.loc[:, selected_feature_breaks]\n",
    "y = model_train_sample[\"label\"]\n",
    "class_weight = {0: 1, 1: 2.5}\n",
    "# class_weight='balanced'\n",
    "# model = LogisticRegression(class_weight=class_weight).fit(X, y)\n",
    "# model = SVC(class_weight='balanced').fit(X, y)\n",
    "# model = RandomForestClassifier(class_weight=class_weight).fit(X, y)\n",
    "model = GradientBoostingClassifier(n_estimators=50).fit(X, y)"
   ]
  },
  {
   "cell_type": "code",
   "execution_count": 362,
   "metadata": {
    "tags": []
   },
   "outputs": [],
   "source": [
    "train_pred_label = model.predict(model_train_sample.loc[:, selected_feature_breaks])\n",
    "train_true_label = model_train_sample[\"label\"]"
   ]
  },
  {
   "cell_type": "code",
   "execution_count": 363,
   "metadata": {
    "tags": []
   },
   "outputs": [
    {
     "name": "stdout",
     "output_type": "stream",
     "text": [
      "recall: 0.599, precision: 0.815, specificity: 0.977\n"
     ]
    },
    {
     "data": {
      "image/png": "[encoded data removed]",
      "text/plain": [
       "<Figure size 640x480 with 2 Axes>"
      ]
     },
     "metadata": {},
     "output_type": "display_data"
    }
   ],
   "source": [
    "train_metrics = evaluate_model(\n",
    "    train_true_label, train_pred_label, confusion_title=\"train\"\n",
    ")\n",
    "print(\n",
    "    f\"recall: {train_metrics['recall']}, \"\n",
    "    + f\"precision: {train_metrics['precision']}, \"\n",
    "    + f\"specificity: {train_metrics['specificity']}\"\n",
    ")"
   ]
  },
  {
   "cell_type": "code",
   "execution_count": 364,
   "metadata": {
    "tags": []
   },
   "outputs": [],
   "source": [
    "model_val_data = pd.concat(\n",
    "    [\n",
    "        bin_numeric_feature(validation_data[f], feature_breaks[f])\n",
    "        for f in selected_features\n",
    "    ],\n",
    "    axis=1,\n",
    ").loc[:, selected_feature_breaks]"
   ]
  },
  {
   "cell_type": "code",
   "execution_count": 365,
   "metadata": {
    "tags": []
   },
   "outputs": [],
   "source": [
    "val_pred_label = model.predict(model_val_data.loc[:, selected_feature_breaks])\n",
    "val_true_label = validation_data[\"label\"]"
   ]
  },
  {
   "cell_type": "code",
   "execution_count": 366,
   "metadata": {
    "tags": []
   },
   "outputs": [
    {
     "name": "stdout",
     "output_type": "stream",
     "text": [
      "recall: 0.626, precision: 0.072, specificity: 0.984\n"
     ]
    },
    {
     "data": {
      "image/png": "[encoded data removed]",
      "text/plain": [
       "<Figure size 640x480 with 2 Axes>"
      ]
     },
     "metadata": {},
     "output_type": "display_data"
    }
   ],
   "source": [
    "val_metrics = evaluate_model(\n",
    "    val_true_label, val_pred_label, confusion_title=\"validation\"\n",
    ")\n",
    "print(\n",
    "    f\"recall: {val_metrics['recall']}, \"\n",
    "    + f\"precision: {val_metrics['precision']}, \"\n",
    "    + f\"specificity: {val_metrics['specificity']}\"\n",
    ")"
   ]
  },
  {
   "cell_type": "markdown",
   "metadata": {},
   "source": [
    "## 4 Report"
   ]
  },
  {
   "cell_type": "code",
   "execution_count": 367,
   "metadata": {
    "tags": []
   },
   "outputs": [],
   "source": [
    "if type(model) is LogisticRegression:\n",
    "    model_coefs = (\n",
    "        pd.DataFrame(\n",
    "            zip(selected_feature_breaks, model.coef_[0]), columns=[\"feature\", \"coef\"]\n",
    "        )\n",
    "        .sort_values(\"coef\")\n",
    "        .reset_index(drop=True)\n",
    "    )\n",
    "    print(model_coefs.sort_values(\"coef\", ascending=False).head())\n",
    "    print(model_coefs.sort_values(\"coef\", ascending=False).tail())"
   ]
  },
  {
   "cell_type": "code",
   "execution_count": 368,
   "metadata": {
    "tags": []
   },
   "outputs": [
    {
     "name": "stdout",
     "output_type": "stream",
     "text": [
      "                                              feature  importance\n",
      "20  snd_rcv_mean_amt_usd_tx_min_log_to_median_rati...    0.306148\n",
      "28  snd_rcv_mean_time_diff_sec_tx_median_log_to_me...    0.271420\n",
      "40     snd_rcv_tx_cnt_tx_max_log_to_median_ratio_bin0    0.093440\n",
      "16  snd_rcv_mean_amt_usd_tx_median_log_to_median_r...    0.044213\n",
      "23  snd_rcv_mean_amt_usd_tx_sum_log_to_median_rati...    0.031319\n"
     ]
    }
   ],
   "source": [
    "if type(model) in {RandomForestClassifier, GradientBoostingClassifier}:\n",
    "    feature_importance = pd.DataFrame(\n",
    "        zip(selected_feature_breaks, model.feature_importances_),\n",
    "        columns=[\"feature\", \"importance\"],\n",
    "    )\n",
    "    print(feature_importance.sort_values(\"importance\", ascending=False).head())"
   ]
  },
  {
   "cell_type": "code",
   "execution_count": 369,
   "metadata": {
    "tags": []
   },
   "outputs": [],
   "source": [
    "train_pred_label = model.predict(model_train_data.loc[:, selected_feature_breaks])"
   ]
  },
  {
   "cell_type": "code",
   "execution_count": 370,
   "metadata": {
    "tags": []
   },
   "outputs": [],
   "source": [
    "train_results = train_data.loc[:, [\"file_name\", \"label\"]].copy()\n",
    "train_results[\"pred_label\"] = train_pred_label\n",
    "train_results[\"exp_part\"] = \"train\""
   ]
  },
  {
   "cell_type": "code",
   "execution_count": 371,
   "metadata": {
    "tags": []
   },
   "outputs": [],
   "source": [
    "validation_results = validation_data.loc[:, [\"file_name\", \"label\"]]\n",
    "validation_results[\"pred_label\"] = val_pred_label\n",
    "validation_results[\"exp_part\"] = \"validation\""
   ]
  },
  {
   "cell_type": "code",
   "execution_count": 372,
   "metadata": {
    "tags": []
   },
   "outputs": [],
   "source": [
    "model_result = pd.concat([train_results, validation_results])"
   ]
  },
  {
   "cell_type": "code",
   "execution_count": 373,
   "metadata": {
    "tags": []
   },
   "outputs": [],
   "source": [
    "cases = pd.read_csv(\"Validated_V0_Desriptions.csv\").rename(\n",
    "    {\"File Names\": \"file_name\", \"Exploit Types\": \"exploit_type\"}, axis=1\n",
    ")\n",
    "cases[\"file_name\"] += \".csv\"\n",
    "cases = cases.loc[\n",
    "    :, [\"file_name\", \"exploit_type\", \"Minimum Time\", \"train/test splits\", \"Attack Link\"]\n",
    "]"
   ]
  },
  {
   "cell_type": "code",
   "execution_count": 374,
   "metadata": {
    "tags": []
   },
   "outputs": [],
   "source": [
    "model_results = cases.merge(model_result)"
   ]
  },
  {
   "cell_type": "code",
   "execution_count": 375,
   "metadata": {
    "tags": []
   },
   "outputs": [],
   "source": [
    "file_report, exploit_report = report_by_sections(model_results)"
   ]
  },
  {
   "cell_type": "code",
   "execution_count": 376,
   "metadata": {
    "tags": []
   },
   "outputs": [
    {
     "data": {
      "text/html": [
       "<div>\n",
       "<style scoped>\n",
       "    .dataframe tbody tr th:only-of-type {\n",
       "        vertical-align: middle;\n",
       "    }\n",
       "\n",
       "    .dataframe tbody tr th {\n",
       "        vertical-align: top;\n",
       "    }\n",
       "\n",
       "    .dataframe thead th {\n",
       "        text-align: right;\n",
       "    }\n",
       "</style>\n",
       "<table border=\"1\" class=\"dataframe\">\n",
       "  <thead>\n",
       "    <tr style=\"text-align: right;\">\n",
       "      <th></th>\n",
       "      <th>exploit_type</th>\n",
       "      <th>exp_part</th>\n",
       "      <th>files</th>\n",
       "      <th>tp</th>\n",
       "      <th>fp</th>\n",
       "      <th>tn</th>\n",
       "      <th>fn</th>\n",
       "      <th>recall</th>\n",
       "      <th>precision</th>\n",
       "    </tr>\n",
       "  </thead>\n",
       "  <tbody>\n",
       "    <tr>\n",
       "      <th>0</th>\n",
       "      <td>Access Control</td>\n",
       "      <td>train</td>\n",
       "      <td>54</td>\n",
       "      <td>1222</td>\n",
       "      <td>20974</td>\n",
       "      <td>369894</td>\n",
       "      <td>86</td>\n",
       "      <td>0.934251</td>\n",
       "      <td>0.055055</td>\n",
       "    </tr>\n",
       "    <tr>\n",
       "      <th>1</th>\n",
       "      <td>Access Control</td>\n",
       "      <td>validation</td>\n",
       "      <td>11</td>\n",
       "      <td>98</td>\n",
       "      <td>985</td>\n",
       "      <td>58475</td>\n",
       "      <td>36</td>\n",
       "      <td>0.731343</td>\n",
       "      <td>0.090489</td>\n",
       "    </tr>\n",
       "    <tr>\n",
       "      <th>2</th>\n",
       "      <td>Flash Loan Attack</td>\n",
       "      <td>train</td>\n",
       "      <td>18</td>\n",
       "      <td>18</td>\n",
       "      <td>759</td>\n",
       "      <td>59311</td>\n",
       "      <td>1</td>\n",
       "      <td>0.947368</td>\n",
       "      <td>0.023166</td>\n",
       "    </tr>\n",
       "    <tr>\n",
       "      <th>3</th>\n",
       "      <td>Flash Loan Attack</td>\n",
       "      <td>validation</td>\n",
       "      <td>5</td>\n",
       "      <td>16</td>\n",
       "      <td>553</td>\n",
       "      <td>25833</td>\n",
       "      <td>2</td>\n",
       "      <td>0.888889</td>\n",
       "      <td>0.028120</td>\n",
       "    </tr>\n",
       "    <tr>\n",
       "      <th>4</th>\n",
       "      <td>Phishing</td>\n",
       "      <td>train</td>\n",
       "      <td>16</td>\n",
       "      <td>2</td>\n",
       "      <td>162</td>\n",
       "      <td>9021</td>\n",
       "      <td>24</td>\n",
       "      <td>0.076923</td>\n",
       "      <td>0.012195</td>\n",
       "    </tr>\n",
       "    <tr>\n",
       "      <th>5</th>\n",
       "      <td>Phishing</td>\n",
       "      <td>validation</td>\n",
       "      <td>5</td>\n",
       "      <td>1</td>\n",
       "      <td>2</td>\n",
       "      <td>244</td>\n",
       "      <td>19</td>\n",
       "      <td>0.050000</td>\n",
       "      <td>0.333333</td>\n",
       "    </tr>\n",
       "    <tr>\n",
       "      <th>6</th>\n",
       "      <td>Price Manupilation</td>\n",
       "      <td>train</td>\n",
       "      <td>5</td>\n",
       "      <td>5</td>\n",
       "      <td>9</td>\n",
       "      <td>649</td>\n",
       "      <td>0</td>\n",
       "      <td>1.000000</td>\n",
       "      <td>0.357143</td>\n",
       "    </tr>\n",
       "    <tr>\n",
       "      <th>7</th>\n",
       "      <td>Price Manupilation</td>\n",
       "      <td>validation</td>\n",
       "      <td>1</td>\n",
       "      <td>1</td>\n",
       "      <td>16</td>\n",
       "      <td>580</td>\n",
       "      <td>0</td>\n",
       "      <td>1.000000</td>\n",
       "      <td>0.058824</td>\n",
       "    </tr>\n",
       "    <tr>\n",
       "      <th>8</th>\n",
       "      <td>Rug pull</td>\n",
       "      <td>train</td>\n",
       "      <td>25</td>\n",
       "      <td>174</td>\n",
       "      <td>801</td>\n",
       "      <td>55300</td>\n",
       "      <td>139</td>\n",
       "      <td>0.555911</td>\n",
       "      <td>0.178462</td>\n",
       "    </tr>\n",
       "    <tr>\n",
       "      <th>9</th>\n",
       "      <td>Rug pull</td>\n",
       "      <td>validation</td>\n",
       "      <td>6</td>\n",
       "      <td>6</td>\n",
       "      <td>19</td>\n",
       "      <td>11808</td>\n",
       "      <td>16</td>\n",
       "      <td>0.272727</td>\n",
       "      <td>0.240000</td>\n",
       "    </tr>\n",
       "  </tbody>\n",
       "</table>\n",
       "</div>"
      ],
      "text/plain": [
       "         exploit_type    exp_part  files    tp     fp      tn   fn    recall  \\\n",
       "0      Access Control       train     54  1222  20974  369894   86  0.934251   \n",
       "1      Access Control  validation     11    98    985   58475   36  0.731343   \n",
       "2   Flash Loan Attack       train     18    18    759   59311    1  0.947368   \n",
       "3   Flash Loan Attack  validation      5    16    553   25833    2  0.888889   \n",
       "4            Phishing       train     16     2    162    9021   24  0.076923   \n",
       "5            Phishing  validation      5     1      2     244   19  0.050000   \n",
       "6  Price Manupilation       train      5     5      9     649    0  1.000000   \n",
       "7  Price Manupilation  validation      1     1     16     580    0  1.000000   \n",
       "8            Rug pull       train     25   174    801   55300  139  0.555911   \n",
       "9            Rug pull  validation      6     6     19   11808   16  0.272727   \n",
       "\n",
       "   precision  \n",
       "0   0.055055  \n",
       "1   0.090489  \n",
       "2   0.023166  \n",
       "3   0.028120  \n",
       "4   0.012195  \n",
       "5   0.333333  \n",
       "6   0.357143  \n",
       "7   0.058824  \n",
       "8   0.178462  \n",
       "9   0.240000  "
      ]
     },
     "execution_count": 376,
     "metadata": {},
     "output_type": "execute_result"
    }
   ],
   "source": [
    "exploit_report"
   ]
  },
  {
   "cell_type": "code",
   "execution_count": 377,
   "metadata": {
    "tags": []
   },
   "outputs": [
    {
     "data": {
      "text/plain": [
       "exp_part\n",
       "train         0.618644\n",
       "validation    0.500000\n",
       "Name: catch_any, dtype: float64"
      ]
     },
     "execution_count": 377,
     "metadata": {},
     "output_type": "execute_result"
    }
   ],
   "source": [
    "file_report.groupby(\"exp_part\")[\"catch_any\"].mean()"
   ]
  },
  {
   "cell_type": "code",
   "execution_count": null,
   "metadata": {},
   "outputs": [],
   "source": []
  }
 ],
 "metadata": {
  "instance_type": "ml.m5.xlarge",
  "kernelspec": {
   "display_name": "Python 3 (Base Python 3.0)",
   "language": "python",
   "name": "python3__SAGEMAKER_INTERNAL__arn:aws:sagemaker:us-east-1:081325390199:image/sagemaker-base-python-310-v1"
  },
  "language_info": {
   "codemirror_mode": {
    "name": "ipython",
    "version": 3
   },
   "file_extension": ".py",
   "mimetype": "text/x-python",
   "name": "python",
   "nbconvert_exporter": "python",
   "pygments_lexer": "ipython3",
   "version": "3.10.8"
  },
  "vscode": {
   "interpreter": {
    "hash": "c52e82a535f873ccdbbc514f272df126dd80566b4218920d349d6cfdddfda4b2"
   }
  }
 },
 "nbformat": 4,
 "nbformat_minor": 4
}
