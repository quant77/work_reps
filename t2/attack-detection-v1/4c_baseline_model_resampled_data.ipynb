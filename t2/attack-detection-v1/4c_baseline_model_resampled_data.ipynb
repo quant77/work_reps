{
 "cells": [
  {
   "cell_type": "markdown",
   "metadata": {},
   "source": [
    "# Baseline models on resampled data"
   ]
  },
  {
   "cell_type": "code",
   "execution_count": 2,
   "metadata": {
    "tags": []
   },
   "outputs": [],
   "source": [
    "import numpy as np\n",
    "import pandas as pd\n",
    "\n",
    "import matplotlib.pyplot as plt\n",
    "import seaborn as sns\n",
    "\n",
    "from sklearn.feature_selection import mutual_info_classif\n",
    "from sklearn.linear_model import LogisticRegression\n",
    "from sklearn.ensemble import RandomForestClassifier, GradientBoostingClassifier\n",
    "from sklearn.svm import SVC\n",
    "from sklearn.naive_bayes import GaussianNB\n",
    "from sklearn.tree import DecisionTreeClassifier\n",
    "\n",
    "\n",
    "import scikitplot as skplt\n",
    "\n",
    "import xgboost as xgb\n",
    "\n",
    "from utils.evaluation import evaluate_model\n",
    "from utils.report import report_by_sections"
   ]
  },
  {
   "cell_type": "code",
   "execution_count": 3,
   "metadata": {
    "tags": []
   },
   "outputs": [],
   "source": [
    "train_data = pd.read_csv(\"data/train_data.csv\", parse_dates=[\"block_time\"])"
   ]
  },
  {
   "cell_type": "code",
   "execution_count": 4,
   "metadata": {
    "tags": []
   },
   "outputs": [],
   "source": [
    "features = [f for f in train_data.columns if f.endswith(\"_log_to_median_ratio\")]"
   ]
  },
  {
   "cell_type": "code",
   "execution_count": 5,
   "metadata": {
    "tags": []
   },
   "outputs": [
    {
     "data": {
      "text/plain": [
       "53"
      ]
     },
     "execution_count": 5,
     "metadata": {},
     "output_type": "execute_result"
    }
   ],
   "source": [
    "len(features)"
   ]
  },
  {
   "cell_type": "code",
   "execution_count": 6,
   "metadata": {
    "tags": []
   },
   "outputs": [],
   "source": [
    "model_train_data = train_data.loc[\n",
    "    :, [\"file_name\", \"transaction_id\", \"block_time\"] + features + [\"label\"]\n",
    "].fillna(0)"
   ]
  },
  {
   "cell_type": "code",
   "execution_count": 7,
   "metadata": {
    "tags": []
   },
   "outputs": [],
   "source": [
    "validation_data = pd.read_csv(\"data/validation_data.csv\", parse_dates=[\"block_time\"])"
   ]
  },
  {
   "cell_type": "markdown",
   "metadata": {
    "tags": []
   },
   "source": [
    "## 1 Create train sample balanced between cases"
   ]
  },
  {
   "cell_type": "code",
   "execution_count": 8,
   "metadata": {
    "tags": []
   },
   "outputs": [],
   "source": [
    "tx_count = train_data.groupby(\"file_name\")[\"transaction_id\"].nunique()"
   ]
  },
  {
   "cell_type": "markdown",
   "metadata": {},
   "source": [
    "Exclude cases with very few transactions"
   ]
  },
  {
   "cell_type": "code",
   "execution_count": 9,
   "metadata": {
    "tags": []
   },
   "outputs": [
    {
     "data": {
      "text/plain": [
       "file_name\n",
       "Audius.csv                   5\n",
       "CompounderFinance004.csv    14\n",
       "CompounderFinance005.csv     3\n",
       "Lympo002.csv                 3\n",
       "Taylor001.csv                7\n",
       "dxHub001.csv                18\n",
       "Name: transaction_id, dtype: int64"
      ]
     },
     "execution_count": 9,
     "metadata": {},
     "output_type": "execute_result"
    }
   ],
   "source": [
    "tx_count[tx_count < 20]"
   ]
  },
  {
   "cell_type": "code",
   "execution_count": 10,
   "metadata": {
    "tags": []
   },
   "outputs": [
    {
     "data": {
      "text/plain": [
       "['Audius.csv',\n",
       " 'CompounderFinance004.csv',\n",
       " 'CompounderFinance005.csv',\n",
       " 'Lympo002.csv',\n",
       " 'Taylor001.csv',\n",
       " 'dxHub001.csv']"
      ]
     },
     "execution_count": 10,
     "metadata": {},
     "output_type": "execute_result"
    }
   ],
   "source": [
    "files_to_exclude = list(tx_count[tx_count < 20].index)\n",
    "files_to_exclude"
   ]
  },
  {
   "cell_type": "code",
   "execution_count": 11,
   "metadata": {
    "tags": []
   },
   "outputs": [],
   "source": [
    "file_names = train_data[\"file_name\"].drop_duplicates()"
   ]
  },
  {
   "cell_type": "code",
   "execution_count": 12,
   "metadata": {
    "tags": []
   },
   "outputs": [],
   "source": [
    "target_fer_file = 50\n",
    "ref_per_file = 300\n",
    "samples = []\n",
    "np.random.seed(1234)\n",
    "for f in file_names:\n",
    "    if f not in files_to_exclude:\n",
    "        df = train_data.loc[train_data[\"file_name\"] == f, :]\n",
    "        samples.append(\n",
    "            df.loc[df[\"label\"] == 1, :].sample(target_fer_file, replace=True)\n",
    "        )\n",
    "        samples.append(df.loc[df[\"label\"] == 0, :].sample(ref_per_file, replace=True))\n",
    "train_sample = pd.concat(samples).reset_index(drop=True)"
   ]
  },
  {
   "cell_type": "code",
   "execution_count": 13,
   "metadata": {
    "tags": []
   },
   "outputs": [
    {
     "data": {
      "text/plain": [
       "(39200, 116)"
      ]
     },
     "execution_count": 13,
     "metadata": {},
     "output_type": "execute_result"
    }
   ],
   "source": [
    "train_sample.shape"
   ]
  },
  {
   "cell_type": "code",
   "execution_count": 14,
   "metadata": {
    "tags": []
   },
   "outputs": [
    {
     "data": {
      "text/plain": [
       "0    33600\n",
       "1     5600\n",
       "Name: label, dtype: int64"
      ]
     },
     "execution_count": 14,
     "metadata": {},
     "output_type": "execute_result"
    }
   ],
   "source": [
    "train_sample[\"label\"].value_counts()"
   ]
  },
  {
   "cell_type": "markdown",
   "metadata": {},
   "source": [
    "## 2 Simple feature selection"
   ]
  },
  {
   "cell_type": "code",
   "execution_count": 15,
   "metadata": {
    "tags": []
   },
   "outputs": [],
   "source": [
    "mu_score = mutual_info_classif(\n",
    "    train_sample.loc[:, features].fillna(0), train_sample[\"label\"], random_state=1234\n",
    ")"
   ]
  },
  {
   "cell_type": "code",
   "execution_count": 16,
   "metadata": {
    "tags": []
   },
   "outputs": [],
   "source": [
    "mu_score_df = pd.DataFrame(\n",
    "    zip(features, mu_score), columns=[\"feature\", \"score\"]\n",
    ").sort_values(\"score\", ascending=False)"
   ]
  },
  {
   "cell_type": "code",
   "execution_count": 17,
   "metadata": {
    "tags": []
   },
   "outputs": [],
   "source": [
    "# mu_score_df.to_csv(\"mu_score_on_resampled.csv\", index=False)"
   ]
  },
  {
   "cell_type": "code",
   "execution_count": 18,
   "metadata": {
    "tags": []
   },
   "outputs": [
    {
     "data": {
      "text/plain": [
       "(39200, 116)"
      ]
     },
     "execution_count": 18,
     "metadata": {},
     "output_type": "execute_result"
    }
   ],
   "source": [
    "train_sample.shape"
   ]
  },
  {
   "cell_type": "code",
   "execution_count": 19,
   "metadata": {
    "tags": []
   },
   "outputs": [],
   "source": [
    "selected = [\n",
    "    \"snd_rcv_amt_usd_sum_tx_mean_log_to_median_ratio\",\n",
    "    \"snd_rcv_mean_amt_usd_tx_median_log_to_median_ratio\",\n",
    "    \"amount_usd_tx_sum_log_to_median_ratio\",\n",
    "    \"snd_rcv_life_time_sec_tx_min_log_to_median_ratio\",\n",
    "    \"snd_rcv_mean_time_diff_sec_tx_sum_log_to_median_ratio\",\n",
    "    \"snd_rcv_tx_cnt_tx_sum_log_to_median_ratio\",\n",
    "    \"snd_rcv_time_diff_sec_tx_mean_log_to_median_ratio\",\n",
    "]"
   ]
  },
  {
   "cell_type": "markdown",
   "metadata": {},
   "source": [
    "## 3 Model training and evaluation"
   ]
  },
  {
   "cell_type": "code",
   "execution_count": 20,
   "metadata": {
    "tags": []
   },
   "outputs": [],
   "source": [
    "X = train_sample.loc[:, selected].fillna(0)\n",
    "y = train_sample[\"label\"]\n",
    "# model = LogisticRegression(class_weight='balanced').fit(X, y)\n",
    "# model = RandomForestClassifier(max_depth=4, n_estimators=100, class_weight='balanced').fit(X, y)\n",
    "model = GradientBoostingClassifier(n_estimators=50, max_depth=2).fit(X, y)\n",
    "# model = SVC(class_weight='balanced').fit(X, y)\n",
    "# model = GaussianNB().fit(X, y)\n",
    "# dtrain = xgb.DMatrix(X, y)\n",
    "# param = {'max_depth': 3, 'eta': .2, 'objective': 'binary:logistic'}\n",
    "# model = xgb.train(param, dtrain)\n",
    "# model = DecisionTreeClassifier(max_depth=4).fit(X, y)"
   ]
  },
  {
   "cell_type": "code",
   "execution_count": 21,
   "metadata": {
    "tags": []
   },
   "outputs": [],
   "source": [
    "train_pred_label = model.predict(X)\n",
    "# train_pred_prob = model.predict(dtrain)\n",
    "# train_pred_label = (train_pred_prob > 0.5).astype(int)\n",
    "train_true_label = train_sample[\"label\"]"
   ]
  },
  {
   "cell_type": "code",
   "execution_count": 22,
   "metadata": {
    "tags": []
   },
   "outputs": [
    {
     "name": "stdout",
     "output_type": "stream",
     "text": [
      "recall: 0.616, precision: 0.849, specificity: 0.982\n"
     ]
    },
    {
     "data": {
      "image/png": "[encoded data removed]",
      "text/plain": [
       "<Figure size 640x480 with 2 Axes>"
      ]
     },
     "metadata": {},
     "output_type": "display_data"
    }
   ],
   "source": [
    "train_metrics = evaluate_model(\n",
    "    train_true_label, train_pred_label, confusion_title=\"train\"\n",
    ")\n",
    "print(\n",
    "    f\"recall: {train_metrics['recall']}, \"\n",
    "    + f\"precision: {train_metrics['precision']}, \"\n",
    "    + f\"specificity: {train_metrics['specificity']}\"\n",
    ")"
   ]
  },
  {
   "cell_type": "code",
   "execution_count": 23,
   "metadata": {
    "tags": []
   },
   "outputs": [],
   "source": [
    "validation_model_data = validation_data.loc[\n",
    "    :, [\"file_name\", \"transaction_id\", \"block_time\"] + features + [\"label\"]\n",
    "].fillna(0)"
   ]
  },
  {
   "cell_type": "code",
   "execution_count": 24,
   "metadata": {
    "tags": []
   },
   "outputs": [],
   "source": [
    "# dvalidation = xgb.DMatrix(validation_model_data.loc[:, selected], validation_model_data['label'])\n",
    "# val_pred_prob = model.predict(dvalidatio)\n",
    "# val_pred_label = (val_pred_prob > 0.5).astype(int)\n",
    "val_pred_label = model.predict(validation_model_data.loc[:, selected].fillna(0))"
   ]
  },
  {
   "cell_type": "code",
   "execution_count": 25,
   "metadata": {
    "tags": []
   },
   "outputs": [],
   "source": [
    "# val_pred_label = model.predict(validation_model_data.loc[:, selected])\n",
    "val_true_label = validation_model_data[\"label\"]"
   ]
  },
  {
   "cell_type": "code",
   "execution_count": 26,
   "metadata": {
    "tags": []
   },
   "outputs": [
    {
     "name": "stdout",
     "output_type": "stream",
     "text": [
      "recall: 0.61, precision: 0.089, specificity: 0.988\n"
     ]
    },
    {
     "data": {
      "image/png": "[encoded data removed]",
      "text/plain": [
       "<Figure size 640x480 with 2 Axes>"
      ]
     },
     "metadata": {},
     "output_type": "display_data"
    }
   ],
   "source": [
    "val_metrics = evaluate_model(\n",
    "    val_true_label, val_pred_label, confusion_title=\"validation\"\n",
    ")\n",
    "print(\n",
    "    f\"recall: {val_metrics['recall']}, \"\n",
    "    + f\"precision: {val_metrics['precision']}, \"\n",
    "    + f\"specificity: {val_metrics['specificity']}\"\n",
    ")"
   ]
  },
  {
   "cell_type": "markdown",
   "metadata": {},
   "source": [
    "## 4 Report"
   ]
  },
  {
   "cell_type": "code",
   "execution_count": 27,
   "metadata": {
    "tags": []
   },
   "outputs": [],
   "source": [
    "if type(model) is LogisticRegression:\n",
    "    model_coefs = (\n",
    "        pd.DataFrame(zip(selected, model.coef_[0]), columns=[\"feature\", \"coef\"])\n",
    "        .sort_values(\"coef\")\n",
    "        .reset_index(drop=True)\n",
    "    )\n",
    "    print(model_coefs)"
   ]
  },
  {
   "cell_type": "code",
   "execution_count": 28,
   "metadata": {},
   "outputs": [
    {
     "name": "stdout",
     "output_type": "stream",
     "text": [
      "                                             feature  importance\n",
      "0    snd_rcv_amt_usd_sum_tx_mean_log_to_median_ratio    0.030061\n",
      "1  snd_rcv_mean_amt_usd_tx_median_log_to_median_r...    0.702305\n",
      "2              amount_usd_tx_sum_log_to_median_ratio    0.051626\n",
      "3   snd_rcv_life_time_sec_tx_min_log_to_median_ratio    0.103355\n",
      "4  snd_rcv_mean_time_diff_sec_tx_sum_log_to_media...    0.018748\n",
      "5          snd_rcv_tx_cnt_tx_sum_log_to_median_ratio    0.042357\n",
      "6  snd_rcv_time_diff_sec_tx_mean_log_to_median_ratio    0.051548\n"
     ]
    }
   ],
   "source": [
    "if type(model) in {RandomForestClassifier, GradientBoostingClassifier}:\n",
    "    feature_importance = pd.DataFrame(\n",
    "        zip(selected, model.feature_importances_), columns=[\"feature\", \"importance\"]\n",
    "    )\n",
    "    print(feature_importance)"
   ]
  },
  {
   "cell_type": "code",
   "execution_count": 29,
   "metadata": {},
   "outputs": [],
   "source": [
    "train_pred_label = model.predict(model_train_data.loc[:, selected])"
   ]
  },
  {
   "cell_type": "code",
   "execution_count": 30,
   "metadata": {
    "tags": []
   },
   "outputs": [],
   "source": [
    "train_results = train_data.loc[:, [\"file_name\", \"label\"]].copy()\n",
    "train_results[\"pred_label\"] = train_pred_label\n",
    "train_results[\"exp_part\"] = \"train\""
   ]
  },
  {
   "cell_type": "code",
   "execution_count": 31,
   "metadata": {
    "tags": []
   },
   "outputs": [],
   "source": [
    "validation_results = validation_data.loc[:, [\"file_name\", \"label\"]]\n",
    "validation_results[\"pred_label\"] = val_pred_label\n",
    "validation_results[\"exp_part\"] = \"validation\""
   ]
  },
  {
   "cell_type": "code",
   "execution_count": 32,
   "metadata": {
    "tags": []
   },
   "outputs": [],
   "source": [
    "model_result = pd.concat([train_results, validation_results])"
   ]
  },
  {
   "cell_type": "code",
   "execution_count": 33,
   "metadata": {
    "tags": []
   },
   "outputs": [],
   "source": [
    "cases = pd.read_csv(\"Validated_V0_Desriptions.csv\").rename(\n",
    "    {\"File Names\": \"file_name\", \"Exploit Types\": \"exploit_type\"}, axis=1\n",
    ")\n",
    "cases[\"file_name\"] += \".csv\"\n",
    "cases = cases.loc[\n",
    "    :, [\"file_name\", \"exploit_type\", \"Minimum Time\", \"train/test splits\", \"Attack Link\"]\n",
    "]"
   ]
  },
  {
   "cell_type": "code",
   "execution_count": 34,
   "metadata": {},
   "outputs": [],
   "source": [
    "model_results = cases.merge(model_result)"
   ]
  },
  {
   "cell_type": "code",
   "execution_count": 35,
   "metadata": {
    "tags": []
   },
   "outputs": [],
   "source": [
    "file_report, exploit_report = report_by_sections(model_results)"
   ]
  },
  {
   "cell_type": "code",
   "execution_count": 36,
   "metadata": {},
   "outputs": [
    {
     "data": {
      "text/html": [
       "<div>\n",
       "<style scoped>\n",
       "    .dataframe tbody tr th:only-of-type {\n",
       "        vertical-align: middle;\n",
       "    }\n",
       "\n",
       "    .dataframe tbody tr th {\n",
       "        vertical-align: top;\n",
       "    }\n",
       "\n",
       "    .dataframe thead th {\n",
       "        text-align: right;\n",
       "    }\n",
       "</style>\n",
       "<table border=\"1\" class=\"dataframe\">\n",
       "  <thead>\n",
       "    <tr style=\"text-align: right;\">\n",
       "      <th></th>\n",
       "      <th>exploit_type</th>\n",
       "      <th>exp_part</th>\n",
       "      <th>files</th>\n",
       "      <th>tp</th>\n",
       "      <th>fp</th>\n",
       "      <th>tn</th>\n",
       "      <th>fn</th>\n",
       "      <th>recall</th>\n",
       "      <th>precision</th>\n",
       "    </tr>\n",
       "  </thead>\n",
       "  <tbody>\n",
       "    <tr>\n",
       "      <th>0</th>\n",
       "      <td>Access Control</td>\n",
       "      <td>train</td>\n",
       "      <td>54</td>\n",
       "      <td>1166</td>\n",
       "      <td>12956</td>\n",
       "      <td>377912</td>\n",
       "      <td>142</td>\n",
       "      <td>0.891437</td>\n",
       "      <td>0.082566</td>\n",
       "    </tr>\n",
       "    <tr>\n",
       "      <th>1</th>\n",
       "      <td>Access Control</td>\n",
       "      <td>validation</td>\n",
       "      <td>11</td>\n",
       "      <td>98</td>\n",
       "      <td>978</td>\n",
       "      <td>58482</td>\n",
       "      <td>36</td>\n",
       "      <td>0.731343</td>\n",
       "      <td>0.091078</td>\n",
       "    </tr>\n",
       "    <tr>\n",
       "      <th>2</th>\n",
       "      <td>Flash Loan Attack</td>\n",
       "      <td>train</td>\n",
       "      <td>18</td>\n",
       "      <td>18</td>\n",
       "      <td>594</td>\n",
       "      <td>59476</td>\n",
       "      <td>1</td>\n",
       "      <td>0.947368</td>\n",
       "      <td>0.029412</td>\n",
       "    </tr>\n",
       "    <tr>\n",
       "      <th>3</th>\n",
       "      <td>Flash Loan Attack</td>\n",
       "      <td>validation</td>\n",
       "      <td>5</td>\n",
       "      <td>16</td>\n",
       "      <td>222</td>\n",
       "      <td>26164</td>\n",
       "      <td>2</td>\n",
       "      <td>0.888889</td>\n",
       "      <td>0.067227</td>\n",
       "    </tr>\n",
       "    <tr>\n",
       "      <th>4</th>\n",
       "      <td>Phishing</td>\n",
       "      <td>train</td>\n",
       "      <td>16</td>\n",
       "      <td>2</td>\n",
       "      <td>153</td>\n",
       "      <td>9030</td>\n",
       "      <td>24</td>\n",
       "      <td>0.076923</td>\n",
       "      <td>0.012903</td>\n",
       "    </tr>\n",
       "    <tr>\n",
       "      <th>5</th>\n",
       "      <td>Phishing</td>\n",
       "      <td>validation</td>\n",
       "      <td>5</td>\n",
       "      <td>2</td>\n",
       "      <td>10</td>\n",
       "      <td>236</td>\n",
       "      <td>18</td>\n",
       "      <td>0.100000</td>\n",
       "      <td>0.166667</td>\n",
       "    </tr>\n",
       "    <tr>\n",
       "      <th>6</th>\n",
       "      <td>Price Manupilation</td>\n",
       "      <td>train</td>\n",
       "      <td>5</td>\n",
       "      <td>5</td>\n",
       "      <td>6</td>\n",
       "      <td>652</td>\n",
       "      <td>0</td>\n",
       "      <td>1.000000</td>\n",
       "      <td>0.454545</td>\n",
       "    </tr>\n",
       "    <tr>\n",
       "      <th>7</th>\n",
       "      <td>Price Manupilation</td>\n",
       "      <td>validation</td>\n",
       "      <td>1</td>\n",
       "      <td>0</td>\n",
       "      <td>11</td>\n",
       "      <td>585</td>\n",
       "      <td>1</td>\n",
       "      <td>0.000000</td>\n",
       "      <td>0.000000</td>\n",
       "    </tr>\n",
       "    <tr>\n",
       "      <th>8</th>\n",
       "      <td>Rug pull</td>\n",
       "      <td>train</td>\n",
       "      <td>25</td>\n",
       "      <td>169</td>\n",
       "      <td>678</td>\n",
       "      <td>55423</td>\n",
       "      <td>144</td>\n",
       "      <td>0.539936</td>\n",
       "      <td>0.199528</td>\n",
       "    </tr>\n",
       "    <tr>\n",
       "      <th>9</th>\n",
       "      <td>Rug pull</td>\n",
       "      <td>validation</td>\n",
       "      <td>6</td>\n",
       "      <td>3</td>\n",
       "      <td>0</td>\n",
       "      <td>11827</td>\n",
       "      <td>19</td>\n",
       "      <td>0.136364</td>\n",
       "      <td>1.000000</td>\n",
       "    </tr>\n",
       "  </tbody>\n",
       "</table>\n",
       "</div>"
      ],
      "text/plain": [
       "         exploit_type    exp_part  files    tp     fp      tn   fn    recall  \\\n",
       "0      Access Control       train     54  1166  12956  377912  142  0.891437   \n",
       "1      Access Control  validation     11    98    978   58482   36  0.731343   \n",
       "2   Flash Loan Attack       train     18    18    594   59476    1  0.947368   \n",
       "3   Flash Loan Attack  validation      5    16    222   26164    2  0.888889   \n",
       "4            Phishing       train     16     2    153    9030   24  0.076923   \n",
       "5            Phishing  validation      5     2     10     236   18  0.100000   \n",
       "6  Price Manupilation       train      5     5      6     652    0  1.000000   \n",
       "7  Price Manupilation  validation      1     0     11     585    1  0.000000   \n",
       "8            Rug pull       train     25   169    678   55423  144  0.539936   \n",
       "9            Rug pull  validation      6     3      0   11827   19  0.136364   \n",
       "\n",
       "   precision  \n",
       "0   0.082566  \n",
       "1   0.091078  \n",
       "2   0.029412  \n",
       "3   0.067227  \n",
       "4   0.012903  \n",
       "5   0.166667  \n",
       "6   0.454545  \n",
       "7   0.000000  \n",
       "8   0.199528  \n",
       "9   1.000000  "
      ]
     },
     "execution_count": 36,
     "metadata": {},
     "output_type": "execute_result"
    }
   ],
   "source": [
    "exploit_report"
   ]
  },
  {
   "cell_type": "code",
   "execution_count": 37,
   "metadata": {},
   "outputs": [
    {
     "data": {
      "text/plain": [
       "exp_part\n",
       "train         0.644068\n",
       "validation    0.535714\n",
       "Name: catch_any, dtype: float64"
      ]
     },
     "execution_count": 37,
     "metadata": {},
     "output_type": "execute_result"
    }
   ],
   "source": [
    "file_report.groupby(\"exp_part\")[\"catch_any\"].mean()"
   ]
  },
  {
   "cell_type": "code",
   "execution_count": 38,
   "metadata": {},
   "outputs": [],
   "source": [
    "model_train_data[\"pred_label\"] = train_pred_label\n",
    "validation_model_data[\"pred_label\"] = val_pred_label"
   ]
  },
  {
   "cell_type": "code",
   "execution_count": 39,
   "metadata": {},
   "outputs": [],
   "source": [
    "def plot_case(df, file_name, features, max_points=5000):\n",
    "    if type(features) is str:\n",
    "        features = [features]\n",
    "    plot_data = df.loc[\n",
    "        df[\"file_name\"] == file_name, [\"block_time\", \"label\", \"pred_label\"] + features\n",
    "    ]\n",
    "    if plot_data.shape[0] > max_points:\n",
    "        plot_data = plot_data.sort_values(\"block_time\").tail(max_points)\n",
    "    fig, axs = plt.subplots(ncols=1, nrows=len(features), figsize=[12, 10])\n",
    "    fig.suptitle(file_name)\n",
    "    for i in range(len(features)):\n",
    "        ax = axs[i]\n",
    "        feature = features[i]\n",
    "        ax.set_title(feature)\n",
    "        is_tn = (plot_data[\"label\"] == 0) & (plot_data[\"pred_label\"] == 0)\n",
    "        is_tp = (plot_data[\"label\"] == 1) & (plot_data[\"pred_label\"] == 1)\n",
    "        is_fp = (plot_data[\"label\"] == 0) & (plot_data[\"pred_label\"] == 1)\n",
    "        is_fn = (plot_data[\"label\"] == 1) & (plot_data[\"pred_label\"] == 0)\n",
    "        ax.scatter(\n",
    "            plot_data[\"block_time\"][is_tn],\n",
    "            plot_data[feature][is_tn],\n",
    "            color=\"green\",\n",
    "            label=\"tn\",\n",
    "        )\n",
    "        ax.scatter(\n",
    "            plot_data[\"block_time\"][is_tp],\n",
    "            plot_data[feature][is_tp],\n",
    "            color=\"red\",\n",
    "            label=\"tp\",\n",
    "        )\n",
    "        ax.scatter(\n",
    "            plot_data[\"block_time\"][is_fp],\n",
    "            plot_data[feature][is_fp],\n",
    "            color=\"green\",\n",
    "            edgecolors=\"red\",\n",
    "            label=\"fp\",\n",
    "            linewidths=2,\n",
    "        )\n",
    "        ax.scatter(\n",
    "            plot_data[\"block_time\"][is_fn],\n",
    "            plot_data[feature][is_fn],\n",
    "            color=\"red\",\n",
    "            edgecolors=\"green\",\n",
    "            label=\"fn\",\n",
    "            linewidths=2,\n",
    "        )\n",
    "        ax.legend()\n",
    "        fig.subplots_adjust(hspace=0.4)"
   ]
  },
  {
   "cell_type": "code",
   "execution_count": 40,
   "metadata": {},
   "outputs": [],
   "source": [
    "top_features = list(feature_importance.sort_values(\"importance\")[\"feature\"].tail(3))"
   ]
  },
  {
   "cell_type": "code",
   "execution_count": 41,
   "metadata": {},
   "outputs": [
    {
     "data": {
      "text/plain": [
       "['amount_usd_tx_sum_log_to_median_ratio',\n",
       " 'snd_rcv_life_time_sec_tx_min_log_to_median_ratio',\n",
       " 'snd_rcv_mean_amt_usd_tx_median_log_to_median_ratio']"
      ]
     },
     "execution_count": 41,
     "metadata": {},
     "output_type": "execute_result"
    }
   ],
   "source": [
    "top_features"
   ]
  },
  {
   "cell_type": "code",
   "execution_count": 42,
   "metadata": {
    "tags": []
   },
   "outputs": [
    {
     "data": {
      "image/png": "[encoded data removed]",
      "text/plain": [
       "<Figure size 1200x1000 with 3 Axes>"
      ]
     },
     "metadata": {},
     "output_type": "display_data"
    }
   ],
   "source": [
    "plot_case(\n",
    "    validation_model_data,\n",
    "    \"0xhabitat001.csv\",\n",
    "    [\n",
    "        \"amount_usd_tx_sum_log_to_median_ratio\",\n",
    "        \"snd_rcv_life_time_sec_tx_min_log_to_median_ratio\",\n",
    "        \"snd_rcv_time_diff_sec_tx_mean_log_to_median_ratio\",\n",
    "    ],\n",
    ")"
   ]
  }
 ],
 "metadata": {
  "instance_type": "ml.m5.xlarge",
  "kernelspec": {
   "display_name": "Python 3 (Base Python 3.0)",
   "language": "python",
   "name": "python3__SAGEMAKER_INTERNAL__arn:aws:sagemaker:us-east-1:081325390199:image/sagemaker-base-python-310-v1"
  },
  "language_info": {
   "codemirror_mode": {
    "name": "ipython",
    "version": 3
   },
   "file_extension": ".py",
   "mimetype": "text/x-python",
   "name": "python",
   "nbconvert_exporter": "python",
   "pygments_lexer": "ipython3",
   "version": "3.10.8"
  },
  "vscode": {
   "interpreter": {
    "hash": "c52e82a535f873ccdbbc514f272df126dd80566b4218920d349d6cfdddfda4b2"
   }
  }
 },
 "nbformat": 4,
 "nbformat_minor": 4
}
