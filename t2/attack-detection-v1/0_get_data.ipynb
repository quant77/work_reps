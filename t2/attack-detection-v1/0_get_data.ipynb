{
 "cells": [
  {
   "cell_type": "markdown",
   "metadata": {},
   "source": [
    "# Get data from and save snapshot in S3"
   ]
  },
  {
   "cell_type": "code",
   "execution_count": 1,
   "metadata": {
    "tags": []
   },
   "outputs": [],
   "source": [
    "import pandas as pd\n",
    "import boto3\n",
    "from tqdm.notebook import trange, tqdm\n",
    "\n",
    "from utils import MODEL_NAME\n",
    "from utils.s3 import GLOBAL_DATA_BUCKET, MODELS_BUCKET, read_csv_from_s3"
   ]
  },
  {
   "cell_type": "code",
   "execution_count": 2,
   "metadata": {},
   "outputs": [
    {
     "data": {
      "text/plain": [
       "'c:\\\\Users\\\\Anton\\\\Desktop\\\\s2\\\\attack-detection-v1'"
      ]
     },
     "execution_count": 2,
     "metadata": {},
     "output_type": "execute_result"
    }
   ],
   "source": [
    "import os\n",
    "os.getcwd()"
   ]
  },
  {
   "cell_type": "code",
   "execution_count": 3,
   "metadata": {
    "tags": []
   },
   "outputs": [],
   "source": [
    "TABLE_PREFIX = 'V3'#\"v1\""
   ]
  },
  {
   "cell_type": "code",
   "execution_count": 4,
   "metadata": {
    "tags": []
   },
   "outputs": [],
   "source": [
    "validated_cases = pd.read_csv(\"V3_.csv\")#pd.read_csv(\"Validated_V0_Desriptions.csv\")"
   ]
  },
  {
   "cell_type": "code",
   "execution_count": 5,
   "metadata": {},
   "outputs": [],
   "source": [
    "validated_cases_old = pd.read_csv(\"Validated_V0_Desriptions.csv\")"
   ]
  },
  {
   "cell_type": "code",
   "execution_count": 6,
   "metadata": {},
   "outputs": [
    {
     "data": {
      "text/html": [
       "<div>\n",
       "<style scoped>\n",
       "    .dataframe tbody tr th:only-of-type {\n",
       "        vertical-align: middle;\n",
       "    }\n",
       "\n",
       "    .dataframe tbody tr th {\n",
       "        vertical-align: top;\n",
       "    }\n",
       "\n",
       "    .dataframe thead th {\n",
       "        text-align: right;\n",
       "    }\n",
       "</style>\n",
       "<table border=\"1\" class=\"dataframe\">\n",
       "  <thead>\n",
       "    <tr style=\"text-align: right;\">\n",
       "      <th></th>\n",
       "      <th>File Names</th>\n",
       "      <th>Attack Link</th>\n",
       "      <th>Exploit Types</th>\n",
       "      <th>Minimum Time</th>\n",
       "      <th>train/test splits</th>\n",
       "      <th>Number of Labeled Transactions</th>\n",
       "      <th>Number of Transactions</th>\n",
       "      <th>Validated</th>\n",
       "      <th>Sum of Stolen Amount</th>\n",
       "    </tr>\n",
       "  </thead>\n",
       "  <tbody>\n",
       "    <tr>\n",
       "      <th>0</th>\n",
       "      <td>Bo_Shen001</td>\n",
       "      <td>https://defiyield.app/rekt-database/bo_shen</td>\n",
       "      <td>Access Control</td>\n",
       "      <td>30/11/2016 12:41</td>\n",
       "      <td>Train</td>\n",
       "      <td>2</td>\n",
       "      <td>144</td>\n",
       "      <td>Yes</td>\n",
       "      <td>4.013972e+07</td>\n",
       "    </tr>\n",
       "    <tr>\n",
       "      <th>1</th>\n",
       "      <td>Bancor001</td>\n",
       "      <td>https://www.apriorit.com/dev-blog/554-bancor-e...</td>\n",
       "      <td>Access Control</td>\n",
       "      <td>10/06/2017 14:27</td>\n",
       "      <td>Train</td>\n",
       "      <td>2</td>\n",
       "      <td>580</td>\n",
       "      <td>Yes</td>\n",
       "      <td>3.126104e+06</td>\n",
       "    </tr>\n",
       "    <tr>\n",
       "      <th>2</th>\n",
       "      <td>Stazie001</td>\n",
       "      <td>https://coinlive.me/how-did-the-founder-of-nft...</td>\n",
       "      <td>Access Control</td>\n",
       "      <td>26/01/2018 20:36</td>\n",
       "      <td>Train</td>\n",
       "      <td>3</td>\n",
       "      <td>1710</td>\n",
       "      <td>Yes</td>\n",
       "      <td>1.999709e+06</td>\n",
       "    </tr>\n",
       "    <tr>\n",
       "      <th>3</th>\n",
       "      <td>Taylor001</td>\n",
       "      <td>https://www.zdnet.com/article/all-of-cryptocur...</td>\n",
       "      <td>Access Control</td>\n",
       "      <td>23/03/2018 15:59</td>\n",
       "      <td>Train</td>\n",
       "      <td>1</td>\n",
       "      <td>7</td>\n",
       "      <td>Yes</td>\n",
       "      <td>1.715527e+06</td>\n",
       "    </tr>\n",
       "    <tr>\n",
       "      <th>4</th>\n",
       "      <td>MerkleTreeVentures001</td>\n",
       "      <td>NaN</td>\n",
       "      <td>Access Control</td>\n",
       "      <td>10/05/2018 15:25</td>\n",
       "      <td>Train</td>\n",
       "      <td>2</td>\n",
       "      <td>21</td>\n",
       "      <td>Yes</td>\n",
       "      <td>8.460593e+04</td>\n",
       "    </tr>\n",
       "    <tr>\n",
       "      <th>...</th>\n",
       "      <td>...</td>\n",
       "      <td>...</td>\n",
       "      <td>...</td>\n",
       "      <td>...</td>\n",
       "      <td>...</td>\n",
       "      <td>...</td>\n",
       "      <td>...</td>\n",
       "      <td>...</td>\n",
       "      <td>...</td>\n",
       "    </tr>\n",
       "    <tr>\n",
       "      <th>156</th>\n",
       "      <td>FakeHeroTokenSale006</td>\n",
       "      <td>NaN</td>\n",
       "      <td>Phishing</td>\n",
       "      <td>01/06/2017 13:29</td>\n",
       "      <td>Train</td>\n",
       "      <td>1</td>\n",
       "      <td>505</td>\n",
       "      <td>Yes</td>\n",
       "      <td>4.391695e+03</td>\n",
       "    </tr>\n",
       "    <tr>\n",
       "      <th>157</th>\n",
       "      <td>FakeAVA Token Sale001</td>\n",
       "      <td>NaN</td>\n",
       "      <td>Phishing</td>\n",
       "      <td>31/05/2017 17:22</td>\n",
       "      <td>Train</td>\n",
       "      <td>1</td>\n",
       "      <td>118</td>\n",
       "      <td>Yes</td>\n",
       "      <td>2.389645e+03</td>\n",
       "    </tr>\n",
       "    <tr>\n",
       "      <th>158</th>\n",
       "      <td>FakeHeroTokenSale005</td>\n",
       "      <td>NaN</td>\n",
       "      <td>Phishing</td>\n",
       "      <td>29/05/2017 21:59</td>\n",
       "      <td>Train</td>\n",
       "      <td>1</td>\n",
       "      <td>100</td>\n",
       "      <td>Yes</td>\n",
       "      <td>1.594864e+04</td>\n",
       "    </tr>\n",
       "    <tr>\n",
       "      <th>159</th>\n",
       "      <td>Pando001</td>\n",
       "      <td>https://defiyield.app/rekt-database/pando</td>\n",
       "      <td>Access Control</td>\n",
       "      <td>05/11/2022 11:54</td>\n",
       "      <td>Test</td>\n",
       "      <td>11</td>\n",
       "      <td>102</td>\n",
       "      <td>Yes</td>\n",
       "      <td>1.767291e+07</td>\n",
       "    </tr>\n",
       "    <tr>\n",
       "      <th>160</th>\n",
       "      <td>FakeHack137001</td>\n",
       "      <td>NaN</td>\n",
       "      <td>Phishing</td>\n",
       "      <td>03/08/2016 10:46</td>\n",
       "      <td>Train</td>\n",
       "      <td>1</td>\n",
       "      <td>42</td>\n",
       "      <td>Yes</td>\n",
       "      <td>2.392282e+04</td>\n",
       "    </tr>\n",
       "  </tbody>\n",
       "</table>\n",
       "<p>161 rows × 9 columns</p>\n",
       "</div>"
      ],
      "text/plain": [
       "                File Names                                        Attack Link  \\\n",
       "0               Bo_Shen001        https://defiyield.app/rekt-database/bo_shen   \n",
       "1                Bancor001  https://www.apriorit.com/dev-blog/554-bancor-e...   \n",
       "2                Stazie001  https://coinlive.me/how-did-the-founder-of-nft...   \n",
       "3                Taylor001  https://www.zdnet.com/article/all-of-cryptocur...   \n",
       "4    MerkleTreeVentures001                                                NaN   \n",
       "..                     ...                                                ...   \n",
       "156   FakeHeroTokenSale006                                                NaN   \n",
       "157  FakeAVA Token Sale001                                                NaN   \n",
       "158   FakeHeroTokenSale005                                                NaN   \n",
       "159               Pando001          https://defiyield.app/rekt-database/pando   \n",
       "160         FakeHack137001                                                NaN   \n",
       "\n",
       "      Exploit Types      Minimum Time train/test splits  \\\n",
       "0    Access Control  30/11/2016 12:41             Train   \n",
       "1    Access Control  10/06/2017 14:27             Train   \n",
       "2    Access Control  26/01/2018 20:36             Train   \n",
       "3    Access Control  23/03/2018 15:59             Train   \n",
       "4    Access Control  10/05/2018 15:25             Train   \n",
       "..              ...               ...               ...   \n",
       "156        Phishing  01/06/2017 13:29             Train   \n",
       "157        Phishing  31/05/2017 17:22             Train   \n",
       "158        Phishing  29/05/2017 21:59             Train   \n",
       "159  Access Control  05/11/2022 11:54              Test   \n",
       "160        Phishing  03/08/2016 10:46             Train   \n",
       "\n",
       "     Number of Labeled Transactions  Number of Transactions Validated  \\\n",
       "0                                 2                     144       Yes   \n",
       "1                                 2                     580       Yes   \n",
       "2                                 3                    1710       Yes   \n",
       "3                                 1                       7       Yes   \n",
       "4                                 2                      21       Yes   \n",
       "..                              ...                     ...       ...   \n",
       "156                               1                     505       Yes   \n",
       "157                               1                     118       Yes   \n",
       "158                               1                     100       Yes   \n",
       "159                              11                     102       Yes   \n",
       "160                               1                      42       Yes   \n",
       "\n",
       "     Sum of Stolen Amount  \n",
       "0            4.013972e+07  \n",
       "1            3.126104e+06  \n",
       "2            1.999709e+06  \n",
       "3            1.715527e+06  \n",
       "4            8.460593e+04  \n",
       "..                    ...  \n",
       "156          4.391695e+03  \n",
       "157          2.389645e+03  \n",
       "158          1.594864e+04  \n",
       "159          1.767291e+07  \n",
       "160          2.392282e+04  \n",
       "\n",
       "[161 rows x 9 columns]"
      ]
     },
     "execution_count": 6,
     "metadata": {},
     "output_type": "execute_result"
    }
   ],
   "source": [
    "validated_cases_old"
   ]
  },
  {
   "cell_type": "code",
   "execution_count": 7,
   "metadata": {
    "tags": []
   },
   "outputs": [
    {
     "data": {
      "text/html": [
       "<div>\n",
       "<style scoped>\n",
       "    .dataframe tbody tr th:only-of-type {\n",
       "        vertical-align: middle;\n",
       "    }\n",
       "\n",
       "    .dataframe tbody tr th {\n",
       "        vertical-align: top;\n",
       "    }\n",
       "\n",
       "    .dataframe thead th {\n",
       "        text-align: right;\n",
       "    }\n",
       "</style>\n",
       "<table border=\"1\" class=\"dataframe\">\n",
       "  <thead>\n",
       "    <tr style=\"text-align: right;\">\n",
       "      <th></th>\n",
       "      <th>File Names</th>\n",
       "      <th>Sender ID</th>\n",
       "      <th>Exploit Types</th>\n",
       "      <th>train/test splits</th>\n",
       "      <th>Minimum Date</th>\n",
       "    </tr>\n",
       "  </thead>\n",
       "  <tbody>\n",
       "    <tr>\n",
       "      <th>0</th>\n",
       "      <td>0xhabitat001</td>\n",
       "      <td>0xc97f82c80df57c34e84491c0eda050ba924d7429</td>\n",
       "      <td>Phishing</td>\n",
       "      <td>Train</td>\n",
       "      <td>3/17/2021 12:11</td>\n",
       "    </tr>\n",
       "    <tr>\n",
       "      <th>1</th>\n",
       "      <td>Abracadabra001</td>\n",
       "      <td>0xf5bce5077908a1b7370b9ae04adc565ebd643966</td>\n",
       "      <td>Price Manupilation</td>\n",
       "      <td>Test</td>\n",
       "      <td>11/30/2021 11:47</td>\n",
       "    </tr>\n",
       "    <tr>\n",
       "      <th>2</th>\n",
       "      <td>Agora001</td>\n",
       "      <td>0xdef1c0ded9bec7f1a1670819833240f027b25eff</td>\n",
       "      <td>Flash Loan Attack</td>\n",
       "      <td>Train</td>\n",
       "      <td>04/06/2022 04:17</td>\n",
       "    </tr>\n",
       "    <tr>\n",
       "      <th>3</th>\n",
       "      <td>Agora002</td>\n",
       "      <td>0x2796317b0ff8538f253012862c06787adfb8ceb6</td>\n",
       "      <td>Flash Loan Attack</td>\n",
       "      <td>Train</td>\n",
       "      <td>03/01/2022 21:58</td>\n",
       "    </tr>\n",
       "    <tr>\n",
       "      <th>4</th>\n",
       "      <td>Akropolis001</td>\n",
       "      <td>0x7967ada2a32a633d5c055e2e075a83023b632b4e</td>\n",
       "      <td>Flash Loan Attack</td>\n",
       "      <td>Train</td>\n",
       "      <td>8/21/2020 11:23</td>\n",
       "    </tr>\n",
       "    <tr>\n",
       "      <th>...</th>\n",
       "      <td>...</td>\n",
       "      <td>...</td>\n",
       "      <td>...</td>\n",
       "      <td>...</td>\n",
       "      <td>...</td>\n",
       "    </tr>\n",
       "    <tr>\n",
       "      <th>159</th>\n",
       "      <td>Zenith002</td>\n",
       "      <td>0xe7ccf947a4ca18998048995c5428245f031bd5c3</td>\n",
       "      <td>Rug pull</td>\n",
       "      <td>Train</td>\n",
       "      <td>10/18/2020 0:54</td>\n",
       "    </tr>\n",
       "    <tr>\n",
       "      <th>160</th>\n",
       "      <td>Zenith003</td>\n",
       "      <td>0xb03501ab31e942c7e1af435bc56f4220fea9a06d</td>\n",
       "      <td>Rug pull</td>\n",
       "      <td>Train</td>\n",
       "      <td>02/03/2018 18:13</td>\n",
       "    </tr>\n",
       "    <tr>\n",
       "      <th>161</th>\n",
       "      <td>Zenith004</td>\n",
       "      <td>0xd1fc8e7d48974880fcdfc89ca4bc1e115b6fa577</td>\n",
       "      <td>Rug pull</td>\n",
       "      <td>Train</td>\n",
       "      <td>11/14/2020 22:06</td>\n",
       "    </tr>\n",
       "    <tr>\n",
       "      <th>162</th>\n",
       "      <td>Zenith005</td>\n",
       "      <td>0xb22dfb715a7b454d83b2fb95e4d38aaf5f3c84fa</td>\n",
       "      <td>Rug pull</td>\n",
       "      <td>Train</td>\n",
       "      <td>05/07/2020 18:36</td>\n",
       "    </tr>\n",
       "    <tr>\n",
       "      <th>163</th>\n",
       "      <td>Zenith006</td>\n",
       "      <td>0xade4ac0b97379532a41a98ef7a0578c13584de2d</td>\n",
       "      <td>Rug pull</td>\n",
       "      <td>Train</td>\n",
       "      <td>11/17/2017 15:20</td>\n",
       "    </tr>\n",
       "  </tbody>\n",
       "</table>\n",
       "<p>164 rows × 5 columns</p>\n",
       "</div>"
      ],
      "text/plain": [
       "         File Names                                   Sender ID  \\\n",
       "0      0xhabitat001  0xc97f82c80df57c34e84491c0eda050ba924d7429   \n",
       "1    Abracadabra001  0xf5bce5077908a1b7370b9ae04adc565ebd643966   \n",
       "2          Agora001  0xdef1c0ded9bec7f1a1670819833240f027b25eff   \n",
       "3          Agora002  0x2796317b0ff8538f253012862c06787adfb8ceb6   \n",
       "4      Akropolis001  0x7967ada2a32a633d5c055e2e075a83023b632b4e   \n",
       "..              ...                                         ...   \n",
       "159       Zenith002  0xe7ccf947a4ca18998048995c5428245f031bd5c3   \n",
       "160       Zenith003  0xb03501ab31e942c7e1af435bc56f4220fea9a06d   \n",
       "161       Zenith004  0xd1fc8e7d48974880fcdfc89ca4bc1e115b6fa577   \n",
       "162       Zenith005  0xb22dfb715a7b454d83b2fb95e4d38aaf5f3c84fa   \n",
       "163       Zenith006  0xade4ac0b97379532a41a98ef7a0578c13584de2d   \n",
       "\n",
       "          Exploit Types train/test splits      Minimum Date  \n",
       "0              Phishing             Train   3/17/2021 12:11  \n",
       "1    Price Manupilation              Test  11/30/2021 11:47  \n",
       "2     Flash Loan Attack             Train  04/06/2022 04:17  \n",
       "3     Flash Loan Attack             Train  03/01/2022 21:58  \n",
       "4     Flash Loan Attack             Train   8/21/2020 11:23  \n",
       "..                  ...               ...               ...  \n",
       "159            Rug pull             Train   10/18/2020 0:54  \n",
       "160            Rug pull             Train  02/03/2018 18:13  \n",
       "161            Rug pull             Train  11/14/2020 22:06  \n",
       "162            Rug pull             Train  05/07/2020 18:36  \n",
       "163            Rug pull             Train  11/17/2017 15:20  \n",
       "\n",
       "[164 rows x 5 columns]"
      ]
     },
     "execution_count": 7,
     "metadata": {},
     "output_type": "execute_result"
    }
   ],
   "source": [
    "validated_cases"
   ]
  },
  {
   "cell_type": "code",
   "execution_count": null,
   "metadata": {},
   "outputs": [],
   "source": []
  },
  {
   "cell_type": "markdown",
   "metadata": {},
   "source": [
    "## Get data from s3"
   ]
  },
  {
   "cell_type": "code",
   "execution_count": 8,
   "metadata": {
    "tags": []
   },
   "outputs": [
    {
     "data": {
      "application/vnd.jupyter.widget-view+json": {
       "model_id": "9b73e8c14db24b3da5b604d0f8f75ca5",
       "version_major": 2,
       "version_minor": 0
      },
      "text/plain": [
       "  0%|          | 0/164 [00:00<?, ?it/s]"
      ]
     },
     "metadata": {},
     "output_type": "display_data"
    },
    {
     "data": {
      "text/plain": [
       "(951863, 22)"
      ]
     },
     "execution_count": 8,
     "metadata": {},
     "output_type": "execute_result"
    }
   ],
   "source": [
    "data_bucket = boto3.resource(\"s3\").Bucket(GLOBAL_DATA_BUCKET)\n",
    "\n",
    "files = TABLE_PREFIX + \"/\" + validated_cases[\"File Names\"] + \".csv\"\n",
    "\n",
    "data = []\n",
    "\n",
    "t = tqdm(files)\n",
    "for f in t:\n",
    "    t.set_description(f\"loading {f}\")\n",
    "    df = read_csv_from_s3(data_bucket, f, {\"parse_dates\": [\"Block_Time\"]})\n",
    "    df[\"file_name\"] = f\n",
    "    data.append(df)\n",
    "\n",
    "data = pd.concat(data, axis=0)\n",
    "\n",
    "data.shape"
   ]
  },
  {
   "cell_type": "markdown",
   "metadata": {},
   "source": [
    "## Initial cleanup of column names and datetime data"
   ]
  },
  {
   "cell_type": "code",
   "execution_count": 9,
   "metadata": {
    "tags": []
   },
   "outputs": [],
   "source": [
    "data.columns = (\n",
    "    data.columns.str.replace(\"[\\[\\]]\", \"\", regex=True)\n",
    "    .str.replace(\" \", \"_\", regex=False)\n",
    "    .str.lower()\n",
    ")"
   ]
  },
  {
   "cell_type": "code",
   "execution_count": 10,
   "metadata": {
    "tags": []
   },
   "outputs": [],
   "source": [
    "data[\"block_time\"] = data[\"block_time\"].dt.tz_localize(None)"
   ]
  },
  {
   "cell_type": "code",
   "execution_count": 11,
   "metadata": {
    "tags": []
   },
   "outputs": [
    {
     "data": {
      "text/plain": [
       "Index(['transaction_id', 'transaction_time', 'block_time', 'sender_id',\n",
       "       'receiver_id', 'receiver_type', 'amount', 'currency', 'currency_hash',\n",
       "       'currency_type', 'amount_usd', 'gas_price', 'gas_limit', 'gas_used',\n",
       "       'gas_predicted', 'balance_in', 'balance_out', 'label', 'risk_level',\n",
       "       'file_name', 'unnamed:_15', 'unnamed:_16'],\n",
       "      dtype='object')"
      ]
     },
     "execution_count": 11,
     "metadata": {},
     "output_type": "execute_result"
    }
   ],
   "source": [
    "data.columns"
   ]
  },
  {
   "cell_type": "code",
   "execution_count": 12,
   "metadata": {
    "tags": []
   },
   "outputs": [],
   "source": [
    "data.drop([\"unnamed:_15\", \"unnamed:_16\"], axis=1, inplace=True)"
   ]
  },
  {
   "cell_type": "code",
   "execution_count": null,
   "metadata": {},
   "outputs": [],
   "source": []
  },
  {
   "cell_type": "markdown",
   "metadata": {},
   "source": [
    "## Save dataset locally and backup to s3"
   ]
  },
  {
   "cell_type": "code",
   "execution_count": 13,
   "metadata": {},
   "outputs": [],
   "source": [
    "data.to_csv(\"data/raw_data.csv\", index=False)"
   ]
  },
  {
   "cell_type": "code",
   "execution_count": null,
   "metadata": {},
   "outputs": [],
   "source": [
    "models_bucket = boto3.resource(\"s3\").Bucket(MODELS_BUCKET)"
   ]
  },
  {
   "cell_type": "code",
   "execution_count": null,
   "metadata": {
    "tags": []
   },
   "outputs": [],
   "source": [
    "models_bucket.upload_file(\"data/raw_data.csv\", f\"{MODEL_NAME}/data/raw_data.csv\")"
   ]
  }
 ],
 "metadata": {
  "instance_type": "ml.m5.xlarge",
  "kernelspec": {
   "display_name": "Python 3.10.5 64-bit",
   "language": "python",
   "name": "python3"
  },
  "language_info": {
   "codemirror_mode": {
    "name": "ipython",
    "version": 3
   },
   "file_extension": ".py",
   "mimetype": "text/x-python",
   "name": "python",
   "nbconvert_exporter": "python",
   "pygments_lexer": "ipython3",
   "version": "3.10.5"
  },
  "vscode": {
   "interpreter": {
    "hash": "9eec161fd8456093d3a835ffbc5593e17cf1c2afb5c4779c9c15f49ae30927fa"
   }
  }
 },
 "nbformat": 4,
 "nbformat_minor": 4
}
