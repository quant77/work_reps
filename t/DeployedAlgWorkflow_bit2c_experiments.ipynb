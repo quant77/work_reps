{
 "cells": [
  {
   "cell_type": "markdown",
   "metadata": {},
   "source": [
    "[![CyVers](https://i.imgur.com/yyhmZET.png)](https://www.cyvers.ai/)\n",
    "\n",
    "# Deployed Algorithm Workflow\n",
    "\n",
    "This notebooks shows the workflow of using an algorithm.  \n",
    "See [`SystemEngineering.md](https://github.com/CyVers-AI/CyVersManagement/blob/main/Engineering/SystemEngineering.md) for details.\n",
    "\n",
    "> Notebook by:\n",
    "> - Anton Rudenko Anton@cyvers.ai\n",
    "> - Royi Avital Royi@cyvers.ai\n",
    "\n",
    "## Revision History\n",
    "\n",
    "| Version | Date       | User        |Content / Changes                                                   |\n",
    "|---------|------------|-------------|--------------------------------------------------------------------|\n",
    "| 0.1.000 | 16/08/2022 | Royi Avital | Matching version 0.8 of the API                                    |\n",
    "|         |            |             |                                                                    |"
   ]
  },
  {
   "cell_type": "code",
   "execution_count": 1,
   "metadata": {},
   "outputs": [],
   "source": [
    "# Load Packages\n",
    "\n",
    "# General Tools\n",
    "import numpy as np\n",
    "import scipy as sp\n",
    "import pandas as pd\n",
    "\n",
    "# Misc\n",
    "import datetime\n",
    "import os\n",
    "from platform import python_version\n",
    "import random\n",
    "import warnings\n",
    "\n",
    "# Visualization\n",
    "import matplotlib.pyplot as plt\n",
    "import matplotlib.gridspec as gridspec\n",
    "import seaborn as sns\n",
    "from bokeh.plotting import figure, show\n",
    "\n",
    "import ruamel.yaml#import yaml"
   ]
  },
  {
   "cell_type": "code",
   "execution_count": 2,
   "metadata": {},
   "outputs": [],
   "source": [
    "# Configuration\n",
    "%matplotlib inline\n",
    "\n",
    "warnings.filterwarnings(\"ignore\")\n",
    "\n",
    "seedNum = 512\n",
    "np.random.seed(seedNum)\n",
    "random.seed(seedNum)\n",
    "\n",
    "sns.set_theme() #>! Apply SeaBorn theme"
   ]
  },
  {
   "cell_type": "code",
   "execution_count": 3,
   "metadata": {},
   "outputs": [],
   "source": [
    "with open(r'params_no_gas_.yml') as file:#with open(r'params_no_gas.yml') as file:\n",
    "    params = ruamel.yaml.safe_load(file)\n"
   ]
  },
  {
   "cell_type": "code",
   "execution_count": 4,
   "metadata": {},
   "outputs": [],
   "source": [
    "# Constants\n",
    "\n",
    "DATA_FOLDER_NAME    = 'BlockChainAttacksDataSet'\n",
    "DATA_FOLDER_PATTERN = 'DataSet_Special'\n",
    "DATA_FILE_EXT       = 'csv'\n",
    "\n",
    "PROJECT_DIR_NAME = 'CyVers' #<! Royi: Anton, don't change it, it should be a team constant\n",
    "PROJECT_DIR_PATH = os.path.join(os.getcwd()[:os.getcwd().find(PROJECT_DIR_NAME)], PROJECT_DIR_NAME) #>! Pay attention, it will create issues in cases you name the folder `CyVersMe` or anything after / before `CyVers`"
   ]
  },
  {
   "cell_type": "code",
   "execution_count": 5,
   "metadata": {},
   "outputs": [],
   "source": [
    "# CyVers Packages\n",
    "from PredictAssetData import *"
   ]
  },
  {
   "cell_type": "code",
   "execution_count": 6,
   "metadata": {},
   "outputs": [],
   "source": [
    "# Parameters\n",
    "\n",
    "# Pre Process\n",
    "updateInplace       = False\n",
    "amountUsdOutlierThr = 1e9\n",
    "\n",
    "# Asset Data\n",
    "dataSetName = 'DataSet_Special'\n",
    "dataFileName ='Bit2c_.csv'#'Solidus.csv'#'Bit2c_.csv' #'Solidus.csv'#'Bit2c_.csv'#'EtherDelta004.csv'#'EtherDelta012.csv'#'FakeDfinityTokenSale001.csv'#'0x4fa03aefa74559aafc6e26fad2bc801006c6c5ab_1581141935.csv'#'0x36983f0dcbfcaa2b978eb0f34e53505cc0fb4d97_1665514019.csv'#'Bitpoint003.csv'#'AnibusDAO001.csv'\n",
    "\n",
    "# Model Data\n",
    "#modelFolderPath = 'Model_2022_10_05_20_06_21'#'Model_2022_08_16_18_09_18'\n",
    "modelFolderPath ='Model_2022_10_22_16_13_38'#'Model_2022_10_13_11_39_22'\n",
    "#modelFolderPath = 'Model_2022_10_12_12_59_51' #'Model_2022_10_05_20_50_14'"
   ]
  },
  {
   "cell_type": "code",
   "execution_count": null,
   "metadata": {},
   "outputs": [],
   "source": [
    "if not params['MODEL_FILE_HASH'] == hashfile(os.path.join(modelFolderPath, 'Model.pkl')):\n",
    "    raise ValueError('MODEL FILE IS NOT CORRECT !!!!!!!!!!!!')\n",
    "    "
   ]
  },
  {
   "cell_type": "code",
   "execution_count": 7,
   "metadata": {},
   "outputs": [
    {
     "name": "stdout",
     "output_type": "stream",
     "text": [
      "The number of rows (Samples): 8450, The number of columns: 19, number of unique sender id's: 1\n",
      "The data list of columns is: Index(['Transaction ID', 'Transaction Time', 'Block Time', 'Sender ID',\n",
      "       'Receiver ID', 'Receiver Type', 'Amount', 'Currency', 'Currency Hash',\n",
      "       'Currency Type', 'Amount [USD]', 'Gas Price', 'Gas Limit', 'Gas Used',\n",
      "       'Gas Predicted', 'Balance In', 'Balance Out', 'Label', 'Risk Level'],\n",
      "      dtype='object') with 19 columns\n"
     ]
    }
   ],
   "source": [
    "# Load the Data Frame\n",
    "# In deployment this is the data which should be fetched form the database\n",
    "\n",
    "dfFilePath  = os.path.join(PROJECT_DIR_PATH, DATA_FOLDER_NAME, dataSetName, dataFileName)\n",
    "dfDataRaw   = pd.read_csv(dfFilePath)\n",
    "\n",
    "numRows, numCols = dfDataRaw.shape\n",
    "\n",
    "print(f\"The number of rows (Samples): {numRows}, The number of columns: {numCols}, number of unique sender id's: {dfDataRaw['Sender ID'].unique().shape[0]}\")\n",
    "print(f'The data list of columns is: {dfDataRaw.columns} with {len(dfDataRaw.columns)} columns')\n"
   ]
  },
  {
   "cell_type": "code",
   "execution_count": 8,
   "metadata": {},
   "outputs": [],
   "source": [
    "# Pre Process Data (Validation)\n",
    "# We use updateInplace = False in order to not touch the RAW data from the database\n",
    "\n",
    "dfData = PreProcessData(dfDataRaw, updateInplace = updateInplace, amountUsdOutlierThr = amountUsdOutlierThr)\n",
    "dfData['Label'] = -1 #<! Just to verify the model runs\n"
   ]
  },
  {
   "cell_type": "code",
   "execution_count": 9,
   "metadata": {},
   "outputs": [],
   "source": [
    "# Instantiate the Class\n",
    "oPredAsset = PredictAssetData(modelFolderPath)\n"
   ]
  },
  {
   "cell_type": "code",
   "execution_count": null,
   "metadata": {},
   "outputs": [],
   "source": [
    "#oPredAsset.modelFolderPath\n"
   ]
  },
  {
   "cell_type": "code",
   "execution_count": 10,
   "metadata": {},
   "outputs": [],
   "source": [
    "# Validate Data\n",
    "# This is the longest phase as it also adds our unique Pandas Extension\n",
    "\n",
    "dfData = oPredAsset.ValidateData(dfData)"
   ]
  },
  {
   "cell_type": "code",
   "execution_count": 11,
   "metadata": {},
   "outputs": [],
   "source": [
    "# Caclucte Features\n",
    "# We just calculate 4 features for this phase test\n",
    "\n",
    "dfData = oPredAsset.CalculateFeatures(dfData)"
   ]
  },
  {
   "cell_type": "code",
   "execution_count": 12,
   "metadata": {},
   "outputs": [],
   "source": [
    "# Gen Data for Prediction\n",
    "# This creates a different file which is a subset of teh columns in `dfData` and with NaN and `inf` removed\n",
    "dfX = oPredAsset.GenDataPredict(dfData)"
   ]
  },
  {
   "cell_type": "code",
   "execution_count": 13,
   "metadata": {},
   "outputs": [],
   "source": [
    "# Predict Labels\n",
    "# Updated the `Label` column in dfData\n",
    "dfData = oPredAsset.PredictLabels(dfX, dfData)"
   ]
  },
  {
   "cell_type": "code",
   "execution_count": 14,
   "metadata": {},
   "outputs": [
    {
     "data": {
      "text/plain": [
       "0    5609\n",
       "1    2840\n",
       "Name: Label, dtype: int64"
      ]
     },
     "execution_count": 14,
     "metadata": {},
     "output_type": "execute_result"
    }
   ],
   "source": [
    "# No `-1`\n",
    "dfData['Label'].value_counts()"
   ]
  },
  {
   "cell_type": "code",
   "execution_count": 15,
   "metadata": {},
   "outputs": [],
   "source": [
    "#dfData[['Sender ID','Receiver ID','Amount [USD]', 'Label']]\n",
    "#dfData.columns"
   ]
  },
  {
   "cell_type": "code",
   "execution_count": 16,
   "metadata": {},
   "outputs": [],
   "source": [
    "dfData['rule'] =  dfData['Amount'] < 5*dfData['Amount'].mean()"
   ]
  },
  {
   "cell_type": "code",
   "execution_count": 17,
   "metadata": {},
   "outputs": [
    {
     "data": {
      "text/plain": [
       "8449    True\n",
       "8448    True\n",
       "8447    True\n",
       "8443    True\n",
       "8446    True\n",
       "        ... \n",
       "4       True\n",
       "3       True\n",
       "2       True\n",
       "1       True\n",
       "0       True\n",
       "Name: rule, Length: 8449, dtype: bool"
      ]
     },
     "execution_count": 17,
     "metadata": {},
     "output_type": "execute_result"
    }
   ],
   "source": [
    "dfData['rule']"
   ]
  },
  {
   "cell_type": "code",
   "execution_count": 18,
   "metadata": {},
   "outputs": [],
   "source": [
    "dfData['Label_'] =  dfData.apply(lambda x: x['Label'] if not x['rule'] else 0, axis = 1)\n",
    "#df['data'].apply(lambda x: 'true' if x <= 2.5 else 'false')"
   ]
  },
  {
   "cell_type": "code",
   "execution_count": 19,
   "metadata": {},
   "outputs": [
    {
     "data": {
      "text/plain": [
       "0    8371\n",
       "1      78\n",
       "Name: Label_, dtype: int64"
      ]
     },
     "execution_count": 19,
     "metadata": {},
     "output_type": "execute_result"
    }
   ],
   "source": [
    "dfData['Label_'].value_counts()"
   ]
  },
  {
   "cell_type": "code",
   "execution_count": 22,
   "metadata": {},
   "outputs": [
    {
     "data": {
      "text/plain": [
       "(75,)"
      ]
     },
     "execution_count": 22,
     "metadata": {},
     "output_type": "execute_result"
    }
   ],
   "source": [
    "dfData[dfData['Label_'] == 1]['Receiver ID'].unique().shape"
   ]
  },
  {
   "cell_type": "code",
   "execution_count": null,
   "metadata": {},
   "outputs": [],
   "source": []
  }
 ],
 "metadata": {
  "kernelspec": {
   "display_name": "Python 3.10.5 64-bit (system)",
   "language": "python",
   "name": "python3"
  },
  "language_info": {
   "codemirror_mode": {
    "name": "ipython",
    "version": 3
   },
   "file_extension": ".py",
   "mimetype": "text/x-python",
   "name": "python",
   "nbconvert_exporter": "python",
   "pygments_lexer": "ipython3",
   "version": "3.10.5"
  },
  "orig_nbformat": 4,
  "vscode": {
   "interpreter": {
    "hash": "95ddca318bf123e47b38b5a5b9dcba5a0c9d5dde3556722e5a10703c6b4cbfc1"
   }
  }
 },
 "nbformat": 4,
 "nbformat_minor": 2
}
