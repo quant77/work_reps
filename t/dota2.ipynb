{
 "cells": [
  {
   "cell_type": "code",
   "execution_count": null,
   "id": "5ed4e80d",
   "metadata": {},
   "outputs": [],
   "source": [
    "'''\n",
    "Visualization - not very informative ; Preprocessing --> dont touch rank, results becomes even worse \n",
    "Feature engineering - not much to be done, more complex features worsen results :(\n",
    "Model selection - naive bayes=junk, rf - soso, xgboost - at least something , nn...\n",
    "Hyperparameters tuning -- too much time\n",
    "Evaluation(metrics) - get probs from classifier, evaluate result like regression but in some way...   <<--- provide explanation in text !!!!\n",
    "dont forget class encoding!!!!\n",
    "'''\n",
    "\n",
    "import pandas as pd\n",
    "import numpy as np\n",
    "\n",
    "import os\n",
    "import random\n",
    "\n",
    "from sklearn.naive_bayes import GaussianNB\n",
    "from sklearn.pipeline import Pipeline ### params and model\n",
    "from sklearn.preprocessing import StandardScaler\n",
    "\n",
    "# Metrics\n",
    "from sklearn.metrics import confusion_matrix, fbeta_score, precision_score, recall_score\n",
    "from sklearn.metrics import accuracy_score, confusion_matrix, ConfusionMatrixDisplay, f1_score, precision_score, recall_score , roc_auc_score\n",
    "from sklearn.model_selection import GridSearchCV, StratifiedKFold, StratifiedGroupKFold, train_test_split\n",
    "from sklearn.preprocessing import LabelEncoder\n",
    "\n",
    "from catboost import CatBoostClassifier, Pool\n",
    "from lightgbm import LGBMClassifier\n",
    "from xgboost import XGBClassifier\n",
    "from sklearn.ensemble import RandomForestClassifier\n",
    "from sklearn.naive_bayes import MultinomialNB\n",
    "\n",
    "import matplotlib.pyplot as plt\n",
    "import matplotlib.gridspec as gridspec\n",
    "import seaborn as sns\n"
   ]
  },
  {
   "cell_type": "code",
   "execution_count": null,
   "id": "e04d30d4",
   "metadata": {},
   "outputs": [],
   "source": [
    "df = pd.read_csv('dataset_dota_kills.csv',index_col= 0)#False)"
   ]
  },
  {
   "cell_type": "code",
   "execution_count": null,
   "id": "583c9652",
   "metadata": {},
   "outputs": [],
   "source": [
    "#df"
   ]
  },
  {
   "cell_type": "code",
   "execution_count": null,
   "id": "4c81ca66",
   "metadata": {},
   "outputs": [],
   "source": [
    "df['score_diff'] = df['first_team_score'] - df['second_team_score']\n",
    "df['rank_diff'] = df['first_team_rating'] - df['second_team_rating']\n",
    "df['second_team_win_probability'] = 1 - df['first_team_win_probability']"
   ]
  },
  {
   "cell_type": "code",
   "execution_count": null,
   "id": "750581f1",
   "metadata": {},
   "outputs": [],
   "source": [
    "df['score_diff'].unique()#.sort()"
   ]
  },
  {
   "cell_type": "code",
   "execution_count": null,
   "id": "11e6a409",
   "metadata": {},
   "outputs": [],
   "source": [
    "conditions = [\n",
    "    (df['score_diff'] <= -31),\n",
    "    (df['score_diff'] > -31)&(df['score_diff'] < 31),\n",
    "    (df['score_diff'] > 30) \n",
    "    ]\n",
    "\n",
    "values = [-31, df['score_diff'] , 31]\n",
    "\n",
    "df['score_diff_'] = np.select(conditions, values)\n",
    "\n",
    "#df.head()"
   ]
  },
  {
   "cell_type": "code",
   "execution_count": null,
   "id": "cf5731ad",
   "metadata": {},
   "outputs": [],
   "source": [
    "##### do class vals encoding for xgboost\n",
    "conditions = [\n",
    "    (df['score_diff_'] < 0),\n",
    "    (df['score_diff_'] >= 0) \n",
    "    ]\n",
    "\n",
    "values = [31 + np.abs(df['score_diff_']), df['score_diff_'] ]\n",
    "\n",
    "df['score_diff_x'] = np.select(conditions, values)\n",
    "\n",
    "df.head()"
   ]
  },
  {
   "cell_type": "code",
   "execution_count": null,
   "id": "50b96b0f",
   "metadata": {},
   "outputs": [],
   "source": [
    "ax = df['score_diff'].value_counts().plot(kind='bar');#df['score_diff'].value_counts()\n",
    "ax.bar_label(ax.containers[0])"
   ]
  },
  {
   "cell_type": "code",
   "execution_count": null,
   "id": "c2f0672f",
   "metadata": {},
   "outputs": [],
   "source": [
    "ax = df['score_diff_'].value_counts().plot(kind='bar');#df['score_diff'].value_counts()\n",
    "ax.bar_label(ax.containers[0])"
   ]
  },
  {
   "cell_type": "code",
   "execution_count": null,
   "id": "b8e8b323",
   "metadata": {},
   "outputs": [],
   "source": [
    "from pingouin import multivariate_normality\n",
    "import pandas as pd\n",
    "import numpy as np\n",
    "#feats = ['first_team_win_probability' , 'second_team_win_probability' , 'first_team_rating', 'second_team_rating' , 'rank_diff']\n",
    "data = df[['first_team_win_probability' , 'second_team_win_probability' , 'first_team_rating', 'second_team_rating' , 'rank_diff']]  \n",
    "# perform the Multivariate Normality Test\n",
    "multivariate_normality(data, alpha=.05)"
   ]
  },
  {
   "cell_type": "code",
   "execution_count": null,
   "id": "5e9a55b6",
   "metadata": {},
   "outputs": [],
   "source": [
    "#df['first_team_id'].unique().shape , df['second_team_id'].unique().shape#df['match_id'].unique().shape"
   ]
  },
  {
   "cell_type": "code",
   "execution_count": null,
   "id": "a017f872",
   "metadata": {},
   "outputs": [],
   "source": [
    "#check separability , make a guess about a nature of the distribution\n",
    "import matplotlib.pyplot as plt\n",
    "fig, ax = plt.subplots(subplot_kw={\"projection\": \"3d\"})\n",
    "df_ = df[np.abs(df['score_diff']).isin([30,0,1])]#df_ = df[np.abs(df['score_diff']) == 30] # df_ = df \n",
    "ax.scatter(df_['first_team_win_probability'], df_['first_team_rating'], df_['second_team_rating'] , c = df_['score_diff']) \n",
    "\n",
    "plt.show()"
   ]
  },
  {
   "cell_type": "code",
   "execution_count": null,
   "id": "ca1b4d16",
   "metadata": {},
   "outputs": [],
   "source": []
  },
  {
   "cell_type": "code",
   "execution_count": null,
   "id": "66e9c860",
   "metadata": {},
   "outputs": [],
   "source": []
  },
  {
   "cell_type": "code",
   "execution_count": null,
   "id": "7f88402a",
   "metadata": {},
   "outputs": [],
   "source": []
  },
  {
   "cell_type": "markdown",
   "id": "a45a2147",
   "metadata": {},
   "source": [
    "### Supportive functions"
   ]
  },
  {
   "cell_type": "code",
   "execution_count": null,
   "id": "be71a50a",
   "metadata": {},
   "outputs": [],
   "source": [
    "\n",
    "\n",
    "from math import floor, log10, inf\n",
    "from scipy import stats\n",
    "\n",
    "def num_zeros(decimal):\n",
    "    return 'next' if decimal == 0 else -floor(log10(abs(decimal))) - 1\n",
    "\n",
    "def multiplier(a):\n",
    "  for i in a[0].argsort():\n",
    "    if num_zeros(a[0][i]) != 'next':\n",
    "      return 10**(num_zeros(a[0][i]) + 1)  \n",
    "    else:\n",
    "      continue\n",
    "\n",
    "def make_array(arr):\n",
    "  \n",
    "  m =  multiplier(arr)\n",
    "  ins = np.around(arr*m).astype(int)[0]\n",
    "  return np.array([no for no, rep in enumerate(ins) for elem in range(rep)])\n",
    "\n",
    "\n",
    "\n",
    "def compare_dists(est, est_, XTest):\n",
    "  ks = []\n",
    "  for i in range(XTest.shape[0]):\n",
    "      test_arr = make_array(est_.predict_proba(XTest.iloc[[i]]))\n",
    "      train_arr = make_array(est.predict_proba(XTest.iloc[[i]]))\n",
    "      ks.append(stats.kstest(train_arr, test_arr))\n",
    "  return np.mean([i.pvalue for i in ks])    "
   ]
  },
  {
   "cell_type": "markdown",
   "id": "f85d93a4",
   "metadata": {},
   "source": [
    "### Actual estimation  of distribution and evaluation"
   ]
  },
  {
   "cell_type": "code",
   "execution_count": null,
   "id": "fb787270",
   "metadata": {},
   "outputs": [],
   "source": [
    "numKFolds = 3 ; randomState = 42 ; seedNum = 512\n",
    "\n",
    "feats = ['first_team_win_probability' , 'second_team_win_probability' , 'first_team_rating', 'second_team_rating' , 'rank_diff']#feats = ['first_team_win_probability' , 'first_team_rating', 'second_team_rating' , 'rank_diff']\n",
    "X = df[feats]\n",
    "\n",
    "y = df['score_diff_']#vY = df_['score_diff_']\n",
    "\n",
    "models = []\n",
    "hKFoldSplt = StratifiedKFold(n_splits = numKFolds, shuffle = True, random_state = randomState)\n",
    "for TrainIdx, TestIdx in hKFoldSplt.split(X, y):\n",
    "\n",
    "    XTrain, XTest, YTrain, YTest = X.iloc[TrainIdx], X.iloc[TestIdx], y.iloc[TrainIdx], y.iloc[TestIdx]\n",
    "    \n",
    "    print(set(YTrain.unique()).symmetric_difference(set(YTest.unique()))) ### <<-- control stratification !!!  #print(XTyrain.unique() ) ;     #print(YTest.unique())\n",
    "    \n",
    "    le = LabelEncoder() ;  YTrain = le.fit_transform(YTrain) ;  YTest = le.fit_transform(YTest)\n",
    "    \n",
    "    xgbModel =XGBClassifier(n_estimators=50, tree_method=\"hist\", max_depth = 7,  random_state=seedNum, enable_categorical=True) ;  xgbModel_test =XGBClassifier(n_estimators=50, tree_method=\"hist\", max_depth = 7,  random_state=seedNum, enable_categorical=True)\n",
    "    xgbModel.fit(XTrain, YTrain)\n",
    "    YPred = xgbModel.predict(XTest)\n",
    "    xgbModel_test.fit(XTest, YTest)\n",
    "    \n",
    "    p = compare_dists(xgbModel, xgbModel_test, XTest)\n",
    "    print(p)\n",
    "    #print(accuracy_score(YTest, YPred))\n",
    "    #print(accuracy_score(YTrain, xgbModel.predict(XTrain)))\n",
    "    \n",
    "    \n",
    "    models.append((xgbModel, xgbModel_test , le , TrainIdx, TestIdx))\n"
   ]
  },
  {
   "cell_type": "markdown",
   "id": "0b0db629",
   "metadata": {},
   "source": [
    "### do estimations for actual handicap:"
   ]
  },
  {
   "cell_type": "code",
   "execution_count": null,
   "id": "3df2637c",
   "metadata": {},
   "outputs": [],
   "source": [
    "def handicap_distr(val, est):\n",
    "    \n",
    "    vs = est.classes_\n",
    "    p = 0 \n",
    "    #for v in  \n",
    "    return p "
   ]
  },
  {
   "cell_type": "code",
   "execution_count": null,
   "id": "fa02f7ad",
   "metadata": {},
   "outputs": [],
   "source": []
  },
  {
   "cell_type": "code",
   "execution_count": null,
   "id": "e13d6dd2",
   "metadata": {},
   "outputs": [],
   "source": []
  },
  {
   "cell_type": "code",
   "execution_count": null,
   "id": "c1314aa2",
   "metadata": {},
   "outputs": [],
   "source": []
  },
  {
   "cell_type": "code",
   "execution_count": null,
   "id": "bbd2a6bc",
   "metadata": {},
   "outputs": [],
   "source": []
  },
  {
   "cell_type": "code",
   "execution_count": null,
   "id": "18a29a7e",
   "metadata": {},
   "outputs": [],
   "source": []
  },
  {
   "cell_type": "code",
   "execution_count": null,
   "id": "07583aef",
   "metadata": {},
   "outputs": [],
   "source": []
  },
  {
   "cell_type": "code",
   "execution_count": null,
   "id": "509a3cc6",
   "metadata": {},
   "outputs": [],
   "source": []
  },
  {
   "cell_type": "code",
   "execution_count": null,
   "id": "6ae504ab",
   "metadata": {},
   "outputs": [],
   "source": []
  },
  {
   "cell_type": "code",
   "execution_count": null,
   "id": "d60df671",
   "metadata": {},
   "outputs": [],
   "source": []
  },
  {
   "cell_type": "code",
   "execution_count": null,
   "id": "851331bd",
   "metadata": {},
   "outputs": [],
   "source": [
    "################ alternative evaluations of result, inspection of approaches"
   ]
  },
  {
   "cell_type": "code",
   "execution_count": null,
   "id": "d92eebb5",
   "metadata": {},
   "outputs": [],
   "source": [
    "import matplotlib.pyplot as plt\n",
    " \n",
    "  \n",
    "def plot_(vals, probs):\n",
    "\n",
    "    fig = plt.figure(figsize = (10, 5))\n",
    "    plt.bar(vals, probs, color ='maroon')\n",
    "    plt.xlabel(\"vals\")\n",
    "    plt.ylabel(\"probs\")\n",
    "    plt.show()"
   ]
  },
  {
   "cell_type": "code",
   "execution_count": null,
   "id": "feedd6aa",
   "metadata": {},
   "outputs": [],
   "source": [
    "bestid =2\n",
    "est = models[bestid][0] ; TestIdx = models[bestid][-1] ; le = models[bestid][1]\n",
    "XTest, YTest = X.iloc[TestIdx], y.iloc[TestIdx]\n",
    "YTest = le.fit_transform(YTest)\n",
    "Y_ = le.inverse_transform(YTest)\n",
    "pred =  le.inverse_transform(est.predict(XTest))\n",
    "for i in range(10):\n",
    "    probs = est.predict_proba(XTest.iloc[[0,i]])[1]\n",
    "    vals = est.classes_\n",
    "    mu = np.dot(probs,vals)\n",
    "    std_ = np.dot(np.array(list(map(lambda x : x*x , vals - mu))) , probs)**(1/2)\n",
    "    print(mu, std_ , YTest[i] , Y_[i] , pred[i])\n",
    "    plot_(vals, probs)\n",
    "    #print(est.predict(XTest.iloc[[0,i]])[1] , np.dot(est.predict_proba(XTest.iloc[[0,i]])[1],est.classes_) , YTest[i] )#, est.predict(XTest.iloc[[0,1]])\n"
   ]
  },
  {
   "cell_type": "code",
   "execution_count": null,
   "id": "28dc0575",
   "metadata": {},
   "outputs": [],
   "source": [
    "'''\n",
    "bestid =2\n",
    "est = models[bestid][0] ; TestIdx = models[bestid][-1] ; scaler = models[bestid][1]\n",
    "XTest, YTest = X.iloc[TestIdx], y.iloc[TestIdx]\n",
    "\n",
    "XTest = scaler.transform(XTest)\n",
    "pred =  est.predict(XTest)\n",
    "\n",
    "for i in range(10):\n",
    "    probs = est.predict_proba(XTest[i].reshape(1, -1))[0]#probs = est.predict_proba(XTest.iloc[[0,i]])[1]\n",
    "    vals = est.classes_\n",
    "    mu = np.dot(probs,vals)\n",
    "    std_ = np.dot(np.array(list(map(lambda x : x*x , vals - mu))) , probs)**(1/2)\n",
    "    print(mu, std_ , YTest.iloc[i] ,  pred[i])\n",
    "    plot_(vals, probs)\n",
    "    #print(est.predict(XTest.iloc[[0,i]])[1] , np.dot(est.predict_proba(XTest.iloc[[0,i]])[1],est.classes_) , YTest[i] )#, est.predict(XTest.iloc[[0,1]])\n",
    "'''\n"
   ]
  },
  {
   "cell_type": "code",
   "execution_count": null,
   "id": "76676148",
   "metadata": {},
   "outputs": [],
   "source": []
  },
  {
   "cell_type": "code",
   "execution_count": null,
   "id": "50dc2328",
   "metadata": {},
   "outputs": [],
   "source": []
  },
  {
   "cell_type": "code",
   "execution_count": null,
   "id": "b033f89d",
   "metadata": {},
   "outputs": [],
   "source": []
  },
  {
   "cell_type": "code",
   "execution_count": null,
   "id": "e6d95638",
   "metadata": {},
   "outputs": [],
   "source": []
  },
  {
   "cell_type": "code",
   "execution_count": null,
   "id": "cb891293",
   "metadata": {},
   "outputs": [],
   "source": []
  },
  {
   "cell_type": "code",
   "execution_count": null,
   "id": "ba48586a",
   "metadata": {},
   "outputs": [],
   "source": []
  },
  {
   "cell_type": "code",
   "execution_count": null,
   "id": "13900fe0",
   "metadata": {},
   "outputs": [],
   "source": []
  },
  {
   "cell_type": "code",
   "execution_count": null,
   "id": "310d594e",
   "metadata": {},
   "outputs": [],
   "source": []
  },
  {
   "cell_type": "code",
   "execution_count": null,
   "id": "852c7c69",
   "metadata": {},
   "outputs": [],
   "source": []
  },
  {
   "cell_type": "code",
   "execution_count": null,
   "id": "df86974a",
   "metadata": {},
   "outputs": [],
   "source": [
    "df"
   ]
  },
  {
   "cell_type": "code",
   "execution_count": null,
   "id": "5c852981",
   "metadata": {},
   "outputs": [],
   "source": []
  },
  {
   "cell_type": "code",
   "execution_count": null,
   "id": "55bffd76",
   "metadata": {},
   "outputs": [],
   "source": []
  },
  {
   "cell_type": "code",
   "execution_count": null,
   "id": "8729644d",
   "metadata": {},
   "outputs": [],
   "source": []
  },
  {
   "cell_type": "code",
   "execution_count": null,
   "id": "38dcc557",
   "metadata": {},
   "outputs": [],
   "source": []
  },
  {
   "cell_type": "code",
   "execution_count": null,
   "id": "4199ec0b",
   "metadata": {},
   "outputs": [],
   "source": []
  },
  {
   "cell_type": "code",
   "execution_count": null,
   "id": "fafe00e1",
   "metadata": {},
   "outputs": [],
   "source": []
  },
  {
   "cell_type": "code",
   "execution_count": null,
   "id": "62cd0d32",
   "metadata": {},
   "outputs": [],
   "source": []
  },
  {
   "cell_type": "code",
   "execution_count": null,
   "id": "9683f47d",
   "metadata": {},
   "outputs": [],
   "source": []
  },
  {
   "cell_type": "code",
   "execution_count": null,
   "id": "e65c7f56",
   "metadata": {},
   "outputs": [],
   "source": []
  },
  {
   "cell_type": "code",
   "execution_count": null,
   "id": "58169af2",
   "metadata": {},
   "outputs": [],
   "source": []
  }
 ],
 "metadata": {
  "kernelspec": {
   "display_name": "Python 3.10.9 64-bit",
   "language": "python",
   "name": "python3"
  },
  "language_info": {
   "codemirror_mode": {
    "name": "ipython",
    "version": 3
   },
   "file_extension": ".py",
   "mimetype": "text/x-python",
   "name": "python",
   "nbconvert_exporter": "python",
   "pygments_lexer": "ipython3",
   "version": "3.10.9"
  },
  "vscode": {
   "interpreter": {
    "hash": "255339e82813f20a98be7c8894b4473184f3fc4c39449c80ccbf6c0b1122f2a8"
   }
  }
 },
 "nbformat": 4,
 "nbformat_minor": 5
}
