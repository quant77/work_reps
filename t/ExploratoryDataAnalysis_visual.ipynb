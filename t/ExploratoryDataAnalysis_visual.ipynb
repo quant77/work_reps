{
 "cells": [
  {
   "cell_type": "markdown",
   "metadata": {},
   "source": [
    "[![CyVers](https://i.imgur.com/yyhmZET.png)](https://www.cyvers.ai/)\n",
    "\n",
    "# BlockChain Attack Data Set - Exploratory Data Analysis (EDA)\n",
    "\n",
    "> Notebook by:\n",
    "> - Royi Avital Royi@cyvers.ai\n",
    "\n",
    "## Revision History\n",
    "\n",
    "| Version | Date       | User        |Content / Changes                                                   |\n",
    "|---------|------------|-------------|--------------------------------------------------------------------|\n",
    "| 0.1.000 | 30/06/2022 | Royi Avital | First version                                                      |\n",
    "| 0.2.000 | 25/07/2022 | Royi Avital | Added model selection and visualization of features                |\n",
    "| 0.3.000 | 31/07/2022 | Royi Avital | Added a view of feature importance (Should be moved to a funciton) |\n",
    "|         |            |             |                                                                    |"
   ]
  },
  {
   "cell_type": "code",
   "execution_count": 1,
   "metadata": {},
   "outputs": [],
   "source": [
    "# General Tools\n",
    "import numpy as np\n",
    "import scipy as sp\n",
    "import pandas as pd\n",
    "\n",
    "# Misc\n",
    "import datetime\n",
    "import os\n",
    "from platform import python_version\n",
    "import random\n",
    "import warnings\n",
    "\n",
    "# EDA Tools\n",
    "import ppscore as pps #<! See https://github.com/8080labs/ppscore -> pip install git+https://github.com/8080labs/ppscore.git\n",
    "\n",
    "# Machine Learning\n",
    "from sklearn.discriminant_analysis import LinearDiscriminantAnalysis as LDA\n",
    "from sklearn.manifold import TSNE\n",
    "# from sklearn.naive_bayes import GaussianNB\n",
    "from sklearn.pipeline import Pipeline\n",
    "from sklearn.preprocessing import StandardScaler\n",
    "\n",
    "# Metrics\n",
    "from sklearn.metrics import confusion_matrix, fbeta_score, precision_score, recall_score\n",
    "from sklearn.model_selection import GridSearchCV, StratifiedKFold, StratifiedGroupKFold, train_test_split\n",
    "\n",
    "# Ensemble Engines\n",
    "from catboost import CatBoostClassifier, Pool\n",
    "from lightgbm import LGBMClassifier\n",
    "from xgboost import XGBClassifier\n",
    "from sklearn.ensemble import RandomForestClassifier\n",
    "\n",
    "# Visualization\n",
    "import matplotlib.pyplot as plt\n",
    "import matplotlib.gridspec as gridspec\n",
    "import seaborn as sns\n",
    "from bokeh.plotting import figure, show\n",
    "\n",
    "# Jupyter\n",
    "from ipywidgets import interact, Dropdown, Layout"
   ]
  },
  {
   "cell_type": "code",
   "execution_count": 2,
   "metadata": {},
   "outputs": [],
   "source": [
    "# Configuration\n",
    "%matplotlib inline\n",
    "\n",
    "warnings.filterwarnings(\"ignore\")\n",
    "\n",
    "seedNum = 512\n",
    "np.random.seed(seedNum)\n",
    "random.seed(seedNum)\n",
    "\n",
    "sns.set_theme() #>! Apply SeaBorn theme"
   ]
  },
  {
   "cell_type": "code",
   "execution_count": 3,
   "metadata": {},
   "outputs": [],
   "source": [
    "# Constants\n",
    "\n",
    "DATA_FOLDER_NAME    = 'BlockChainAttacksDataSet'\n",
    "DATA_FOLDER_PATTERN = 'DataSet0'\n",
    "DATA_FILE_EXT       = 'csv'\n",
    "\n",
    "PROJECT_DIR_NAME = 'CyVers' #<! Royi: Anton, don't change it, it should be a team constant\n",
    "PROJECT_DIR_PATH = os.path.join(os.getcwd()[:os.getcwd().find(PROJECT_DIR_NAME)], PROJECT_DIR_NAME) #>! Pay attention, it will create issues in cases you name the folder `CyVersMe` or anything after / before `CyVers`\n",
    "\n",
    "# Feature extractors constants\n",
    "\n",
    "TRAIN_BY_TSX    = 1\n",
    "TRAIN_BY_FILES  = 2"
   ]
  },
  {
   "cell_type": "code",
   "execution_count": 4,
   "metadata": {},
   "outputs": [],
   "source": [
    "# CyVers Packages\n",
    "from DataSetsAuxFun import *"
   ]
  },
  {
   "cell_type": "code",
   "execution_count": 5,
   "metadata": {},
   "outputs": [],
   "source": [
    "# Parameters\n",
    "dataSetRotoDir = os.path.join(PROJECT_DIR_PATH, DATA_FOLDER_NAME)\n",
    "\n",
    "# Features Analysis\n",
    "numCrossValPps = 4\n",
    "\n",
    "# Training\n",
    "trainMode = TRAIN_BY_FILES\n",
    "testSetRatio = 1 / 3\n",
    "numKFolds = 3\n",
    "gridSearchScore = 'f1' #<! Use strings from `sklearn.metrics.get_scorer_names()`\n",
    "gridSearchScore = 'recall' #<! We need to have better PD\n",
    "\n",
    "# Amount USD Outlier threshold\n",
    "amountUsdOutlierThr = 1e9\n",
    "\n",
    "randomState = 42\n",
    "\n",
    "lSlctedFeaturesRaw    = ['Amount', 'Currency', 'Currency Type', 'Amount [USD]', 'Receiver Type', 'Gas Price', 'Gas Limit', 'Gas Used' ]#lSlctedFeaturesRaw    = ['Amount', 'Currency', 'Amount [USD]', 'Receiver Type']\n",
    "lSlctedFeaturesCalc   = [enumObj.name for enumObj in FeatureName if ((enumObj is not FeatureName.TIME_MAX) and (enumObj is not FeatureName.TIME_MIN))]\n",
    "lSlctdFeatures        = lSlctedFeaturesRaw + lSlctedFeaturesCalc\n",
    "lCatFeatures          = ['Currency', 'Currency Type', 'Receiver Type']#lCatFeatures          = ['Currency', 'Receiver Type']\n",
    "# lFeaturesRemove       = [FeatureName.TIME_MAX.name, FeatureName.TIME_MIN.name] #<! Auxiliary features to be removed before processing\n",
    "\n",
    "timeColStr = 'Block Time'"
   ]
  },
  {
   "cell_type": "code",
   "execution_count": 6,
   "metadata": {},
   "outputs": [
    {
     "name": "stdout",
     "output_type": "stream",
     "text": [
      "The number of file found: 249\n",
      "The number of rows (Samples): 1713729, The number of columns: 19, number of unique sender id's: (249,)\n",
      "The data list of columns is: Index(['Transaction ID', 'Transaction Time', 'Block Time', 'Sender ID',\n",
      "       'Receiver ID', 'Receiver Type', 'Amount', 'Currency', 'Currency Hash',\n",
      "       'Currency Type', 'Amount [USD]', 'Gas Price', 'Gas Limit', 'Gas Used',\n",
      "       'Gas Predicted', 'Balance In', 'Balance Out', 'Label', 'Risk Level'],\n",
      "      dtype='object') with 19 columns\n"
     ]
    }
   ],
   "source": [
    "# Loading / Generating Data\n",
    "lCsvFile = ExtractCsvFiles(dataSetRotoDir, folderNamePattern = DATA_FOLDER_PATTERN)\n",
    "print(f'The number of file found: {len(lCsvFile)}')\n",
    "\n",
    "# dfData = pd.read_csv(os.path.join(DATA_FOLDER_NAME, csvFileName))\n",
    "dfData, dAssetFile = LoadCsvFilesDf(lCsvFile, baseFoldePath = '')\n",
    "numRows, numCols = dfData.shape\n",
    "\n",
    "print(f\"The number of rows (Samples): {numRows}, The number of columns: {numCols}, number of unique sender id's: {dfData['Sender ID'].unique().shape}\")\n",
    "print(f'The data list of columns is: {dfData.columns} with {len(dfData.columns)} columns')"
   ]
  },
  {
   "cell_type": "code",
   "execution_count": 7,
   "metadata": {},
   "outputs": [],
   "source": [
    "# Convert time data into Pandas format\n",
    "dfData[timeColStr] = pd.to_datetime(dfData[timeColStr], infer_datetime_format = 'True') #<! Stable time format"
   ]
  },
  {
   "cell_type": "code",
   "execution_count": 8,
   "metadata": {},
   "outputs": [],
   "source": [
    "# Sort data by transaction date\n",
    "dfData.sort_values(timeColStr, inplace = True)\n",
    "# dfData.reset_index(drop = True, inplace = True)"
   ]
  },
  {
   "cell_type": "code",
   "execution_count": 9,
   "metadata": {},
   "outputs": [
    {
     "data": {
      "text/html": [
       "<div>\n",
       "<style scoped>\n",
       "    .dataframe tbody tr th:only-of-type {\n",
       "        vertical-align: middle;\n",
       "    }\n",
       "\n",
       "    .dataframe tbody tr th {\n",
       "        vertical-align: top;\n",
       "    }\n",
       "\n",
       "    .dataframe thead th {\n",
       "        text-align: right;\n",
       "    }\n",
       "</style>\n",
       "<table border=\"1\" class=\"dataframe\">\n",
       "  <thead>\n",
       "    <tr style=\"text-align: right;\">\n",
       "      <th></th>\n",
       "      <th>Transaction ID</th>\n",
       "      <th>Transaction Time</th>\n",
       "      <th>Block Time</th>\n",
       "      <th>Sender ID</th>\n",
       "      <th>Receiver ID</th>\n",
       "      <th>Receiver Type</th>\n",
       "      <th>Amount</th>\n",
       "      <th>Currency</th>\n",
       "      <th>Currency Hash</th>\n",
       "      <th>Currency Type</th>\n",
       "      <th>Amount [USD]</th>\n",
       "      <th>Gas Price</th>\n",
       "      <th>Gas Limit</th>\n",
       "      <th>Gas Used</th>\n",
       "      <th>Gas Predicted</th>\n",
       "      <th>Balance In</th>\n",
       "      <th>Balance Out</th>\n",
       "      <th>Label</th>\n",
       "      <th>Risk Level</th>\n",
       "    </tr>\n",
       "  </thead>\n",
       "  <tbody>\n",
       "    <tr>\n",
       "      <th>828630</th>\n",
       "      <td>0x2971c7bcbf18c57a2879b07a0f6dbbc14b7c928a0335...</td>\n",
       "      <td>NaN</td>\n",
       "      <td>2016-02-12 11:01:25+00:00</td>\n",
       "      <td>0x537bf75de19f3d229e3a9018ee1a23c0c9c7d39c</td>\n",
       "      <td>0x537bf75de19f3d229e3a9018ee1a23c0c9c7d39c</td>\n",
       "      <td>Wallet</td>\n",
       "      <td>0.500000</td>\n",
       "      <td>ETH</td>\n",
       "      <td>0x0000000000000000000000000000000000000000</td>\n",
       "      <td>NaN</td>\n",
       "      <td>2.737825</td>\n",
       "      <td>5.000000e-08</td>\n",
       "      <td>121000.0</td>\n",
       "      <td>21000</td>\n",
       "      <td>NaN</td>\n",
       "      <td>NaN</td>\n",
       "      <td>NaN</td>\n",
       "      <td>0</td>\n",
       "      <td>NaN</td>\n",
       "    </tr>\n",
       "    <tr>\n",
       "      <th>828629</th>\n",
       "      <td>0xc18b50d6311d2de6f6bfd450a38291297eb0e1c96320...</td>\n",
       "      <td>NaN</td>\n",
       "      <td>2016-05-11 09:23:12+00:00</td>\n",
       "      <td>0x537bf75de19f3d229e3a9018ee1a23c0c9c7d39c</td>\n",
       "      <td>0xbb9bc244d798123fde783fcc1c72d3bb8c189413</td>\n",
       "      <td>Token</td>\n",
       "      <td>50.000000</td>\n",
       "      <td>ETH</td>\n",
       "      <td>0x0000000000000000000000000000000000000000</td>\n",
       "      <td>NaN</td>\n",
       "      <td>499.065146</td>\n",
       "      <td>3.221000e-08</td>\n",
       "      <td>174091.0</td>\n",
       "      <td>74091</td>\n",
       "      <td>NaN</td>\n",
       "      <td>NaN</td>\n",
       "      <td>NaN</td>\n",
       "      <td>0</td>\n",
       "      <td>NaN</td>\n",
       "    </tr>\n",
       "    <tr>\n",
       "      <th>828628</th>\n",
       "      <td>0x29d0b83aeead81925d6df3a5c252bb759811fbc5bb5d...</td>\n",
       "      <td>NaN</td>\n",
       "      <td>2016-05-13 11:44:02+00:00</td>\n",
       "      <td>0x537bf75de19f3d229e3a9018ee1a23c0c9c7d39c</td>\n",
       "      <td>0x335195726ba56b51cbd5d569c0aa5ccf5c1f4e28</td>\n",
       "      <td>Wallet</td>\n",
       "      <td>26.000000</td>\n",
       "      <td>ETH</td>\n",
       "      <td>0x0000000000000000000000000000000000000000</td>\n",
       "      <td>NaN</td>\n",
       "      <td>275.227201</td>\n",
       "      <td>3.221000e-08</td>\n",
       "      <td>121000.0</td>\n",
       "      <td>21000</td>\n",
       "      <td>NaN</td>\n",
       "      <td>NaN</td>\n",
       "      <td>NaN</td>\n",
       "      <td>0</td>\n",
       "      <td>NaN</td>\n",
       "    </tr>\n",
       "    <tr>\n",
       "      <th>828627</th>\n",
       "      <td>0x292d05383a2d9150c5b24718ceef760608561469222f...</td>\n",
       "      <td>NaN</td>\n",
       "      <td>2016-05-19 07:50:40+00:00</td>\n",
       "      <td>0x537bf75de19f3d229e3a9018ee1a23c0c9c7d39c</td>\n",
       "      <td>0x335195726ba56b51cbd5d569c0aa5ccf5c1f4e28</td>\n",
       "      <td>Wallet</td>\n",
       "      <td>50.000000</td>\n",
       "      <td>ETH</td>\n",
       "      <td>0x0000000000000000000000000000000000000000</td>\n",
       "      <td>NaN</td>\n",
       "      <td>735.916238</td>\n",
       "      <td>2.000000e-08</td>\n",
       "      <td>121000.0</td>\n",
       "      <td>21000</td>\n",
       "      <td>NaN</td>\n",
       "      <td>NaN</td>\n",
       "      <td>NaN</td>\n",
       "      <td>0</td>\n",
       "      <td>NaN</td>\n",
       "    </tr>\n",
       "    <tr>\n",
       "      <th>828626</th>\n",
       "      <td>0x4020de95411dd43e8613588f07a8e9643093c8e9c9a2...</td>\n",
       "      <td>NaN</td>\n",
       "      <td>2016-05-20 12:29:30+00:00</td>\n",
       "      <td>0x537bf75de19f3d229e3a9018ee1a23c0c9c7d39c</td>\n",
       "      <td>0x335195726ba56b51cbd5d569c0aa5ccf5c1f4e28</td>\n",
       "      <td>Wallet</td>\n",
       "      <td>100.000000</td>\n",
       "      <td>ETH</td>\n",
       "      <td>0x0000000000000000000000000000000000000000</td>\n",
       "      <td>NaN</td>\n",
       "      <td>1369.368343</td>\n",
       "      <td>2.000000e-08</td>\n",
       "      <td>121000.0</td>\n",
       "      <td>21000</td>\n",
       "      <td>NaN</td>\n",
       "      <td>NaN</td>\n",
       "      <td>NaN</td>\n",
       "      <td>0</td>\n",
       "      <td>NaN</td>\n",
       "    </tr>\n",
       "    <tr>\n",
       "      <th>828625</th>\n",
       "      <td>0xde1fb69bc6f78d32413ef8cc800ee4379855636c8daa...</td>\n",
       "      <td>NaN</td>\n",
       "      <td>2016-07-20 13:30:33+00:00</td>\n",
       "      <td>0x537bf75de19f3d229e3a9018ee1a23c0c9c7d39c</td>\n",
       "      <td>0xbf4ed7b27f1d666546e30d74d50d173d20bca754</td>\n",
       "      <td>Smart Contract</td>\n",
       "      <td>5000.000000</td>\n",
       "      <td>DAO</td>\n",
       "      <td>0xbb9bc244d798123fde783fcc1c72d3bb8c189413</td>\n",
       "      <td>ERC20</td>\n",
       "      <td>NaN</td>\n",
       "      <td>2.000000e-08</td>\n",
       "      <td>158971.0</td>\n",
       "      <td>43971</td>\n",
       "      <td>NaN</td>\n",
       "      <td>NaN</td>\n",
       "      <td>NaN</td>\n",
       "      <td>0</td>\n",
       "      <td>NaN</td>\n",
       "    </tr>\n",
       "    <tr>\n",
       "      <th>828624</th>\n",
       "      <td>0xfb4686f9c20f25573ad8e0b67b4dca472270a49f5e47...</td>\n",
       "      <td>NaN</td>\n",
       "      <td>2016-08-28 15:26:36+00:00</td>\n",
       "      <td>0x537bf75de19f3d229e3a9018ee1a23c0c9c7d39c</td>\n",
       "      <td>0x51f4d62b7444f058aba634f9ec43590a9cd768a3</td>\n",
       "      <td>Wallet</td>\n",
       "      <td>8.572152</td>\n",
       "      <td>DGD</td>\n",
       "      <td>0xe0b7927c4af23765cb51314a0e0521a9645f0e2a</td>\n",
       "      <td>ERC20</td>\n",
       "      <td>88.207441</td>\n",
       "      <td>3.221000e-08</td>\n",
       "      <td>150245.0</td>\n",
       "      <td>36525</td>\n",
       "      <td>NaN</td>\n",
       "      <td>NaN</td>\n",
       "      <td>NaN</td>\n",
       "      <td>0</td>\n",
       "      <td>NaN</td>\n",
       "    </tr>\n",
       "    <tr>\n",
       "      <th>828623</th>\n",
       "      <td>0x14dbc5b173174d831285b69676dcb6bbb7cd1f3b4e11...</td>\n",
       "      <td>NaN</td>\n",
       "      <td>2016-09-25 17:06:46+00:00</td>\n",
       "      <td>0x537bf75de19f3d229e3a9018ee1a23c0c9c7d39c</td>\n",
       "      <td>0x755cdba6ae4f479f7164792b318b2a06c759833b</td>\n",
       "      <td>Smart Contract</td>\n",
       "      <td>0.000000</td>\n",
       "      <td>-</td>\n",
       "      <td>-</td>\n",
       "      <td>-</td>\n",
       "      <td>NaN</td>\n",
       "      <td>3.100000e-08</td>\n",
       "      <td>100000.0</td>\n",
       "      <td>40655</td>\n",
       "      <td>NaN</td>\n",
       "      <td>NaN</td>\n",
       "      <td>NaN</td>\n",
       "      <td>0</td>\n",
       "      <td>NaN</td>\n",
       "    </tr>\n",
       "    <tr>\n",
       "      <th>828622</th>\n",
       "      <td>0x517c5c9eb46465df40d79946ae8c369a9efcf26b68de...</td>\n",
       "      <td>NaN</td>\n",
       "      <td>2016-09-26 00:00:53+00:00</td>\n",
       "      <td>0x537bf75de19f3d229e3a9018ee1a23c0c9c7d39c</td>\n",
       "      <td>0xaf30d2a7e90d7dc361c8c4585e9bb7d2f6f15bc7</td>\n",
       "      <td>Token</td>\n",
       "      <td>25.000000</td>\n",
       "      <td>ETH</td>\n",
       "      <td>0x0000000000000000000000000000000000000000</td>\n",
       "      <td>NaN</td>\n",
       "      <td>320.468660</td>\n",
       "      <td>3.300000e-08</td>\n",
       "      <td>300000.0</td>\n",
       "      <td>72056</td>\n",
       "      <td>NaN</td>\n",
       "      <td>NaN</td>\n",
       "      <td>NaN</td>\n",
       "      <td>0</td>\n",
       "      <td>NaN</td>\n",
       "    </tr>\n",
       "    <tr>\n",
       "      <th>828621</th>\n",
       "      <td>0xc1bb43777ef943f1e5f80f7d16967f8858049bb3052e...</td>\n",
       "      <td>NaN</td>\n",
       "      <td>2016-10-01 19:48:52+00:00</td>\n",
       "      <td>0x537bf75de19f3d229e3a9018ee1a23c0c9c7d39c</td>\n",
       "      <td>0x94d9620d4b33b08922f12ddfb15c8d8b08597f5b</td>\n",
       "      <td>Wallet</td>\n",
       "      <td>5.000000</td>\n",
       "      <td>ETH</td>\n",
       "      <td>0x0000000000000000000000000000000000000000</td>\n",
       "      <td>NaN</td>\n",
       "      <td>66.349136</td>\n",
       "      <td>2.300000e-08</td>\n",
       "      <td>21000.0</td>\n",
       "      <td>21000</td>\n",
       "      <td>NaN</td>\n",
       "      <td>NaN</td>\n",
       "      <td>NaN</td>\n",
       "      <td>0</td>\n",
       "      <td>NaN</td>\n",
       "    </tr>\n",
       "    <tr>\n",
       "      <th>828620</th>\n",
       "      <td>0x092df2a5f78e59a26cf946a15bf32d939632f775659d...</td>\n",
       "      <td>NaN</td>\n",
       "      <td>2016-10-01 19:51:05+00:00</td>\n",
       "      <td>0x537bf75de19f3d229e3a9018ee1a23c0c9c7d39c</td>\n",
       "      <td>0x94d9620d4b33b08922f12ddfb15c8d8b08597f5b</td>\n",
       "      <td>Wallet</td>\n",
       "      <td>150.000000</td>\n",
       "      <td>ETH</td>\n",
       "      <td>0x0000000000000000000000000000000000000000</td>\n",
       "      <td>NaN</td>\n",
       "      <td>1990.474084</td>\n",
       "      <td>2.300000e-08</td>\n",
       "      <td>21000.0</td>\n",
       "      <td>21000</td>\n",
       "      <td>NaN</td>\n",
       "      <td>NaN</td>\n",
       "      <td>NaN</td>\n",
       "      <td>0</td>\n",
       "      <td>NaN</td>\n",
       "    </tr>\n",
       "    <tr>\n",
       "      <th>828619</th>\n",
       "      <td>0xd820f34137a9871fd538bb32f88c0459f49b33a49b73...</td>\n",
       "      <td>NaN</td>\n",
       "      <td>2016-10-02 11:56:34+00:00</td>\n",
       "      <td>0x537bf75de19f3d229e3a9018ee1a23c0c9c7d39c</td>\n",
       "      <td>0x94d9620d4b33b08922f12ddfb15c8d8b08597f5b</td>\n",
       "      <td>Wallet</td>\n",
       "      <td>179.000000</td>\n",
       "      <td>ETH</td>\n",
       "      <td>0x0000000000000000000000000000000000000000</td>\n",
       "      <td>NaN</td>\n",
       "      <td>2362.425878</td>\n",
       "      <td>3.300000e-08</td>\n",
       "      <td>21000.0</td>\n",
       "      <td>21000</td>\n",
       "      <td>NaN</td>\n",
       "      <td>NaN</td>\n",
       "      <td>NaN</td>\n",
       "      <td>0</td>\n",
       "      <td>NaN</td>\n",
       "    </tr>\n",
       "    <tr>\n",
       "      <th>828618</th>\n",
       "      <td>0xa8d334d6912d02a6bb02de418a107c03eef15869df24...</td>\n",
       "      <td>NaN</td>\n",
       "      <td>2016-11-11 15:27:42+00:00</td>\n",
       "      <td>0x537bf75de19f3d229e3a9018ee1a23c0c9c7d39c</td>\n",
       "      <td>0xa74476443119a942de498590fe1f2454d7d4ac0d</td>\n",
       "      <td>Token</td>\n",
       "      <td>427.000000</td>\n",
       "      <td>ETH</td>\n",
       "      <td>0x0000000000000000000000000000000000000000</td>\n",
       "      <td>NaN</td>\n",
       "      <td>4395.148299</td>\n",
       "      <td>6.200000e-08</td>\n",
       "      <td>60000.0</td>\n",
       "      <td>50163</td>\n",
       "      <td>NaN</td>\n",
       "      <td>NaN</td>\n",
       "      <td>NaN</td>\n",
       "      <td>0</td>\n",
       "      <td>NaN</td>\n",
       "    </tr>\n",
       "    <tr>\n",
       "      <th>828617</th>\n",
       "      <td>0x6781dd5a1a42c60bcbdfc12b7c1478656a0a7295b378...</td>\n",
       "      <td>NaN</td>\n",
       "      <td>2016-11-14 11:25:05+00:00</td>\n",
       "      <td>0x537bf75de19f3d229e3a9018ee1a23c0c9c7d39c</td>\n",
       "      <td>0xa7bb8713774cc9a2992affc741e364c710a4d10d</td>\n",
       "      <td>Wallet</td>\n",
       "      <td>10000.000000</td>\n",
       "      <td>GNT</td>\n",
       "      <td>0xa74476443119a942de498590fe1f2454d7d4ac0d</td>\n",
       "      <td>ERC20</td>\n",
       "      <td>NaN</td>\n",
       "      <td>6.400000e-08</td>\n",
       "      <td>51728.0</td>\n",
       "      <td>51728</td>\n",
       "      <td>NaN</td>\n",
       "      <td>NaN</td>\n",
       "      <td>NaN</td>\n",
       "      <td>0</td>\n",
       "      <td>NaN</td>\n",
       "    </tr>\n",
       "    <tr>\n",
       "      <th>828616</th>\n",
       "      <td>0x66c746aa5eb7f746f8d2ac14ae58832c0006635d97d6...</td>\n",
       "      <td>NaN</td>\n",
       "      <td>2016-11-14 11:48:26+00:00</td>\n",
       "      <td>0x537bf75de19f3d229e3a9018ee1a23c0c9c7d39c</td>\n",
       "      <td>0xa7bb8713774cc9a2992affc741e364c710a4d10d</td>\n",
       "      <td>Wallet</td>\n",
       "      <td>20000.000000</td>\n",
       "      <td>GNT</td>\n",
       "      <td>0xa74476443119a942de498590fe1f2454d7d4ac0d</td>\n",
       "      <td>ERC20</td>\n",
       "      <td>NaN</td>\n",
       "      <td>6.400000e-08</td>\n",
       "      <td>51728.0</td>\n",
       "      <td>51728</td>\n",
       "      <td>NaN</td>\n",
       "      <td>NaN</td>\n",
       "      <td>NaN</td>\n",
       "      <td>0</td>\n",
       "      <td>NaN</td>\n",
       "    </tr>\n",
       "    <tr>\n",
       "      <th>828615</th>\n",
       "      <td>0x7719c3a0278492cd0869da334d1cdf3d724557709659...</td>\n",
       "      <td>NaN</td>\n",
       "      <td>2016-11-16 11:55:43+00:00</td>\n",
       "      <td>0x537bf75de19f3d229e3a9018ee1a23c0c9c7d39c</td>\n",
       "      <td>0xa7bb8713774cc9a2992affc741e364c710a4d10d</td>\n",
       "      <td>Wallet</td>\n",
       "      <td>14000.000000</td>\n",
       "      <td>GNT</td>\n",
       "      <td>0xa74476443119a942de498590fe1f2454d7d4ac0d</td>\n",
       "      <td>ERC20</td>\n",
       "      <td>NaN</td>\n",
       "      <td>6.100000e-08</td>\n",
       "      <td>51728.0</td>\n",
       "      <td>51728</td>\n",
       "      <td>NaN</td>\n",
       "      <td>NaN</td>\n",
       "      <td>NaN</td>\n",
       "      <td>0</td>\n",
       "      <td>NaN</td>\n",
       "    </tr>\n",
       "    <tr>\n",
       "      <th>828614</th>\n",
       "      <td>0x2a059c6eb69f945ed1cc8a55a8e2097befd38ef0b058...</td>\n",
       "      <td>NaN</td>\n",
       "      <td>2016-11-16 16:32:43+00:00</td>\n",
       "      <td>0x537bf75de19f3d229e3a9018ee1a23c0c9c7d39c</td>\n",
       "      <td>0xf2782c0a805284b32e0c87bf9129489f489b2b19</td>\n",
       "      <td>Smart Contract</td>\n",
       "      <td>5000.000000</td>\n",
       "      <td>GNT</td>\n",
       "      <td>0xa74476443119a942de498590fe1f2454d7d4ac0d</td>\n",
       "      <td>ERC20</td>\n",
       "      <td>NaN</td>\n",
       "      <td>6.200000e-08</td>\n",
       "      <td>51728.0</td>\n",
       "      <td>51728</td>\n",
       "      <td>NaN</td>\n",
       "      <td>NaN</td>\n",
       "      <td>NaN</td>\n",
       "      <td>0</td>\n",
       "      <td>NaN</td>\n",
       "    </tr>\n",
       "    <tr>\n",
       "      <th>828613</th>\n",
       "      <td>0x741aa378d0783fcfae0ca940ec69eb5bd29ebb645f57...</td>\n",
       "      <td>NaN</td>\n",
       "      <td>2016-11-16 16:45:26+00:00</td>\n",
       "      <td>0x537bf75de19f3d229e3a9018ee1a23c0c9c7d39c</td>\n",
       "      <td>0xf2782c0a805284b32e0c87bf9129489f489b2b19</td>\n",
       "      <td>Smart Contract</td>\n",
       "      <td>10000.000000</td>\n",
       "      <td>GNT</td>\n",
       "      <td>0xa74476443119a942de498590fe1f2454d7d4ac0d</td>\n",
       "      <td>ERC20</td>\n",
       "      <td>NaN</td>\n",
       "      <td>6.200000e-08</td>\n",
       "      <td>36728.0</td>\n",
       "      <td>36728</td>\n",
       "      <td>NaN</td>\n",
       "      <td>NaN</td>\n",
       "      <td>NaN</td>\n",
       "      <td>0</td>\n",
       "      <td>NaN</td>\n",
       "    </tr>\n",
       "    <tr>\n",
       "      <th>828612</th>\n",
       "      <td>0x501e18467ad2bc22247040b0072a9863f3c1dc4ae34b...</td>\n",
       "      <td>NaN</td>\n",
       "      <td>2016-11-17 11:27:40+00:00</td>\n",
       "      <td>0x537bf75de19f3d229e3a9018ee1a23c0c9c7d39c</td>\n",
       "      <td>0xf2782c0a805284b32e0c87bf9129489f489b2b19</td>\n",
       "      <td>Smart Contract</td>\n",
       "      <td>10000.000000</td>\n",
       "      <td>GNT</td>\n",
       "      <td>0xa74476443119a942de498590fe1f2454d7d4ac0d</td>\n",
       "      <td>ERC20</td>\n",
       "      <td>NaN</td>\n",
       "      <td>6.100000e-08</td>\n",
       "      <td>36728.0</td>\n",
       "      <td>36728</td>\n",
       "      <td>NaN</td>\n",
       "      <td>NaN</td>\n",
       "      <td>NaN</td>\n",
       "      <td>0</td>\n",
       "      <td>NaN</td>\n",
       "    </tr>\n",
       "    <tr>\n",
       "      <th>828611</th>\n",
       "      <td>0x418a294b4ec23fd83019fffc417009bd840d6391f686...</td>\n",
       "      <td>NaN</td>\n",
       "      <td>2016-11-17 15:37:40+00:00</td>\n",
       "      <td>0x537bf75de19f3d229e3a9018ee1a23c0c9c7d39c</td>\n",
       "      <td>0xa7bb8713774cc9a2992affc741e364c710a4d10d</td>\n",
       "      <td>Wallet</td>\n",
       "      <td>15000.000000</td>\n",
       "      <td>GNT</td>\n",
       "      <td>0xa74476443119a942de498590fe1f2454d7d4ac0d</td>\n",
       "      <td>ERC20</td>\n",
       "      <td>NaN</td>\n",
       "      <td>6.200000e-08</td>\n",
       "      <td>51728.0</td>\n",
       "      <td>51728</td>\n",
       "      <td>NaN</td>\n",
       "      <td>NaN</td>\n",
       "      <td>NaN</td>\n",
       "      <td>0</td>\n",
       "      <td>NaN</td>\n",
       "    </tr>\n",
       "  </tbody>\n",
       "</table>\n",
       "</div>"
      ],
      "text/plain": [
       "                                           Transaction ID  Transaction Time  \\\n",
       "828630  0x2971c7bcbf18c57a2879b07a0f6dbbc14b7c928a0335...               NaN   \n",
       "828629  0xc18b50d6311d2de6f6bfd450a38291297eb0e1c96320...               NaN   \n",
       "828628  0x29d0b83aeead81925d6df3a5c252bb759811fbc5bb5d...               NaN   \n",
       "828627  0x292d05383a2d9150c5b24718ceef760608561469222f...               NaN   \n",
       "828626  0x4020de95411dd43e8613588f07a8e9643093c8e9c9a2...               NaN   \n",
       "828625  0xde1fb69bc6f78d32413ef8cc800ee4379855636c8daa...               NaN   \n",
       "828624  0xfb4686f9c20f25573ad8e0b67b4dca472270a49f5e47...               NaN   \n",
       "828623  0x14dbc5b173174d831285b69676dcb6bbb7cd1f3b4e11...               NaN   \n",
       "828622  0x517c5c9eb46465df40d79946ae8c369a9efcf26b68de...               NaN   \n",
       "828621  0xc1bb43777ef943f1e5f80f7d16967f8858049bb3052e...               NaN   \n",
       "828620  0x092df2a5f78e59a26cf946a15bf32d939632f775659d...               NaN   \n",
       "828619  0xd820f34137a9871fd538bb32f88c0459f49b33a49b73...               NaN   \n",
       "828618  0xa8d334d6912d02a6bb02de418a107c03eef15869df24...               NaN   \n",
       "828617  0x6781dd5a1a42c60bcbdfc12b7c1478656a0a7295b378...               NaN   \n",
       "828616  0x66c746aa5eb7f746f8d2ac14ae58832c0006635d97d6...               NaN   \n",
       "828615  0x7719c3a0278492cd0869da334d1cdf3d724557709659...               NaN   \n",
       "828614  0x2a059c6eb69f945ed1cc8a55a8e2097befd38ef0b058...               NaN   \n",
       "828613  0x741aa378d0783fcfae0ca940ec69eb5bd29ebb645f57...               NaN   \n",
       "828612  0x501e18467ad2bc22247040b0072a9863f3c1dc4ae34b...               NaN   \n",
       "828611  0x418a294b4ec23fd83019fffc417009bd840d6391f686...               NaN   \n",
       "\n",
       "                      Block Time                                   Sender ID  \\\n",
       "828630 2016-02-12 11:01:25+00:00  0x537bf75de19f3d229e3a9018ee1a23c0c9c7d39c   \n",
       "828629 2016-05-11 09:23:12+00:00  0x537bf75de19f3d229e3a9018ee1a23c0c9c7d39c   \n",
       "828628 2016-05-13 11:44:02+00:00  0x537bf75de19f3d229e3a9018ee1a23c0c9c7d39c   \n",
       "828627 2016-05-19 07:50:40+00:00  0x537bf75de19f3d229e3a9018ee1a23c0c9c7d39c   \n",
       "828626 2016-05-20 12:29:30+00:00  0x537bf75de19f3d229e3a9018ee1a23c0c9c7d39c   \n",
       "828625 2016-07-20 13:30:33+00:00  0x537bf75de19f3d229e3a9018ee1a23c0c9c7d39c   \n",
       "828624 2016-08-28 15:26:36+00:00  0x537bf75de19f3d229e3a9018ee1a23c0c9c7d39c   \n",
       "828623 2016-09-25 17:06:46+00:00  0x537bf75de19f3d229e3a9018ee1a23c0c9c7d39c   \n",
       "828622 2016-09-26 00:00:53+00:00  0x537bf75de19f3d229e3a9018ee1a23c0c9c7d39c   \n",
       "828621 2016-10-01 19:48:52+00:00  0x537bf75de19f3d229e3a9018ee1a23c0c9c7d39c   \n",
       "828620 2016-10-01 19:51:05+00:00  0x537bf75de19f3d229e3a9018ee1a23c0c9c7d39c   \n",
       "828619 2016-10-02 11:56:34+00:00  0x537bf75de19f3d229e3a9018ee1a23c0c9c7d39c   \n",
       "828618 2016-11-11 15:27:42+00:00  0x537bf75de19f3d229e3a9018ee1a23c0c9c7d39c   \n",
       "828617 2016-11-14 11:25:05+00:00  0x537bf75de19f3d229e3a9018ee1a23c0c9c7d39c   \n",
       "828616 2016-11-14 11:48:26+00:00  0x537bf75de19f3d229e3a9018ee1a23c0c9c7d39c   \n",
       "828615 2016-11-16 11:55:43+00:00  0x537bf75de19f3d229e3a9018ee1a23c0c9c7d39c   \n",
       "828614 2016-11-16 16:32:43+00:00  0x537bf75de19f3d229e3a9018ee1a23c0c9c7d39c   \n",
       "828613 2016-11-16 16:45:26+00:00  0x537bf75de19f3d229e3a9018ee1a23c0c9c7d39c   \n",
       "828612 2016-11-17 11:27:40+00:00  0x537bf75de19f3d229e3a9018ee1a23c0c9c7d39c   \n",
       "828611 2016-11-17 15:37:40+00:00  0x537bf75de19f3d229e3a9018ee1a23c0c9c7d39c   \n",
       "\n",
       "                                       Receiver ID   Receiver Type  \\\n",
       "828630  0x537bf75de19f3d229e3a9018ee1a23c0c9c7d39c          Wallet   \n",
       "828629  0xbb9bc244d798123fde783fcc1c72d3bb8c189413           Token   \n",
       "828628  0x335195726ba56b51cbd5d569c0aa5ccf5c1f4e28          Wallet   \n",
       "828627  0x335195726ba56b51cbd5d569c0aa5ccf5c1f4e28          Wallet   \n",
       "828626  0x335195726ba56b51cbd5d569c0aa5ccf5c1f4e28          Wallet   \n",
       "828625  0xbf4ed7b27f1d666546e30d74d50d173d20bca754  Smart Contract   \n",
       "828624  0x51f4d62b7444f058aba634f9ec43590a9cd768a3          Wallet   \n",
       "828623  0x755cdba6ae4f479f7164792b318b2a06c759833b  Smart Contract   \n",
       "828622  0xaf30d2a7e90d7dc361c8c4585e9bb7d2f6f15bc7           Token   \n",
       "828621  0x94d9620d4b33b08922f12ddfb15c8d8b08597f5b          Wallet   \n",
       "828620  0x94d9620d4b33b08922f12ddfb15c8d8b08597f5b          Wallet   \n",
       "828619  0x94d9620d4b33b08922f12ddfb15c8d8b08597f5b          Wallet   \n",
       "828618  0xa74476443119a942de498590fe1f2454d7d4ac0d           Token   \n",
       "828617  0xa7bb8713774cc9a2992affc741e364c710a4d10d          Wallet   \n",
       "828616  0xa7bb8713774cc9a2992affc741e364c710a4d10d          Wallet   \n",
       "828615  0xa7bb8713774cc9a2992affc741e364c710a4d10d          Wallet   \n",
       "828614  0xf2782c0a805284b32e0c87bf9129489f489b2b19  Smart Contract   \n",
       "828613  0xf2782c0a805284b32e0c87bf9129489f489b2b19  Smart Contract   \n",
       "828612  0xf2782c0a805284b32e0c87bf9129489f489b2b19  Smart Contract   \n",
       "828611  0xa7bb8713774cc9a2992affc741e364c710a4d10d          Wallet   \n",
       "\n",
       "              Amount Currency                               Currency Hash  \\\n",
       "828630      0.500000      ETH  0x0000000000000000000000000000000000000000   \n",
       "828629     50.000000      ETH  0x0000000000000000000000000000000000000000   \n",
       "828628     26.000000      ETH  0x0000000000000000000000000000000000000000   \n",
       "828627     50.000000      ETH  0x0000000000000000000000000000000000000000   \n",
       "828626    100.000000      ETH  0x0000000000000000000000000000000000000000   \n",
       "828625   5000.000000      DAO  0xbb9bc244d798123fde783fcc1c72d3bb8c189413   \n",
       "828624      8.572152      DGD  0xe0b7927c4af23765cb51314a0e0521a9645f0e2a   \n",
       "828623      0.000000        -                                           -   \n",
       "828622     25.000000      ETH  0x0000000000000000000000000000000000000000   \n",
       "828621      5.000000      ETH  0x0000000000000000000000000000000000000000   \n",
       "828620    150.000000      ETH  0x0000000000000000000000000000000000000000   \n",
       "828619    179.000000      ETH  0x0000000000000000000000000000000000000000   \n",
       "828618    427.000000      ETH  0x0000000000000000000000000000000000000000   \n",
       "828617  10000.000000      GNT  0xa74476443119a942de498590fe1f2454d7d4ac0d   \n",
       "828616  20000.000000      GNT  0xa74476443119a942de498590fe1f2454d7d4ac0d   \n",
       "828615  14000.000000      GNT  0xa74476443119a942de498590fe1f2454d7d4ac0d   \n",
       "828614   5000.000000      GNT  0xa74476443119a942de498590fe1f2454d7d4ac0d   \n",
       "828613  10000.000000      GNT  0xa74476443119a942de498590fe1f2454d7d4ac0d   \n",
       "828612  10000.000000      GNT  0xa74476443119a942de498590fe1f2454d7d4ac0d   \n",
       "828611  15000.000000      GNT  0xa74476443119a942de498590fe1f2454d7d4ac0d   \n",
       "\n",
       "       Currency Type  Amount [USD]     Gas Price  Gas Limit  Gas Used  \\\n",
       "828630           NaN      2.737825  5.000000e-08   121000.0     21000   \n",
       "828629           NaN    499.065146  3.221000e-08   174091.0     74091   \n",
       "828628           NaN    275.227201  3.221000e-08   121000.0     21000   \n",
       "828627           NaN    735.916238  2.000000e-08   121000.0     21000   \n",
       "828626           NaN   1369.368343  2.000000e-08   121000.0     21000   \n",
       "828625         ERC20           NaN  2.000000e-08   158971.0     43971   \n",
       "828624         ERC20     88.207441  3.221000e-08   150245.0     36525   \n",
       "828623             -           NaN  3.100000e-08   100000.0     40655   \n",
       "828622           NaN    320.468660  3.300000e-08   300000.0     72056   \n",
       "828621           NaN     66.349136  2.300000e-08    21000.0     21000   \n",
       "828620           NaN   1990.474084  2.300000e-08    21000.0     21000   \n",
       "828619           NaN   2362.425878  3.300000e-08    21000.0     21000   \n",
       "828618           NaN   4395.148299  6.200000e-08    60000.0     50163   \n",
       "828617         ERC20           NaN  6.400000e-08    51728.0     51728   \n",
       "828616         ERC20           NaN  6.400000e-08    51728.0     51728   \n",
       "828615         ERC20           NaN  6.100000e-08    51728.0     51728   \n",
       "828614         ERC20           NaN  6.200000e-08    51728.0     51728   \n",
       "828613         ERC20           NaN  6.200000e-08    36728.0     36728   \n",
       "828612         ERC20           NaN  6.100000e-08    36728.0     36728   \n",
       "828611         ERC20           NaN  6.200000e-08    51728.0     51728   \n",
       "\n",
       "        Gas Predicted  Balance In  Balance Out  Label  Risk Level  \n",
       "828630            NaN         NaN          NaN      0         NaN  \n",
       "828629            NaN         NaN          NaN      0         NaN  \n",
       "828628            NaN         NaN          NaN      0         NaN  \n",
       "828627            NaN         NaN          NaN      0         NaN  \n",
       "828626            NaN         NaN          NaN      0         NaN  \n",
       "828625            NaN         NaN          NaN      0         NaN  \n",
       "828624            NaN         NaN          NaN      0         NaN  \n",
       "828623            NaN         NaN          NaN      0         NaN  \n",
       "828622            NaN         NaN          NaN      0         NaN  \n",
       "828621            NaN         NaN          NaN      0         NaN  \n",
       "828620            NaN         NaN          NaN      0         NaN  \n",
       "828619            NaN         NaN          NaN      0         NaN  \n",
       "828618            NaN         NaN          NaN      0         NaN  \n",
       "828617            NaN         NaN          NaN      0         NaN  \n",
       "828616            NaN         NaN          NaN      0         NaN  \n",
       "828615            NaN         NaN          NaN      0         NaN  \n",
       "828614            NaN         NaN          NaN      0         NaN  \n",
       "828613            NaN         NaN          NaN      0         NaN  \n",
       "828612            NaN         NaN          NaN      0         NaN  \n",
       "828611            NaN         NaN          NaN      0         NaN  "
      ]
     },
     "execution_count": 9,
     "metadata": {},
     "output_type": "execute_result"
    }
   ],
   "source": [
    "# Meet the data\n",
    "dfData.head(20)"
   ]
  },
  {
   "cell_type": "markdown",
   "metadata": {},
   "source": [
    "# Information about the Data Before Pre Processing\n",
    "\n",
    "1. See the labeled cases.\n",
    "2. Count the Labels data.\n",
    "3. Number of unique assets.\n",
    "4. Pandas' `info()` and `describe()`.\n",
    "\n",
    "After this phase, the data is _read only_."
   ]
  },
  {
   "cell_type": "code",
   "execution_count": 10,
   "metadata": {},
   "outputs": [
    {
     "data": {
      "text/html": [
       "<div>\n",
       "<style scoped>\n",
       "    .dataframe tbody tr th:only-of-type {\n",
       "        vertical-align: middle;\n",
       "    }\n",
       "\n",
       "    .dataframe tbody tr th {\n",
       "        vertical-align: top;\n",
       "    }\n",
       "\n",
       "    .dataframe thead th {\n",
       "        text-align: right;\n",
       "    }\n",
       "</style>\n",
       "<table border=\"1\" class=\"dataframe\">\n",
       "  <thead>\n",
       "    <tr style=\"text-align: right;\">\n",
       "      <th></th>\n",
       "      <th>Transaction ID</th>\n",
       "      <th>Transaction Time</th>\n",
       "      <th>Block Time</th>\n",
       "      <th>Sender ID</th>\n",
       "      <th>Receiver ID</th>\n",
       "      <th>Receiver Type</th>\n",
       "      <th>Amount</th>\n",
       "      <th>Currency</th>\n",
       "      <th>Currency Hash</th>\n",
       "      <th>Currency Type</th>\n",
       "      <th>Amount [USD]</th>\n",
       "      <th>Gas Price</th>\n",
       "      <th>Gas Limit</th>\n",
       "      <th>Gas Used</th>\n",
       "      <th>Gas Predicted</th>\n",
       "      <th>Balance In</th>\n",
       "      <th>Balance Out</th>\n",
       "      <th>Label</th>\n",
       "      <th>Risk Level</th>\n",
       "    </tr>\n",
       "  </thead>\n",
       "  <tbody>\n",
       "    <tr>\n",
       "      <th>1712707</th>\n",
       "      <td>0x0e0d16475d2ac6a4802437a35a21776e5c9b681a77fe...</td>\n",
       "      <td>NaN</td>\n",
       "      <td>2017-07-18 22:33:23+00:00</td>\n",
       "      <td>0x91efffb9c6cd3a66474688d0a48aa6ecfe515aa5</td>\n",
       "      <td>0xb3764761e297d6f121e79c32a65829cd1ddb4d32</td>\n",
       "      <td>Wallet</td>\n",
       "      <td>26793.000000</td>\n",
       "      <td>ETH</td>\n",
       "      <td>0x0000000000000000000000000000000000000000</td>\n",
       "      <td>NaN</td>\n",
       "      <td>6.122288e+06</td>\n",
       "      <td>2.100000e-08</td>\n",
       "      <td>162754.0</td>\n",
       "      <td>60001</td>\n",
       "      <td>NaN</td>\n",
       "      <td>NaN</td>\n",
       "      <td>NaN</td>\n",
       "      <td>1</td>\n",
       "      <td>NaN</td>\n",
       "    </tr>\n",
       "    <tr>\n",
       "      <th>1712679</th>\n",
       "      <td>0x97f7662322d56e1c54bd1bab39bccf98bc736fcb9c7e...</td>\n",
       "      <td>NaN</td>\n",
       "      <td>2017-07-19 12:14:18+00:00</td>\n",
       "      <td>0x50126e8fcb9be29f83c6bbd913cc85b40eaf86fc</td>\n",
       "      <td>0xb3764761e297d6f121e79c32a65829cd1ddb4d32</td>\n",
       "      <td>Wallet</td>\n",
       "      <td>44055.000000</td>\n",
       "      <td>ETH</td>\n",
       "      <td>0x0000000000000000000000000000000000000000</td>\n",
       "      <td>NaN</td>\n",
       "      <td>8.792960e+06</td>\n",
       "      <td>2.100000e-08</td>\n",
       "      <td>88926.0</td>\n",
       "      <td>58433</td>\n",
       "      <td>NaN</td>\n",
       "      <td>NaN</td>\n",
       "      <td>NaN</td>\n",
       "      <td>1</td>\n",
       "      <td>NaN</td>\n",
       "    </tr>\n",
       "    <tr>\n",
       "      <th>1712719</th>\n",
       "      <td>0xeef10fc5170f669b86c4cd0444882a96087221325f8b...</td>\n",
       "      <td>NaN</td>\n",
       "      <td>2017-07-19 12:19:36+00:00</td>\n",
       "      <td>0xbec591de75b8699a3ba52f073428822d0bfc0d7e</td>\n",
       "      <td>0xb3764761e297d6f121e79c32a65829cd1ddb4d32</td>\n",
       "      <td>Wallet</td>\n",
       "      <td>82189.000000</td>\n",
       "      <td>ETH</td>\n",
       "      <td>0x0000000000000000000000000000000000000000</td>\n",
       "      <td>NaN</td>\n",
       "      <td>1.640414e+07</td>\n",
       "      <td>2.100000e-08</td>\n",
       "      <td>78926.0</td>\n",
       "      <td>58433</td>\n",
       "      <td>NaN</td>\n",
       "      <td>NaN</td>\n",
       "      <td>NaN</td>\n",
       "      <td>1</td>\n",
       "      <td>NaN</td>\n",
       "    </tr>\n",
       "    <tr>\n",
       "      <th>1710588</th>\n",
       "      <td>0x283fd14161d9841571acdc4b629de597bfdcdd197647...</td>\n",
       "      <td>NaN</td>\n",
       "      <td>2017-08-21 05:11:33+00:00</td>\n",
       "      <td>0xa95842e41380100c12caf7b872baa77ce6d8ad24</td>\n",
       "      <td>0x29d7d1dd5b6f9c864d9db560d72a247c178ae86b</td>\n",
       "      <td>Wallet</td>\n",
       "      <td>10.000000</td>\n",
       "      <td>ETH</td>\n",
       "      <td>0x0000000000000000000000000000000000000000</td>\n",
       "      <td>NaN</td>\n",
       "      <td>3.222012e+03</td>\n",
       "      <td>2.287500e-08</td>\n",
       "      <td>25201.0</td>\n",
       "      <td>21000</td>\n",
       "      <td>NaN</td>\n",
       "      <td>NaN</td>\n",
       "      <td>NaN</td>\n",
       "      <td>1</td>\n",
       "      <td>NaN</td>\n",
       "    </tr>\n",
       "    <tr>\n",
       "      <th>1710587</th>\n",
       "      <td>0xa22dafd9184d9eb54deb021d2467eb4e4aee84aee121...</td>\n",
       "      <td>NaN</td>\n",
       "      <td>2017-08-21 05:18:32+00:00</td>\n",
       "      <td>0xa95842e41380100c12caf7b872baa77ce6d8ad24</td>\n",
       "      <td>0x29d7d1dd5b6f9c864d9db560d72a247c178ae86b</td>\n",
       "      <td>Wallet</td>\n",
       "      <td>7.000000</td>\n",
       "      <td>ETH</td>\n",
       "      <td>0x0000000000000000000000000000000000000000</td>\n",
       "      <td>NaN</td>\n",
       "      <td>2.255409e+03</td>\n",
       "      <td>2.404531e-08</td>\n",
       "      <td>25201.0</td>\n",
       "      <td>21000</td>\n",
       "      <td>NaN</td>\n",
       "      <td>NaN</td>\n",
       "      <td>NaN</td>\n",
       "      <td>1</td>\n",
       "      <td>NaN</td>\n",
       "    </tr>\n",
       "    <tr>\n",
       "      <th>...</th>\n",
       "      <td>...</td>\n",
       "      <td>...</td>\n",
       "      <td>...</td>\n",
       "      <td>...</td>\n",
       "      <td>...</td>\n",
       "      <td>...</td>\n",
       "      <td>...</td>\n",
       "      <td>...</td>\n",
       "      <td>...</td>\n",
       "      <td>...</td>\n",
       "      <td>...</td>\n",
       "      <td>...</td>\n",
       "      <td>...</td>\n",
       "      <td>...</td>\n",
       "      <td>...</td>\n",
       "      <td>...</td>\n",
       "      <td>...</td>\n",
       "      <td>...</td>\n",
       "      <td>...</td>\n",
       "    </tr>\n",
       "    <tr>\n",
       "      <th>1682544</th>\n",
       "      <td>0x96eaed8d878ff739c1f293b53a073b2dfefbdf762854...</td>\n",
       "      <td>NaN</td>\n",
       "      <td>2022-07-11 20:47:54+00:00</td>\n",
       "      <td>0xc36442b4a4522e871399cd717abdd847ab11fe88</td>\n",
       "      <td>0x09b5027ef3a3b7332ee90321e558bad9c4447afa</td>\n",
       "      <td>Wallet</td>\n",
       "      <td>0.354521</td>\n",
       "      <td>WBTC</td>\n",
       "      <td>0x2260fac5e5542a773aa44fbcfedf7c193bc2c599</td>\n",
       "      <td>ERC20</td>\n",
       "      <td>7.038288e+03</td>\n",
       "      <td>3.026881e-08</td>\n",
       "      <td>300997.0</td>\n",
       "      <td>186985</td>\n",
       "      <td>NaN</td>\n",
       "      <td>NaN</td>\n",
       "      <td>NaN</td>\n",
       "      <td>1</td>\n",
       "      <td>NaN</td>\n",
       "    </tr>\n",
       "    <tr>\n",
       "      <th>1682543</th>\n",
       "      <td>0x232e6cbe6b382019c237ebf913979105870aa6221fe1...</td>\n",
       "      <td>NaN</td>\n",
       "      <td>2022-07-11 20:48:17+00:00</td>\n",
       "      <td>0xc36442b4a4522e871399cd717abdd847ab11fe88</td>\n",
       "      <td>0x09b5027ef3a3b7332ee90321e558bad9c4447afa</td>\n",
       "      <td>Wallet</td>\n",
       "      <td>2389.581778</td>\n",
       "      <td>ETH</td>\n",
       "      <td>0x0000000000000000000000000000000000000000</td>\n",
       "      <td>NaN</td>\n",
       "      <td>2.793451e+06</td>\n",
       "      <td>2.663459e-08</td>\n",
       "      <td>343816.0</td>\n",
       "      <td>229212</td>\n",
       "      <td>NaN</td>\n",
       "      <td>NaN</td>\n",
       "      <td>NaN</td>\n",
       "      <td>1</td>\n",
       "      <td>NaN</td>\n",
       "    </tr>\n",
       "    <tr>\n",
       "      <th>1682541</th>\n",
       "      <td>0x232e6cbe6b382019c237ebf913979105870aa6221fe1...</td>\n",
       "      <td>NaN</td>\n",
       "      <td>2022-07-11 20:48:17+00:00</td>\n",
       "      <td>0xc36442b4a4522e871399cd717abdd847ab11fe88</td>\n",
       "      <td>0x09b5027ef3a3b7332ee90321e558bad9c4447afa</td>\n",
       "      <td>Wallet</td>\n",
       "      <td>198.373202</td>\n",
       "      <td>WBTC</td>\n",
       "      <td>0x2260fac5e5542a773aa44fbcfedf7c193bc2c599</td>\n",
       "      <td>ERC20</td>\n",
       "      <td>3.938289e+06</td>\n",
       "      <td>2.663459e-08</td>\n",
       "      <td>343816.0</td>\n",
       "      <td>229212</td>\n",
       "      <td>NaN</td>\n",
       "      <td>NaN</td>\n",
       "      <td>NaN</td>\n",
       "      <td>1</td>\n",
       "      <td>NaN</td>\n",
       "    </tr>\n",
       "    <tr>\n",
       "      <th>1682540</th>\n",
       "      <td>0xdfa99059d33b0f6dd23b2c82921f57709604e40e7f58...</td>\n",
       "      <td>NaN</td>\n",
       "      <td>2022-07-11 20:48:40+00:00</td>\n",
       "      <td>0xc36442b4a4522e871399cd717abdd847ab11fe88</td>\n",
       "      <td>0x09b5027ef3a3b7332ee90321e558bad9c4447afa</td>\n",
       "      <td>Wallet</td>\n",
       "      <td>827.998341</td>\n",
       "      <td>ETH</td>\n",
       "      <td>0x0000000000000000000000000000000000000000</td>\n",
       "      <td>NaN</td>\n",
       "      <td>9.679406e+05</td>\n",
       "      <td>2.566205e-08</td>\n",
       "      <td>363630.0</td>\n",
       "      <td>242420</td>\n",
       "      <td>NaN</td>\n",
       "      <td>NaN</td>\n",
       "      <td>NaN</td>\n",
       "      <td>1</td>\n",
       "      <td>NaN</td>\n",
       "    </tr>\n",
       "    <tr>\n",
       "      <th>1682538</th>\n",
       "      <td>0xdfa99059d33b0f6dd23b2c82921f57709604e40e7f58...</td>\n",
       "      <td>NaN</td>\n",
       "      <td>2022-07-11 20:48:40+00:00</td>\n",
       "      <td>0xc36442b4a4522e871399cd717abdd847ab11fe88</td>\n",
       "      <td>0x09b5027ef3a3b7332ee90321e558bad9c4447afa</td>\n",
       "      <td>Wallet</td>\n",
       "      <td>38.690947</td>\n",
       "      <td>WBTC</td>\n",
       "      <td>0x2260fac5e5542a773aa44fbcfedf7c193bc2c599</td>\n",
       "      <td>ERC20</td>\n",
       "      <td>7.681287e+05</td>\n",
       "      <td>2.566205e-08</td>\n",
       "      <td>363630.0</td>\n",
       "      <td>242420</td>\n",
       "      <td>NaN</td>\n",
       "      <td>NaN</td>\n",
       "      <td>NaN</td>\n",
       "      <td>1</td>\n",
       "      <td>NaN</td>\n",
       "    </tr>\n",
       "  </tbody>\n",
       "</table>\n",
       "<p>3029 rows × 19 columns</p>\n",
       "</div>"
      ],
      "text/plain": [
       "                                            Transaction ID  Transaction Time  \\\n",
       "1712707  0x0e0d16475d2ac6a4802437a35a21776e5c9b681a77fe...               NaN   \n",
       "1712679  0x97f7662322d56e1c54bd1bab39bccf98bc736fcb9c7e...               NaN   \n",
       "1712719  0xeef10fc5170f669b86c4cd0444882a96087221325f8b...               NaN   \n",
       "1710588  0x283fd14161d9841571acdc4b629de597bfdcdd197647...               NaN   \n",
       "1710587  0xa22dafd9184d9eb54deb021d2467eb4e4aee84aee121...               NaN   \n",
       "...                                                    ...               ...   \n",
       "1682544  0x96eaed8d878ff739c1f293b53a073b2dfefbdf762854...               NaN   \n",
       "1682543  0x232e6cbe6b382019c237ebf913979105870aa6221fe1...               NaN   \n",
       "1682541  0x232e6cbe6b382019c237ebf913979105870aa6221fe1...               NaN   \n",
       "1682540  0xdfa99059d33b0f6dd23b2c82921f57709604e40e7f58...               NaN   \n",
       "1682538  0xdfa99059d33b0f6dd23b2c82921f57709604e40e7f58...               NaN   \n",
       "\n",
       "                       Block Time                                   Sender ID  \\\n",
       "1712707 2017-07-18 22:33:23+00:00  0x91efffb9c6cd3a66474688d0a48aa6ecfe515aa5   \n",
       "1712679 2017-07-19 12:14:18+00:00  0x50126e8fcb9be29f83c6bbd913cc85b40eaf86fc   \n",
       "1712719 2017-07-19 12:19:36+00:00  0xbec591de75b8699a3ba52f073428822d0bfc0d7e   \n",
       "1710588 2017-08-21 05:11:33+00:00  0xa95842e41380100c12caf7b872baa77ce6d8ad24   \n",
       "1710587 2017-08-21 05:18:32+00:00  0xa95842e41380100c12caf7b872baa77ce6d8ad24   \n",
       "...                           ...                                         ...   \n",
       "1682544 2022-07-11 20:47:54+00:00  0xc36442b4a4522e871399cd717abdd847ab11fe88   \n",
       "1682543 2022-07-11 20:48:17+00:00  0xc36442b4a4522e871399cd717abdd847ab11fe88   \n",
       "1682541 2022-07-11 20:48:17+00:00  0xc36442b4a4522e871399cd717abdd847ab11fe88   \n",
       "1682540 2022-07-11 20:48:40+00:00  0xc36442b4a4522e871399cd717abdd847ab11fe88   \n",
       "1682538 2022-07-11 20:48:40+00:00  0xc36442b4a4522e871399cd717abdd847ab11fe88   \n",
       "\n",
       "                                        Receiver ID Receiver Type  \\\n",
       "1712707  0xb3764761e297d6f121e79c32a65829cd1ddb4d32        Wallet   \n",
       "1712679  0xb3764761e297d6f121e79c32a65829cd1ddb4d32        Wallet   \n",
       "1712719  0xb3764761e297d6f121e79c32a65829cd1ddb4d32        Wallet   \n",
       "1710588  0x29d7d1dd5b6f9c864d9db560d72a247c178ae86b        Wallet   \n",
       "1710587  0x29d7d1dd5b6f9c864d9db560d72a247c178ae86b        Wallet   \n",
       "...                                             ...           ...   \n",
       "1682544  0x09b5027ef3a3b7332ee90321e558bad9c4447afa        Wallet   \n",
       "1682543  0x09b5027ef3a3b7332ee90321e558bad9c4447afa        Wallet   \n",
       "1682541  0x09b5027ef3a3b7332ee90321e558bad9c4447afa        Wallet   \n",
       "1682540  0x09b5027ef3a3b7332ee90321e558bad9c4447afa        Wallet   \n",
       "1682538  0x09b5027ef3a3b7332ee90321e558bad9c4447afa        Wallet   \n",
       "\n",
       "               Amount Currency                               Currency Hash  \\\n",
       "1712707  26793.000000      ETH  0x0000000000000000000000000000000000000000   \n",
       "1712679  44055.000000      ETH  0x0000000000000000000000000000000000000000   \n",
       "1712719  82189.000000      ETH  0x0000000000000000000000000000000000000000   \n",
       "1710588     10.000000      ETH  0x0000000000000000000000000000000000000000   \n",
       "1710587      7.000000      ETH  0x0000000000000000000000000000000000000000   \n",
       "...               ...      ...                                         ...   \n",
       "1682544      0.354521     WBTC  0x2260fac5e5542a773aa44fbcfedf7c193bc2c599   \n",
       "1682543   2389.581778      ETH  0x0000000000000000000000000000000000000000   \n",
       "1682541    198.373202     WBTC  0x2260fac5e5542a773aa44fbcfedf7c193bc2c599   \n",
       "1682540    827.998341      ETH  0x0000000000000000000000000000000000000000   \n",
       "1682538     38.690947     WBTC  0x2260fac5e5542a773aa44fbcfedf7c193bc2c599   \n",
       "\n",
       "        Currency Type  Amount [USD]     Gas Price  Gas Limit  Gas Used  \\\n",
       "1712707           NaN  6.122288e+06  2.100000e-08   162754.0     60001   \n",
       "1712679           NaN  8.792960e+06  2.100000e-08    88926.0     58433   \n",
       "1712719           NaN  1.640414e+07  2.100000e-08    78926.0     58433   \n",
       "1710588           NaN  3.222012e+03  2.287500e-08    25201.0     21000   \n",
       "1710587           NaN  2.255409e+03  2.404531e-08    25201.0     21000   \n",
       "...               ...           ...           ...        ...       ...   \n",
       "1682544         ERC20  7.038288e+03  3.026881e-08   300997.0    186985   \n",
       "1682543           NaN  2.793451e+06  2.663459e-08   343816.0    229212   \n",
       "1682541         ERC20  3.938289e+06  2.663459e-08   343816.0    229212   \n",
       "1682540           NaN  9.679406e+05  2.566205e-08   363630.0    242420   \n",
       "1682538         ERC20  7.681287e+05  2.566205e-08   363630.0    242420   \n",
       "\n",
       "         Gas Predicted  Balance In  Balance Out  Label  Risk Level  \n",
       "1712707            NaN         NaN          NaN      1         NaN  \n",
       "1712679            NaN         NaN          NaN      1         NaN  \n",
       "1712719            NaN         NaN          NaN      1         NaN  \n",
       "1710588            NaN         NaN          NaN      1         NaN  \n",
       "1710587            NaN         NaN          NaN      1         NaN  \n",
       "...                ...         ...          ...    ...         ...  \n",
       "1682544            NaN         NaN          NaN      1         NaN  \n",
       "1682543            NaN         NaN          NaN      1         NaN  \n",
       "1682541            NaN         NaN          NaN      1         NaN  \n",
       "1682540            NaN         NaN          NaN      1         NaN  \n",
       "1682538            NaN         NaN          NaN      1         NaN  \n",
       "\n",
       "[3029 rows x 19 columns]"
      ]
     },
     "execution_count": 10,
     "metadata": {},
     "output_type": "execute_result"
    }
   ],
   "source": [
    "# Look at attack cases\n",
    "dfData.loc[dfData['Label'] == 1, :]"
   ]
  },
  {
   "cell_type": "code",
   "execution_count": 11,
   "metadata": {},
   "outputs": [
    {
     "data": {
      "text/plain": [
       "0    1710700\n",
       "1       3029\n",
       "Name: Label, dtype: int64"
      ]
     },
     "execution_count": 11,
     "metadata": {},
     "output_type": "execute_result"
    }
   ],
   "source": [
    "# Balance of labels: Highly imbalanced data (As expected)\n",
    "dfData['Label'].value_counts()"
   ]
  },
  {
   "cell_type": "code",
   "execution_count": 12,
   "metadata": {},
   "outputs": [
    {
     "data": {
      "text/plain": [
       "249"
      ]
     },
     "execution_count": 12,
     "metadata": {},
     "output_type": "execute_result"
    }
   ],
   "source": [
    "# How many unique `Sender ID` (Assets) we have.\n",
    "# It should match the number of files, if not, it either means we have duplications or teh same asset was attacked twice.\n",
    "len(dfData['Sender ID'].unique())"
   ]
  },
  {
   "cell_type": "code",
   "execution_count": 13,
   "metadata": {},
   "outputs": [
    {
     "data": {
      "text/plain": [
       "0    1710700\n",
       "1       3029\n",
       "Name: Label, dtype: int64"
      ]
     },
     "execution_count": 13,
     "metadata": {},
     "output_type": "execute_result"
    }
   ],
   "source": [
    "dfData['Label'].value_counts()"
   ]
  },
  {
   "cell_type": "code",
   "execution_count": 14,
   "metadata": {},
   "outputs": [
    {
     "name": "stdout",
     "output_type": "stream",
     "text": [
      "<class 'pandas.core.frame.DataFrame'>\n",
      "Int64Index: 1713729 entries, 828630 to 1608510\n",
      "Data columns (total 19 columns):\n",
      " #   Column            Dtype              \n",
      "---  ------            -----              \n",
      " 0   Transaction ID    object             \n",
      " 1   Transaction Time  float64            \n",
      " 2   Block Time        datetime64[ns, UTC]\n",
      " 3   Sender ID         object             \n",
      " 4   Receiver ID       object             \n",
      " 5   Receiver Type     object             \n",
      " 6   Amount            float64            \n",
      " 7   Currency          object             \n",
      " 8   Currency Hash     object             \n",
      " 9   Currency Type     object             \n",
      " 10  Amount [USD]      float64            \n",
      " 11  Gas Price         float64            \n",
      " 12  Gas Limit         float64            \n",
      " 13  Gas Used          int64              \n",
      " 14  Gas Predicted     float64            \n",
      " 15  Balance In        float64            \n",
      " 16  Balance Out       float64            \n",
      " 17  Label             int64              \n",
      " 18  Risk Level        float64            \n",
      "dtypes: datetime64[ns, UTC](1), float64(9), int64(2), object(7)\n",
      "memory usage: 261.5+ MB\n"
     ]
    }
   ],
   "source": [
    "dfData.info()"
   ]
  },
  {
   "cell_type": "code",
   "execution_count": 15,
   "metadata": {},
   "outputs": [
    {
     "data": {
      "text/html": [
       "<div>\n",
       "<style scoped>\n",
       "    .dataframe tbody tr th:only-of-type {\n",
       "        vertical-align: middle;\n",
       "    }\n",
       "\n",
       "    .dataframe tbody tr th {\n",
       "        vertical-align: top;\n",
       "    }\n",
       "\n",
       "    .dataframe thead th {\n",
       "        text-align: right;\n",
       "    }\n",
       "</style>\n",
       "<table border=\"1\" class=\"dataframe\">\n",
       "  <thead>\n",
       "    <tr style=\"text-align: right;\">\n",
       "      <th></th>\n",
       "      <th>Transaction Time</th>\n",
       "      <th>Amount</th>\n",
       "      <th>Amount [USD]</th>\n",
       "      <th>Gas Price</th>\n",
       "      <th>Gas Limit</th>\n",
       "      <th>Gas Used</th>\n",
       "      <th>Gas Predicted</th>\n",
       "      <th>Balance In</th>\n",
       "      <th>Balance Out</th>\n",
       "      <th>Label</th>\n",
       "      <th>Risk Level</th>\n",
       "    </tr>\n",
       "  </thead>\n",
       "  <tbody>\n",
       "    <tr>\n",
       "      <th>count</th>\n",
       "      <td>0.0</td>\n",
       "      <td>1.713729e+06</td>\n",
       "      <td>1.587234e+06</td>\n",
       "      <td>1.713729e+06</td>\n",
       "      <td>1.713729e+06</td>\n",
       "      <td>1.713729e+06</td>\n",
       "      <td>0.0</td>\n",
       "      <td>0.0</td>\n",
       "      <td>0.0</td>\n",
       "      <td>1.713729e+06</td>\n",
       "      <td>0.0</td>\n",
       "    </tr>\n",
       "    <tr>\n",
       "      <th>mean</th>\n",
       "      <td>NaN</td>\n",
       "      <td>1.407457e+71</td>\n",
       "      <td>5.235267e+04</td>\n",
       "      <td>7.560659e-08</td>\n",
       "      <td>4.696194e+05</td>\n",
       "      <td>1.930351e+05</td>\n",
       "      <td>NaN</td>\n",
       "      <td>NaN</td>\n",
       "      <td>NaN</td>\n",
       "      <td>1.767491e-03</td>\n",
       "      <td>NaN</td>\n",
       "    </tr>\n",
       "    <tr>\n",
       "      <th>std</th>\n",
       "      <td>NaN</td>\n",
       "      <td>1.114686e+74</td>\n",
       "      <td>1.267587e+06</td>\n",
       "      <td>1.095850e-07</td>\n",
       "      <td>1.121666e+06</td>\n",
       "      <td>4.145018e+05</td>\n",
       "      <td>NaN</td>\n",
       "      <td>NaN</td>\n",
       "      <td>NaN</td>\n",
       "      <td>4.200438e-02</td>\n",
       "      <td>NaN</td>\n",
       "    </tr>\n",
       "    <tr>\n",
       "      <th>min</th>\n",
       "      <td>NaN</td>\n",
       "      <td>0.000000e+00</td>\n",
       "      <td>0.000000e+00</td>\n",
       "      <td>0.000000e+00</td>\n",
       "      <td>2.100000e+04</td>\n",
       "      <td>1.926100e+04</td>\n",
       "      <td>NaN</td>\n",
       "      <td>NaN</td>\n",
       "      <td>NaN</td>\n",
       "      <td>0.000000e+00</td>\n",
       "      <td>NaN</td>\n",
       "    </tr>\n",
       "    <tr>\n",
       "      <th>25%</th>\n",
       "      <td>NaN</td>\n",
       "      <td>3.980001e-01</td>\n",
       "      <td>1.559366e+02</td>\n",
       "      <td>2.400460e-08</td>\n",
       "      <td>1.000000e+05</td>\n",
       "      <td>3.042800e+04</td>\n",
       "      <td>NaN</td>\n",
       "      <td>NaN</td>\n",
       "      <td>NaN</td>\n",
       "      <td>0.000000e+00</td>\n",
       "      <td>NaN</td>\n",
       "    </tr>\n",
       "    <tr>\n",
       "      <th>50%</th>\n",
       "      <td>NaN</td>\n",
       "      <td>1.050000e+01</td>\n",
       "      <td>1.170342e+03</td>\n",
       "      <td>5.200000e-08</td>\n",
       "      <td>2.000000e+05</td>\n",
       "      <td>9.671000e+04</td>\n",
       "      <td>NaN</td>\n",
       "      <td>NaN</td>\n",
       "      <td>NaN</td>\n",
       "      <td>0.000000e+00</td>\n",
       "      <td>NaN</td>\n",
       "    </tr>\n",
       "    <tr>\n",
       "      <th>75%</th>\n",
       "      <td>NaN</td>\n",
       "      <td>2.486227e+03</td>\n",
       "      <td>7.606783e+03</td>\n",
       "      <td>9.799646e-08</td>\n",
       "      <td>4.100000e+05</td>\n",
       "      <td>2.305450e+05</td>\n",
       "      <td>NaN</td>\n",
       "      <td>NaN</td>\n",
       "      <td>NaN</td>\n",
       "      <td>0.000000e+00</td>\n",
       "      <td>NaN</td>\n",
       "    </tr>\n",
       "    <tr>\n",
       "      <th>max</th>\n",
       "      <td>NaN</td>\n",
       "      <td>1.160000e+77</td>\n",
       "      <td>6.141830e+08</td>\n",
       "      <td>2.192162e-05</td>\n",
       "      <td>3.005662e+07</td>\n",
       "      <td>1.996937e+07</td>\n",
       "      <td>NaN</td>\n",
       "      <td>NaN</td>\n",
       "      <td>NaN</td>\n",
       "      <td>1.000000e+00</td>\n",
       "      <td>NaN</td>\n",
       "    </tr>\n",
       "  </tbody>\n",
       "</table>\n",
       "</div>"
      ],
      "text/plain": [
       "       Transaction Time        Amount  Amount [USD]     Gas Price  \\\n",
       "count               0.0  1.713729e+06  1.587234e+06  1.713729e+06   \n",
       "mean                NaN  1.407457e+71  5.235267e+04  7.560659e-08   \n",
       "std                 NaN  1.114686e+74  1.267587e+06  1.095850e-07   \n",
       "min                 NaN  0.000000e+00  0.000000e+00  0.000000e+00   \n",
       "25%                 NaN  3.980001e-01  1.559366e+02  2.400460e-08   \n",
       "50%                 NaN  1.050000e+01  1.170342e+03  5.200000e-08   \n",
       "75%                 NaN  2.486227e+03  7.606783e+03  9.799646e-08   \n",
       "max                 NaN  1.160000e+77  6.141830e+08  2.192162e-05   \n",
       "\n",
       "          Gas Limit      Gas Used  Gas Predicted  Balance In  Balance Out  \\\n",
       "count  1.713729e+06  1.713729e+06            0.0         0.0          0.0   \n",
       "mean   4.696194e+05  1.930351e+05            NaN         NaN          NaN   \n",
       "std    1.121666e+06  4.145018e+05            NaN         NaN          NaN   \n",
       "min    2.100000e+04  1.926100e+04            NaN         NaN          NaN   \n",
       "25%    1.000000e+05  3.042800e+04            NaN         NaN          NaN   \n",
       "50%    2.000000e+05  9.671000e+04            NaN         NaN          NaN   \n",
       "75%    4.100000e+05  2.305450e+05            NaN         NaN          NaN   \n",
       "max    3.005662e+07  1.996937e+07            NaN         NaN          NaN   \n",
       "\n",
       "              Label  Risk Level  \n",
       "count  1.713729e+06         0.0  \n",
       "mean   1.767491e-03         NaN  \n",
       "std    4.200438e-02         NaN  \n",
       "min    0.000000e+00         NaN  \n",
       "25%    0.000000e+00         NaN  \n",
       "50%    0.000000e+00         NaN  \n",
       "75%    0.000000e+00         NaN  \n",
       "max    1.000000e+00         NaN  "
      ]
     },
     "execution_count": 15,
     "metadata": {},
     "output_type": "execute_result"
    }
   ],
   "source": [
    "dfData.describe()"
   ]
  },
  {
   "cell_type": "markdown",
   "metadata": {},
   "source": [
    "# Pre Processing\n",
    "\n",
    "1. Remove invalid data.\n",
    "2. Remove outliers."
   ]
  },
  {
   "cell_type": "code",
   "execution_count": 16,
   "metadata": {},
   "outputs": [
    {
     "name": "stdout",
     "output_type": "stream",
     "text": [
      "Number of invalid `Amount [USD]`: 149529\n"
     ]
    }
   ],
   "source": [
    "# Detecting invalid `Amount USD`\n",
    "\n",
    "dsInValidTrnsUsd = ((dfData['Amount [USD]'] == 0) | (dfData['Amount [USD]'].isna()) | (dfData['Amount [USD]'] == ''))\n",
    "\n",
    "print(f'Number of invalid `Amount [USD]`: {dsInValidTrnsUsd.sum()}')"
   ]
  },
  {
   "cell_type": "code",
   "execution_count": 17,
   "metadata": {},
   "outputs": [],
   "source": [
    "# Remove invalid data\n",
    "dfData.drop(dfData.index[dsInValidTrnsUsd], inplace = True) #<! Royi: Should we do a reset index?"
   ]
  },
  {
   "cell_type": "code",
   "execution_count": 18,
   "metadata": {},
   "outputs": [
    {
     "name": "stdout",
     "output_type": "stream",
     "text": [
      "Number of outliers `Amount [USD]`: 0\n"
     ]
    }
   ],
   "source": [
    "# Detecting Outliers in the `Amount [USD]`\n",
    "\n",
    "dsOutlierTrnsUsd = ((dfData['Amount [USD]'] >= amountUsdOutlierThr) | (dfData['Amount [USD]'] <= 0))\n",
    "\n",
    "print(f'Number of outliers `Amount [USD]`: {dsOutlierTrnsUsd.sum()}')"
   ]
  },
  {
   "cell_type": "code",
   "execution_count": 19,
   "metadata": {},
   "outputs": [],
   "source": [
    "# Remove outliers\n",
    "dfData.drop(dfData.index[dsOutlierTrnsUsd], inplace = True) #<! Royi: Should we do a reset index?"
   ]
  },
  {
   "cell_type": "code",
   "execution_count": 20,
   "metadata": {},
   "outputs": [
    {
     "name": "stdout",
     "output_type": "stream",
     "text": [
      "The number of rows (Samples): 1564200, The number of columns: 19\n"
     ]
    }
   ],
   "source": [
    "# From now on this is the data to work with\n",
    "numRows, numCols = dfData.shape\n",
    "\n",
    "print(f'The number of rows (Samples): {numRows}, The number of columns: {numCols}')"
   ]
  },
  {
   "cell_type": "markdown",
   "metadata": {},
   "source": [
    "# Meet the Data\n",
    "\n",
    "Basic infomration about the data."
   ]
  },
  {
   "cell_type": "code",
   "execution_count": 21,
   "metadata": {},
   "outputs": [
    {
     "name": "stdout",
     "output_type": "stream",
     "text": [
      "<class 'pandas.core.frame.DataFrame'>\n",
      "Int64Index: 1564200 entries, 828630 to 1608510\n",
      "Data columns (total 19 columns):\n",
      " #   Column            Non-Null Count    Dtype              \n",
      "---  ------            --------------    -----              \n",
      " 0   Transaction ID    1564200 non-null  object             \n",
      " 1   Transaction Time  0 non-null        float64            \n",
      " 2   Block Time        1564200 non-null  datetime64[ns, UTC]\n",
      " 3   Sender ID         1564200 non-null  object             \n",
      " 4   Receiver ID       1564200 non-null  object             \n",
      " 5   Receiver Type     1564200 non-null  object             \n",
      " 6   Amount            1564200 non-null  float64            \n",
      " 7   Currency          1563967 non-null  object             \n",
      " 8   Currency Hash     1564200 non-null  object             \n",
      " 9   Currency Type     882790 non-null   object             \n",
      " 10  Amount [USD]      1564200 non-null  float64            \n",
      " 11  Gas Price         1564200 non-null  float64            \n",
      " 12  Gas Limit         1564200 non-null  float64            \n",
      " 13  Gas Used          1564200 non-null  int64              \n",
      " 14  Gas Predicted     0 non-null        float64            \n",
      " 15  Balance In        0 non-null        float64            \n",
      " 16  Balance Out       0 non-null        float64            \n",
      " 17  Label             1564200 non-null  int64              \n",
      " 18  Risk Level        0 non-null        float64            \n",
      "dtypes: datetime64[ns, UTC](1), float64(9), int64(2), object(7)\n",
      "memory usage: 238.7+ MB\n"
     ]
    }
   ],
   "source": [
    "# Basic Data Information\n",
    "dfData.info()"
   ]
  },
  {
   "cell_type": "code",
   "execution_count": 22,
   "metadata": {},
   "outputs": [
    {
     "data": {
      "text/html": [
       "<div>\n",
       "<style scoped>\n",
       "    .dataframe tbody tr th:only-of-type {\n",
       "        vertical-align: middle;\n",
       "    }\n",
       "\n",
       "    .dataframe tbody tr th {\n",
       "        vertical-align: top;\n",
       "    }\n",
       "\n",
       "    .dataframe thead th {\n",
       "        text-align: right;\n",
       "    }\n",
       "</style>\n",
       "<table border=\"1\" class=\"dataframe\">\n",
       "  <thead>\n",
       "    <tr style=\"text-align: right;\">\n",
       "      <th></th>\n",
       "      <th>Transaction Time</th>\n",
       "      <th>Amount</th>\n",
       "      <th>Amount [USD]</th>\n",
       "      <th>Gas Price</th>\n",
       "      <th>Gas Limit</th>\n",
       "      <th>Gas Used</th>\n",
       "      <th>Gas Predicted</th>\n",
       "      <th>Balance In</th>\n",
       "      <th>Balance Out</th>\n",
       "      <th>Label</th>\n",
       "      <th>Risk Level</th>\n",
       "    </tr>\n",
       "  </thead>\n",
       "  <tbody>\n",
       "    <tr>\n",
       "      <th>count</th>\n",
       "      <td>0.0</td>\n",
       "      <td>1.564200e+06</td>\n",
       "      <td>1.564200e+06</td>\n",
       "      <td>1.564200e+06</td>\n",
       "      <td>1.564200e+06</td>\n",
       "      <td>1.564200e+06</td>\n",
       "      <td>0.0</td>\n",
       "      <td>0.0</td>\n",
       "      <td>0.0</td>\n",
       "      <td>1.564200e+06</td>\n",
       "      <td>0.0</td>\n",
       "    </tr>\n",
       "    <tr>\n",
       "      <th>mean</th>\n",
       "      <td>NaN</td>\n",
       "      <td>2.493287e+21</td>\n",
       "      <td>5.312361e+04</td>\n",
       "      <td>7.635931e-08</td>\n",
       "      <td>3.568667e+05</td>\n",
       "      <td>1.833637e+05</td>\n",
       "      <td>NaN</td>\n",
       "      <td>NaN</td>\n",
       "      <td>NaN</td>\n",
       "      <td>1.794528e-03</td>\n",
       "      <td>NaN</td>\n",
       "    </tr>\n",
       "    <tr>\n",
       "      <th>std</th>\n",
       "      <td>NaN</td>\n",
       "      <td>2.204973e+24</td>\n",
       "      <td>1.276870e+06</td>\n",
       "      <td>1.110986e-07</td>\n",
       "      <td>6.224706e+05</td>\n",
       "      <td>3.651512e+05</td>\n",
       "      <td>NaN</td>\n",
       "      <td>NaN</td>\n",
       "      <td>NaN</td>\n",
       "      <td>4.232385e-02</td>\n",
       "      <td>NaN</td>\n",
       "    </tr>\n",
       "    <tr>\n",
       "      <th>min</th>\n",
       "      <td>NaN</td>\n",
       "      <td>0.000000e+00</td>\n",
       "      <td>3.580000e-34</td>\n",
       "      <td>0.000000e+00</td>\n",
       "      <td>2.100000e+04</td>\n",
       "      <td>1.926100e+04</td>\n",
       "      <td>NaN</td>\n",
       "      <td>NaN</td>\n",
       "      <td>NaN</td>\n",
       "      <td>0.000000e+00</td>\n",
       "      <td>NaN</td>\n",
       "    </tr>\n",
       "    <tr>\n",
       "      <th>25%</th>\n",
       "      <td>NaN</td>\n",
       "      <td>3.200000e-01</td>\n",
       "      <td>1.762214e+02</td>\n",
       "      <td>2.480000e-08</td>\n",
       "      <td>1.000000e+05</td>\n",
       "      <td>2.108000e+04</td>\n",
       "      <td>NaN</td>\n",
       "      <td>NaN</td>\n",
       "      <td>NaN</td>\n",
       "      <td>0.000000e+00</td>\n",
       "      <td>NaN</td>\n",
       "    </tr>\n",
       "    <tr>\n",
       "      <th>50%</th>\n",
       "      <td>NaN</td>\n",
       "      <td>5.808467e+00</td>\n",
       "      <td>1.235089e+03</td>\n",
       "      <td>5.270000e-08</td>\n",
       "      <td>2.000000e+05</td>\n",
       "      <td>9.352200e+04</td>\n",
       "      <td>NaN</td>\n",
       "      <td>NaN</td>\n",
       "      <td>NaN</td>\n",
       "      <td>0.000000e+00</td>\n",
       "      <td>NaN</td>\n",
       "    </tr>\n",
       "    <tr>\n",
       "      <th>75%</th>\n",
       "      <td>NaN</td>\n",
       "      <td>1.860105e+03</td>\n",
       "      <td>7.853707e+03</td>\n",
       "      <td>9.900000e-08</td>\n",
       "      <td>3.936808e+05</td>\n",
       "      <td>2.250742e+05</td>\n",
       "      <td>NaN</td>\n",
       "      <td>NaN</td>\n",
       "      <td>NaN</td>\n",
       "      <td>0.000000e+00</td>\n",
       "      <td>NaN</td>\n",
       "    </tr>\n",
       "    <tr>\n",
       "      <th>max</th>\n",
       "      <td>NaN</td>\n",
       "      <td>1.950000e+27</td>\n",
       "      <td>6.141830e+08</td>\n",
       "      <td>2.192162e-05</td>\n",
       "      <td>3.005662e+07</td>\n",
       "      <td>1.996937e+07</td>\n",
       "      <td>NaN</td>\n",
       "      <td>NaN</td>\n",
       "      <td>NaN</td>\n",
       "      <td>1.000000e+00</td>\n",
       "      <td>NaN</td>\n",
       "    </tr>\n",
       "  </tbody>\n",
       "</table>\n",
       "</div>"
      ],
      "text/plain": [
       "       Transaction Time        Amount  Amount [USD]     Gas Price  \\\n",
       "count               0.0  1.564200e+06  1.564200e+06  1.564200e+06   \n",
       "mean                NaN  2.493287e+21  5.312361e+04  7.635931e-08   \n",
       "std                 NaN  2.204973e+24  1.276870e+06  1.110986e-07   \n",
       "min                 NaN  0.000000e+00  3.580000e-34  0.000000e+00   \n",
       "25%                 NaN  3.200000e-01  1.762214e+02  2.480000e-08   \n",
       "50%                 NaN  5.808467e+00  1.235089e+03  5.270000e-08   \n",
       "75%                 NaN  1.860105e+03  7.853707e+03  9.900000e-08   \n",
       "max                 NaN  1.950000e+27  6.141830e+08  2.192162e-05   \n",
       "\n",
       "          Gas Limit      Gas Used  Gas Predicted  Balance In  Balance Out  \\\n",
       "count  1.564200e+06  1.564200e+06            0.0         0.0          0.0   \n",
       "mean   3.568667e+05  1.833637e+05            NaN         NaN          NaN   \n",
       "std    6.224706e+05  3.651512e+05            NaN         NaN          NaN   \n",
       "min    2.100000e+04  1.926100e+04            NaN         NaN          NaN   \n",
       "25%    1.000000e+05  2.108000e+04            NaN         NaN          NaN   \n",
       "50%    2.000000e+05  9.352200e+04            NaN         NaN          NaN   \n",
       "75%    3.936808e+05  2.250742e+05            NaN         NaN          NaN   \n",
       "max    3.005662e+07  1.996937e+07            NaN         NaN          NaN   \n",
       "\n",
       "              Label  Risk Level  \n",
       "count  1.564200e+06         0.0  \n",
       "mean   1.794528e-03         NaN  \n",
       "std    4.232385e-02         NaN  \n",
       "min    0.000000e+00         NaN  \n",
       "25%    0.000000e+00         NaN  \n",
       "50%    0.000000e+00         NaN  \n",
       "75%    0.000000e+00         NaN  \n",
       "max    1.000000e+00         NaN  "
      ]
     },
     "execution_count": 22,
     "metadata": {},
     "output_type": "execute_result"
    }
   ],
   "source": [
    "# Numeric Data Description\n",
    "dfData.describe()"
   ]
  },
  {
   "cell_type": "code",
   "execution_count": 23,
   "metadata": {},
   "outputs": [
    {
     "name": "stdout",
     "output_type": "stream",
     "text": [
      "There are 109 Attackers\n",
      "0xeda5066780de29d00dfb54581a707ef6f52d8113    415\n",
      "0xa14d5da3c6bf2d9304fe6d4bc6942395b4de048b    297\n",
      "0xeb31973e0febf3e3d7058234a5ebbae1ab4b8c23    292\n",
      "0x83a2eb63b6cc296529468afa85dbde4a469d8b37    189\n",
      "0xb1af124c860f819bf8de7d4c459e5b31fecdb95e    142\n",
      "                                             ... \n",
      "0x89640eb6c8d72606d6a0fff45415bff0ab0e3ae1      1\n",
      "0xa3f447feb0b2bddc50a44ccd6f412a5f98619264      1\n",
      "0x07ba7e8947f8fb4d33f3c7e25c2cb35b858f02eb      1\n",
      "0xeeee458c3a5eaafcfd68681d405fb55ef80595ba      1\n",
      "0x0ae1554860e51844b61ae20823ef1268c3949f7c      1\n",
      "Name: Receiver ID, Length: 109, dtype: int64\n"
     ]
    }
   ],
   "source": [
    "# How many times each hacker attacked\n",
    "dsAttacksAsset = dfData[dfData['Label'] == 1]['Receiver ID'].value_counts()\n",
    "\n",
    "print(f'There are {dsAttacksAsset.shape[0]} Attackers')\n",
    "print(dsAttacksAsset.head(len(dsAttacksAsset))) #<! Last ones should be 1"
   ]
  },
  {
   "cell_type": "code",
   "execution_count": 24,
   "metadata": {},
   "outputs": [
    {
     "data": {
      "text/plain": [
       "Text(0, 0.5, 'Number of Attackers')"
      ]
     },
     "execution_count": 24,
     "metadata": {},
     "output_type": "execute_result"
    },
    {
     "data": {
      "image/png": "[encoded data removed]",
      "text/plain": [
       "<Figure size 1440x720 with 1 Axes>"
      ]
     },
     "metadata": {},
     "output_type": "display_data"
    }
   ],
   "source": [
    "hF, hA = plt.subplots(figsize = (20, 10)) # \n",
    "sns.countplot(dsAttacksAsset, ax = hA)\n",
    "hA.set_title('Number of Attacks per Attacker')\n",
    "hA.set_xlabel('Number of Executed Attacks')\n",
    "hA.set_ylabel('Number of Attackers')"
   ]
  },
  {
   "cell_type": "code",
   "execution_count": 25,
   "metadata": {},
   "outputs": [],
   "source": [
    "# How many times each asset was attacked?\n",
    "dsSenderCount = dfData[dfData['Label'] == 1]['Sender ID'].value_counts()"
   ]
  },
  {
   "cell_type": "code",
   "execution_count": 26,
   "metadata": {},
   "outputs": [
    {
     "data": {
      "text/plain": [
       "Text(0, 0.5, 'Number of Assets')"
      ]
     },
     "execution_count": 26,
     "metadata": {},
     "output_type": "execute_result"
    },
    {
     "data": {
      "image/png": "[encoded data removed]",
      "text/plain": [
       "<Figure size 1440x720 with 1 Axes>"
      ]
     },
     "metadata": {},
     "output_type": "display_data"
    }
   ],
   "source": [
    "hF, hA = plt.subplots(figsize = (20, 10)) # TODO: Display an histogram (How many assets were attacked 1, 2, ...)\n",
    "sns.countplot(dsSenderCount, ax = hA)\n",
    "hA.set_title('Number of Attacks per Asset')\n",
    "hA.set_xlabel('Number of Executed Attacks')\n",
    "hA.set_ylabel('Number of Assets')"
   ]
  },
  {
   "cell_type": "code",
   "execution_count": 27,
   "metadata": {},
   "outputs": [
    {
     "data": {
      "text/html": [
       "<div>\n",
       "<style scoped>\n",
       "    .dataframe tbody tr th:only-of-type {\n",
       "        vertical-align: middle;\n",
       "    }\n",
       "\n",
       "    .dataframe tbody tr th {\n",
       "        vertical-align: top;\n",
       "    }\n",
       "\n",
       "    .dataframe thead th {\n",
       "        text-align: right;\n",
       "    }\n",
       "</style>\n",
       "<table border=\"1\" class=\"dataframe\">\n",
       "  <thead>\n",
       "    <tr style=\"text-align: right;\">\n",
       "      <th></th>\n",
       "      <th>Receiver ID</th>\n",
       "      <th>Sender ID</th>\n",
       "      <th>Number of Attacks</th>\n",
       "    </tr>\n",
       "  </thead>\n",
       "  <tbody>\n",
       "    <tr>\n",
       "      <th>0</th>\n",
       "      <td>0x0217f93565ede01fa65450281631a67808d2eedc</td>\n",
       "      <td>0x37d387c2b7e5fb493091f01c164be5332811d11e</td>\n",
       "      <td>95</td>\n",
       "    </tr>\n",
       "    <tr>\n",
       "      <th>1</th>\n",
       "      <td>0x0333e323e61aa8afa38a1623604a165dcb9f4fec</td>\n",
       "      <td>0xe30dc9b3c29534e9b4e9a166c2f44411163ad59f</td>\n",
       "      <td>4</td>\n",
       "    </tr>\n",
       "    <tr>\n",
       "      <th>2</th>\n",
       "      <td>0x03d1d0e4061152c6a698309aaa4968aae58585a8</td>\n",
       "      <td>0x2f2ca827b3c2c57d554d08698e10c3d8016e9f81</td>\n",
       "      <td>1</td>\n",
       "    </tr>\n",
       "    <tr>\n",
       "      <th>3</th>\n",
       "      <td>0x079667f4f7a0b440ad35ebd780efd216751f0758</td>\n",
       "      <td>0x5dbcf33d8c2e976c6b560249878e6f1491bca25c</td>\n",
       "      <td>1</td>\n",
       "    </tr>\n",
       "    <tr>\n",
       "      <th>4</th>\n",
       "      <td>0x07ba7e8947f8fb4d33f3c7e25c2cb35b858f02eb</td>\n",
       "      <td>0x8484ef722627bf18ca5ae6bcf031c23e6e922b30</td>\n",
       "      <td>1</td>\n",
       "    </tr>\n",
       "    <tr>\n",
       "      <th>5</th>\n",
       "      <td>0x07e02088d68229300ae503395c6536f09179dc3e</td>\n",
       "      <td>0xc5ac25cfc2b8284e84ca47dad21cf1319f732c11</td>\n",
       "      <td>3</td>\n",
       "    </tr>\n",
       "    <tr>\n",
       "      <th>6</th>\n",
       "      <td>0x098b716b8aaf21512996dc57eb0615e2383e2f96</td>\n",
       "      <td>0x1a2a1c938ce3ec39b6d47113c7955baa9dd454f2</td>\n",
       "      <td>3</td>\n",
       "    </tr>\n",
       "    <tr>\n",
       "      <th>7</th>\n",
       "      <td>0x09923e35f19687a524bbca7d42b92b6748534f25</td>\n",
       "      <td>0xd47140f6ab73f6d6b6675fb1610bb5e9b5d96fe5</td>\n",
       "      <td>18</td>\n",
       "    </tr>\n",
       "    <tr>\n",
       "      <th>8</th>\n",
       "      <td>0x09b5027ef3a3b7332ee90321e558bad9c4447afa</td>\n",
       "      <td>0xc36442b4a4522e871399cd717abdd847ab11fe88</td>\n",
       "      <td>8</td>\n",
       "    </tr>\n",
       "    <tr>\n",
       "      <th>9</th>\n",
       "      <td>0x0ae1554860e51844b61ae20823ef1268c3949f7c</td>\n",
       "      <td>0x7ea2be2df7ba6e54b1a9c70676f668455e329d29</td>\n",
       "      <td>1</td>\n",
       "    </tr>\n",
       "    <tr>\n",
       "      <th>10</th>\n",
       "      <td>0x0b283b107f70d23250f882fbfe7216c38abbd7ca</td>\n",
       "      <td>0x478c070341265d5fc563512ad7c9c6481a4a3a24</td>\n",
       "      <td>1</td>\n",
       "    </tr>\n",
       "    <tr>\n",
       "      <th>11</th>\n",
       "      <td>0x0b283b107f70d23250f882fbfe7216c38abbd7ca</td>\n",
       "      <td>0x6a14fdcbf6fec2f7221b54536279932582f9964c</td>\n",
       "      <td>1</td>\n",
       "    </tr>\n",
       "    <tr>\n",
       "      <th>12</th>\n",
       "      <td>0x0b283b107f70d23250f882fbfe7216c38abbd7ca</td>\n",
       "      <td>0x785038e55c3c77256bdc9a03535fd3e8d948a116</td>\n",
       "      <td>1</td>\n",
       "    </tr>\n",
       "    <tr>\n",
       "      <th>13</th>\n",
       "      <td>0x0b283b107f70d23250f882fbfe7216c38abbd7ca</td>\n",
       "      <td>0x87654f58faff71f04291b293e4af2d52dcbe7f15</td>\n",
       "      <td>1</td>\n",
       "    </tr>\n",
       "    <tr>\n",
       "      <th>14</th>\n",
       "      <td>0x0b283b107f70d23250f882fbfe7216c38abbd7ca</td>\n",
       "      <td>0xe693e36cf773f4a47eb03d46666ee5116e04afd5</td>\n",
       "      <td>1</td>\n",
       "    </tr>\n",
       "    <tr>\n",
       "      <th>15</th>\n",
       "      <td>0x0d043128146654c7683fbf30ac98d7b2285ded00</td>\n",
       "      <td>0x2dccdb493827e15a5dc8f8b72147e6c4a5620857</td>\n",
       "      <td>9</td>\n",
       "    </tr>\n",
       "    <tr>\n",
       "      <th>16</th>\n",
       "      <td>0x0d043128146654c7683fbf30ac98d7b2285ded00</td>\n",
       "      <td>0x58f4baccb411acef70a5f6dd174af7854fc48fa9</td>\n",
       "      <td>6</td>\n",
       "    </tr>\n",
       "    <tr>\n",
       "      <th>17</th>\n",
       "      <td>0x0d043128146654c7683fbf30ac98d7b2285ded00</td>\n",
       "      <td>0x9e91ae672e7f7330fc6b9bab9c259bd94cd08715</td>\n",
       "      <td>9</td>\n",
       "    </tr>\n",
       "    <tr>\n",
       "      <th>18</th>\n",
       "      <td>0x0d043128146654c7683fbf30ac98d7b2285ded00</td>\n",
       "      <td>0xf9fb1c508ff49f78b60d3a96dea99fa5d7f3a8a6</td>\n",
       "      <td>1</td>\n",
       "    </tr>\n",
       "    <tr>\n",
       "      <th>19</th>\n",
       "      <td>0x0d043128146654c7683fbf30ac98d7b2285ded00</td>\n",
       "      <td>0xfd53b1b4af84d59b20bf2c20ca89a6beeaa2c628</td>\n",
       "      <td>1</td>\n",
       "    </tr>\n",
       "    <tr>\n",
       "      <th>20</th>\n",
       "      <td>0x1079061d37f7f3fd3295e4aad02ece4a3f20de2d</td>\n",
       "      <td>0xa0f6ff6aca3a401766f96356e822d92576a42cc5</td>\n",
       "      <td>2</td>\n",
       "    </tr>\n",
       "    <tr>\n",
       "      <th>21</th>\n",
       "      <td>0x11112f684cb88d43ca0e132e585e882606063fbe</td>\n",
       "      <td>0x42bcaf2f8e021c1b017bccbb40f1b28ab97c97f7</td>\n",
       "      <td>2</td>\n",
       "    </tr>\n",
       "    <tr>\n",
       "      <th>22</th>\n",
       "      <td>0x11112f684cb88d43ca0e132e585e882606063fbe</td>\n",
       "      <td>0x5777d92f208679db4b9778590fa3cab3ac9e2168</td>\n",
       "      <td>2</td>\n",
       "    </tr>\n",
       "    <tr>\n",
       "      <th>23</th>\n",
       "      <td>0x11112f684cb88d43ca0e132e585e882606063fbe</td>\n",
       "      <td>0x6674d1c75384465a09855719a94e13b5b8591302</td>\n",
       "      <td>1</td>\n",
       "    </tr>\n",
       "    <tr>\n",
       "      <th>24</th>\n",
       "      <td>0x11112f684cb88d43ca0e132e585e882606063fbe</td>\n",
       "      <td>0x8330faaba3d4bb27ea70dd45b3180c737f6fc9b3</td>\n",
       "      <td>1</td>\n",
       "    </tr>\n",
       "    <tr>\n",
       "      <th>25</th>\n",
       "      <td>0x11112f684cb88d43ca0e132e585e882606063fbe</td>\n",
       "      <td>0x8f2c7da0f183233fdaaf7be6dacc981103718b7a</td>\n",
       "      <td>1</td>\n",
       "    </tr>\n",
       "    <tr>\n",
       "      <th>26</th>\n",
       "      <td>0x11112f684cb88d43ca0e132e585e882606063fbe</td>\n",
       "      <td>0xd14ab59a934a22b072f331453c205f85c168aae4</td>\n",
       "      <td>1</td>\n",
       "    </tr>\n",
       "    <tr>\n",
       "      <th>27</th>\n",
       "      <td>0x11112f684cb88d43ca0e132e585e882606063fbe</td>\n",
       "      <td>0xf9d4a280ec140acd1bc8f14dee08e28b8ca7ddeb</td>\n",
       "      <td>4</td>\n",
       "    </tr>\n",
       "    <tr>\n",
       "      <th>28</th>\n",
       "      <td>0x11112f684cb88d43ca0e132e585e882606063fbe</td>\n",
       "      <td>0xfdcd5daf992a68f297647074221cf51a3c23e4ed</td>\n",
       "      <td>1</td>\n",
       "    </tr>\n",
       "    <tr>\n",
       "      <th>29</th>\n",
       "      <td>0x118203b0f2a3ef9e749d871c8fef5e5e55ef5c91</td>\n",
       "      <td>0x20fe4b1ed95911487499e53355bb8f14a881d735</td>\n",
       "      <td>2</td>\n",
       "    </tr>\n",
       "    <tr>\n",
       "      <th>30</th>\n",
       "      <td>0x13a498387cfff865a90f2f0e226ff019d5e91fa7</td>\n",
       "      <td>0x8f9a8dc65a423c7dec9261aa6010db738407c879</td>\n",
       "      <td>11</td>\n",
       "    </tr>\n",
       "    <tr>\n",
       "      <th>31</th>\n",
       "      <td>0x15d2c32e8617e7696e7f4d1c57fb7672f77d1a62</td>\n",
       "      <td>0x1fd6267f0d86f62d88172b998390afee2a1f54b6</td>\n",
       "      <td>3</td>\n",
       "    </tr>\n",
       "    <tr>\n",
       "      <th>32</th>\n",
       "      <td>0x165402279f2c081c54b00f0e08812f3fd4560a05</td>\n",
       "      <td>0x4631018f63d5e31680fb53c11c9e1b11f1503e6f</td>\n",
       "      <td>10</td>\n",
       "    </tr>\n",
       "    <tr>\n",
       "      <th>33</th>\n",
       "      <td>0x1e3e1762a4ef49968c388ed476af26047e67136f</td>\n",
       "      <td>0xeab3552a3d1596aff52238a8ae91fd0978dcc511</td>\n",
       "      <td>3</td>\n",
       "    </tr>\n",
       "    <tr>\n",
       "      <th>34</th>\n",
       "      <td>0x1ed3b57b018adacfee3919a449561d66a85a6f2b</td>\n",
       "      <td>0x9f7ffe5ad07cb7b8db199e16a0617beadc116de9</td>\n",
       "      <td>10</td>\n",
       "    </tr>\n",
       "    <tr>\n",
       "      <th>35</th>\n",
       "      <td>0x223034edbe95823c1160c16f26e3000315171ca9</td>\n",
       "      <td>0x0e10172eab8a72ca12923eb9cacf21909d4c8a0f</td>\n",
       "      <td>1</td>\n",
       "    </tr>\n",
       "    <tr>\n",
       "      <th>36</th>\n",
       "      <td>0x223034edbe95823c1160c16f26e3000315171ca9</td>\n",
       "      <td>0x3882a1e71636c4d5896af656793cb358e6e9713f</td>\n",
       "      <td>1</td>\n",
       "    </tr>\n",
       "    <tr>\n",
       "      <th>37</th>\n",
       "      <td>0x223034edbe95823c1160c16f26e3000315171ca9</td>\n",
       "      <td>0xb4da77aa47731fa0cc60867b4a535305145b239e</td>\n",
       "      <td>1</td>\n",
       "    </tr>\n",
       "    <tr>\n",
       "      <th>38</th>\n",
       "      <td>0x2522b89dc2de2ceff16dfa3285e677a95c79d0d0</td>\n",
       "      <td>0xafb43414e6344f6310f29e9d7dc95d817ffd89e8</td>\n",
       "      <td>14</td>\n",
       "    </tr>\n",
       "    <tr>\n",
       "      <th>39</th>\n",
       "      <td>0x2708cace7b42302af26f1ab896111d87faeff92f</td>\n",
       "      <td>0x6e70c88be1d5c2a4c0c8205764d01abe6a3d2e22</td>\n",
       "      <td>1</td>\n",
       "    </tr>\n",
       "  </tbody>\n",
       "</table>\n",
       "</div>"
      ],
      "text/plain": [
       "                                   Receiver ID  \\\n",
       "0   0x0217f93565ede01fa65450281631a67808d2eedc   \n",
       "1   0x0333e323e61aa8afa38a1623604a165dcb9f4fec   \n",
       "2   0x03d1d0e4061152c6a698309aaa4968aae58585a8   \n",
       "3   0x079667f4f7a0b440ad35ebd780efd216751f0758   \n",
       "4   0x07ba7e8947f8fb4d33f3c7e25c2cb35b858f02eb   \n",
       "5   0x07e02088d68229300ae503395c6536f09179dc3e   \n",
       "6   0x098b716b8aaf21512996dc57eb0615e2383e2f96   \n",
       "7   0x09923e35f19687a524bbca7d42b92b6748534f25   \n",
       "8   0x09b5027ef3a3b7332ee90321e558bad9c4447afa   \n",
       "9   0x0ae1554860e51844b61ae20823ef1268c3949f7c   \n",
       "10  0x0b283b107f70d23250f882fbfe7216c38abbd7ca   \n",
       "11  0x0b283b107f70d23250f882fbfe7216c38abbd7ca   \n",
       "12  0x0b283b107f70d23250f882fbfe7216c38abbd7ca   \n",
       "13  0x0b283b107f70d23250f882fbfe7216c38abbd7ca   \n",
       "14  0x0b283b107f70d23250f882fbfe7216c38abbd7ca   \n",
       "15  0x0d043128146654c7683fbf30ac98d7b2285ded00   \n",
       "16  0x0d043128146654c7683fbf30ac98d7b2285ded00   \n",
       "17  0x0d043128146654c7683fbf30ac98d7b2285ded00   \n",
       "18  0x0d043128146654c7683fbf30ac98d7b2285ded00   \n",
       "19  0x0d043128146654c7683fbf30ac98d7b2285ded00   \n",
       "20  0x1079061d37f7f3fd3295e4aad02ece4a3f20de2d   \n",
       "21  0x11112f684cb88d43ca0e132e585e882606063fbe   \n",
       "22  0x11112f684cb88d43ca0e132e585e882606063fbe   \n",
       "23  0x11112f684cb88d43ca0e132e585e882606063fbe   \n",
       "24  0x11112f684cb88d43ca0e132e585e882606063fbe   \n",
       "25  0x11112f684cb88d43ca0e132e585e882606063fbe   \n",
       "26  0x11112f684cb88d43ca0e132e585e882606063fbe   \n",
       "27  0x11112f684cb88d43ca0e132e585e882606063fbe   \n",
       "28  0x11112f684cb88d43ca0e132e585e882606063fbe   \n",
       "29  0x118203b0f2a3ef9e749d871c8fef5e5e55ef5c91   \n",
       "30  0x13a498387cfff865a90f2f0e226ff019d5e91fa7   \n",
       "31  0x15d2c32e8617e7696e7f4d1c57fb7672f77d1a62   \n",
       "32  0x165402279f2c081c54b00f0e08812f3fd4560a05   \n",
       "33  0x1e3e1762a4ef49968c388ed476af26047e67136f   \n",
       "34  0x1ed3b57b018adacfee3919a449561d66a85a6f2b   \n",
       "35  0x223034edbe95823c1160c16f26e3000315171ca9   \n",
       "36  0x223034edbe95823c1160c16f26e3000315171ca9   \n",
       "37  0x223034edbe95823c1160c16f26e3000315171ca9   \n",
       "38  0x2522b89dc2de2ceff16dfa3285e677a95c79d0d0   \n",
       "39  0x2708cace7b42302af26f1ab896111d87faeff92f   \n",
       "\n",
       "                                     Sender ID  Number of Attacks  \n",
       "0   0x37d387c2b7e5fb493091f01c164be5332811d11e                 95  \n",
       "1   0xe30dc9b3c29534e9b4e9a166c2f44411163ad59f                  4  \n",
       "2   0x2f2ca827b3c2c57d554d08698e10c3d8016e9f81                  1  \n",
       "3   0x5dbcf33d8c2e976c6b560249878e6f1491bca25c                  1  \n",
       "4   0x8484ef722627bf18ca5ae6bcf031c23e6e922b30                  1  \n",
       "5   0xc5ac25cfc2b8284e84ca47dad21cf1319f732c11                  3  \n",
       "6   0x1a2a1c938ce3ec39b6d47113c7955baa9dd454f2                  3  \n",
       "7   0xd47140f6ab73f6d6b6675fb1610bb5e9b5d96fe5                 18  \n",
       "8   0xc36442b4a4522e871399cd717abdd847ab11fe88                  8  \n",
       "9   0x7ea2be2df7ba6e54b1a9c70676f668455e329d29                  1  \n",
       "10  0x478c070341265d5fc563512ad7c9c6481a4a3a24                  1  \n",
       "11  0x6a14fdcbf6fec2f7221b54536279932582f9964c                  1  \n",
       "12  0x785038e55c3c77256bdc9a03535fd3e8d948a116                  1  \n",
       "13  0x87654f58faff71f04291b293e4af2d52dcbe7f15                  1  \n",
       "14  0xe693e36cf773f4a47eb03d46666ee5116e04afd5                  1  \n",
       "15  0x2dccdb493827e15a5dc8f8b72147e6c4a5620857                  9  \n",
       "16  0x58f4baccb411acef70a5f6dd174af7854fc48fa9                  6  \n",
       "17  0x9e91ae672e7f7330fc6b9bab9c259bd94cd08715                  9  \n",
       "18  0xf9fb1c508ff49f78b60d3a96dea99fa5d7f3a8a6                  1  \n",
       "19  0xfd53b1b4af84d59b20bf2c20ca89a6beeaa2c628                  1  \n",
       "20  0xa0f6ff6aca3a401766f96356e822d92576a42cc5                  2  \n",
       "21  0x42bcaf2f8e021c1b017bccbb40f1b28ab97c97f7                  2  \n",
       "22  0x5777d92f208679db4b9778590fa3cab3ac9e2168                  2  \n",
       "23  0x6674d1c75384465a09855719a94e13b5b8591302                  1  \n",
       "24  0x8330faaba3d4bb27ea70dd45b3180c737f6fc9b3                  1  \n",
       "25  0x8f2c7da0f183233fdaaf7be6dacc981103718b7a                  1  \n",
       "26  0xd14ab59a934a22b072f331453c205f85c168aae4                  1  \n",
       "27  0xf9d4a280ec140acd1bc8f14dee08e28b8ca7ddeb                  4  \n",
       "28  0xfdcd5daf992a68f297647074221cf51a3c23e4ed                  1  \n",
       "29  0x20fe4b1ed95911487499e53355bb8f14a881d735                  2  \n",
       "30  0x8f9a8dc65a423c7dec9261aa6010db738407c879                 11  \n",
       "31  0x1fd6267f0d86f62d88172b998390afee2a1f54b6                  3  \n",
       "32  0x4631018f63d5e31680fb53c11c9e1b11f1503e6f                 10  \n",
       "33  0xeab3552a3d1596aff52238a8ae91fd0978dcc511                  3  \n",
       "34  0x9f7ffe5ad07cb7b8db199e16a0617beadc116de9                 10  \n",
       "35  0x0e10172eab8a72ca12923eb9cacf21909d4c8a0f                  1  \n",
       "36  0x3882a1e71636c4d5896af656793cb358e6e9713f                  1  \n",
       "37  0xb4da77aa47731fa0cc60867b4a535305145b239e                  1  \n",
       "38  0xafb43414e6344f6310f29e9d7dc95d817ffd89e8                 14  \n",
       "39  0x6e70c88be1d5c2a4c0c8205764d01abe6a3d2e22                  1  "
      ]
     },
     "execution_count": 27,
     "metadata": {},
     "output_type": "execute_result"
    }
   ],
   "source": [
    "# How many different assets each attacker attacked? How many times per asset?\n",
    "dsAttacksIdAttacker = dfData[dfData['Label'] == 1].groupby(['Receiver ID', 'Sender ID'])['Transaction ID'].count().reset_index(name = 'Number of Attacks')  \n",
    "dsAttacksIdAttacker.head(40)"
   ]
  },
  {
   "cell_type": "code",
   "execution_count": 28,
   "metadata": {},
   "outputs": [],
   "source": [
    "# Initialize the Pandas Extension (Don't change the Index from now on!)\n",
    "numGrps = dfData.GrpBySender.numGrps"
   ]
  },
  {
   "cell_type": "markdown",
   "metadata": {},
   "source": [
    "### SASA vs. SAMA Cases\n",
    "\n",
    "Definitions:\n",
    "\n",
    " * SASA:\n",
    " * SAMA:\n",
    "\n",
    "**Remark**: Move to:\n",
    "\n",
    "SASASW - Single Asset, Single   Attacks, Single   Wallets  \n",
    "SAMASW - Single Asset, Multiple Attacks, Single   Wallets (SAMA)  \n",
    "SAMAMW - Single Asset, Multiple Attacks, Multiple Wallets (SAMA)  "
   ]
  },
  {
   "cell_type": "code",
   "execution_count": 29,
   "metadata": {},
   "outputs": [],
   "source": [
    "# Analysis of Attack Type\n",
    "# !!! The function `CalcAttackType()` uses the Pandas extension, hence it should be initialized before!\n",
    "dsAttackType, dfAttackType = CalcAttackType(dfData)"
   ]
  },
  {
   "cell_type": "code",
   "execution_count": 30,
   "metadata": {},
   "outputs": [
    {
     "data": {
      "image/png": "[encoded data removed]",
      "text/plain": [
       "<Figure size 1152x864 with 1 Axes>"
      ]
     },
     "metadata": {},
     "output_type": "display_data"
    }
   ],
   "source": [
    "# Display an Histogram of the Attack Types\n",
    "hF, hA = plt.subplots(figsize = (16, 12))\n",
    "sns.countplot(x = dfAttackType['Attack Type'], ax = hA)\n",
    "hA.set_title('Number of Cases (Attacks) by Attack Types')\n",
    "plt.show()"
   ]
  },
  {
   "cell_type": "markdown",
   "metadata": {},
   "source": [
    "## Feature Engineering\n",
    "\n",
    "This section adds features and engineers them.  \n",
    "Most features work on the `Sender ID` group.\n",
    "\n",
    "#### Amount Based Features:\n",
    "\n",
    "1. The STD of the user vs the average STD of all other users of the asset.\n",
    "2. The Median of the user vs the average STD of all other users of the asset.\n",
    "3. \n",
    "\n",
    "#### Date Based Features\n",
    "\n",
    "1. The day of the week.\n",
    "2. Weekend.\n",
    "3. Hour of the day.\n",
    "4. STD fo the time difference of the user vs. the avergae of all other users.\n",
    "5. Median fo the time difference of the user vs. the avergae of all other users.\n",
    "\n",
    "**Remark**: For wallets with a lot of activity we need to analyze the \"activity hours\" and profile it.\n",
    "\n",
    "\n",
    "The features are:\n",
    "\n",
    " 1. Day of the Week.\n",
    "\n",
    "Remarks:\n",
    "\n",
    " *  Features x-y are time / frequency related.\n",
    " *  Features z-t are trasnaction realted.\n"
   ]
  },
  {
   "cell_type": "code",
   "execution_count": 31,
   "metadata": {},
   "outputs": [],
   "source": [
    "# Pre Process\n",
    "\n",
    "dfGbs = dfData.GrpBySender"
   ]
  },
  {
   "cell_type": "markdown",
   "metadata": {},
   "source": [
    "### Features per Asset"
   ]
  },
  {
   "cell_type": "code",
   "execution_count": 32,
   "metadata": {},
   "outputs": [],
   "source": [
    "# Features - Amount Based\n",
    "\n",
    "sum_s           = dfGbs.AggBySender(colName = dfGbs.amountUSDColLabel, grpLabel = None, calcType = CalcType.TYPE_SUM)\n",
    "mean_s          = dfGbs.AggBySender(colName = dfGbs.amountUSDColLabel, grpLabel = None, calcType = CalcType.TYPE_MEAN)\n",
    "std_s           = dfGbs.AggBySender(colName = dfGbs.amountUSDColLabel, grpLabel = None, calcType = CalcType.TYPE_STD)\n",
    "var_s           = dfGbs.AggBySender(colName = dfGbs.amountUSDColLabel, grpLabel = None, calcType = CalcType.TYPE_VAR)\n",
    "median_s        = dfGbs.AggBySender(colName = dfGbs.amountUSDColLabel, grpLabel = None, calcType = CalcType.TYPE_MEDIAN)\n",
    "count_s         = dfGbs.AggBySender(colName = dfGbs.amountUSDColLabel, grpLabel = None, calcType = CalcType.TYPE_COUNT)\n",
    "min_s           = dfGbs.AggBySender(colName = dfGbs.amountUSDColLabel, grpLabel = None, calcType = CalcType.TYPE_MIN)\n",
    "max_s           = dfGbs.AggBySender(colName = dfGbs.amountUSDColLabel, grpLabel = None, calcType = CalcType.TYPE_MAX)\n",
    "coint_c         = dfGbs.AggBySender(colName = dfGbs.currencyColLabel, grpLabel = None, calcType = CalcType.TYPE_COUNT_COIN_TYPE)\n",
    "receiver_type_c = dfGbs.AggBySender(colName = dfGbs.receiverTypeColLabel, grpLabel = None, calcType = CalcType.TYPE_COUNT_RECEIVER_TYPE)\n",
    "\n",
    "gas_pr_mean     = dfGbs.AggBySender(colName = dfGbs.gasPriceColLabel, grpLabel = None, calcType = CalcType.TYPE_MEAN)\n",
    "gas_lim_mean    = dfGbs.AggBySender(colName = dfGbs.gasLimitColLabel, grpLabel = None, calcType = CalcType.TYPE_MEAN)\n",
    "gas_used_mean   = dfGbs.AggBySender(colName = dfGbs.gasUsedColLabel, grpLabel = None, calcType = CalcType.TYPE_MEAN)\n",
    "gas_pr_std      = dfGbs.AggBySender(colName = dfGbs.gasPriceColLabel, grpLabel = None, calcType = CalcType.TYPE_STD)\n",
    "gas_lim_std     = dfGbs.AggBySender(colName = dfGbs.gasLimitColLabel, grpLabel = None, calcType = CalcType.TYPE_STD)\n",
    "gas_used_std    = dfGbs.AggBySender(colName = dfGbs.gasUsedColLabel, grpLabel = None, calcType = CalcType.TYPE_STD)\n",
    "gas_pr_med      = dfGbs.AggBySender(colName = dfGbs.gasPriceColLabel, grpLabel = None, calcType = CalcType.TYPE_MEDIAN)\n",
    "gas_lim_med     = dfGbs.AggBySender(colName = dfGbs.gasLimitColLabel, grpLabel = None, calcType = CalcType.TYPE_MEDIAN)\n",
    "gas_used_med    = dfGbs.AggBySender(colName = dfGbs.gasUsedColLabel, grpLabel = None, calcType = CalcType.TYPE_MEDIAN)\n",
    "\n",
    "\n",
    "dfData[FeatureName.AMOUNT_SUM_ASSET.name]          = sum_s\n",
    "dfData[FeatureName.AMOUNT_MEAN_ASSET.name]         = mean_s\n",
    "dfData[FeatureName.AMOUNT_STD_ASSET.name]          = std_s\n",
    "dfData[FeatureName.AMOUNT_VAR_ASSET.name]          = var_s\n",
    "dfData[FeatureName.AMOUNT_MEDIAN_ASSET.name]       = median_s\n",
    "dfData[FeatureName.AMOUNT_MIN_ASSET.name]          = min_s\n",
    "dfData[FeatureName.AMOUNT_MAX_ASSET.name]          = max_s\n",
    "dfData[FeatureName.TSX_COUNT_ASSET.name]           = count_s\n",
    "dfData[FeatureName.COIN_TYPE_COUNT_ASSET.name]     = coint_c\n",
    "dfData[FeatureName.RECEIVER_TYPE_COUNT_ASSET.name] = receiver_type_c\n",
    "\n",
    "dfData[FeatureName.GAS_PRICE_MEAN_ASSET.name] = gas_pr_mean\n",
    "dfData[FeatureName.GAS_PRICE_STD_ASSET.name] = gas_pr_std\n",
    "dfData[FeatureName.GAS_PRICE_MEDIAN_ASSET.name] = gas_pr_med\n",
    "\n",
    "dfData[FeatureName.GAS_LIMIT_MEAN_ASSET.name] = gas_lim_mean\n",
    "dfData[FeatureName.GAS_LIMIT_STD_ASSET.name] = gas_lim_std\n",
    "dfData[FeatureName.GAS_LIMIT_MEDIAN_ASSET.name] = gas_lim_med\n",
    "\n",
    "dfData[FeatureName.GAS_USED_MEAN_ASSET.name] = gas_pr_mean\n",
    "dfData[FeatureName.GAS_USED_STD_ASSET.name] = gas_pr_std\n",
    "dfData[FeatureName.GAS_USED_MEDIAN_ASSET.name] = gas_pr_med\n",
    "\n",
    "#COIN_TYPE_COUNT_USR                 "
   ]
  },
  {
   "cell_type": "code",
   "execution_count": 33,
   "metadata": {},
   "outputs": [],
   "source": [
    "# Features - Time Based\n",
    "\n",
    "td_mean_s   = dfGbs.AggBySender(colName = dfGbs.timeDiffAssetColLabel, grpLabel = None, calcType = CalcType.TYPE_TIME_DIFF_MEAN)\n",
    "td_std_s    = dfGbs.AggBySender(colName = dfGbs.timeDiffAssetColLabel, grpLabel = None, calcType = CalcType.TYPE_TIME_DIFF_STD)\n",
    "td_median_s = dfGbs.AggBySender(colName = dfGbs.timeDiffAssetColLabel, grpLabel = None, calcType = CalcType.TYPE_TIME_DIFF_MEDIAN)\n",
    "td_min_s    = dfGbs.AggBySender(colName = dfGbs.timeDiffAssetColLabel, grpLabel = None, calcType = CalcType.TYPE_TIME_DIFF_MIN)\n",
    "td_max_s    = dfGbs.AggBySender(colName = dfGbs.timeDiffAssetColLabel, grpLabel = None, calcType = CalcType.TYPE_TIME_DIFF_MAX)\n",
    "\n",
    "dfData[FeatureName.TIME_DIFF_MEAN_ASSET.name]   = td_mean_s\n",
    "dfData[FeatureName.TIME_DIFF_STD_ASSET.name]    = td_std_s\n",
    "dfData[FeatureName.TIME_DIFF_MEDIAN_ASSET.name] = td_median_s\n",
    "dfData[FeatureName.TIME_DIFF_MIN_ASSET.name]    = td_min_s\n",
    "dfData[FeatureName.TIME_DIFF_MAX_ASSET.name]    = td_max_s"
   ]
  },
  {
   "cell_type": "markdown",
   "metadata": {},
   "source": [
    "### Features per User"
   ]
  },
  {
   "cell_type": "code",
   "execution_count": 34,
   "metadata": {},
   "outputs": [],
   "source": [
    "# Features - Amount Based (User)\n",
    "\n",
    "sum_s           = dfGbs.AggByReceiver(colName = dfGbs.amountUSDColLabel, grpLabel = None, subGrpLabel = None, calcType = CalcType.TYPE_SUM)\n",
    "mean_s          = dfGbs.AggByReceiver(colName = dfGbs.amountUSDColLabel, grpLabel = None, subGrpLabel = None, calcType = CalcType.TYPE_MEAN)\n",
    "std_s           = dfGbs.AggByReceiver(colName = dfGbs.amountUSDColLabel, grpLabel = None, subGrpLabel = None, calcType = CalcType.TYPE_STD)\n",
    "var_s           = dfGbs.AggByReceiver(colName = dfGbs.amountUSDColLabel, grpLabel = None, subGrpLabel = None, calcType = CalcType.TYPE_VAR)\n",
    "median_s        = dfGbs.AggByReceiver(colName = dfGbs.amountUSDColLabel, grpLabel = None, subGrpLabel = None, calcType = CalcType.TYPE_MEDIAN)\n",
    "count_s         = dfGbs.AggByReceiver(colName = dfGbs.amountUSDColLabel, grpLabel = None, subGrpLabel = None, calcType = CalcType.TYPE_COUNT)\n",
    "min_s           = dfGbs.AggByReceiver(colName = dfGbs.amountUSDColLabel, grpLabel = None, subGrpLabel = None, calcType = CalcType.TYPE_MIN)\n",
    "max_s           = dfGbs.AggByReceiver(colName = dfGbs.amountUSDColLabel, grpLabel = None, subGrpLabel = None, calcType = CalcType.TYPE_MAX)\n",
    "coin_c          = dfGbs.AggByReceiver(colName = dfGbs.currencyColLabel, grpLabel = None, calcType = CalcType.TYPE_COUNT_COIN_TYPE)\n",
    "receiver_type_c = dfGbs.AggByReceiver(colName = dfGbs.receiverTypeColLabel, grpLabel = None, calcType = CalcType.TYPE_COUNT_RECEIVER_TYPE) #<! Royi: We need to check why is it so important?!?!\n",
    "\n",
    "gas_pr_mean     = dfGbs.AggByReceiver(colName = dfGbs.gasPriceColLabel, grpLabel = None, calcType = CalcType.TYPE_MEAN)\n",
    "gas_lim_mean    = dfGbs.AggByReceiver(colName = dfGbs.gasLimitColLabel, grpLabel = None, calcType = CalcType.TYPE_MEAN)\n",
    "gas_used_mean   = dfGbs.AggByReceiver(colName = dfGbs.gasUsedColLabel, grpLabel = None, calcType = CalcType.TYPE_MEAN)\n",
    "\n",
    "gas_pr_std      = dfGbs.AggByReceiver(colName = dfGbs.gasPriceColLabel, grpLabel = None, calcType = CalcType.TYPE_STD)\n",
    "gas_lim_std     = dfGbs.AggByReceiver(colName = dfGbs.gasLimitColLabel, grpLabel = None, calcType = CalcType.TYPE_STD)\n",
    "gas_used_std    = dfGbs.AggByReceiver(colName = dfGbs.gasUsedColLabel, grpLabel = None, calcType = CalcType.TYPE_STD)\n",
    "\n",
    "gas_pr_med      = dfGbs.AggByReceiver(colName = dfGbs.gasPriceColLabel, grpLabel = None, calcType = CalcType.TYPE_MEDIAN)\n",
    "gas_lim_med     = dfGbs.AggByReceiver(colName = dfGbs.gasLimitColLabel, grpLabel = None, calcType = CalcType.TYPE_MEDIAN)\n",
    "gas_used_med    = dfGbs.AggByReceiver(colName = dfGbs.gasUsedColLabel, grpLabel = None, calcType = CalcType.TYPE_MEDIAN)\n",
    "\n",
    "gas_pr_quant    = dfGbs.dfSubGrpByRec[dfGbs.gasPriceColLabel].transform('quantile' ,q =0.75)#dfGbs.AggByReceiver(colName = dfGbs.gasPriceColLabel, grpLabel = None, calcType = CalcType.TYPE_PCTILE)\n",
    "gas_lim_quant   = dfGbs.dfSubGrpByRec[dfGbs.gasLimitColLabel].transform('quantile' ,q =0.75)#dfGbs.AggByReceiver(colName = dfGbs.gasLimitColLabel, grpLabel = None, calcType = CalcType.TYPE_PCTILE)\n",
    "gas_used_quant  = dfGbs.dfSubGrpByRec[dfGbs.gasUsedColLabel].transform('quantile' ,q =0.75)#dfGbs.AggByReceiver(colName = dfGbs.gasUsedColLabel, grpLabel = None, calcType = CalcType.TYPE_PCTILE)\n",
    "\n",
    "\n",
    "dfData[FeatureName.AMOUNT_SUM_USR.name]          = sum_s\n",
    "dfData[FeatureName.AMOUNT_MEAN_USR.name]         = mean_s\n",
    "dfData[FeatureName.AMOUNT_STD_USR.name]          = std_s\n",
    "dfData[FeatureName.AMOUNT_VAR_USR.name]          = var_s\n",
    "dfData[FeatureName.AMOUNT_MEDIAN_USR.name]       = median_s\n",
    "dfData[FeatureName.AMOUNT_MIN_USR.name]          = min_s\n",
    "dfData[FeatureName.AMOUNT_MAX_USR.name]          = max_s\n",
    "dfData[FeatureName.TSX_COUNT_USR.name]           = count_s\n",
    "dfData[FeatureName.COIN_TYPE_COUNT_USR.name]     = coin_c\n",
    "dfData[FeatureName.RECEIVER_TYPE_COUNT_USR.name] = receiver_type_c    \n",
    "\n",
    "dfData[FeatureName.GAS_PRICE_MEAN_USR.name] = gas_pr_mean\n",
    "dfData[FeatureName.GAS_PRICE_STD_USR.name] = gas_pr_std\n",
    "dfData[FeatureName.GAS_PRICE_MEDIAN_USR.name] = gas_pr_med\n",
    "\n",
    "dfData[FeatureName.GAS_LIMIT_MEAN_USR.name] = gas_lim_mean\n",
    "dfData[FeatureName.GAS_LIMIT_STD_USR.name] = gas_lim_std\n",
    "dfData[FeatureName.GAS_LIMIT_MEDIAN_USR.name] = gas_lim_med\n",
    "\n",
    "dfData[FeatureName.GAS_USED_MEAN_USR.name] = gas_pr_mean\n",
    "dfData[FeatureName.GAS_USED_STD_USR.name] = gas_pr_std\n",
    "dfData[FeatureName.GAS_USED_MEDIAN_USR.name] = gas_pr_med\n",
    "\n",
    "dfData[FeatureName.GAS_PRICE_QUANTILE_USR.name] = gas_pr_quant\n",
    "dfData[FeatureName.GAS_LIMIT_QUANTILE_USR.name] = gas_lim_quant\n",
    "dfData[FeatureName.GAS_USED_QUANTILE_USR.name] = gas_used_quant\n"
   ]
  },
  {
   "cell_type": "code",
   "execution_count": 35,
   "metadata": {},
   "outputs": [],
   "source": [
    "# Features - Time Based (User)\n",
    "\n",
    "td_mean_s   = dfGbs.AggByReceiver(colName = dfGbs.timeDiffUserColLabel, grpLabel = None, subGrpLabel = None, calcType = CalcType.TYPE_TIME_DIFF_MEAN)\n",
    "td_std_s    = dfGbs.AggByReceiver(colName = dfGbs.timeDiffUserColLabel, grpLabel = None, subGrpLabel = None, calcType = CalcType.TYPE_TIME_DIFF_STD)\n",
    "td_median_s = dfGbs.AggByReceiver(colName = dfGbs.timeDiffUserColLabel, grpLabel = None, subGrpLabel = None, calcType = CalcType.TYPE_TIME_DIFF_MEDIAN)\n",
    "td_min_s    = dfGbs.AggByReceiver(colName = dfGbs.timeDiffUserColLabel, grpLabel = None, subGrpLabel = None, calcType = CalcType.TYPE_TIME_DIFF_MIN)\n",
    "td_max_s    = dfGbs.AggByReceiver(colName = dfGbs.timeDiffUserColLabel, grpLabel = None, subGrpLabel = None, calcType = CalcType.TYPE_TIME_DIFF_MAX)\n",
    "\n",
    "dfData[FeatureName.TIME_DIFF_MEAN_USR.name]   = td_mean_s\n",
    "dfData[FeatureName.TIME_DIFF_STD_USR.name]    = td_std_s\n",
    "dfData[FeatureName.TIME_DIFF_MEDIAN_USR.name] = td_median_s\n",
    "dfData[FeatureName.TIME_DIFF_MIN_USR.name]    = td_min_s\n",
    "dfData[FeatureName.TIME_DIFF_MAX_USR.name]    = td_max_s"
   ]
  },
  {
   "cell_type": "markdown",
   "metadata": {},
   "source": [
    "### Features based on Transaction Time"
   ]
  },
  {
   "cell_type": "code",
   "execution_count": 36,
   "metadata": {},
   "outputs": [],
   "source": [
    "# Features - Time Based\n",
    "\n",
    "dfData[FeatureName.TIME_HOUR.name]    = dfGbs.GetTimeVals(periodTimeType = PeriodTimeType.HOUR_DAY)\n",
    "dfData[FeatureName.TIME_WEEKDAY.name] = dfGbs.GetTimeVals(periodTimeType = PeriodTimeType.DAY_WEEK)"
   ]
  },
  {
   "cell_type": "markdown",
   "metadata": {},
   "source": [
    "### Features based on Ratios"
   ]
  },
  {
   "cell_type": "code",
   "execution_count": 37,
   "metadata": {},
   "outputs": [],
   "source": [
    "# Ratio Based Features\n",
    "\n",
    "dfData[FeatureName.AMOUNT_MEAN_RATIO_USR_ASSET.name]    = dfData[FeatureName.AMOUNT_MEAN_USR.name] / dfData[FeatureName.AMOUNT_MEAN_ASSET.name]\n",
    "dfData[FeatureName.AMOUNT_STD_RATIO_USR_ASSET.name]    = dfData[FeatureName.AMOUNT_STD_USR.name] / dfData[FeatureName.AMOUNT_STD_ASSET.name]\n",
    "dfData[FeatureName.TIME_DIFF_MEAN_RATIO_USR_ASSET.name] = dfData[FeatureName.TIME_DIFF_MEAN_USR.name] / dfData[FeatureName.TIME_DIFF_MEAN_ASSET.name]\n",
    "dfData[FeatureName.TIME_DIFF_STD_RATIO_USR_ASSET.name] = dfData[FeatureName.TIME_DIFF_STD_USR.name] / dfData[FeatureName.TIME_DIFF_STD_ASSET.name]"
   ]
  },
  {
   "cell_type": "markdown",
   "metadata": {},
   "source": [
    "### Features based on Frequency"
   ]
  },
  {
   "cell_type": "code",
   "execution_count": 38,
   "metadata": {},
   "outputs": [],
   "source": [
    "# Frequency Based Features\n",
    "\n",
    "dfData[FeatureName.TIME_MAX.name] = dfGbs.AggByReceiver(colName = timeColStr, grpLabel = None, subGrpLabel = None, calcType = CalcType.TYPE_MAX)\n",
    "dfData[FeatureName.TIME_MIN.name] = dfGbs.AggByReceiver(colName = timeColStr, grpLabel = None, subGrpLabel = None, calcType = CalcType.TYPE_MIN)\n",
    "\n",
    "dfData[FeatureName.TIME_INTERVL_USR.name] = ((dfData[FeatureName.TIME_MAX.name] - dfData[FeatureName.TIME_MIN.name])).dt.total_seconds()\n",
    "\n",
    "# Frequency of the User Transactions\n",
    "dfData[FeatureName.TSX_FREQ_HZ_USR.name] = dfData[FeatureName.TSX_COUNT_USR.name] / dfData[FeatureName.TIME_INTERVL_USR.name]"
   ]
  },
  {
   "cell_type": "markdown",
   "metadata": {},
   "source": [
    "### Gas ratio features(experimental)"
   ]
  },
  {
   "cell_type": "code",
   "execution_count": 39,
   "metadata": {},
   "outputs": [],
   "source": [
    "#Ratios between the user to the mean of all users.\n",
    "dfData[FeatureName.GAS_PRICE_USR_ASSET_RATIO_MEAN.name] = dfData[FeatureName.GAS_PRICE_MEAN_USR.name] / dfData[FeatureName.GAS_PRICE_MEAN_ASSET.name]\n",
    "dfData[FeatureName.GAS_LIMIT_USR_ASSET_RATIO_MEAN.name] = dfData[FeatureName.GAS_LIMIT_MEAN_USR.name] / dfData[FeatureName.GAS_LIMIT_MEAN_ASSET.name]\n",
    "dfData[FeatureName.GAS_USED_USR_ASSET_RATIO_MEAN.name] = dfData[FeatureName.GAS_USED_MEAN_USR.name] / dfData[FeatureName.GAS_USED_MEAN_ASSET.name] \n",
    "#Gas Price', 'Gas Limit', 'Gas Used'\n",
    "dfData[FeatureName.GAS_PRICE_LIMIT_RATIO.name] = dfData['Gas Price'] / dfData['Gas Limit']\n",
    "dfData[FeatureName.GAS_PRICE_USED_RATIO.name] = dfData['Gas Price'] / dfData['Gas Used']\n",
    "dfData[FeatureName.GAS_USED_LIMIT_RATIO.name] = dfData['Gas Used'] / dfData['Gas Limit'] \n",
    "\n",
    "dfData[FeatureName.GAS_PRICE_LIMIT_RATIO_MEAN.name] = dfData[FeatureName.GAS_PRICE_MEAN_USR.name] / dfData[FeatureName.GAS_LIMIT_MEAN_USR.name]\n",
    "dfData[FeatureName.GAS_PRICE_USED_RATIO_MEAN.name] = dfData[FeatureName.GAS_PRICE_MEAN_USR.name] / dfData[FeatureName.GAS_USED_MEAN_USR.name]\n",
    "dfData[FeatureName.GAS_USED_LIMIT_RATIO_MEAN.name] = dfData[FeatureName.GAS_USED_MEAN_USR.name] / dfData[FeatureName.GAS_PRICE_MEAN_USR.name] \n",
    "\n",
    "\n",
    "#Compare it to 75 quantile (TSX Gas Price / Quantile(75) of Gas Price).\n",
    "dfData[FeatureName.GAS_PRICE_QUANTILE_RATIO.name] = dfData['Gas Price'] / dfData[FeatureName.GAS_PRICE_QUANTILE_USR.name]\n",
    "dfData[FeatureName.GAS_LIMIT_QUANTILE_RATIO.name] = dfData['Gas Limit'] / dfData[FeatureName.GAS_LIMIT_QUANTILE_USR.name]\n",
    "dfData[FeatureName.GAS_USED_QUANTILE_RATIO.name] =  dfData['Gas Used'] / dfData[FeatureName.GAS_USED_QUANTILE_USR.name]"
   ]
  },
  {
   "cell_type": "code",
   "execution_count": 40,
   "metadata": {},
   "outputs": [],
   "source": [
    "#Feature to indicate first transaction\n",
    "dfData[FeatureName.MIN_INDICATOR.name] = 0 ; dfData.loc[dfData[timeColStr] == dfData[FeatureName.TIME_MIN.name], FeatureName.MIN_INDICATOR.name] = 1 \n",
    "### TODO !!! this can be invorrect. it will need a review !!!!!! "
   ]
  },
  {
   "cell_type": "code",
   "execution_count": 41,
   "metadata": {},
   "outputs": [],
   "source": [
    "#56\n",
    "#Create features based on the currency of the transactions:\n",
    "# 1. The number of different types of currencies per user. <-- done previously = dfData[FeatureName.COIN_TYPE_COUNT_USR.name]\n",
    "# 2. The average of the number of types of all user for an asset. <-- groupby asset , mean(number of different types of currencies per user)\n",
    "# 3. The ratio between a specific user to the average of the asset. --> 1/2\n",
    "    \n",
    "\n",
    "dfData[FeatureName.COIN_TYPE_COUNT_USR_MEAN_ASSET.name]    = dfGbs.AvgByUserCoinType()\n",
    "dfData[FeatureName.COIN_TYPE_USR_MEAN_ASSET_RATIO.name]  = dfData[FeatureName.COIN_TYPE_COUNT_USR.name] / dfData[FeatureName.COIN_TYPE_COUNT_USR_MEAN_ASSET.name]\n"
   ]
  },
  {
   "cell_type": "code",
   "execution_count": null,
   "metadata": {},
   "outputs": [],
   "source": []
  },
  {
   "cell_type": "markdown",
   "metadata": {},
   "source": [
    "## Features Visualization"
   ]
  },
  {
   "cell_type": "code",
   "execution_count": 42,
   "metadata": {},
   "outputs": [],
   "source": [
    "numFeatures     = len(lSlctdFeatures)"
   ]
  },
  {
   "cell_type": "code",
   "execution_count": null,
   "metadata": {},
   "outputs": [],
   "source": []
  },
  {
   "cell_type": "code",
   "execution_count": 43,
   "metadata": {},
   "outputs": [],
   "source": [
    "\n",
    "import matplotlib.pyplot as plt\n",
    "from mpl_toolkits.mplot3d import Axes3D\n",
    "\n",
    "from matplotlib.colors import ListedColormap\n",
    "\n",
    "\n",
    "def DisplayTripletFeature( dfData, xColName, yColName, zColName, labelName, legendTitle, hA = None ) -> None:\n",
    "    \n",
    "    #if hA is None:\n",
    "    #    hF, hA = plt.subplots(figsize = (20, 10))\n",
    "    \n",
    "    #sns.scatterplot(data = dfData, x = xColName, y = yColName, z = zColName, hue = labelName, style = labelName, ax = hA)\n",
    "\n",
    "    #hA.legend(title = legendTitle)\n",
    "    #plt.show()\n",
    "    sns.set(style = \"darkgrid\")\n",
    "\n",
    "    fig = plt.figure(figsize = (20, 10))\n",
    "    ax = Axes3D(fig, auto_add_to_figure=False)\n",
    "    fig.add_axes(ax)\n",
    "    \n",
    "    colors = {0:'tab:blue', 1:'tab:orange'}\n",
    "\n",
    "    x = dfData[xColName] ;  y = dfData[yColName] ;    z = dfData[zColName]\n",
    "    \n",
    "    #col = dfData[labelName]\n",
    "\n",
    "    sc = ax.scatter(x, y, z , c=dfData[labelName].map(colors)  )#, marker='o', cmap=cmap, alpha=1) #ax.scatter(x, y, z, s=40, c=x, marker='o', cmap=cmap, alpha=1)\n",
    "\n",
    "    plt.legend(*sc.legend_elements(), bbox_to_anchor=(1.05, 1), loc=2)\n",
    "\n",
    "    ax.set_xlabel(xColName) ;   ax.set_ylabel(yColName) ;   ax.set_zlabel(zColName)\n",
    "\n",
    "\n",
    "    plt.show()\n",
    "\n",
    "\n"
   ]
  },
  {
   "cell_type": "code",
   "execution_count": 44,
   "metadata": {},
   "outputs": [
    {
     "data": {
      "application/vnd.jupyter.widget-view+json": {
       "model_id": "9e091256883f47208d75790db7fae00d",
       "version_major": 2,
       "version_minor": 0
      },
      "text/plain": [
       "interactive(children=(Dropdown(description='Select Feature:', options=('Amount [USD]', 'Gas Price', 'TSX Time …"
      ]
     },
     "metadata": {},
     "output_type": "display_data"
    },
    {
     "data": {
      "text/plain": [
       "<function __main__.<lambda>(xColName, yColName, zColName)>"
      ]
     },
     "execution_count": 44,
     "metadata": {},
     "output_type": "execute_result"
    }
   ],
   "source": [
    "# Display the Scatter of the Features\n",
    "test_feats = ['Amount [USD]', 'Gas Price', 'TSX Time Diff (Asset)', 'AMOUNT_SUM_USR', 'AMOUNT_MEAN_USR', 'AMOUNT_STD_USR']\n",
    "oDropdwonX = Dropdown(\n",
    "    options     = test_feats,#lSlctdFeatures,\n",
    "    value       = 'Amount [USD]',\n",
    "    description = 'Select Feature:',\n",
    "    style       = {'description_width' : 'initial'}\n",
    ")\n",
    "\n",
    "oDropdwonY = Dropdown(\n",
    "    options     = test_feats,#lSlctdFeatures,\n",
    "    value       = 'Amount [USD]',\n",
    "    description = 'Select Feature:',\n",
    "    style       = {'description_width' : 'initial'}\n",
    ")\n",
    "\n",
    "oDropdwonZ = Dropdown(\n",
    "    options     = test_feats,#lSlctdFeatures,\n",
    "    value       = 'Amount [USD]',\n",
    "    description = 'Select Feature:',\n",
    "    style       = {'description_width' : 'initial'}\n",
    ")\n",
    "\n",
    "interact(lambda xColName, yColName, zColName: DisplayTripletFeature( dfData[test_feats + ['Label']], xColName, yColName, zColName, 'Label', 'Suspicious' ),xColName = oDropdwonX, yColName = oDropdwonY, zColName = oDropdwonZ)#DisplayPairFeature(dfData[test_feats], 'Label', yColName, 'Suspicious'), yColName = oDropdwon)\n",
    "\n",
    "\n"
   ]
  },
  {
   "cell_type": "code",
   "execution_count": null,
   "metadata": {},
   "outputs": [],
   "source": [
    "dfData.columns"
   ]
  },
  {
   "cell_type": "code",
   "execution_count": null,
   "metadata": {},
   "outputs": [],
   "source": [
    "# Display the Scatter of the Features\n",
    "#test_feats = ['Amount [USD]', 'Gas Price', 'TSX Time Diff (Asset)']\n",
    "oDropdwonX = Dropdown(\n",
    "    options     = lSlctdFeatures,\n",
    "    value       = 'Amount [USD]',\n",
    "    description = 'Select Feature:',\n",
    "    style       = {'description_width' : 'initial'}\n",
    ")\n",
    "\n",
    "oDropdwonY = Dropdown(\n",
    "    options     = lSlctdFeatures,\n",
    "    value       = 'Amount [USD]',\n",
    "    description = 'Select Feature:',\n",
    "    style       = {'description_width' : 'initial'}\n",
    ")\n",
    "\n",
    "\n",
    "interact(lambda xColName, yColName: DisplayPairFeature( dfData, xColName, yColName, 'Label', 'Suspicious' ),xColName = oDropdwonX, yColName = oDropdwonY)#DisplayPairFeature(dfData[test_feats], 'Label', yColName, 'Suspicious'), yColName = oDropdwon)\n",
    "\n",
    "\n",
    "\n"
   ]
  },
  {
   "cell_type": "code",
   "execution_count": null,
   "metadata": {},
   "outputs": [],
   "source": [
    "# Display the Scatter of the Features\n",
    "\n",
    "oDropdwon = Dropdown(\n",
    "    options     = lSlctdFeatures,\n",
    "    value       = 'Amount [USD]',\n",
    "    description = 'Select Feature:',\n",
    "    style       = {'description_width' : 'initial'}\n",
    ")\n",
    "\n",
    "interact(lambda yColName: DisplayScatterFeature(dfData, 'Label', yColName, 'Suspicious'), yColName = oDropdwon)"
   ]
  },
  {
   "cell_type": "code",
   "execution_count": null,
   "metadata": {},
   "outputs": [],
   "source": [
    "# Display the Density of the Features\n",
    "\n",
    "oDropdwon = Dropdown(\n",
    "    options     = lSlctdFeatures,\n",
    "    value       = 'Amount [USD]',\n",
    "    description = 'Select Feature:',\n",
    "    style       = {'description_width' : 'initial'}\n",
    ")\n",
    "\n",
    "interact(lambda yColName: DisplayKdeFeature(dfData, yColName, 'Label', 'Suspicious'), yColName = oDropdwon)"
   ]
  },
  {
   "cell_type": "markdown",
   "metadata": {},
   "source": [
    "## Features Pre Processing (For Training Phase)"
   ]
  },
  {
   "cell_type": "code",
   "execution_count": null,
   "metadata": {},
   "outputs": [],
   "source": [
    "dfData_ = dfData.copy(deep=True) ###<<-- I create a copy of data frame for experiment with categorical variables "
   ]
  },
  {
   "cell_type": "code",
   "execution_count": null,
   "metadata": {},
   "outputs": [],
   "source": [
    "# Pre Processing Data\n",
    "dfData.replace([np.inf, -np.inf], np.nan, inplace = True)\n",
    "dfData.fillna(0, inplace = True)\n",
    "dfX = dfData[lSlctdFeatures].copy()\n",
    "for catColName in lCatFeatures:\n",
    "    dfX[catColName], _ =  pd.factorize(dfX[catColName])"
   ]
  },
  {
   "cell_type": "code",
   "execution_count": null,
   "metadata": {},
   "outputs": [],
   "source": [
    "# Input Data for Classifier\n",
    "\n",
    "lNumericalFeatures = [featureName for featureName in lSlctdFeatures if featureName not in lCatFeatures]\n",
    "\n",
    "mX = dfX[lNumericalFeatures].to_numpy()\n",
    "mC = dfX[lCatFeatures].to_numpy()\n",
    "vY = dfData['Label'].to_numpy()\n",
    "# Scaling the data\n",
    "hStdScaler = StandardScaler() #<! Don't touch categorial data\n",
    "mX = hStdScaler.fit_transform(mX)\n",
    "mX = np.concatenate((mX, mC), axis = 1)"
   ]
  },
  {
   "cell_type": "markdown",
   "metadata": {},
   "source": [
    "### Display the PPS Matrix\n",
    "\n",
    "The idea is to see the relationship between the features not by a linear correlation but by the ability to predict them."
   ]
  },
  {
   "cell_type": "code",
   "execution_count": null,
   "metadata": {},
   "outputs": [],
   "source": [
    "# Creating the DF for the PPS analysis\n",
    "dfTmp = dfData[lSlctdFeatures + ['Label']].copy()\n",
    "\n",
    "for featureName in (lCatFeatures + ['Label']):\n",
    "    dfTmp[featureName] = pd.Categorical(dfTmp[featureName])  "
   ]
  },
  {
   "cell_type": "code",
   "execution_count": null,
   "metadata": {},
   "outputs": [],
   "source": [
    "# Feature PPS - Which featuers are important?\n",
    "\n",
    "# Pay attention, cross validation is K-Fold -> Don't over split the data\n",
    "mPPS = pps.matrix(dfTmp, **{'cross_validation': numCrossValPps, 'random_seed': randomState})[['x', 'y', 'ppscore']].pivot(columns = 'x', index = 'y', values = 'ppscore') #<! We should set `Label` as a categorial variable\n",
    "\n",
    "# Visualization of PPS\n",
    "hF, hA = plt.subplots(figsize = (30, 30))\n",
    "sns.heatmap(mPPS, annot = True, fmt = '.2f', cmap = plt.get_cmap('coolwarm'), cbar = False, vmin = 0, vmax = 1, ax = hA) \n",
    "\n",
    "plt.setp(hA.get_xticklabels(), ha = \"center\", rotation = 45)\n",
    "plt.setp(hA.get_yticklabels(), rotation = 'horizontal')\n",
    "hA.set_title('Predictive Power Score (PPS)')"
   ]
  },
  {
   "cell_type": "code",
   "execution_count": null,
   "metadata": {},
   "outputs": [],
   "source": [
    "# Validation the columns are legit\n",
    "dfX.columns"
   ]
  },
  {
   "cell_type": "markdown",
   "metadata": {},
   "source": [
    "## Model Training and Evaluation"
   ]
  },
  {
   "cell_type": "markdown",
   "metadata": {},
   "source": [
    "### Classic Train Test Split"
   ]
  },
  {
   "cell_type": "code",
   "execution_count": null,
   "metadata": {},
   "outputs": [],
   "source": [
    "mXTrain, mXTest, vYTrain, vYTest = train_test_split(mX, vY, test_size = testSetRatio, random_state = randomState, stratify = vY)"
   ]
  },
  {
   "cell_type": "code",
   "execution_count": null,
   "metadata": {},
   "outputs": [],
   "source": [
    "xgbModel = XGBClassifier(use_label_encoder = False)\n",
    "xgbModel.fit(mXTrain, vYTrain)\n",
    "vYPred = xgbModel.predict(mXTest)"
   ]
  },
  {
   "cell_type": "code",
   "execution_count": null,
   "metadata": {},
   "outputs": [],
   "source": [
    "DisplayConfusionMatrix(vYTest, vYPred, lClasses = xgbModel.classes_)"
   ]
  },
  {
   "cell_type": "code",
   "execution_count": null,
   "metadata": {},
   "outputs": [],
   "source": [
    "dsScoreSumm = GenClassifierSummaryResults(vYTest, vYPred)\n",
    "dfScoreSummary  = pd.DataFrame(dsScoreSumm, columns = ['Score'])\n",
    "dfScoreSummary"
   ]
  },
  {
   "cell_type": "markdown",
   "metadata": {},
   "source": [
    "### K Fold Training"
   ]
  },
  {
   "cell_type": "code",
   "execution_count": null,
   "metadata": {},
   "outputs": [],
   "source": [
    "# Training by Transactions (K-Fold)\n",
    "hKFoldSplt = StratifiedKFold(n_splits = numKFolds, shuffle = True, random_state = randomState)\n",
    "for vTrinIdx, vTestIdx in hKFoldSplt.split(mX, vY):\n",
    "    mXTrain, mXTest, vYTrain, vYTest = mX[vTrinIdx, :], mX[vTestIdx, :], vY[vTrinIdx], vY[vTestIdx]\n",
    "    xgbModel = XGBClassifier(use_label_encoder = False)\n",
    "    xgbModel.fit(mXTrain, vYTrain)\n",
    "    vYPred = xgbModel.predict(mXTest)\n",
    "    DisplayConfusionMatrix(vYTest, vYPred, lClasses = xgbModel.classes_)\n",
    "    print(GenClassifierSummaryResults(vYTest, vYPred))"
   ]
  },
  {
   "cell_type": "code",
   "execution_count": null,
   "metadata": {},
   "outputs": [],
   "source": [
    "lTotalFeatures = lNumericalFeatures + lCatFeatures\n",
    "len(lTotalFeatures)"
   ]
  },
  {
   "cell_type": "code",
   "execution_count": null,
   "metadata": {},
   "outputs": [],
   "source": [
    "dfFeatures = pd.DataFrame(data = list(zip(lTotalFeatures, xgbModel.feature_importances_)), columns = ['Feature Name', 'Feature Importance'])"
   ]
  },
  {
   "cell_type": "code",
   "execution_count": null,
   "metadata": {},
   "outputs": [],
   "source": [
    "hF, hA = plt.subplots(figsize = (32, 8))\n",
    "sns.barplot(data = dfFeatures, x = 'Feature Name', y = 'Feature Importance', ax = hA)\n",
    "plt.setp(hA.get_xticklabels(), rotation = 90)\n",
    "plt.show()"
   ]
  },
  {
   "cell_type": "code",
   "execution_count": null,
   "metadata": {},
   "outputs": [],
   "source": [
    "# Pre Processing data to match the text indices\n",
    "vTetsIdxDf = dfData.index[vTestIdx]\n",
    "dAttackTypeName = {}\n",
    "for attackTypeEnum in AttackType:\n",
    "    dAttackTypeName[attackTypeEnum.value] = attackTypeEnum.name\n"
   ]
  },
  {
   "cell_type": "code",
   "execution_count": null,
   "metadata": {},
   "outputs": [],
   "source": [
    "GenClassifierSummaryResultsGrp(vYTest, vYPred, vGrpLabel = dsAttackType[vTetsIdxDf].to_numpy(), dGrpName = dAttackTypeName) #<! Results don't look reasonable"
   ]
  },
  {
   "cell_type": "code",
   "execution_count": null,
   "metadata": {},
   "outputs": [],
   "source": [
    "# Training by Files (K-Fold)\n",
    "hKFoldSplt = StratifiedGroupKFold(n_splits = numKFolds, shuffle = True, random_state = randomState)\n",
    "for vTrainIdx, vTestIdx in hKFoldSplt.split(mX, vY, groups = dfData['Sender ID']):\n",
    "    mXTrain, mXTest, vYTrain, vYTest = mX[vTrainIdx, :], mX[vTestIdx, :], vY[vTrainIdx], vY[vTestIdx]\n",
    "    xgbModel = XGBClassifier(use_label_encoder = False)\n",
    "    xgbModel.fit(mXTrain, vYTrain)\n",
    "    vYPred = xgbModel.predict(mXTest)\n",
    "    DisplayConfusionMatrix(vYTest, vYPred, lClasses = xgbModel.classes_)\n",
    "    print(GenClassifierSummaryResults(vYTest, vYPred))"
   ]
  },
  {
   "cell_type": "markdown",
   "metadata": {},
   "source": [
    "### K-fold training, using categorical variables (EXPERIMENT)"
   ]
  },
  {
   "cell_type": "code",
   "execution_count": null,
   "metadata": {},
   "outputs": [],
   "source": [
    "###### only pd.df approach is working, numpy(dtype=object) didn't work so it is not represented\n",
    "#make sure below lists are defined\n",
    "lNumericalFeatures = [featureName for featureName in lSlctdFeatures if featureName not in lCatFeatures]\n",
    "lTotalFeatures = lNumericalFeatures + lCatFeatures\n",
    "feature_types_ = ['c' if x in lCatFeatures  else 'float' for x in lTotalFeatures]#feature_types_ = ['c' if x in lCatFeatures  else float for x in lTotalFeatures]"
   ]
  },
  {
   "cell_type": "code",
   "execution_count": null,
   "metadata": {},
   "outputs": [],
   "source": [
    "# Pre Processing Data categorical mine, here dfData_ <-- is used for experiment\n",
    "\n",
    "dfData_.replace([np.inf, -np.inf], np.nan, inplace = True)\n",
    "dfData_.fillna(0, inplace = True)\n",
    "dfX_ = dfData_[lSlctdFeatures].copy()\n",
    "\n",
    "for catColName in lCatFeatures:\n",
    "    dfX_[catColName] = dfX_[catColName].astype(\"category\", copy = False)\n",
    "hStdScaler = StandardScaler()\n",
    "dfX_[lNumericalFeatures] = hStdScaler.fit_transform(dfX_[lNumericalFeatures])\n"
   ]
  },
  {
   "cell_type": "code",
   "execution_count": null,
   "metadata": {},
   "outputs": [],
   "source": [
    "mX = dfX_[lTotalFeatures]\n",
    "mX.rename(columns = {'Amount [USD]':'Amount USD'}, inplace = True)\n",
    "vY = dfData_['Label']\n"
   ]
  },
  {
   "cell_type": "code",
   "execution_count": null,
   "metadata": {},
   "outputs": [],
   "source": [
    "hKFoldSplt = StratifiedGroupKFold(n_splits = numKFolds, shuffle = True, random_state = randomState)\n",
    "for vTrainIdx, vTestIdx in hKFoldSplt.split(mX, vY, groups = dfData['Sender ID']):\n",
    "    mXTrain, mXTest, vYTrain, vYTest = mX.iloc[vTrainIdx], mX.iloc[vTestIdx], vY.iloc[vTrainIdx], vY.iloc[vTestIdx]\n",
    "    #xgbModel =XGBClassifier(tree_method=\"gpu_hist\", max_depth = 20, feature_names = lTotalFeatures, feature_types = feature_types_, random_state=seedNum, enable_categorical=True) #XGBClassifier(use_label_encoder = False)\n",
    "    xgbModel =XGBClassifier(n_estimators=250, tree_method=\"hist\", max_depth = 20,  random_state=seedNum, enable_categorical=True)\n",
    "    xgbModel.fit(mXTrain, vYTrain)\n",
    "    vYPred = xgbModel.predict(mXTest)\n",
    "    DisplayConfusionMatrix(vYTest, vYPred, lClasses = xgbModel.classes_)\n",
    "    print(GenClassifierSummaryResults(vYTest, vYPred))"
   ]
  },
  {
   "cell_type": "markdown",
   "metadata": {},
   "source": [
    "### Data Split"
   ]
  },
  {
   "cell_type": "code",
   "execution_count": null,
   "metadata": {},
   "outputs": [],
   "source": [
    "\n",
    "if trainMode == TRAIN_BY_FILES:\n",
    "    hKFoldSplt = StratifiedGroupKFold(n_splits = numKFolds, shuffle = True, random_state = randomState)\n",
    "    gKFoldSplit = hKFoldSplt.split(mX, vY, groups = dfData['Sender ID'])\n",
    "else:\n",
    "    hKFoldSplt = StratifiedKFold(n_splits = numKFolds, shuffle = True, random_state = randomState)\n",
    "    gKFoldSplit = hKFoldSplt.split(mX, vY)\n"
   ]
  },
  {
   "cell_type": "markdown",
   "metadata": {},
   "source": [
    "### Model Training"
   ]
  },
  {
   "cell_type": "code",
   "execution_count": null,
   "metadata": {},
   "outputs": [],
   "source": [
    "skPipeline = Pipeline([('clf', XGBClassifier())])\n",
    "dPipelineParams = {'clf': [XGBClassifier(), LGBMClassifier()]}"
   ]
  },
  {
   "cell_type": "code",
   "execution_count": null,
   "metadata": {},
   "outputs": [],
   "source": [
    "gridSearchCv = GridSearchCV(skPipeline, dPipelineParams, scoring = gridSearchScore, cv = hKFoldSplt)\n",
    "\n",
    "if trainMode == TRAIN_BY_FILES:\n",
    "    gridSearchCvF = gridSearchCv.fit(mX, vY, groups = dfData['Sender ID'])\n",
    "else:\n",
    "    gridSearchCvF = gridSearchCv.fit(mX, vY)\n"
   ]
  },
  {
   "cell_type": "code",
   "execution_count": null,
   "metadata": {},
   "outputs": [],
   "source": [
    "vYPred = gridSearchCvF.predict(mXTest)\n",
    "DisplayConfusionMatrix(vYTest, vYPred, lClasses = gridSearchCvF.classes_)\n",
    "print(GenClassifierSummaryResults(vYTest, vYPred))"
   ]
  },
  {
   "cell_type": "markdown",
   "metadata": {},
   "source": [
    "### GridSearch and Pipelines combo:\n"
   ]
  },
  {
   "cell_type": "code",
   "execution_count": null,
   "metadata": {},
   "outputs": [],
   "source": [
    "#skPipeline = Pipeline([('clf', XGBClassifier())])\n",
    "#dPipelineParams =  {'clf': [XGBClassifier(), LGBMClassifier()]}\n",
    "\n",
    "\n",
    "skPipeline = Pipeline([(\"classifier\", RandomForestClassifier())])\n",
    "\n",
    "dPipelineParams = [ {\"classifier\": [XGBClassifier()],\n",
    "                                   \"classifier__n_estimators\": [10, 50, 100, 250],\n",
    "                                   \"classifier__max_depth\" : [5, 10, 20],\n",
    "                                   \"classifier__tree_method\" : [\"hist\", \"gpu_hist\"]\n",
    "                    },\n",
    "                    {\"classifier\": [LGBMClassifier()],\n",
    "                                   \"classifier__n_estimators\": [10, 50, 100, 250],\n",
    "                                   \"classifier__max_depth\" : [5, 10, 20]\n",
    "                                   #\"classifier__class_weight\": [None, {0:1,1:5}, {0:1,1:10}, {0:1,1:25}]\n",
    "                    },  \n",
    "                    {\"classifier\": [RandomForestClassifier()],\n",
    "                                   \"classifier__n_estimators\": [10, 50, 100, 250],\n",
    "                                   \"classifier__max_depth\" : [5, 10, 20],\n",
    "                                   \"classifier__class_weight\": [None, {0:1,1:5}, {0:1,1:10}, {0:1,1:25}]\n",
    "                    }                            \n",
    "                    ]\n"
   ]
  },
  {
   "cell_type": "code",
   "execution_count": null,
   "metadata": {},
   "outputs": [],
   "source": [
    "##########make sure mX, vY are not redefined into dfs(simply skip K-fold training, using categorical variables (EXPERIMENT) part), naming should be later changed"
   ]
  },
  {
   "cell_type": "code",
   "execution_count": null,
   "metadata": {},
   "outputs": [],
   "source": [
    "gridSearchCv = GridSearchCV(skPipeline, dPipelineParams, scoring = gridSearchScore, cv = hKFoldSplt)\n",
    "\n",
    "if trainMode == TRAIN_BY_FILES:\n",
    "    gridSearchCvF = gridSearchCv.fit(mX, vY, groups = dfData['Sender ID'])\n",
    "else:\n",
    "    gridSearchCvF = gridSearchCv.fit(mX, vY)\n"
   ]
  },
  {
   "cell_type": "code",
   "execution_count": null,
   "metadata": {},
   "outputs": [],
   "source": [
    "print(gridSearchCvF.best_estimator_.get_params()[\"classifier\"])"
   ]
  },
  {
   "cell_type": "code",
   "execution_count": null,
   "metadata": {},
   "outputs": [],
   "source": [
    "vYPred = gridSearchCvF.predict(mXTest)\n",
    "DisplayConfusionMatrix(vYTest, vYPred, lClasses = gridSearchCvF.classes_)\n",
    "print(GenClassifierSummaryResults(vYTest, vYPred))"
   ]
  },
  {
   "cell_type": "code",
   "execution_count": null,
   "metadata": {},
   "outputs": [],
   "source": []
  },
  {
   "cell_type": "code",
   "execution_count": 47,
   "metadata": {},
   "outputs": [
    {
     "name": "stdout",
     "output_type": "stream",
     "text": [
      "Requirement already satisfied: dash in c:\\users\\anton\\appdata\\local\\packages\\pythonsoftwarefoundation.python.3.10_qbz5n2kfra8p0\\localcache\\local-packages\\python310\\site-packages (2.6.1)\n",
      "Requirement already satisfied: dash-table==5.0.0 in c:\\users\\anton\\appdata\\local\\packages\\pythonsoftwarefoundation.python.3.10_qbz5n2kfra8p0\\localcache\\local-packages\\python310\\site-packages (from dash) (5.0.0)\n",
      "Requirement already satisfied: plotly>=5.0.0 in c:\\users\\anton\\appdata\\local\\packages\\pythonsoftwarefoundation.python.3.10_qbz5n2kfra8p0\\localcache\\local-packages\\python310\\site-packages (from dash) (5.9.0)\n",
      "Requirement already satisfied: dash-core-components==2.0.0 in c:\\users\\anton\\appdata\\local\\packages\\pythonsoftwarefoundation.python.3.10_qbz5n2kfra8p0\\localcache\\local-packages\\python310\\site-packages (from dash) (2.0.0)\n",
      "Requirement already satisfied: Flask>=1.0.4 in c:\\users\\anton\\appdata\\local\\packages\\pythonsoftwarefoundation.python.3.10_qbz5n2kfra8p0\\localcache\\local-packages\\python310\\site-packages (from dash) (2.2.2)\n",
      "Requirement already satisfied: dash-html-components==2.0.0 in c:\\users\\anton\\appdata\\local\\packages\\pythonsoftwarefoundation.python.3.10_qbz5n2kfra8p0\\localcache\\local-packages\\python310\\site-packages (from dash) (2.0.0)\n",
      "Requirement already satisfied: flask-compress in c:\\users\\anton\\appdata\\local\\packages\\pythonsoftwarefoundation.python.3.10_qbz5n2kfra8p0\\localcache\\local-packages\\python310\\site-packages (from dash) (1.12)\n",
      "Requirement already satisfied: Werkzeug>=2.2.2 in c:\\users\\anton\\appdata\\local\\packages\\pythonsoftwarefoundation.python.3.10_qbz5n2kfra8p0\\localcache\\local-packages\\python310\\site-packages (from Flask>=1.0.4->dash) (2.2.2)\n",
      "Requirement already satisfied: itsdangerous>=2.0 in c:\\users\\anton\\appdata\\local\\packages\\pythonsoftwarefoundation.python.3.10_qbz5n2kfra8p0\\localcache\\local-packages\\python310\\site-packages (from Flask>=1.0.4->dash) (2.1.2)\n",
      "Requirement already satisfied: click>=8.0 in c:\\users\\anton\\appdata\\local\\packages\\pythonsoftwarefoundation.python.3.10_qbz5n2kfra8p0\\localcache\\local-packages\\python310\\site-packages (from Flask>=1.0.4->dash) (8.1.3)\n",
      "Requirement already satisfied: Jinja2>=3.0 in c:\\users\\anton\\appdata\\local\\packages\\pythonsoftwarefoundation.python.3.10_qbz5n2kfra8p0\\localcache\\local-packages\\python310\\site-packages (from Flask>=1.0.4->dash) (3.1.2)\n",
      "Requirement already satisfied: tenacity>=6.2.0 in c:\\users\\anton\\appdata\\local\\packages\\pythonsoftwarefoundation.python.3.10_qbz5n2kfra8p0\\localcache\\local-packages\\python310\\site-packages (from plotly>=5.0.0->dash) (8.0.1)\n",
      "Requirement already satisfied: brotli in c:\\users\\anton\\appdata\\local\\packages\\pythonsoftwarefoundation.python.3.10_qbz5n2kfra8p0\\localcache\\local-packages\\python310\\site-packages (from flask-compress->dash) (1.0.9)\n",
      "Requirement already satisfied: colorama in c:\\users\\anton\\appdata\\local\\packages\\pythonsoftwarefoundation.python.3.10_qbz5n2kfra8p0\\localcache\\local-packages\\python310\\site-packages (from click>=8.0->Flask>=1.0.4->dash) (0.4.5)\n",
      "Requirement already satisfied: MarkupSafe>=2.0 in c:\\users\\anton\\appdata\\local\\packages\\pythonsoftwarefoundation.python.3.10_qbz5n2kfra8p0\\localcache\\local-packages\\python310\\site-packages (from Jinja2>=3.0->Flask>=1.0.4->dash) (2.1.1)\n"
     ]
    },
    {
     "name": "stderr",
     "output_type": "stream",
     "text": [
      "WARNING: You are using pip version 22.0.4; however, version 22.2.2 is available.\n",
      "You should consider upgrading via the 'C:\\Users\\Anton\\AppData\\Local\\Microsoft\\WindowsApps\\PythonSoftwareFoundation.Python.3.10_qbz5n2kfra8p0\\python.exe -m pip install --upgrade pip' command.\n"
     ]
    }
   ],
   "source": [
    "!pip install dash"
   ]
  },
  {
   "cell_type": "code",
   "execution_count": 48,
   "metadata": {},
   "outputs": [
    {
     "ename": "ContextualVersionConflict",
     "evalue": "(Werkzeug 2.1.2 (c:\\users\\anton\\appdata\\local\\packages\\pythonsoftwarefoundation.python.3.10_qbz5n2kfra8p0\\localcache\\local-packages\\python310\\site-packages), Requirement.parse('Werkzeug>=2.2.2'), {'flask'})",
     "output_type": "error",
     "traceback": [
      "\u001b[1;31m---------------------------------------------------------------------------\u001b[0m",
      "\u001b[1;31mContextualVersionConflict\u001b[0m                 Traceback (most recent call last)",
      "\u001b[1;32mc:\\Users\\Anton\\Desktop\\CyVers\\SolidusBlindTest\\ExploratoryDataAnalysis_visual.ipynb Cell 105\u001b[0m in \u001b[0;36m<cell line: 1>\u001b[1;34m()\u001b[0m\n\u001b[1;32m----> <a href='vscode-notebook-cell:/c%3A/Users/Anton/Desktop/CyVers/SolidusBlindTest/ExploratoryDataAnalysis_visual.ipynb#Y212sZmlsZQ%3D%3D?line=0'>1</a>\u001b[0m \u001b[39mfrom\u001b[39;00m \u001b[39mdash\u001b[39;00m \u001b[39mimport\u001b[39;00m Dash, dcc, html, Input, Output\n\u001b[0;32m      <a href='vscode-notebook-cell:/c%3A/Users/Anton/Desktop/CyVers/SolidusBlindTest/ExploratoryDataAnalysis_visual.ipynb#Y212sZmlsZQ%3D%3D?line=1'>2</a>\u001b[0m \u001b[39mimport\u001b[39;00m \u001b[39mplotly\u001b[39;00m\u001b[39m.\u001b[39;00m\u001b[39mexpress\u001b[39;00m \u001b[39mas\u001b[39;00m \u001b[39mpx\u001b[39;00m\n\u001b[0;32m      <a href='vscode-notebook-cell:/c%3A/Users/Anton/Desktop/CyVers/SolidusBlindTest/ExploratoryDataAnalysis_visual.ipynb#Y212sZmlsZQ%3D%3D?line=3'>4</a>\u001b[0m app \u001b[39m=\u001b[39m Dash(\u001b[39m__name__\u001b[39m)\n",
      "File \u001b[1;32m~\\AppData\\Local\\Packages\\PythonSoftwareFoundation.Python.3.10_qbz5n2kfra8p0\\LocalCache\\local-packages\\Python310\\site-packages\\dash\\__init__.py:36\u001b[0m, in \u001b[0;36m<module>\u001b[1;34m\u001b[0m\n\u001b[0;32m     29\u001b[0m \u001b[39mfrom\u001b[39;00m \u001b[39m.\u001b[39;00m\u001b[39mlong_callback\u001b[39;00m \u001b[39mimport\u001b[39;00m (  \u001b[39m# noqa: F401,E402\u001b[39;00m\n\u001b[0;32m     30\u001b[0m     CeleryManager,\n\u001b[0;32m     31\u001b[0m     DiskcacheManager,\n\u001b[0;32m     32\u001b[0m )\n\u001b[0;32m     35\u001b[0m \u001b[39mfrom\u001b[39;00m \u001b[39m.\u001b[39;00m\u001b[39m_pages\u001b[39;00m \u001b[39mimport\u001b[39;00m register_page, PAGE_REGISTRY \u001b[39mas\u001b[39;00m page_registry  \u001b[39m# noqa: F401,E402\u001b[39;00m\n\u001b[1;32m---> 36\u001b[0m \u001b[39mfrom\u001b[39;00m \u001b[39m.\u001b[39;00m\u001b[39mdash\u001b[39;00m \u001b[39mimport\u001b[39;00m (  \u001b[39m# noqa: F401,E402\u001b[39;00m\n\u001b[0;32m     37\u001b[0m     Dash,\n\u001b[0;32m     38\u001b[0m     no_update,\n\u001b[0;32m     39\u001b[0m     page_container,\n\u001b[0;32m     40\u001b[0m )\n\u001b[0;32m     43\u001b[0m ctx \u001b[39m=\u001b[39m callback_context\n",
      "File \u001b[1;32m~\\AppData\\Local\\Packages\\PythonSoftwareFoundation.Python.3.10_qbz5n2kfra8p0\\LocalCache\\local-packages\\Python310\\site-packages\\dash\\dash.py:73\u001b[0m, in \u001b[0;36m<module>\u001b[1;34m\u001b[0m\n\u001b[0;32m     66\u001b[0m \u001b[39mfrom\u001b[39;00m \u001b[39m.\u001b[39;00m \u001b[39mimport\u001b[39;00m _pages\n\u001b[0;32m     67\u001b[0m \u001b[39mfrom\u001b[39;00m \u001b[39m.\u001b[39;00m\u001b[39m_pages\u001b[39;00m \u001b[39mimport\u001b[39;00m (\n\u001b[0;32m     68\u001b[0m     _parse_path_variables,\n\u001b[0;32m     69\u001b[0m     _parse_query_string,\n\u001b[0;32m     70\u001b[0m )\n\u001b[1;32m---> 73\u001b[0m _flask_compress_version \u001b[39m=\u001b[39m parse_version(get_distribution(\u001b[39m\"\u001b[39;49m\u001b[39mflask-compress\u001b[39;49m\u001b[39m\"\u001b[39;49m)\u001b[39m.\u001b[39mversion)\n\u001b[0;32m     75\u001b[0m \u001b[39m# Add explicit mapping for map files\u001b[39;00m\n\u001b[0;32m     76\u001b[0m mimetypes\u001b[39m.\u001b[39madd_type(\u001b[39m\"\u001b[39m\u001b[39mapplication/json\u001b[39m\u001b[39m\"\u001b[39m, \u001b[39m\"\u001b[39m\u001b[39m.map\u001b[39m\u001b[39m\"\u001b[39m, \u001b[39mTrue\u001b[39;00m)\n",
      "File \u001b[1;32mC:\\Program Files\\WindowsApps\\PythonSoftwareFoundation.Python.3.10_3.10.1520.0_x64__qbz5n2kfra8p0\\lib\\site-packages\\pkg_resources\\__init__.py:466\u001b[0m, in \u001b[0;36mget_distribution\u001b[1;34m(dist)\u001b[0m\n\u001b[0;32m    464\u001b[0m     dist \u001b[39m=\u001b[39m Requirement\u001b[39m.\u001b[39mparse(dist)\n\u001b[0;32m    465\u001b[0m \u001b[39mif\u001b[39;00m \u001b[39misinstance\u001b[39m(dist, Requirement):\n\u001b[1;32m--> 466\u001b[0m     dist \u001b[39m=\u001b[39m get_provider(dist)\n\u001b[0;32m    467\u001b[0m \u001b[39mif\u001b[39;00m \u001b[39mnot\u001b[39;00m \u001b[39misinstance\u001b[39m(dist, Distribution):\n\u001b[0;32m    468\u001b[0m     \u001b[39mraise\u001b[39;00m \u001b[39mTypeError\u001b[39;00m(\u001b[39m\"\u001b[39m\u001b[39mExpected string, Requirement, or Distribution\u001b[39m\u001b[39m\"\u001b[39m, dist)\n",
      "File \u001b[1;32mC:\\Program Files\\WindowsApps\\PythonSoftwareFoundation.Python.3.10_3.10.1520.0_x64__qbz5n2kfra8p0\\lib\\site-packages\\pkg_resources\\__init__.py:342\u001b[0m, in \u001b[0;36mget_provider\u001b[1;34m(moduleOrReq)\u001b[0m\n\u001b[0;32m    340\u001b[0m \u001b[39m\"\"\"Return an IResourceProvider for the named module or requirement\"\"\"\u001b[39;00m\n\u001b[0;32m    341\u001b[0m \u001b[39mif\u001b[39;00m \u001b[39misinstance\u001b[39m(moduleOrReq, Requirement):\n\u001b[1;32m--> 342\u001b[0m     \u001b[39mreturn\u001b[39;00m working_set\u001b[39m.\u001b[39mfind(moduleOrReq) \u001b[39mor\u001b[39;00m require(\u001b[39mstr\u001b[39;49m(moduleOrReq))[\u001b[39m0\u001b[39m]\n\u001b[0;32m    343\u001b[0m \u001b[39mtry\u001b[39;00m:\n\u001b[0;32m    344\u001b[0m     module \u001b[39m=\u001b[39m sys\u001b[39m.\u001b[39mmodules[moduleOrReq]\n",
      "File \u001b[1;32mC:\\Program Files\\WindowsApps\\PythonSoftwareFoundation.Python.3.10_3.10.1520.0_x64__qbz5n2kfra8p0\\lib\\site-packages\\pkg_resources\\__init__.py:886\u001b[0m, in \u001b[0;36mWorkingSet.require\u001b[1;34m(self, *requirements)\u001b[0m\n\u001b[0;32m    877\u001b[0m \u001b[39mdef\u001b[39;00m \u001b[39mrequire\u001b[39m(\u001b[39mself\u001b[39m, \u001b[39m*\u001b[39mrequirements):\n\u001b[0;32m    878\u001b[0m     \u001b[39m\"\"\"Ensure that distributions matching `requirements` are activated\u001b[39;00m\n\u001b[0;32m    879\u001b[0m \n\u001b[0;32m    880\u001b[0m \u001b[39m    `requirements` must be a string or a (possibly-nested) sequence\u001b[39;00m\n\u001b[1;32m   (...)\u001b[0m\n\u001b[0;32m    884\u001b[0m \u001b[39m    included, even if they were already activated in this working set.\u001b[39;00m\n\u001b[0;32m    885\u001b[0m \u001b[39m    \"\"\"\u001b[39;00m\n\u001b[1;32m--> 886\u001b[0m     needed \u001b[39m=\u001b[39m \u001b[39mself\u001b[39;49m\u001b[39m.\u001b[39;49mresolve(parse_requirements(requirements))\n\u001b[0;32m    888\u001b[0m     \u001b[39mfor\u001b[39;00m dist \u001b[39min\u001b[39;00m needed:\n\u001b[0;32m    889\u001b[0m         \u001b[39mself\u001b[39m\u001b[39m.\u001b[39madd(dist)\n",
      "File \u001b[1;32mC:\\Program Files\\WindowsApps\\PythonSoftwareFoundation.Python.3.10_3.10.1520.0_x64__qbz5n2kfra8p0\\lib\\site-packages\\pkg_resources\\__init__.py:777\u001b[0m, in \u001b[0;36mWorkingSet.resolve\u001b[1;34m(self, requirements, env, installer, replace_conflicting, extras)\u001b[0m\n\u001b[0;32m    774\u001b[0m \u001b[39mif\u001b[39;00m dist \u001b[39mnot\u001b[39;00m \u001b[39min\u001b[39;00m req:\n\u001b[0;32m    775\u001b[0m     \u001b[39m# Oops, the \"best\" so far conflicts with a dependency\u001b[39;00m\n\u001b[0;32m    776\u001b[0m     dependent_req \u001b[39m=\u001b[39m required_by[req]\n\u001b[1;32m--> 777\u001b[0m     \u001b[39mraise\u001b[39;00m VersionConflict(dist, req)\u001b[39m.\u001b[39mwith_context(dependent_req)\n\u001b[0;32m    779\u001b[0m \u001b[39m# push the new requirements onto the stack\u001b[39;00m\n\u001b[0;32m    780\u001b[0m new_requirements \u001b[39m=\u001b[39m dist\u001b[39m.\u001b[39mrequires(req\u001b[39m.\u001b[39mextras)[::\u001b[39m-\u001b[39m\u001b[39m1\u001b[39m]\n",
      "\u001b[1;31mContextualVersionConflict\u001b[0m: (Werkzeug 2.1.2 (c:\\users\\anton\\appdata\\local\\packages\\pythonsoftwarefoundation.python.3.10_qbz5n2kfra8p0\\localcache\\local-packages\\python310\\site-packages), Requirement.parse('Werkzeug>=2.2.2'), {'flask'})"
     ]
    }
   ],
   "source": [
    "from dash import Dash, dcc, html, Input, Output\n",
    "import plotly.express as px\n",
    "\n",
    "app = Dash(__name__)\n",
    "\n",
    "app.layout = html.Div([\n",
    "    html.H4('Iris samples filtered by petal width'),\n",
    "    dcc.Graph(id=\"graph\"),\n",
    "    html.P(\"Petal Width:\"),\n",
    "    dcc.RangeSlider(\n",
    "        id='range-slider',\n",
    "        min=0, max=2.5, step=0.1,\n",
    "        marks={0: '0', 2.5: '2.5'},\n",
    "        value=[0.5, 2]\n",
    "    ),\n",
    "])\n",
    "\n",
    "@app.callback(\n",
    "    Output(\"graph\", \"figure\"), \n",
    "    Input(\"range-slider\", \"value\"))\n",
    "def update_bar_chart(slider_range):\n",
    "    df = px.data.iris() # replace with your own data source\n",
    "    low, high = slider_range\n",
    "    mask = (df.petal_width > low) & (df.petal_width < high)\n",
    "\n",
    "    fig = px.scatter_3d(df[mask], \n",
    "        x='sepal_length', y='sepal_width', z='petal_width',\n",
    "        color=\"species\", hover_data=['petal_width'])\n",
    "    return fig\n",
    "\n",
    "app.run_server(debug=True)"
   ]
  },
  {
   "cell_type": "code",
   "execution_count": 50,
   "metadata": {},
   "outputs": [
    {
     "data": {
      "application/vnd.plotly.v1+json": {
       "config": {
        "plotlyServerURL": "https://plot.ly"
       },
       "data": [
        {
         "hovertemplate": "species=setosa<br>sepal_length=%{x}<br>sepal_width=%{y}<br>petal_width=%{z}<br>petal_length=%{marker.color}<extra></extra>",
         "legendgroup": "setosa",
         "marker": {
          "color": [
           1.4,
           1.4,
           1.3,
           1.5,
           1.4,
           1.7,
           1.4,
           1.5,
           1.4,
           1.5,
           1.5,
           1.6,
           1.4,
           1.1,
           1.2,
           1.5,
           1.3,
           1.4,
           1.7,
           1.5,
           1.7,
           1.5,
           1,
           1.7,
           1.9,
           1.6,
           1.6,
           1.5,
           1.4,
           1.6,
           1.6,
           1.5,
           1.5,
           1.4,
           1.5,
           1.2,
           1.3,
           1.5,
           1.3,
           1.5,
           1.3,
           1.3,
           1.3,
           1.6,
           1.9,
           1.4,
           1.6,
           1.4,
           1.5,
           1.4
          ],
          "coloraxis": "coloraxis",
          "opacity": 0.7,
          "size": [
           1.4,
           1.4,
           1.3,
           1.5,
           1.4,
           1.7,
           1.4,
           1.5,
           1.4,
           1.5,
           1.5,
           1.6,
           1.4,
           1.1,
           1.2,
           1.5,
           1.3,
           1.4,
           1.7,
           1.5,
           1.7,
           1.5,
           1,
           1.7,
           1.9,
           1.6,
           1.6,
           1.5,
           1.4,
           1.6,
           1.6,
           1.5,
           1.5,
           1.4,
           1.5,
           1.2,
           1.3,
           1.5,
           1.3,
           1.5,
           1.3,
           1.3,
           1.3,
           1.6,
           1.9,
           1.4,
           1.6,
           1.4,
           1.5,
           1.4
          ],
          "sizemode": "area",
          "sizeref": 0.021296296296296296,
          "symbol": "circle"
         },
         "mode": "markers",
         "name": "setosa",
         "scene": "scene",
         "showlegend": true,
         "type": "scatter3d",
         "x": [
          5.1,
          4.9,
          4.7,
          4.6,
          5,
          5.4,
          4.6,
          5,
          4.4,
          4.9,
          5.4,
          4.8,
          4.8,
          4.3,
          5.8,
          5.7,
          5.4,
          5.1,
          5.7,
          5.1,
          5.4,
          5.1,
          4.6,
          5.1,
          4.8,
          5,
          5,
          5.2,
          5.2,
          4.7,
          4.8,
          5.4,
          5.2,
          5.5,
          4.9,
          5,
          5.5,
          4.9,
          4.4,
          5.1,
          5,
          4.5,
          4.4,
          5,
          5.1,
          4.8,
          5.1,
          4.6,
          5.3,
          5
         ],
         "y": [
          3.5,
          3,
          3.2,
          3.1,
          3.6,
          3.9,
          3.4,
          3.4,
          2.9,
          3.1,
          3.7,
          3.4,
          3,
          3,
          4,
          4.4,
          3.9,
          3.5,
          3.8,
          3.8,
          3.4,
          3.7,
          3.6,
          3.3,
          3.4,
          3,
          3.4,
          3.5,
          3.4,
          3.2,
          3.1,
          3.4,
          4.1,
          4.2,
          3.1,
          3.2,
          3.5,
          3.1,
          3,
          3.4,
          3.5,
          2.3,
          3.2,
          3.5,
          3.8,
          3,
          3.8,
          3.2,
          3.7,
          3.3
         ],
         "z": [
          0.2,
          0.2,
          0.2,
          0.2,
          0.2,
          0.4,
          0.3,
          0.2,
          0.2,
          0.1,
          0.2,
          0.2,
          0.1,
          0.1,
          0.2,
          0.4,
          0.4,
          0.3,
          0.3,
          0.3,
          0.2,
          0.4,
          0.2,
          0.5,
          0.2,
          0.2,
          0.4,
          0.2,
          0.2,
          0.2,
          0.2,
          0.4,
          0.1,
          0.2,
          0.1,
          0.2,
          0.2,
          0.1,
          0.2,
          0.2,
          0.3,
          0.3,
          0.2,
          0.6,
          0.4,
          0.3,
          0.2,
          0.2,
          0.2,
          0.2
         ]
        },
        {
         "hovertemplate": "species=versicolor<br>sepal_length=%{x}<br>sepal_width=%{y}<br>petal_width=%{z}<br>petal_length=%{marker.color}<extra></extra>",
         "legendgroup": "versicolor",
         "marker": {
          "color": [
           4.7,
           4.5,
           4.9,
           4,
           4.6,
           4.5,
           4.7,
           3.3,
           4.6,
           3.9,
           3.5,
           4.2,
           4,
           4.7,
           3.6,
           4.4,
           4.5,
           4.1,
           4.5,
           3.9,
           4.8,
           4,
           4.9,
           4.7,
           4.3,
           4.4,
           4.8,
           5,
           4.5,
           3.5,
           3.8,
           3.7,
           3.9,
           5.1,
           4.5,
           4.5,
           4.7,
           4.4,
           4.1,
           4,
           4.4,
           4.6,
           4,
           3.3,
           4.2,
           4.2,
           4.2,
           4.3,
           3,
           4.1
          ],
          "coloraxis": "coloraxis",
          "opacity": 0.7,
          "size": [
           4.7,
           4.5,
           4.9,
           4,
           4.6,
           4.5,
           4.7,
           3.3,
           4.6,
           3.9,
           3.5,
           4.2,
           4,
           4.7,
           3.6,
           4.4,
           4.5,
           4.1,
           4.5,
           3.9,
           4.8,
           4,
           4.9,
           4.7,
           4.3,
           4.4,
           4.8,
           5,
           4.5,
           3.5,
           3.8,
           3.7,
           3.9,
           5.1,
           4.5,
           4.5,
           4.7,
           4.4,
           4.1,
           4,
           4.4,
           4.6,
           4,
           3.3,
           4.2,
           4.2,
           4.2,
           4.3,
           3,
           4.1
          ],
          "sizemode": "area",
          "sizeref": 0.021296296296296296,
          "symbol": "diamond"
         },
         "mode": "markers",
         "name": "versicolor",
         "scene": "scene",
         "showlegend": true,
         "type": "scatter3d",
         "x": [
          7,
          6.4,
          6.9,
          5.5,
          6.5,
          5.7,
          6.3,
          4.9,
          6.6,
          5.2,
          5,
          5.9,
          6,
          6.1,
          5.6,
          6.7,
          5.6,
          5.8,
          6.2,
          5.6,
          5.9,
          6.1,
          6.3,
          6.1,
          6.4,
          6.6,
          6.8,
          6.7,
          6,
          5.7,
          5.5,
          5.5,
          5.8,
          6,
          5.4,
          6,
          6.7,
          6.3,
          5.6,
          5.5,
          5.5,
          6.1,
          5.8,
          5,
          5.6,
          5.7,
          5.7,
          6.2,
          5.1,
          5.7
         ],
         "y": [
          3.2,
          3.2,
          3.1,
          2.3,
          2.8,
          2.8,
          3.3,
          2.4,
          2.9,
          2.7,
          2,
          3,
          2.2,
          2.9,
          2.9,
          3.1,
          3,
          2.7,
          2.2,
          2.5,
          3.2,
          2.8,
          2.5,
          2.8,
          2.9,
          3,
          2.8,
          3,
          2.9,
          2.6,
          2.4,
          2.4,
          2.7,
          2.7,
          3,
          3.4,
          3.1,
          2.3,
          3,
          2.5,
          2.6,
          3,
          2.6,
          2.3,
          2.7,
          3,
          2.9,
          2.9,
          2.5,
          2.8
         ],
         "z": [
          1.4,
          1.5,
          1.5,
          1.3,
          1.5,
          1.3,
          1.6,
          1,
          1.3,
          1.4,
          1,
          1.5,
          1,
          1.4,
          1.3,
          1.4,
          1.5,
          1,
          1.5,
          1.1,
          1.8,
          1.3,
          1.5,
          1.2,
          1.3,
          1.4,
          1.4,
          1.7,
          1.5,
          1,
          1.1,
          1,
          1.2,
          1.6,
          1.5,
          1.6,
          1.5,
          1.3,
          1.3,
          1.3,
          1.2,
          1.4,
          1.2,
          1,
          1.3,
          1.2,
          1.3,
          1.3,
          1.1,
          1.3
         ]
        },
        {
         "hovertemplate": "species=virginica<br>sepal_length=%{x}<br>sepal_width=%{y}<br>petal_width=%{z}<br>petal_length=%{marker.color}<extra></extra>",
         "legendgroup": "virginica",
         "marker": {
          "color": [
           6,
           5.1,
           5.9,
           5.6,
           5.8,
           6.6,
           4.5,
           6.3,
           5.8,
           6.1,
           5.1,
           5.3,
           5.5,
           5,
           5.1,
           5.3,
           5.5,
           6.7,
           6.9,
           5,
           5.7,
           4.9,
           6.7,
           4.9,
           5.7,
           6,
           4.8,
           4.9,
           5.6,
           5.8,
           6.1,
           6.4,
           5.6,
           5.1,
           5.6,
           6.1,
           5.6,
           5.5,
           4.8,
           5.4,
           5.6,
           5.1,
           5.1,
           5.9,
           5.7,
           5.2,
           5,
           5.2,
           5.4,
           5.1
          ],
          "coloraxis": "coloraxis",
          "opacity": 0.7,
          "size": [
           6,
           5.1,
           5.9,
           5.6,
           5.8,
           6.6,
           4.5,
           6.3,
           5.8,
           6.1,
           5.1,
           5.3,
           5.5,
           5,
           5.1,
           5.3,
           5.5,
           6.7,
           6.9,
           5,
           5.7,
           4.9,
           6.7,
           4.9,
           5.7,
           6,
           4.8,
           4.9,
           5.6,
           5.8,
           6.1,
           6.4,
           5.6,
           5.1,
           5.6,
           6.1,
           5.6,
           5.5,
           4.8,
           5.4,
           5.6,
           5.1,
           5.1,
           5.9,
           5.7,
           5.2,
           5,
           5.2,
           5.4,
           5.1
          ],
          "sizemode": "area",
          "sizeref": 0.021296296296296296,
          "symbol": "square"
         },
         "mode": "markers",
         "name": "virginica",
         "scene": "scene",
         "showlegend": true,
         "type": "scatter3d",
         "x": [
          6.3,
          5.8,
          7.1,
          6.3,
          6.5,
          7.6,
          4.9,
          7.3,
          6.7,
          7.2,
          6.5,
          6.4,
          6.8,
          5.7,
          5.8,
          6.4,
          6.5,
          7.7,
          7.7,
          6,
          6.9,
          5.6,
          7.7,
          6.3,
          6.7,
          7.2,
          6.2,
          6.1,
          6.4,
          7.2,
          7.4,
          7.9,
          6.4,
          6.3,
          6.1,
          7.7,
          6.3,
          6.4,
          6,
          6.9,
          6.7,
          6.9,
          5.8,
          6.8,
          6.7,
          6.7,
          6.3,
          6.5,
          6.2,
          5.9
         ],
         "y": [
          3.3,
          2.7,
          3,
          2.9,
          3,
          3,
          2.5,
          2.9,
          2.5,
          3.6,
          3.2,
          2.7,
          3,
          2.5,
          2.8,
          3.2,
          3,
          3.8,
          2.6,
          2.2,
          3.2,
          2.8,
          2.8,
          2.7,
          3.3,
          3.2,
          2.8,
          3,
          2.8,
          3,
          2.8,
          3.8,
          2.8,
          2.8,
          2.6,
          3,
          3.4,
          3.1,
          3,
          3.1,
          3.1,
          3.1,
          2.7,
          3.2,
          3.3,
          3,
          2.5,
          3,
          3.4,
          3
         ],
         "z": [
          2.5,
          1.9,
          2.1,
          1.8,
          2.2,
          2.1,
          1.7,
          1.8,
          1.8,
          2.5,
          2,
          1.9,
          2.1,
          2,
          2.4,
          2.3,
          1.8,
          2.2,
          2.3,
          1.5,
          2.3,
          2,
          2,
          1.8,
          2.1,
          1.8,
          1.8,
          1.8,
          2.1,
          1.6,
          1.9,
          2,
          2.2,
          1.5,
          1.4,
          2.3,
          2.4,
          1.8,
          1.8,
          2.1,
          2.4,
          2.3,
          1.9,
          2.3,
          2.5,
          2.3,
          1.9,
          2,
          2.3,
          1.8
         ]
        }
       ],
       "layout": {
        "coloraxis": {
         "colorbar": {
          "title": {
           "text": "petal_length"
          }
         },
         "colorscale": [
          [
           0,
           "#0d0887"
          ],
          [
           0.1111111111111111,
           "#46039f"
          ],
          [
           0.2222222222222222,
           "#7201a8"
          ],
          [
           0.3333333333333333,
           "#9c179e"
          ],
          [
           0.4444444444444444,
           "#bd3786"
          ],
          [
           0.5555555555555556,
           "#d8576b"
          ],
          [
           0.6666666666666666,
           "#ed7953"
          ],
          [
           0.7777777777777778,
           "#fb9f3a"
          ],
          [
           0.8888888888888888,
           "#fdca26"
          ],
          [
           1,
           "#f0f921"
          ]
         ]
        },
        "legend": {
         "itemsizing": "constant",
         "title": {
          "text": "species"
         },
         "tracegroupgap": 0
        },
        "margin": {
         "b": 0,
         "l": 0,
         "r": 0,
         "t": 0
        },
        "scene": {
         "domain": {
          "x": [
           0,
           1
          ],
          "y": [
           0,
           1
          ]
         },
         "xaxis": {
          "title": {
           "text": "sepal_length"
          }
         },
         "yaxis": {
          "title": {
           "text": "sepal_width"
          }
         },
         "zaxis": {
          "title": {
           "text": "petal_width"
          }
         }
        },
        "template": {
         "data": {
          "bar": [
           {
            "error_x": {
             "color": "#2a3f5f"
            },
            "error_y": {
             "color": "#2a3f5f"
            },
            "marker": {
             "line": {
              "color": "#E5ECF6",
              "width": 0.5
             },
             "pattern": {
              "fillmode": "overlay",
              "size": 10,
              "solidity": 0.2
             }
            },
            "type": "bar"
           }
          ],
          "barpolar": [
           {
            "marker": {
             "line": {
              "color": "#E5ECF6",
              "width": 0.5
             },
             "pattern": {
              "fillmode": "overlay",
              "size": 10,
              "solidity": 0.2
             }
            },
            "type": "barpolar"
           }
          ],
          "carpet": [
           {
            "aaxis": {
             "endlinecolor": "#2a3f5f",
             "gridcolor": "white",
             "linecolor": "white",
             "minorgridcolor": "white",
             "startlinecolor": "#2a3f5f"
            },
            "baxis": {
             "endlinecolor": "#2a3f5f",
             "gridcolor": "white",
             "linecolor": "white",
             "minorgridcolor": "white",
             "startlinecolor": "#2a3f5f"
            },
            "type": "carpet"
           }
          ],
          "choropleth": [
           {
            "colorbar": {
             "outlinewidth": 0,
             "ticks": ""
            },
            "type": "choropleth"
           }
          ],
          "contour": [
           {
            "colorbar": {
             "outlinewidth": 0,
             "ticks": ""
            },
            "colorscale": [
             [
              0,
              "#0d0887"
             ],
             [
              0.1111111111111111,
              "#46039f"
             ],
             [
              0.2222222222222222,
              "#7201a8"
             ],
             [
              0.3333333333333333,
              "#9c179e"
             ],
             [
              0.4444444444444444,
              "#bd3786"
             ],
             [
              0.5555555555555556,
              "#d8576b"
             ],
             [
              0.6666666666666666,
              "#ed7953"
             ],
             [
              0.7777777777777778,
              "#fb9f3a"
             ],
             [
              0.8888888888888888,
              "#fdca26"
             ],
             [
              1,
              "#f0f921"
             ]
            ],
            "type": "contour"
           }
          ],
          "contourcarpet": [
           {
            "colorbar": {
             "outlinewidth": 0,
             "ticks": ""
            },
            "type": "contourcarpet"
           }
          ],
          "heatmap": [
           {
            "colorbar": {
             "outlinewidth": 0,
             "ticks": ""
            },
            "colorscale": [
             [
              0,
              "#0d0887"
             ],
             [
              0.1111111111111111,
              "#46039f"
             ],
             [
              0.2222222222222222,
              "#7201a8"
             ],
             [
              0.3333333333333333,
              "#9c179e"
             ],
             [
              0.4444444444444444,
              "#bd3786"
             ],
             [
              0.5555555555555556,
              "#d8576b"
             ],
             [
              0.6666666666666666,
              "#ed7953"
             ],
             [
              0.7777777777777778,
              "#fb9f3a"
             ],
             [
              0.8888888888888888,
              "#fdca26"
             ],
             [
              1,
              "#f0f921"
             ]
            ],
            "type": "heatmap"
           }
          ],
          "heatmapgl": [
           {
            "colorbar": {
             "outlinewidth": 0,
             "ticks": ""
            },
            "colorscale": [
             [
              0,
              "#0d0887"
             ],
             [
              0.1111111111111111,
              "#46039f"
             ],
             [
              0.2222222222222222,
              "#7201a8"
             ],
             [
              0.3333333333333333,
              "#9c179e"
             ],
             [
              0.4444444444444444,
              "#bd3786"
             ],
             [
              0.5555555555555556,
              "#d8576b"
             ],
             [
              0.6666666666666666,
              "#ed7953"
             ],
             [
              0.7777777777777778,
              "#fb9f3a"
             ],
             [
              0.8888888888888888,
              "#fdca26"
             ],
             [
              1,
              "#f0f921"
             ]
            ],
            "type": "heatmapgl"
           }
          ],
          "histogram": [
           {
            "marker": {
             "pattern": {
              "fillmode": "overlay",
              "size": 10,
              "solidity": 0.2
             }
            },
            "type": "histogram"
           }
          ],
          "histogram2d": [
           {
            "colorbar": {
             "outlinewidth": 0,
             "ticks": ""
            },
            "colorscale": [
             [
              0,
              "#0d0887"
             ],
             [
              0.1111111111111111,
              "#46039f"
             ],
             [
              0.2222222222222222,
              "#7201a8"
             ],
             [
              0.3333333333333333,
              "#9c179e"
             ],
             [
              0.4444444444444444,
              "#bd3786"
             ],
             [
              0.5555555555555556,
              "#d8576b"
             ],
             [
              0.6666666666666666,
              "#ed7953"
             ],
             [
              0.7777777777777778,
              "#fb9f3a"
             ],
             [
              0.8888888888888888,
              "#fdca26"
             ],
             [
              1,
              "#f0f921"
             ]
            ],
            "type": "histogram2d"
           }
          ],
          "histogram2dcontour": [
           {
            "colorbar": {
             "outlinewidth": 0,
             "ticks": ""
            },
            "colorscale": [
             [
              0,
              "#0d0887"
             ],
             [
              0.1111111111111111,
              "#46039f"
             ],
             [
              0.2222222222222222,
              "#7201a8"
             ],
             [
              0.3333333333333333,
              "#9c179e"
             ],
             [
              0.4444444444444444,
              "#bd3786"
             ],
             [
              0.5555555555555556,
              "#d8576b"
             ],
             [
              0.6666666666666666,
              "#ed7953"
             ],
             [
              0.7777777777777778,
              "#fb9f3a"
             ],
             [
              0.8888888888888888,
              "#fdca26"
             ],
             [
              1,
              "#f0f921"
             ]
            ],
            "type": "histogram2dcontour"
           }
          ],
          "mesh3d": [
           {
            "colorbar": {
             "outlinewidth": 0,
             "ticks": ""
            },
            "type": "mesh3d"
           }
          ],
          "parcoords": [
           {
            "line": {
             "colorbar": {
              "outlinewidth": 0,
              "ticks": ""
             }
            },
            "type": "parcoords"
           }
          ],
          "pie": [
           {
            "automargin": true,
            "type": "pie"
           }
          ],
          "scatter": [
           {
            "fillpattern": {
             "fillmode": "overlay",
             "size": 10,
             "solidity": 0.2
            },
            "type": "scatter"
           }
          ],
          "scatter3d": [
           {
            "line": {
             "colorbar": {
              "outlinewidth": 0,
              "ticks": ""
             }
            },
            "marker": {
             "colorbar": {
              "outlinewidth": 0,
              "ticks": ""
             }
            },
            "type": "scatter3d"
           }
          ],
          "scattercarpet": [
           {
            "marker": {
             "colorbar": {
              "outlinewidth": 0,
              "ticks": ""
             }
            },
            "type": "scattercarpet"
           }
          ],
          "scattergeo": [
           {
            "marker": {
             "colorbar": {
              "outlinewidth": 0,
              "ticks": ""
             }
            },
            "type": "scattergeo"
           }
          ],
          "scattergl": [
           {
            "marker": {
             "colorbar": {
              "outlinewidth": 0,
              "ticks": ""
             }
            },
            "type": "scattergl"
           }
          ],
          "scattermapbox": [
           {
            "marker": {
             "colorbar": {
              "outlinewidth": 0,
              "ticks": ""
             }
            },
            "type": "scattermapbox"
           }
          ],
          "scatterpolar": [
           {
            "marker": {
             "colorbar": {
              "outlinewidth": 0,
              "ticks": ""
             }
            },
            "type": "scatterpolar"
           }
          ],
          "scatterpolargl": [
           {
            "marker": {
             "colorbar": {
              "outlinewidth": 0,
              "ticks": ""
             }
            },
            "type": "scatterpolargl"
           }
          ],
          "scatterternary": [
           {
            "marker": {
             "colorbar": {
              "outlinewidth": 0,
              "ticks": ""
             }
            },
            "type": "scatterternary"
           }
          ],
          "surface": [
           {
            "colorbar": {
             "outlinewidth": 0,
             "ticks": ""
            },
            "colorscale": [
             [
              0,
              "#0d0887"
             ],
             [
              0.1111111111111111,
              "#46039f"
             ],
             [
              0.2222222222222222,
              "#7201a8"
             ],
             [
              0.3333333333333333,
              "#9c179e"
             ],
             [
              0.4444444444444444,
              "#bd3786"
             ],
             [
              0.5555555555555556,
              "#d8576b"
             ],
             [
              0.6666666666666666,
              "#ed7953"
             ],
             [
              0.7777777777777778,
              "#fb9f3a"
             ],
             [
              0.8888888888888888,
              "#fdca26"
             ],
             [
              1,
              "#f0f921"
             ]
            ],
            "type": "surface"
           }
          ],
          "table": [
           {
            "cells": {
             "fill": {
              "color": "#EBF0F8"
             },
             "line": {
              "color": "white"
             }
            },
            "header": {
             "fill": {
              "color": "#C8D4E3"
             },
             "line": {
              "color": "white"
             }
            },
            "type": "table"
           }
          ]
         },
         "layout": {
          "annotationdefaults": {
           "arrowcolor": "#2a3f5f",
           "arrowhead": 0,
           "arrowwidth": 1
          },
          "autotypenumbers": "strict",
          "coloraxis": {
           "colorbar": {
            "outlinewidth": 0,
            "ticks": ""
           }
          },
          "colorscale": {
           "diverging": [
            [
             0,
             "#8e0152"
            ],
            [
             0.1,
             "#c51b7d"
            ],
            [
             0.2,
             "#de77ae"
            ],
            [
             0.3,
             "#f1b6da"
            ],
            [
             0.4,
             "#fde0ef"
            ],
            [
             0.5,
             "#f7f7f7"
            ],
            [
             0.6,
             "#e6f5d0"
            ],
            [
             0.7,
             "#b8e186"
            ],
            [
             0.8,
             "#7fbc41"
            ],
            [
             0.9,
             "#4d9221"
            ],
            [
             1,
             "#276419"
            ]
           ],
           "sequential": [
            [
             0,
             "#0d0887"
            ],
            [
             0.1111111111111111,
             "#46039f"
            ],
            [
             0.2222222222222222,
             "#7201a8"
            ],
            [
             0.3333333333333333,
             "#9c179e"
            ],
            [
             0.4444444444444444,
             "#bd3786"
            ],
            [
             0.5555555555555556,
             "#d8576b"
            ],
            [
             0.6666666666666666,
             "#ed7953"
            ],
            [
             0.7777777777777778,
             "#fb9f3a"
            ],
            [
             0.8888888888888888,
             "#fdca26"
            ],
            [
             1,
             "#f0f921"
            ]
           ],
           "sequentialminus": [
            [
             0,
             "#0d0887"
            ],
            [
             0.1111111111111111,
             "#46039f"
            ],
            [
             0.2222222222222222,
             "#7201a8"
            ],
            [
             0.3333333333333333,
             "#9c179e"
            ],
            [
             0.4444444444444444,
             "#bd3786"
            ],
            [
             0.5555555555555556,
             "#d8576b"
            ],
            [
             0.6666666666666666,
             "#ed7953"
            ],
            [
             0.7777777777777778,
             "#fb9f3a"
            ],
            [
             0.8888888888888888,
             "#fdca26"
            ],
            [
             1,
             "#f0f921"
            ]
           ]
          },
          "colorway": [
           "#636efa",
           "#EF553B",
           "#00cc96",
           "#ab63fa",
           "#FFA15A",
           "#19d3f3",
           "#FF6692",
           "#B6E880",
           "#FF97FF",
           "#FECB52"
          ],
          "font": {
           "color": "#2a3f5f"
          },
          "geo": {
           "bgcolor": "white",
           "lakecolor": "white",
           "landcolor": "#E5ECF6",
           "showlakes": true,
           "showland": true,
           "subunitcolor": "white"
          },
          "hoverlabel": {
           "align": "left"
          },
          "hovermode": "closest",
          "mapbox": {
           "style": "light"
          },
          "paper_bgcolor": "white",
          "plot_bgcolor": "#E5ECF6",
          "polar": {
           "angularaxis": {
            "gridcolor": "white",
            "linecolor": "white",
            "ticks": ""
           },
           "bgcolor": "#E5ECF6",
           "radialaxis": {
            "gridcolor": "white",
            "linecolor": "white",
            "ticks": ""
           }
          },
          "scene": {
           "xaxis": {
            "backgroundcolor": "#E5ECF6",
            "gridcolor": "white",
            "gridwidth": 2,
            "linecolor": "white",
            "showbackground": true,
            "ticks": "",
            "zerolinecolor": "white"
           },
           "yaxis": {
            "backgroundcolor": "#E5ECF6",
            "gridcolor": "white",
            "gridwidth": 2,
            "linecolor": "white",
            "showbackground": true,
            "ticks": "",
            "zerolinecolor": "white"
           },
           "zaxis": {
            "backgroundcolor": "#E5ECF6",
            "gridcolor": "white",
            "gridwidth": 2,
            "linecolor": "white",
            "showbackground": true,
            "ticks": "",
            "zerolinecolor": "white"
           }
          },
          "shapedefaults": {
           "line": {
            "color": "#2a3f5f"
           }
          },
          "ternary": {
           "aaxis": {
            "gridcolor": "white",
            "linecolor": "white",
            "ticks": ""
           },
           "baxis": {
            "gridcolor": "white",
            "linecolor": "white",
            "ticks": ""
           },
           "bgcolor": "#E5ECF6",
           "caxis": {
            "gridcolor": "white",
            "linecolor": "white",
            "ticks": ""
           }
          },
          "title": {
           "x": 0.05
          },
          "xaxis": {
           "automargin": true,
           "gridcolor": "white",
           "linecolor": "white",
           "ticks": "",
           "title": {
            "standoff": 15
           },
           "zerolinecolor": "white",
           "zerolinewidth": 2
          },
          "yaxis": {
           "automargin": true,
           "gridcolor": "white",
           "linecolor": "white",
           "ticks": "",
           "title": {
            "standoff": 15
           },
           "zerolinecolor": "white",
           "zerolinewidth": 2
          }
         }
        }
       }
      }
     },
     "metadata": {},
     "output_type": "display_data"
    }
   ],
   "source": [
    "import plotly.express as px\n",
    "df = px.data.iris()\n",
    "fig = px.scatter_3d(df, x='sepal_length', y='sepal_width', z='petal_width',\n",
    "              color='petal_length', size='petal_length', size_max=18,\n",
    "              symbol='species', opacity=0.7)\n",
    "\n",
    "# tight layout\n",
    "fig.update_layout(margin=dict(l=0, r=0, b=0, t=0))"
   ]
  },
  {
   "cell_type": "code",
   "execution_count": null,
   "metadata": {},
   "outputs": [],
   "source": []
  }
 ],
 "metadata": {
  "kernelspec": {
   "display_name": "Python 3.10.5 64-bit (windows store)",
   "language": "python",
   "name": "python3"
  },
  "language_info": {
   "codemirror_mode": {
    "name": "ipython",
    "version": 3
   },
   "file_extension": ".py",
   "mimetype": "text/x-python",
   "name": "python",
   "nbconvert_exporter": "python",
   "pygments_lexer": "ipython3",
   "version": "3.10.5"
  },
  "orig_nbformat": 4,
  "vscode": {
   "interpreter": {
    "hash": "e4dd14267cae23840dea038347bc16e5034e9d5e8854ee2a5f16737016150660"
   }
  }
 },
 "nbformat": 4,
 "nbformat_minor": 2
}
