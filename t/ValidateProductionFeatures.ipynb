{
 "cells": [
  {
   "cell_type": "markdown",
   "metadata": {},
   "source": [
    "[![CyVers](https://i.imgur.com/yyhmZET.png)](https://www.cyvers.ai/)\n",
    "\n",
    "# Validate Production Features and Reules Calculations  \n",
    "This notebook validates the calculationdone online as described in https://github.com/CyVers-AI/SolidusBlindTest/issues/10.\n",
    "\n",
    "> Notebook by:\n",
    "> - Royi Avital Royi@cyvers.ai\n",
    "\n",
    "## Revision History\n",
    "\n",
    "| Version | Date       | Name            | Content / Changes     |\n",
    "|---------|------------|-----------------|-----------------------|\n",
    "| 1.0.000 | 27/06/2022 | Royi Avital     | First version         |\n",
    "|         |            |                 |                       |"
   ]
  },
  {
   "cell_type": "code",
   "execution_count": null,
   "metadata": {},
   "outputs": [],
   "source": [
    "# General Tools\n",
    "import numpy as np\n",
    "import scipy as sp\n",
    "import pandas as pd\n",
    "\n",
    "# Misc\n",
    "import datetime\n",
    "import os\n",
    "from platform import python_version\n",
    "import random\n",
    "\n",
    "from numba import njit\n",
    "\n",
    "# Machine Learning\n",
    "from sklearn.preprocessing import LabelEncoder\n",
    "\n",
    "# EDA Tools\n",
    "import ppscore as pps #<! See https://github.com/8080labs/ppscore -> pip install git+https://github.com/8080labs/ppscore.git\n",
    "\n",
    "# Ensemble Engines\n",
    "import lightgbm\n",
    "import xgboost\n",
    "\n",
    "# Visualization\n",
    "import matplotlib.pyplot as plt\n",
    "import seaborn as sns\n",
    "from bokeh.plotting import figure, show\n",
    "\n",
    "# Jupyter\n",
    "from ipywidgets import interact, Dropdown, Layout"
   ]
  },
  {
   "cell_type": "code",
   "execution_count": null,
   "metadata": {},
   "outputs": [],
   "source": [
    "# Configuration\n",
    "%matplotlib inline\n",
    "\n",
    "seedNum = 512\n",
    "np.random.seed(seedNum)\n",
    "random.seed(seedNum)\n",
    "\n",
    "sns.set_theme() #>! Apply SeaBorn theme"
   ]
  },
  {
   "cell_type": "code",
   "execution_count": null,
   "metadata": {},
   "outputs": [],
   "source": [
    "# Constants\n",
    "\n",
    "DATA_FOLDER_NAME    = 'DataSet'\n",
    "DATA_FILE_EXT       = 'csv'"
   ]
  },
  {
   "cell_type": "code",
   "execution_count": null,
   "metadata": {},
   "outputs": [],
   "source": [
    "# Parameters\n",
    "\n",
    "csvFileName = 'Bit2CSoftware001.csv'\n",
    "\n",
    "tsxAmountThr    = 8\n",
    "tsxTimeDiffThr  = -0.99"
   ]
  },
  {
   "cell_type": "code",
   "execution_count": null,
   "metadata": {},
   "outputs": [],
   "source": [
    "# Loading / Generating Data\n",
    "\n",
    "dfData = pd.read_csv(os.path.join(DATA_FOLDER_NAME, csvFileName))\n",
    "numRows, numCols = dfData.shape\n",
    "\n",
    "print(f'The number of rows (Samples): {numRows}, The number of columns: {numCols}')"
   ]
  },
  {
   "cell_type": "code",
   "execution_count": null,
   "metadata": {},
   "outputs": [],
   "source": [
    "# Convert time data into Pandas format\n",
    "dfData['Transaction Time'] = pd.to_datetime(dfData['Transaction Time'], infer_datetime_format = 'True') #<! Stable time format"
   ]
  },
  {
   "cell_type": "code",
   "execution_count": null,
   "metadata": {},
   "outputs": [],
   "source": [
    "# User this if needed ot filter the Sender\n",
    "# dfData = dfData.loc[dfData['Sender ID'] == '0x7c49e1c0e33f3efb57d64b7690fa287c8d15b90a', :]\n",
    "# dfData.reset_index(inplace = True)\n",
    "# dfData.to_csv(os.path.join(DATA_FOLDER_NAME, 'Bit2CSoftware001.csv'))"
   ]
  },
  {
   "cell_type": "code",
   "execution_count": null,
   "metadata": {},
   "outputs": [],
   "source": [
    "dfData.head(20)"
   ]
  },
  {
   "cell_type": "code",
   "execution_count": null,
   "metadata": {},
   "outputs": [],
   "source": [
    "dfData.info()"
   ]
  },
  {
   "cell_type": "code",
   "execution_count": null,
   "metadata": {},
   "outputs": [],
   "source": [
    "len(dfData['Receiver ID'].unique())"
   ]
  },
  {
   "cell_type": "code",
   "execution_count": null,
   "metadata": {},
   "outputs": [],
   "source": [
    "dfData.describe()"
   ]
  },
  {
   "cell_type": "code",
   "execution_count": null,
   "metadata": {},
   "outputs": [],
   "source": [
    "# We need data sorted by ascending time \n",
    "\n",
    "dfData.sort_values('Transaction Time', inplace = True)"
   ]
  },
  {
   "cell_type": "code",
   "execution_count": null,
   "metadata": {},
   "outputs": [],
   "source": [
    "dfData.reset_index(inplace = True)\n",
    "dfData.head(100)"
   ]
  },
  {
   "cell_type": "markdown",
   "metadata": {},
   "source": [
    "## Feature Calculation\n",
    "\n",
    "Features are calculated by time (Using current and past data only).\n"
   ]
  },
  {
   "cell_type": "code",
   "execution_count": null,
   "metadata": {},
   "outputs": [],
   "source": [
    "dfData['Rolling Average Amount [USD]'] = np.nan #<! Rolling average over time of all data\n",
    "dfData['Time Difference Group [Sec]'] = np.nan #<! The time difference from the previous transaction of teh same user\n",
    "dfData['Rolling Average Time Difference [Sec]'] = np.nan #<! The average of teh average time difference per group (Until the i-th transaction where i is the row index sorted by transaction time)\n",
    "\n",
    "dfData.head()"
   ]
  },
  {
   "cell_type": "code",
   "execution_count": null,
   "metadata": {},
   "outputs": [],
   "source": [
    "dfData['Rolling Average Amount [USD]'] = dfData['Amount [USD]'].cumsum() / np.arange(1.0, dfData.shape[0] + 1)\n",
    "dfData.head()"
   ]
  },
  {
   "cell_type": "code",
   "execution_count": null,
   "metadata": {},
   "outputs": [],
   "source": [
    "# Data grouped by user as most operations work on users\n",
    "dfGrpUser = dfData.sort_values('Transaction Time').groupby('Receiver ID')"
   ]
  },
  {
   "cell_type": "code",
   "execution_count": null,
   "metadata": {},
   "outputs": [],
   "source": [
    "for grpName, dfGroup in dfGrpUser:\n",
    "\n",
    "    vIndx = dfGroup.index\n",
    "\n",
    "    dfData.loc[vIndx, 'Time Difference Group [Sec]'] = dfGroup['Transaction Time'].diff().dt.total_seconds()\n",
    "    dfData.loc[vIndx[0], 'Time Difference Group [Sec]'] = 0\n",
    "\n",
    "dfData"
   ]
  },
  {
   "cell_type": "code",
   "execution_count": null,
   "metadata": {},
   "outputs": [],
   "source": [
    "# We need, per row, calculate the mean of all 'Rolling Average Time Difference User [Sec]' before it, but just one per group of users.\n",
    "# We can create the following data structure:\n",
    "\n",
    "# Row Index, IDGrp001, IdGrp002, IdGrp003, ..., IdGrp100, ...\n",
    "# 1          meanVal   NaN       NaN\n",
    "\n",
    "# Namely for we calculate the avergae per ID per row.\n",
    "\n",
    "# Remark: This approach only works for feasible number fo rows (~50K) as the output size if numRows x numUniqueId\n",
    "\n",
    "dfDataPivot = dfData[['Receiver ID', 'Time Difference Group [Sec]']].set_index('Receiver ID', append = True).unstack(-1)"
   ]
  },
  {
   "cell_type": "code",
   "execution_count": null,
   "metadata": {},
   "outputs": [],
   "source": [
    "dfDataPivot.shape"
   ]
  },
  {
   "cell_type": "code",
   "execution_count": null,
   "metadata": {},
   "outputs": [],
   "source": [
    "dfDataPivot.head(20)"
   ]
  },
  {
   "cell_type": "code",
   "execution_count": null,
   "metadata": {},
   "outputs": [],
   "source": [
    "# Running mean of each column\n",
    "dfDataPivot = dfDataPivot.fillna(0).cumsum() / dfDataPivot.notnull().astype(int).cumsum()"
   ]
  },
  {
   "cell_type": "code",
   "execution_count": null,
   "metadata": {},
   "outputs": [],
   "source": [
    "dfDataPivot"
   ]
  },
  {
   "cell_type": "code",
   "execution_count": null,
   "metadata": {},
   "outputs": [],
   "source": [
    "# The output is the mean over the rows\n",
    "# We just need to make sure it keeps the order in tact\n",
    "dfData['Rolling Average Time Difference [Sec]'] = dfDataPivot.mean(axis = 1)"
   ]
  },
  {
   "cell_type": "code",
   "execution_count": null,
   "metadata": {},
   "outputs": [],
   "source": [
    "# Rules - Amount\n",
    "\n",
    "dfData['Amount Rule'] = ((dfData['Amount [USD]'] - dfData['Rolling Average Amount [USD]']) / dfData['Rolling Average Amount [USD]']) >= tsxAmountThr"
   ]
  },
  {
   "cell_type": "code",
   "execution_count": null,
   "metadata": {},
   "outputs": [],
   "source": [
    "# Rules - Time Difference\n",
    "\n",
    "dfData['Time Diff Rule'] = ((dfData['Time Difference Group [Sec]'] - dfData['Rolling Average Time Difference [Sec]']) / dfData['Rolling Average Time Difference [Sec]']) <= tsxTimeDiffThr\n",
    "dfData['Time Diff Rule'].iloc[dfData['Rolling Average Time Difference [Sec]'] == 0] = True #<! To match the code which for a single Tx group only use the amount rule (See https://github.com/CyVers-AI/features-creator/blob/7b0acbb4b6554e1d700ae5a7801403a3a6a19241/app/services/rule_impl.py#L90)"
   ]
  },
  {
   "cell_type": "code",
   "execution_count": null,
   "metadata": {},
   "outputs": [],
   "source": [
    "dfData['Alert Rule'] = dfData['Amount Rule'] & dfData['Time Diff Rule']"
   ]
  },
  {
   "cell_type": "code",
   "execution_count": null,
   "metadata": {},
   "outputs": [],
   "source": [
    "dfData.head(40)"
   ]
  },
  {
   "cell_type": "code",
   "execution_count": null,
   "metadata": {},
   "outputs": [],
   "source": [
    "dfData['Alert Rule'].sum()"
   ]
  },
  {
   "cell_type": "code",
   "execution_count": null,
   "metadata": {},
   "outputs": [],
   "source": [
    "dfData.to_csv(os.path.join(DATA_FOLDER_NAME, 'Validate.csv'))"
   ]
  }
 ],
 "metadata": {
  "kernelspec": {
   "display_name": "Python 3.10.4 64-bit (system)",
   "language": "python",
   "name": "python3"
  },
  "language_info": {
   "codemirror_mode": {
    "name": "ipython",
    "version": 3
   },
   "file_extension": ".py",
   "mimetype": "text/x-python",
   "name": "python",
   "nbconvert_exporter": "python",
   "pygments_lexer": "ipython3",
   "version": "3.10.4"
  },
  "orig_nbformat": 4,
  "vscode": {
   "interpreter": {
    "hash": "be0bb58de34efdc896882b24f079eecc07771980f2877d3d2e7074352c003269"
   }
  }
 },
 "nbformat": 4,
 "nbformat_minor": 2
}
