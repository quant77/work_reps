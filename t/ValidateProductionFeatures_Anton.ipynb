{
 "cells": [
  {
   "cell_type": "markdown",
   "metadata": {},
   "source": [
    "[![CyVers](https://i.imgur.com/yyhmZET.png)](https://www.cyvers.ai/)\n",
    "\n",
    "# Validate Production Features and Reules Calculations  \n",
    "This notebook validates the calculationdone online as described in https://github.com/CyVers-AI/SolidusBlindTest/issues/10.\n",
    "\n",
    "> Notebook by:\n",
    "> - Royi Avital Royi@cyvers.ai\n",
    "> - Anton Rudenko Anton@cyvers.ai\n",
    "\n",
    "## Revision History\n",
    "\n",
    "| Version | Date       | Name            | Content / Changes     |\n",
    "|---------|------------|-----------------|-----------------------|\n",
    "| 1.0.000 | 27/06/2022 | Royi Avital     | First version         |\n",
    "|         |            |                 |                       |"
   ]
  },
  {
   "cell_type": "code",
   "execution_count": null,
   "metadata": {},
   "outputs": [],
   "source": [
    "# General Tools\n",
    "import numpy as np\n",
    "import scipy as sp\n",
    "import pandas as pd\n",
    "\n",
    "# Misc\n",
    "import random\n",
    "\n",
    "import os\n",
    "import datetime\n",
    "from platform import python_version\n",
    "\n",
    "# EDA Tools\n",
    "import ppscore as pps #<! See https://github.com/8080labs/ppscore -> pip install git+https://github.com/8080labs/ppscore.git\n",
    "\n",
    "# Ensemble Engines\n",
    "import lightgbm\n",
    "import xgboost\n",
    "\n",
    "# Visualization\n",
    "import matplotlib.pyplot as plt\n",
    "import seaborn as sns\n",
    "from bokeh.plotting import figure, show\n",
    "\n",
    "# Jupyter\n",
    "from ipywidgets import interact, Dropdown, Layout"
   ]
  },
  {
   "cell_type": "code",
   "execution_count": null,
   "metadata": {},
   "outputs": [],
   "source": [
    "# Configuration\n",
    "%matplotlib inline\n",
    "\n",
    "seedNum = 512\n",
    "np.random.seed(seedNum)\n",
    "random.seed(seedNum)\n",
    "\n",
    "sns.set_theme() #>! Apply SeaBorn theme"
   ]
  },
  {
   "cell_type": "code",
   "execution_count": null,
   "metadata": {},
   "outputs": [],
   "source": [
    "# Constants\n",
    "\n",
    "DATA_FOLDER_NAME    = 'DataSet'\n",
    "DATA_FILE_EXT       = 'csv'"
   ]
  },
  {
   "cell_type": "code",
   "execution_count": null,
   "metadata": {},
   "outputs": [],
   "source": [
    "# Parameters\n",
    "\n",
    "csvFileName ='Dataset Bit2C.csv'#'Dataset Bit2C Test Case.csv' #\n",
    "\n",
    "tsxAmountThr    = 8\n",
    "tsxTimeDiffThr  = -0.99"
   ]
  },
  {
   "cell_type": "code",
   "execution_count": null,
   "metadata": {},
   "outputs": [],
   "source": [
    "# Loading / Generating Data\n",
    "\n",
    "dfData = pd.read_csv(os.path.join(DATA_FOLDER_NAME, csvFileName))\n",
    "numRows, numCols = dfData.shape\n",
    "\n",
    "print(f'The number of rows (Samples): {numRows}, The number of columns: {numCols}')"
   ]
  },
  {
   "cell_type": "code",
   "execution_count": null,
   "metadata": {},
   "outputs": [],
   "source": [
    "# Convert time data into Pandas format\n",
    "dfData['Transaction Time'] = pd.to_datetime(dfData['Transaction Time'], infer_datetime_format = 'True') #<! Stable time format"
   ]
  },
  {
   "cell_type": "code",
   "execution_count": null,
   "metadata": {},
   "outputs": [],
   "source": [
    "dfData.head(20)"
   ]
  },
  {
   "cell_type": "code",
   "execution_count": null,
   "metadata": {},
   "outputs": [],
   "source": [
    "dfData.info()"
   ]
  },
  {
   "cell_type": "code",
   "execution_count": null,
   "metadata": {},
   "outputs": [],
   "source": [
    "len(dfData['Receiver ID'].unique())"
   ]
  },
  {
   "cell_type": "code",
   "execution_count": null,
   "metadata": {},
   "outputs": [],
   "source": [
    "dfData.describe()"
   ]
  },
  {
   "cell_type": "code",
   "execution_count": null,
   "metadata": {},
   "outputs": [],
   "source": [
    "# We need data sorted by ascending time \n",
    "\n",
    "dfData.sort_values('Transaction Time', inplace = True)"
   ]
  },
  {
   "cell_type": "code",
   "execution_count": null,
   "metadata": {},
   "outputs": [],
   "source": [
    "dfData.reset_index(inplace = True)\n",
    "dfData.head(100)"
   ]
  },
  {
   "cell_type": "markdown",
   "metadata": {},
   "source": [
    "## Feature Engineering\n",
    "\n",
    "This section adds features and engineers them.  \n",
    "It is assuemd the files havd a single unique `Sender`. Hence all analysis is done on the eceivers.\n",
    "\n",
    "\n",
    "The features are:\n",
    "\n",
    " 1. \n",
    "\n",
    "Remarks:\n",
    "\n",
    " *  Features x-y are time / frequency related.\n",
    " *  Features z-t are trasnaction realted.\n"
   ]
  },
  {
   "cell_type": "code",
   "execution_count": null,
   "metadata": {},
   "outputs": [],
   "source": [
    "dfData['Rolling Average Amount [USD]'] = np.nan #<! Rolling average over time of all data\n",
    "dfData['Time Difference Group [Sec]'] = np.nan #<! The time difference from the previous transaction of teh same user\n",
    "dfData['Rolling Average Time Difference [Sec]'] = np.nan #<! The average of teh average time difference per group (Until the i-th transaction where i is the row index sorted by transaction time)\n",
    "\n",
    "dfData.head()"
   ]
  },
  {
   "cell_type": "code",
   "execution_count": null,
   "metadata": {},
   "outputs": [],
   "source": [
    "dfData['Rolling Average Amount [USD]'] = dfData['Amount [USD]'].cumsum() / np.arange(1.0, dfData.shape[0] + 1)\n",
    "dfData.head()"
   ]
  },
  {
   "cell_type": "code",
   "execution_count": null,
   "metadata": {},
   "outputs": [],
   "source": []
  },
  {
   "cell_type": "code",
   "execution_count": null,
   "metadata": {},
   "outputs": [],
   "source": [
    "\n",
    "def f(df):\n",
    "  #tsxAmountThr    = 8\n",
    "  #tsxTimeDiffThr  = -0.99\n",
    "  d = {}\n",
    "  time_str = 'Transaction Time' \n",
    "  id_str = 'Receiver ID'\n",
    "  rol_av_am_str ='Rolling Average Amount [USD]' ; am_str = 'Amount [USD]'\n",
    "  time_diff_str = 'Time Difference Group [Sec]'\n",
    "  roll_avgr_time_diff = 'Rolling Average Time Difference [Sec]'\n",
    "  rule_alrt_str = 'Alert Rule'\n",
    "  time_rule_str = 'Time Diff Rule'\n",
    "  amount_rule_str = 'Amount Rule' \n",
    "   \n",
    "\n",
    "  df.sort_values(time_str, inplace=True)\n",
    "  for index, row in df.iterrows():\n",
    "    if row[id_str] not in d:\n",
    "      group_id = row[id_str]\n",
    "      previous = row[time_str] ; current = row[time_str]  \n",
    "      counter = 1\n",
    "      time_diff = (current - previous).total_seconds()\n",
    "      average = time_diff\n",
    "      d[group_id] = {'current' : current, 'counter': counter , 'average' : time_diff}  \n",
    "      df.at[index, time_diff_str] = time_diff\n",
    "      #df.at[index, 'group_average'] = average\n",
    "      \n",
    "\n",
    "    else:\n",
    "      group_id = row[id_str]\n",
    "      previous = d[group_id]['current'] ; current = row[time_str]  \n",
    "      counter = d[group_id]['counter'] + 1 \n",
    "\n",
    "      time_diff = (current - previous).total_seconds()\n",
    "\n",
    "      average = (d[group_id]['average']*(counter - 1) + time_diff) / counter\n",
    "\n",
    "      d[group_id] = {'current' : current, 'counter': counter , 'average' : average}\n",
    "      df.at[index, time_diff_str] = time_diff\n",
    "      #df.at[index, 'group_average'] = average\n",
    "      \n",
    "      \n",
    "    \n",
    "    avrg =np.mean([d[gr]['average'] for gr in d.keys()])\n",
    "    df.at[index, roll_avgr_time_diff] = avrg\n",
    "      \n",
    "  df[amount_rule_str] = ((df[am_str] - df[rol_av_am_str]) / df[rol_av_am_str]) >= tsxAmountThr\n",
    "  df[time_rule_str] = ((df[time_diff_str] - df[roll_avgr_time_diff]) / df[roll_avgr_time_diff]) <= tsxTimeDiffThr\n",
    "  df[rule_alrt_str] = df[amount_rule_str] & df[time_rule_str]\n",
    "  return df\n",
    "            \n",
    "\n",
    "        \n",
    "    "
   ]
  },
  {
   "cell_type": "code",
   "execution_count": null,
   "metadata": {},
   "outputs": [],
   "source": [
    "output = f(dfData)"
   ]
  },
  {
   "cell_type": "code",
   "execution_count": null,
   "metadata": {},
   "outputs": [],
   "source": [
    "output['Alert Rule'].sum()\n",
    "#output['Alert Rule'].value_counts()"
   ]
  },
  {
   "cell_type": "code",
   "execution_count": null,
   "metadata": {},
   "outputs": [],
   "source": [
    "output.to_csv(os.path.join(DATA_FOLDER_NAME, 'Validate_my.csv'))"
   ]
  },
  {
   "cell_type": "code",
   "execution_count": null,
   "metadata": {},
   "outputs": [],
   "source": []
  }
 ],
 "metadata": {
  "kernelspec": {
   "display_name": "Python 3.10.5 64-bit (windows store)",
   "language": "python",
   "name": "python3"
  },
  "language_info": {
   "codemirror_mode": {
    "name": "ipython",
    "version": 3
   },
   "file_extension": ".py",
   "mimetype": "text/x-python",
   "name": "python",
   "nbconvert_exporter": "python",
   "pygments_lexer": "ipython3",
   "version": "3.10.5"
  },
  "orig_nbformat": 4,
  "vscode": {
   "interpreter": {
    "hash": "e4dd14267cae23840dea038347bc16e5034e9d5e8854ee2a5f16737016150660"
   }
  }
 },
 "nbformat": 4,
 "nbformat_minor": 2
}
