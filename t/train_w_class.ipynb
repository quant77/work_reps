{
 "cells": [
  {
   "cell_type": "code",
   "execution_count": null,
   "metadata": {},
   "outputs": [],
   "source": []
  },
  {
   "cell_type": "code",
   "execution_count": 1,
   "metadata": {},
   "outputs": [],
   "source": [
    "import datetime\n",
    "from platform import python_version\n",
    "import random\n",
    "import warnings\n",
    "\n",
    "# Ensemble Engines\n",
    "from xgboost import XGBClassifier\n",
    "\n",
    "# Visualization\n",
    "import matplotlib.pyplot as plt\n",
    "import matplotlib.gridspec as gridspec\n",
    "\n",
    "from DataSetsAuxFun import *\n",
    "from PredictAssetData import *\n",
    "\n",
    "from joblib import load\n",
    "import pickle\n",
    "\n",
    "class PredictAssetData():\n",
    "    def __init__(self, \n",
    "                 lRawFeatures: list , \n",
    "                 lProcessedFeatures: list , \n",
    "                 lSelectedFeatures: list,\n",
    "                 lCatFeatures: list = ['Currency', 'Currency Type', 'Receiver Type']\n",
    "                       ):\n",
    "        \n",
    "        self.predictedLabelsColName = 'Label'\n",
    "        self.seedNum = 512\n",
    "\n",
    "        self.lRawFeatures       = lRawFeatures\n",
    "        self.lProcessedFeatures = lProcessedFeatures\n",
    "        self.lSelectedFeatures  = lSelectedFeatures\n",
    "        self.lCatFeatures       = lCatFeatures\n",
    "\n",
    "    def ValidateData(self, dfData: pd.DataFrame) -> pd.DataFrame:\n",
    "        \n",
    "        lDfColName = dfData.columns.to_list()\n",
    "\n",
    "        for colName in self.lRawFeatures:\n",
    "            if colName not in lDfColName:\n",
    "                raise ValueError(f'The column {colName} is missing in the data frame')\n",
    "        \n",
    "        # Initialize the Pandas Extension\n",
    "        numGrps = dfData.GrpBySender.numGrps\n",
    "        #if numGrps > 1:\n",
    "        #    raise ValueError(f'The data includes {numGrps} assets instead of 1')\n",
    "\n",
    "        return dfData\n",
    "\n",
    "    def CalculateFeatures(self, dfData: pd.DataFrame ) -> pd.DataFrame:\n",
    "        \n",
    "        dfData = ApplyListOfFeatures(dfData, self.lProcessedFeatures)\n",
    "\n",
    "        return dfData\n",
    "    \n",
    "    def GenDataPredict(self, dfData: pd.DataFrame ) -> pd.DataFrame:\n",
    "        \n",
    "        lNumericalFeatures = [featureName for featureName in self.lSelectedFeatures if featureName not in self.lCatFeatures] \n",
    "       \n",
    "        dfX = dfData[self.lSelectedFeatures].copy()\n",
    "        dfX.replace([np.inf, -np.inf], np.nan, inplace = True)\n",
    "        dfX.fillna(0, inplace = True)\n",
    "        \n",
    "        hStdScaler = StandardScaler()\n",
    "        dfX[lNumericalFeatures] = hStdScaler.fit_transform(dfX[lNumericalFeatures])\n",
    "        \n",
    "        dfX.rename(columns = {'Amount [USD]': 'Amount USD'}, inplace = True)\n",
    "\n",
    "        for catColName in self.lCatFeatures:\n",
    "            if catColName in dfX.columns:\n",
    "                dfX[catColName] = dfX[catColName].astype('category', copy = False)\n",
    "\n",
    "        \n",
    "        dfX['Label'] = dfData['Label']\n",
    "        dfX['Sender ID'] = dfData['Sender ID']\n",
    "        \n",
    "        return dfX\n",
    "\n",
    "    def TrainModel(self, dfData):\n",
    "        \n",
    "        models  = []\n",
    "        lSelectedFeatures_  = self.lSelectedFeatures ; lSelectedFeatures_[lSelectedFeatures_.index('Amount [USD]')] =  'Amount USD'\n",
    "        mX = dfData[lSelectedFeatures_]\n",
    "        vY = dfData['Label']\n",
    "        \n",
    "        hKFoldSplt = StratifiedGroupKFold(n_splits = numKFolds, shuffle = True, random_state = randomState)\n",
    "        for vTrainIdx, vTestIdx in hKFoldSplt.split(mX, vY, groups = dfData['Sender ID']):\n",
    "            mXTrain, mXTest, vYTrain, vYTest = mX.iloc[vTrainIdx], mX.iloc[vTestIdx], vY.iloc[vTrainIdx], vY.iloc[vTestIdx]\n",
    "            #xgbModel =XGBClassifier(tree_method=\"gpu_hist\", max_depth = 20, feature_names = lTotalFeatures, feature_types = feature_types_, random_state=seedNum, enable_categorical=True) #XGBClassifier(use_label_encoder = False)\n",
    "            xgbModel =XGBClassifier(n_estimators=250, tree_method=\"hist\", max_depth = 20,  random_state=self.seedNum, enable_categorical=True)\n",
    "            xgbModel.fit(mXTrain, vYTrain)\n",
    "            vYPred = xgbModel.predict(mXTest)\n",
    "            DisplayConfusionMatrix(vYTest, vYPred, lClasses = xgbModel.classes_)\n",
    "            print(GenClassifierSummaryResults(vYTest, vYPred))\n",
    "            models.append(xgbModel)\n",
    "\n",
    "    def PredictLabels(self, dfX: pd.DataFrame, dfData: pd.DataFrame) -> pd.DataFrame:\n",
    "       \n",
    "        \n",
    "       predictedLabels = self.model.predict(dfX)\n",
    "       dfData[self.predictedLabelsColName] = predictedLabels  \n",
    " \n",
    "       return dfData   "
   ]
  },
  {
   "cell_type": "code",
   "execution_count": 2,
   "metadata": {},
   "outputs": [],
   "source": [
    "# Constants\n",
    "\n",
    "DATA_FOLDER_NAME    = 'BlockChainAttacksDataSet'\n",
    "DATA_FOLDER_PATTERN = 'DataSet001'\n",
    "DATA_FILE_EXT       = 'csv'\n",
    "\n",
    "PROJECT_DIR_NAME = 'CyVers' #<! Royi: Anton, don't change it, it should be a team constant\n",
    "PROJECT_DIR_PATH = os.path.join(os.getcwd()[:os.getcwd().find(PROJECT_DIR_NAME)], PROJECT_DIR_NAME) #>! Pay attention, it will create issues in cases you name the folder `CyVersMe` or anything after / before `CyVers`\n",
    "\n",
    "# Feature extractors constants\n",
    "\n",
    "TRAIN_BY_TSX    = 1\n",
    "TRAIN_BY_FILES  = 2\n",
    "updateInplace       = False"
   ]
  },
  {
   "cell_type": "code",
   "execution_count": 3,
   "metadata": {},
   "outputs": [],
   "source": [
    "# Parameters\n",
    "dataSetRotoDir = os.path.join(PROJECT_DIR_PATH, DATA_FOLDER_NAME)\n",
    "\n",
    "# Features Analysis\n",
    "numCrossValPps = 4\n",
    "\n",
    "# Training\n",
    "trainMode = TRAIN_BY_FILES\n",
    "testSetRatio = 1 / 3\n",
    "numKFolds = 3\n",
    "gridSearchScore = 'f1' #<! Use strings from `sklearn.metrics.get_scorer_names()`\n",
    "gridSearchScore = 'recall' #<! We need to have better PD\n",
    "\n",
    "# Amount USD Outlier threshold\n",
    "amountUsdOutlierThr = 1e9\n",
    "\n",
    "randomState = 42\n",
    "\n",
    "\n",
    "lRawFeatures = ['Transaction ID', 'Block Time', 'Sender ID', 'Receiver ID', 'Receiver Type', 'Amount', 'Currency', 'Currency Hash', 'Currency Type', 'Amount [USD]', 'Label', 'Risk Level']  \n",
    "lProcessedFeatures =[enumObj.name for enumObj in FeatureName if ((enumObj is not FeatureName.TIME_MAX) and (enumObj is not FeatureName.TIME_MIN))] #[FeatureName.AMOUNT_MAX_ASSET.name, FeatureName.AMOUNT_MAX_USR.name, FeatureName.TIME_DIFF_MEDIAN_USR.name, FeatureName.TIME_DIFF_MEDIAN_ASSET.name] , \n",
    "lCatFeatures = ['Currency', 'Currency Type', 'Receiver Type']\n",
    "lSelectedFeatures = ['Amount', 'Amount [USD]'] + lProcessedFeatures + lCatFeatures \n",
    "\n",
    "\n",
    "timeColStr = 'Block Time'"
   ]
  },
  {
   "cell_type": "code",
   "execution_count": 4,
   "metadata": {},
   "outputs": [
    {
     "name": "stdout",
     "output_type": "stream",
     "text": [
      "The number of file found: 35\n",
      "The number of rows (Samples): 379887, The number of columns: 19, number of unique sender id's: (35,)\n",
      "The data list of columns is: Index(['Transaction ID', 'Transaction Time', 'Block Time', 'Sender ID',\n",
      "       'Receiver ID', 'Receiver Type', 'Amount', 'Currency', 'Currency Hash',\n",
      "       'Currency Type', 'Amount [USD]', 'Gas Price', 'Gas Limit', 'Gas Used',\n",
      "       'Gas Predicted', 'Balance In', 'Balance Out', 'Label', 'Risk Level'],\n",
      "      dtype='object') with 19 columns\n"
     ]
    }
   ],
   "source": [
    "# Loading / Generating Data\n",
    "lCsvFile = ExtractCsvFiles(dataSetRotoDir, folderNamePattern = DATA_FOLDER_PATTERN)\n",
    "print(f'The number of file found: {len(lCsvFile)}')\n",
    "\n",
    "# dfData = pd.read_csv(os.path.join(DATA_FOLDER_NAME, csvFileName))\n",
    "dfDataRaw, dAssetFile = LoadCsvFilesDf(lCsvFile, baseFoldePath = '')#dfData, dAssetFile = LoadCsvFilesDf(lCsvFile, baseFoldePath = '')\n",
    "numRows, numCols = dfDataRaw.shape#numRows, numCols = dfData.shape\n",
    "\n",
    "print(f\"The number of rows (Samples): {numRows}, The number of columns: {numCols}, number of unique sender id's: {dfDataRaw['Sender ID'].unique().shape}\")\n",
    "print(f'The data list of columns is: {dfDataRaw.columns} with {len(dfDataRaw.columns)} columns')"
   ]
  },
  {
   "cell_type": "code",
   "execution_count": 5,
   "metadata": {},
   "outputs": [],
   "source": [
    "# Pre Process Data (Validation)\n",
    "# We use updateInplace = False in order to not touch the RAW data from the database\n",
    "\n",
    "dfData = PreProcessData(dfDataRaw, updateInplace = updateInplace, amountUsdOutlierThr = amountUsdOutlierThr)\n",
    "#dfData['Label'] = -1 #<! Just to verify the model runs\n"
   ]
  },
  {
   "cell_type": "code",
   "execution_count": 6,
   "metadata": {},
   "outputs": [],
   "source": [
    "# Instantiate the Class\n",
    "#oPredAsset.lRawFeatures , oPredAsset.lProcessedFeatures , oPredAsset.lSelectedFeatures, oPredAsset.lCatFeatures\n",
    "oPredAsset = PredictAssetData(lRawFeatures = lRawFeatures , \n",
    "                              lProcessedFeatures = lProcessedFeatures , \n",
    "                              lSelectedFeatures = lSelectedFeatures,\n",
    "                              lCatFeatures = lCatFeatures)"
   ]
  },
  {
   "cell_type": "code",
   "execution_count": 7,
   "metadata": {},
   "outputs": [],
   "source": [
    "dfData = oPredAsset.ValidateData(dfData)"
   ]
  },
  {
   "cell_type": "code",
   "execution_count": 8,
   "metadata": {},
   "outputs": [],
   "source": [
    "# Caclucte Features\n",
    "# We just calculate 4 features for this phase test\n",
    "\n",
    "dfData = oPredAsset.CalculateFeatures(dfData)"
   ]
  },
  {
   "cell_type": "code",
   "execution_count": 9,
   "metadata": {},
   "outputs": [],
   "source": [
    "# Gen Data for Prediction\n",
    "# This creates a different file which is a subset of teh columns in `dfData` and with NaN and `inf` removed\n",
    "dfX = oPredAsset.GenDataPredict(dfData)"
   ]
  },
  {
   "cell_type": "code",
   "execution_count": 10,
   "metadata": {},
   "outputs": [
    {
     "data": {
      "image/png": "[encoded data removed]",
      "text/plain": [
       "<Figure size 432x288 with 2 Axes>"
      ]
     },
     "metadata": {
      "needs_background": "light"
     },
     "output_type": "display_data"
    },
    {
     "name": "stdout",
     "output_type": "stream",
     "text": [
      "Accuracy         0.999462\n",
      "F1               0.213592\n",
      "Precision        0.785714\n",
      "Recall           0.123596\n",
      "ROC AUC Score    0.561788\n",
      "dtype: float64\n"
     ]
    },
    {
     "data": {
      "image/png": "[encoded data removed]",
      "text/plain": [
       "<Figure size 432x288 with 2 Axes>"
      ]
     },
     "metadata": {
      "needs_background": "light"
     },
     "output_type": "display_data"
    },
    {
     "name": "stdout",
     "output_type": "stream",
     "text": [
      "Accuracy         0.998006\n",
      "F1               0.206897\n",
      "Precision        0.857143\n",
      "Recall           0.117647\n",
      "ROC AUC Score    0.558802\n",
      "dtype: float64\n"
     ]
    },
    {
     "data": {
      "image/png": "[encoded data removed]",
      "text/plain": [
       "<Figure size 432x288 with 2 Axes>"
      ]
     },
     "metadata": {
      "needs_background": "light"
     },
     "output_type": "display_data"
    },
    {
     "name": "stdout",
     "output_type": "stream",
     "text": [
      "Accuracy         0.998933\n",
      "F1               0.662281\n",
      "Precision        0.829670\n",
      "Recall           0.551095\n",
      "ROC AUC Score    0.775440\n",
      "dtype: float64\n"
     ]
    }
   ],
   "source": [
    "oPredAsset.TrainModel(dfX)"
   ]
  },
  {
   "cell_type": "code",
   "execution_count": null,
   "metadata": {},
   "outputs": [],
   "source": []
  },
  {
   "cell_type": "code",
   "execution_count": null,
   "metadata": {},
   "outputs": [],
   "source": []
  },
  {
   "cell_type": "code",
   "execution_count": null,
   "metadata": {},
   "outputs": [],
   "source": [
    "# Predict Labels\n",
    "# Updated the `Label` column in dfData\n",
    "dfData = oPredAsset.PredictLabels(dfX, dfData)"
   ]
  },
  {
   "cell_type": "code",
   "execution_count": null,
   "metadata": {},
   "outputs": [],
   "source": [
    "dfData['Label']"
   ]
  },
  {
   "cell_type": "code",
   "execution_count": null,
   "metadata": {},
   "outputs": [],
   "source": [
    "a = [1,2,3,4]"
   ]
  },
  {
   "cell_type": "code",
   "execution_count": null,
   "metadata": {},
   "outputs": [],
   "source": [
    "a[a.index(3)] = 5"
   ]
  },
  {
   "cell_type": "code",
   "execution_count": null,
   "metadata": {},
   "outputs": [],
   "source": [
    "a"
   ]
  },
  {
   "cell_type": "code",
   "execution_count": null,
   "metadata": {},
   "outputs": [],
   "source": []
  }
 ],
 "metadata": {
  "kernelspec": {
   "display_name": "Python 3.10.5 64-bit",
   "language": "python",
   "name": "python3"
  },
  "language_info": {
   "codemirror_mode": {
    "name": "ipython",
    "version": 3
   },
   "file_extension": ".py",
   "mimetype": "text/x-python",
   "name": "python",
   "nbconvert_exporter": "python",
   "pygments_lexer": "ipython3",
   "version": "3.10.5"
  },
  "orig_nbformat": 4,
  "vscode": {
   "interpreter": {
    "hash": "b6213e0af081d56db034f795ff49d96980936e2ae540dda57fc6c3cbea6a5fc9"
   }
  }
 },
 "nbformat": 4,
 "nbformat_minor": 2
}
