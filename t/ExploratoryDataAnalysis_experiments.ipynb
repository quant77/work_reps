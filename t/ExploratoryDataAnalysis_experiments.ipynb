{
 "cells": [
  {
   "cell_type": "code",
   "execution_count": 1,
   "metadata": {},
   "outputs": [],
   "source": [
    "# General Tools\n",
    "import numpy as np\n",
    "import scipy as sp\n",
    "import pandas as pd\n",
    "\n",
    "# Misc\n",
    "import datetime\n",
    "import os\n",
    "from platform import python_version\n",
    "import random\n",
    "import warnings\n",
    "\n",
    "# EDA Tools\n",
    "import ppscore as pps #<! See https://github.com/8080labs/ppscore -> pip install git+https://github.com/8080labs/ppscore.git\n",
    "\n",
    "# Machine Learning\n",
    "from sklearn.discriminant_analysis import LinearDiscriminantAnalysis as LDA\n",
    "from sklearn.manifold import TSNE\n",
    "# from sklearn.naive_bayes import GaussianNB\n",
    "from sklearn.pipeline import Pipeline\n",
    "from sklearn.preprocessing import StandardScaler\n",
    "\n",
    "# Metrics\n",
    "from sklearn.metrics import confusion_matrix, fbeta_score, precision_score, recall_score\n",
    "from sklearn.model_selection import GridSearchCV, StratifiedKFold, StratifiedGroupKFold, train_test_split\n",
    "\n",
    "# Ensemble Engines\n",
    "from catboost import CatBoostClassifier, Pool\n",
    "from lightgbm import LGBMClassifier\n",
    "from xgboost import XGBClassifier\n",
    "from sklearn.ensemble import RandomForestClassifier\n",
    "\n",
    "# Visualization\n",
    "import matplotlib.pyplot as plt\n",
    "import matplotlib.gridspec as gridspec\n",
    "import seaborn as sns\n",
    "from bokeh.plotting import figure, show\n",
    "\n",
    "# Jupyter\n",
    "from ipywidgets import interact, Dropdown, Layout"
   ]
  },
  {
   "cell_type": "code",
   "execution_count": 2,
   "metadata": {},
   "outputs": [],
   "source": [
    "# Configuration\n",
    "%matplotlib inline\n",
    "\n",
    "warnings.filterwarnings(\"ignore\")\n",
    "\n",
    "seedNum = 512\n",
    "np.random.seed(seedNum)\n",
    "random.seed(seedNum)\n",
    "\n",
    "sns.set_theme() #>! Apply SeaBorn theme"
   ]
  },
  {
   "cell_type": "code",
   "execution_count": 3,
   "metadata": {},
   "outputs": [],
   "source": [
    "# Constants\n",
    "\n",
    "DATA_FOLDER_NAME    = 'BlockChainAttacksDataSet'\n",
    "DATA_FOLDER_PATTERN = 'DataSet0'\n",
    "DATA_FILE_EXT       = 'csv'\n",
    "\n",
    "PROJECT_DIR_NAME = 'CyVers' #<! Royi: Anton, don't change it, it should be a team constant\n",
    "PROJECT_DIR_PATH = os.path.join(os.getcwd()[:os.getcwd().find(PROJECT_DIR_NAME)], PROJECT_DIR_NAME) #>! Pay attention, it will create issues in cases you name the folder `CyVersMe` or anything after / before `CyVers`\n",
    "\n",
    "# Feature extractors constants\n",
    "\n",
    "TRAIN_BY_TSX    = 1\n",
    "TRAIN_BY_FILES  = 2"
   ]
  },
  {
   "cell_type": "code",
   "execution_count": 4,
   "metadata": {},
   "outputs": [],
   "source": [
    "# CyVers Packages\n",
    "from DataSetsAuxFun import *"
   ]
  },
  {
   "cell_type": "code",
   "execution_count": 5,
   "metadata": {},
   "outputs": [],
   "source": [
    "# Parameters\n",
    "dataSetRotoDir = os.path.join(PROJECT_DIR_PATH, DATA_FOLDER_NAME)\n",
    "\n",
    "# Features Analysis\n",
    "numCrossValPps = 4\n",
    "\n",
    "# Training\n",
    "trainMode = TRAIN_BY_FILES\n",
    "testSetRatio = 1 / 3\n",
    "numKFolds = 3\n",
    "gridSearchScore = 'f1' #<! Use strings from `sklearn.metrics.get_scorer_names()`\n",
    "gridSearchScore = 'recall' #<! We need to have better PD\n",
    "\n",
    "# Amount USD Outlier threshold\n",
    "amountUsdOutlierThr = 1e9\n",
    "\n",
    "randomState = 42\n",
    "\n",
    "lSlctedFeaturesRaw    = ['Amount', 'Currency', 'Currency Type', 'Amount [USD]', 'Receiver Type', 'Gas Price', 'Gas Limit', 'Gas Used' ]#lSlctedFeaturesRaw    = ['Amount', 'Currency', 'Amount [USD]', 'Receiver Type']\n",
    "lSlctedFeaturesCalc   = [enumObj.name for enumObj in FeatureName if ((enumObj is not FeatureName.TIME_MAX) and (enumObj is not FeatureName.TIME_MIN))]\n",
    "lSlctdFeatures        = lSlctedFeaturesRaw + lSlctedFeaturesCalc\n",
    "lCatFeatures          = ['Currency', 'Currency Type', 'Receiver Type']#lCatFeatures          = ['Currency', 'Receiver Type']\n",
    "# lFeaturesRemove       = [FeatureName.TIME_MAX.name, FeatureName.TIME_MIN.name] #<! Auxiliary features to be removed before processing\n",
    "\n",
    "timeColStr = 'Block Time'"
   ]
  },
  {
   "cell_type": "code",
   "execution_count": 6,
   "metadata": {},
   "outputs": [
    {
     "name": "stdout",
     "output_type": "stream",
     "text": [
      "The number of file found: 328\n",
      "The number of rows (Samples): 1845647, The number of columns: 20, number of unique sender id's: (328,)\n",
      "The data list of columns is: Index(['Transaction ID', 'Transaction Time', 'Block Time', 'Sender ID',\n",
      "       'Receiver ID', 'Receiver Type', 'Amount', 'Currency', 'Currency Hash',\n",
      "       'Currency Type', 'Amount [USD]', 'Gas Price', 'Gas Limit', 'Gas Used',\n",
      "       'Gas Predicted', 'Balance In', 'Balance Out', 'Label', 'Risk Level',\n",
      "       'File Name'],\n",
      "      dtype='object') with 20 columns\n"
     ]
    }
   ],
   "source": [
    "# Loading / Generating Data\n",
    "lCsvFile = ExtractCsvFiles(dataSetRotoDir, folderNamePattern = DATA_FOLDER_PATTERN)\n",
    "print(f'The number of file found: {len(lCsvFile)}')\n",
    "\n",
    "# dfData = pd.read_csv(os.path.join(DATA_FOLDER_NAME, csvFileName))\n",
    "dfData, dAssetFile = LoadCsvFilesDf(lCsvFile, baseFoldePath = '', addFileNameCol = True)\n",
    "numRows, numCols = dfData.shape\n",
    "\n",
    "print(f\"The number of rows (Samples): {numRows}, The number of columns: {numCols}, number of unique sender id's: {dfData['Sender ID'].unique().shape}\")\n",
    "print(f'The data list of columns is: {dfData.columns} with {len(dfData.columns)} columns')"
   ]
  },
  {
   "cell_type": "code",
   "execution_count": 7,
   "metadata": {},
   "outputs": [],
   "source": [
    "# Convert time data into Pandas format\n",
    "dfData[timeColStr] = pd.to_datetime(dfData[timeColStr], infer_datetime_format = 'True') #<! Stable time format"
   ]
  },
  {
   "cell_type": "code",
   "execution_count": 8,
   "metadata": {},
   "outputs": [],
   "source": [
    "# Sort data by transaction date\n",
    "dfData.sort_values(timeColStr, inplace = True)\n",
    "# dfData.reset_index(drop = True, inplace = True)"
   ]
  },
  {
   "cell_type": "code",
   "execution_count": 9,
   "metadata": {},
   "outputs": [
    {
     "data": {
      "text/html": [
       "<div>\n",
       "<style scoped>\n",
       "    .dataframe tbody tr th:only-of-type {\n",
       "        vertical-align: middle;\n",
       "    }\n",
       "\n",
       "    .dataframe tbody tr th {\n",
       "        vertical-align: top;\n",
       "    }\n",
       "\n",
       "    .dataframe thead th {\n",
       "        text-align: right;\n",
       "    }\n",
       "</style>\n",
       "<table border=\"1\" class=\"dataframe\">\n",
       "  <thead>\n",
       "    <tr style=\"text-align: right;\">\n",
       "      <th></th>\n",
       "      <th>Transaction ID</th>\n",
       "      <th>Transaction Time</th>\n",
       "      <th>Block Time</th>\n",
       "      <th>Sender ID</th>\n",
       "      <th>Receiver ID</th>\n",
       "      <th>Receiver Type</th>\n",
       "      <th>Amount</th>\n",
       "      <th>Currency</th>\n",
       "      <th>Currency Hash</th>\n",
       "      <th>Currency Type</th>\n",
       "      <th>Amount [USD]</th>\n",
       "      <th>Gas Price</th>\n",
       "      <th>Gas Limit</th>\n",
       "      <th>Gas Used</th>\n",
       "      <th>Gas Predicted</th>\n",
       "      <th>Balance In</th>\n",
       "      <th>Balance Out</th>\n",
       "      <th>Label</th>\n",
       "      <th>Risk Level</th>\n",
       "      <th>File Name</th>\n",
       "    </tr>\n",
       "  </thead>\n",
       "  <tbody>\n",
       "    <tr>\n",
       "      <th>905528</th>\n",
       "      <td>0x2971c7bcbf18c57a2879b07a0f6dbbc14b7c928a0335...</td>\n",
       "      <td>NaN</td>\n",
       "      <td>2016-02-12 11:01:25+00:00</td>\n",
       "      <td>0x537bf75de19f3d229e3a9018ee1a23c0c9c7d39c</td>\n",
       "      <td>0x537bf75de19f3d229e3a9018ee1a23c0c9c7d39c</td>\n",
       "      <td>Wallet</td>\n",
       "      <td>0.500000</td>\n",
       "      <td>ETH</td>\n",
       "      <td>0x0000000000000000000000000000000000000000</td>\n",
       "      <td>NaN</td>\n",
       "      <td>2.737825</td>\n",
       "      <td>5.000000e-08</td>\n",
       "      <td>121000.0</td>\n",
       "      <td>21000</td>\n",
       "      <td>NaN</td>\n",
       "      <td>NaN</td>\n",
       "      <td>NaN</td>\n",
       "      <td>0</td>\n",
       "      <td>NaN</td>\n",
       "      <td>Furucombo006.csv</td>\n",
       "    </tr>\n",
       "    <tr>\n",
       "      <th>905527</th>\n",
       "      <td>0xc18b50d6311d2de6f6bfd450a38291297eb0e1c96320...</td>\n",
       "      <td>NaN</td>\n",
       "      <td>2016-05-11 09:23:12+00:00</td>\n",
       "      <td>0x537bf75de19f3d229e3a9018ee1a23c0c9c7d39c</td>\n",
       "      <td>0xbb9bc244d798123fde783fcc1c72d3bb8c189413</td>\n",
       "      <td>Token</td>\n",
       "      <td>50.000000</td>\n",
       "      <td>ETH</td>\n",
       "      <td>0x0000000000000000000000000000000000000000</td>\n",
       "      <td>NaN</td>\n",
       "      <td>499.065146</td>\n",
       "      <td>3.221000e-08</td>\n",
       "      <td>174091.0</td>\n",
       "      <td>74091</td>\n",
       "      <td>NaN</td>\n",
       "      <td>NaN</td>\n",
       "      <td>NaN</td>\n",
       "      <td>0</td>\n",
       "      <td>NaN</td>\n",
       "      <td>Furucombo006.csv</td>\n",
       "    </tr>\n",
       "    <tr>\n",
       "      <th>905526</th>\n",
       "      <td>0x29d0b83aeead81925d6df3a5c252bb759811fbc5bb5d...</td>\n",
       "      <td>NaN</td>\n",
       "      <td>2016-05-13 11:44:02+00:00</td>\n",
       "      <td>0x537bf75de19f3d229e3a9018ee1a23c0c9c7d39c</td>\n",
       "      <td>0x335195726ba56b51cbd5d569c0aa5ccf5c1f4e28</td>\n",
       "      <td>Wallet</td>\n",
       "      <td>26.000000</td>\n",
       "      <td>ETH</td>\n",
       "      <td>0x0000000000000000000000000000000000000000</td>\n",
       "      <td>NaN</td>\n",
       "      <td>275.227201</td>\n",
       "      <td>3.221000e-08</td>\n",
       "      <td>121000.0</td>\n",
       "      <td>21000</td>\n",
       "      <td>NaN</td>\n",
       "      <td>NaN</td>\n",
       "      <td>NaN</td>\n",
       "      <td>0</td>\n",
       "      <td>NaN</td>\n",
       "      <td>Furucombo006.csv</td>\n",
       "    </tr>\n",
       "    <tr>\n",
       "      <th>905525</th>\n",
       "      <td>0x292d05383a2d9150c5b24718ceef760608561469222f...</td>\n",
       "      <td>NaN</td>\n",
       "      <td>2016-05-19 07:50:40+00:00</td>\n",
       "      <td>0x537bf75de19f3d229e3a9018ee1a23c0c9c7d39c</td>\n",
       "      <td>0x335195726ba56b51cbd5d569c0aa5ccf5c1f4e28</td>\n",
       "      <td>Wallet</td>\n",
       "      <td>50.000000</td>\n",
       "      <td>ETH</td>\n",
       "      <td>0x0000000000000000000000000000000000000000</td>\n",
       "      <td>NaN</td>\n",
       "      <td>735.916238</td>\n",
       "      <td>2.000000e-08</td>\n",
       "      <td>121000.0</td>\n",
       "      <td>21000</td>\n",
       "      <td>NaN</td>\n",
       "      <td>NaN</td>\n",
       "      <td>NaN</td>\n",
       "      <td>0</td>\n",
       "      <td>NaN</td>\n",
       "      <td>Furucombo006.csv</td>\n",
       "    </tr>\n",
       "    <tr>\n",
       "      <th>905524</th>\n",
       "      <td>0x4020de95411dd43e8613588f07a8e9643093c8e9c9a2...</td>\n",
       "      <td>NaN</td>\n",
       "      <td>2016-05-20 12:29:30+00:00</td>\n",
       "      <td>0x537bf75de19f3d229e3a9018ee1a23c0c9c7d39c</td>\n",
       "      <td>0x335195726ba56b51cbd5d569c0aa5ccf5c1f4e28</td>\n",
       "      <td>Wallet</td>\n",
       "      <td>100.000000</td>\n",
       "      <td>ETH</td>\n",
       "      <td>0x0000000000000000000000000000000000000000</td>\n",
       "      <td>NaN</td>\n",
       "      <td>1369.368343</td>\n",
       "      <td>2.000000e-08</td>\n",
       "      <td>121000.0</td>\n",
       "      <td>21000</td>\n",
       "      <td>NaN</td>\n",
       "      <td>NaN</td>\n",
       "      <td>NaN</td>\n",
       "      <td>0</td>\n",
       "      <td>NaN</td>\n",
       "      <td>Furucombo006.csv</td>\n",
       "    </tr>\n",
       "    <tr>\n",
       "      <th>905523</th>\n",
       "      <td>0xde1fb69bc6f78d32413ef8cc800ee4379855636c8daa...</td>\n",
       "      <td>NaN</td>\n",
       "      <td>2016-07-20 13:30:33+00:00</td>\n",
       "      <td>0x537bf75de19f3d229e3a9018ee1a23c0c9c7d39c</td>\n",
       "      <td>0xbf4ed7b27f1d666546e30d74d50d173d20bca754</td>\n",
       "      <td>Smart Contract</td>\n",
       "      <td>5000.000000</td>\n",
       "      <td>DAO</td>\n",
       "      <td>0xbb9bc244d798123fde783fcc1c72d3bb8c189413</td>\n",
       "      <td>ERC20</td>\n",
       "      <td>NaN</td>\n",
       "      <td>2.000000e-08</td>\n",
       "      <td>158971.0</td>\n",
       "      <td>43971</td>\n",
       "      <td>NaN</td>\n",
       "      <td>NaN</td>\n",
       "      <td>NaN</td>\n",
       "      <td>0</td>\n",
       "      <td>NaN</td>\n",
       "      <td>Furucombo006.csv</td>\n",
       "    </tr>\n",
       "    <tr>\n",
       "      <th>509135</th>\n",
       "      <td>0xf8e45e7a318827cd54a415005b30fc67dc4c62e0bb42...</td>\n",
       "      <td>NaN</td>\n",
       "      <td>2016-08-03 10:46:16+00:00</td>\n",
       "      <td>0x022026b542a9aa18aae7d61c54a4c17e448fda6b</td>\n",
       "      <td>0xaa1a6e3e6ef20068f7f8d8c835d2d22fd5116444</td>\n",
       "      <td>NaN</td>\n",
       "      <td>1.000000</td>\n",
       "      <td>ETH</td>\n",
       "      <td>0x0000000000000000000000000000000000000000</td>\n",
       "      <td>NaN</td>\n",
       "      <td>10.221748</td>\n",
       "      <td>5.000000e-08</td>\n",
       "      <td>131561.0</td>\n",
       "      <td>31561</td>\n",
       "      <td>NaN</td>\n",
       "      <td>NaN</td>\n",
       "      <td>NaN</td>\n",
       "      <td>0</td>\n",
       "      <td>NaN</td>\n",
       "      <td>FakeHack137001.csv</td>\n",
       "    </tr>\n",
       "    <tr>\n",
       "      <th>509134</th>\n",
       "      <td>0x056b34ec266003515e00f5c4dba9e07be9acf52a2e39...</td>\n",
       "      <td>NaN</td>\n",
       "      <td>2016-08-03 11:03:28+00:00</td>\n",
       "      <td>0x022026b542a9aa18aae7d61c54a4c17e448fda6b</td>\n",
       "      <td>0xaa1a6e3e6ef20068f7f8d8c835d2d22fd5116444</td>\n",
       "      <td>NaN</td>\n",
       "      <td>1.000000</td>\n",
       "      <td>ETH</td>\n",
       "      <td>0x0000000000000000000000000000000000000000</td>\n",
       "      <td>NaN</td>\n",
       "      <td>10.221748</td>\n",
       "      <td>5.000000e-08</td>\n",
       "      <td>131561.0</td>\n",
       "      <td>31561</td>\n",
       "      <td>NaN</td>\n",
       "      <td>NaN</td>\n",
       "      <td>NaN</td>\n",
       "      <td>0</td>\n",
       "      <td>NaN</td>\n",
       "      <td>FakeHack137001.csv</td>\n",
       "    </tr>\n",
       "    <tr>\n",
       "      <th>509133</th>\n",
       "      <td>0x25f0d4e11d6eb9929b9ddc85a6a2485b93337d65640e...</td>\n",
       "      <td>NaN</td>\n",
       "      <td>2016-08-03 11:37:25+00:00</td>\n",
       "      <td>0x022026b542a9aa18aae7d61c54a4c17e448fda6b</td>\n",
       "      <td>0xaa1a6e3e6ef20068f7f8d8c835d2d22fd5116444</td>\n",
       "      <td>NaN</td>\n",
       "      <td>5.000000</td>\n",
       "      <td>ETH</td>\n",
       "      <td>0x0000000000000000000000000000000000000000</td>\n",
       "      <td>NaN</td>\n",
       "      <td>51.108739</td>\n",
       "      <td>5.000000e-08</td>\n",
       "      <td>131561.0</td>\n",
       "      <td>31561</td>\n",
       "      <td>NaN</td>\n",
       "      <td>NaN</td>\n",
       "      <td>NaN</td>\n",
       "      <td>0</td>\n",
       "      <td>NaN</td>\n",
       "      <td>FakeHack137001.csv</td>\n",
       "    </tr>\n",
       "    <tr>\n",
       "      <th>509132</th>\n",
       "      <td>0x6008875514e32a1fc5152aac6deed0482ff5527aab3d...</td>\n",
       "      <td>NaN</td>\n",
       "      <td>2016-08-03 11:48:55+00:00</td>\n",
       "      <td>0x022026b542a9aa18aae7d61c54a4c17e448fda6b</td>\n",
       "      <td>0xaa1a6e3e6ef20068f7f8d8c835d2d22fd5116444</td>\n",
       "      <td>NaN</td>\n",
       "      <td>27.000000</td>\n",
       "      <td>ETH</td>\n",
       "      <td>0x0000000000000000000000000000000000000000</td>\n",
       "      <td>NaN</td>\n",
       "      <td>275.987191</td>\n",
       "      <td>5.000000e-08</td>\n",
       "      <td>131561.0</td>\n",
       "      <td>31561</td>\n",
       "      <td>NaN</td>\n",
       "      <td>NaN</td>\n",
       "      <td>NaN</td>\n",
       "      <td>0</td>\n",
       "      <td>NaN</td>\n",
       "      <td>FakeHack137001.csv</td>\n",
       "    </tr>\n",
       "    <tr>\n",
       "      <th>509131</th>\n",
       "      <td>0xa7f48ef0dac09e9e4174467c2b0e464a9b89707a2eec...</td>\n",
       "      <td>NaN</td>\n",
       "      <td>2016-08-03 12:21:39+00:00</td>\n",
       "      <td>0x022026b542a9aa18aae7d61c54a4c17e448fda6b</td>\n",
       "      <td>0xaa1a6e3e6ef20068f7f8d8c835d2d22fd5116444</td>\n",
       "      <td>NaN</td>\n",
       "      <td>5.000000</td>\n",
       "      <td>ETH</td>\n",
       "      <td>0x0000000000000000000000000000000000000000</td>\n",
       "      <td>NaN</td>\n",
       "      <td>51.108739</td>\n",
       "      <td>5.000000e-08</td>\n",
       "      <td>131561.0</td>\n",
       "      <td>31561</td>\n",
       "      <td>NaN</td>\n",
       "      <td>NaN</td>\n",
       "      <td>NaN</td>\n",
       "      <td>0</td>\n",
       "      <td>NaN</td>\n",
       "      <td>FakeHack137001.csv</td>\n",
       "    </tr>\n",
       "    <tr>\n",
       "      <th>905522</th>\n",
       "      <td>0xfb4686f9c20f25573ad8e0b67b4dca472270a49f5e47...</td>\n",
       "      <td>NaN</td>\n",
       "      <td>2016-08-28 15:26:36+00:00</td>\n",
       "      <td>0x537bf75de19f3d229e3a9018ee1a23c0c9c7d39c</td>\n",
       "      <td>0x51f4d62b7444f058aba634f9ec43590a9cd768a3</td>\n",
       "      <td>Wallet</td>\n",
       "      <td>8.572152</td>\n",
       "      <td>DGD</td>\n",
       "      <td>0xe0b7927c4af23765cb51314a0e0521a9645f0e2a</td>\n",
       "      <td>ERC20</td>\n",
       "      <td>88.207441</td>\n",
       "      <td>3.221000e-08</td>\n",
       "      <td>150245.0</td>\n",
       "      <td>36525</td>\n",
       "      <td>NaN</td>\n",
       "      <td>NaN</td>\n",
       "      <td>NaN</td>\n",
       "      <td>0</td>\n",
       "      <td>NaN</td>\n",
       "      <td>Furucombo006.csv</td>\n",
       "    </tr>\n",
       "    <tr>\n",
       "      <th>905521</th>\n",
       "      <td>0x14dbc5b173174d831285b69676dcb6bbb7cd1f3b4e11...</td>\n",
       "      <td>NaN</td>\n",
       "      <td>2016-09-25 17:06:46+00:00</td>\n",
       "      <td>0x537bf75de19f3d229e3a9018ee1a23c0c9c7d39c</td>\n",
       "      <td>0x755cdba6ae4f479f7164792b318b2a06c759833b</td>\n",
       "      <td>Smart Contract</td>\n",
       "      <td>0.000000</td>\n",
       "      <td>-</td>\n",
       "      <td>-</td>\n",
       "      <td>-</td>\n",
       "      <td>NaN</td>\n",
       "      <td>3.100000e-08</td>\n",
       "      <td>100000.0</td>\n",
       "      <td>40655</td>\n",
       "      <td>NaN</td>\n",
       "      <td>NaN</td>\n",
       "      <td>NaN</td>\n",
       "      <td>0</td>\n",
       "      <td>NaN</td>\n",
       "      <td>Furucombo006.csv</td>\n",
       "    </tr>\n",
       "    <tr>\n",
       "      <th>905520</th>\n",
       "      <td>0x517c5c9eb46465df40d79946ae8c369a9efcf26b68de...</td>\n",
       "      <td>NaN</td>\n",
       "      <td>2016-09-26 00:00:53+00:00</td>\n",
       "      <td>0x537bf75de19f3d229e3a9018ee1a23c0c9c7d39c</td>\n",
       "      <td>0xaf30d2a7e90d7dc361c8c4585e9bb7d2f6f15bc7</td>\n",
       "      <td>Token</td>\n",
       "      <td>25.000000</td>\n",
       "      <td>ETH</td>\n",
       "      <td>0x0000000000000000000000000000000000000000</td>\n",
       "      <td>NaN</td>\n",
       "      <td>320.468660</td>\n",
       "      <td>3.300000e-08</td>\n",
       "      <td>300000.0</td>\n",
       "      <td>72056</td>\n",
       "      <td>NaN</td>\n",
       "      <td>NaN</td>\n",
       "      <td>NaN</td>\n",
       "      <td>0</td>\n",
       "      <td>NaN</td>\n",
       "      <td>Furucombo006.csv</td>\n",
       "    </tr>\n",
       "    <tr>\n",
       "      <th>905519</th>\n",
       "      <td>0xc1bb43777ef943f1e5f80f7d16967f8858049bb3052e...</td>\n",
       "      <td>NaN</td>\n",
       "      <td>2016-10-01 19:48:52+00:00</td>\n",
       "      <td>0x537bf75de19f3d229e3a9018ee1a23c0c9c7d39c</td>\n",
       "      <td>0x94d9620d4b33b08922f12ddfb15c8d8b08597f5b</td>\n",
       "      <td>Wallet</td>\n",
       "      <td>5.000000</td>\n",
       "      <td>ETH</td>\n",
       "      <td>0x0000000000000000000000000000000000000000</td>\n",
       "      <td>NaN</td>\n",
       "      <td>66.349136</td>\n",
       "      <td>2.300000e-08</td>\n",
       "      <td>21000.0</td>\n",
       "      <td>21000</td>\n",
       "      <td>NaN</td>\n",
       "      <td>NaN</td>\n",
       "      <td>NaN</td>\n",
       "      <td>0</td>\n",
       "      <td>NaN</td>\n",
       "      <td>Furucombo006.csv</td>\n",
       "    </tr>\n",
       "    <tr>\n",
       "      <th>905518</th>\n",
       "      <td>0x092df2a5f78e59a26cf946a15bf32d939632f775659d...</td>\n",
       "      <td>NaN</td>\n",
       "      <td>2016-10-01 19:51:05+00:00</td>\n",
       "      <td>0x537bf75de19f3d229e3a9018ee1a23c0c9c7d39c</td>\n",
       "      <td>0x94d9620d4b33b08922f12ddfb15c8d8b08597f5b</td>\n",
       "      <td>Wallet</td>\n",
       "      <td>150.000000</td>\n",
       "      <td>ETH</td>\n",
       "      <td>0x0000000000000000000000000000000000000000</td>\n",
       "      <td>NaN</td>\n",
       "      <td>1990.474084</td>\n",
       "      <td>2.300000e-08</td>\n",
       "      <td>21000.0</td>\n",
       "      <td>21000</td>\n",
       "      <td>NaN</td>\n",
       "      <td>NaN</td>\n",
       "      <td>NaN</td>\n",
       "      <td>0</td>\n",
       "      <td>NaN</td>\n",
       "      <td>Furucombo006.csv</td>\n",
       "    </tr>\n",
       "    <tr>\n",
       "      <th>905517</th>\n",
       "      <td>0xd820f34137a9871fd538bb32f88c0459f49b33a49b73...</td>\n",
       "      <td>NaN</td>\n",
       "      <td>2016-10-02 11:56:34+00:00</td>\n",
       "      <td>0x537bf75de19f3d229e3a9018ee1a23c0c9c7d39c</td>\n",
       "      <td>0x94d9620d4b33b08922f12ddfb15c8d8b08597f5b</td>\n",
       "      <td>Wallet</td>\n",
       "      <td>179.000000</td>\n",
       "      <td>ETH</td>\n",
       "      <td>0x0000000000000000000000000000000000000000</td>\n",
       "      <td>NaN</td>\n",
       "      <td>2362.425878</td>\n",
       "      <td>3.300000e-08</td>\n",
       "      <td>21000.0</td>\n",
       "      <td>21000</td>\n",
       "      <td>NaN</td>\n",
       "      <td>NaN</td>\n",
       "      <td>NaN</td>\n",
       "      <td>0</td>\n",
       "      <td>NaN</td>\n",
       "      <td>Furucombo006.csv</td>\n",
       "    </tr>\n",
       "    <tr>\n",
       "      <th>905516</th>\n",
       "      <td>0xa8d334d6912d02a6bb02de418a107c03eef15869df24...</td>\n",
       "      <td>NaN</td>\n",
       "      <td>2016-11-11 15:27:42+00:00</td>\n",
       "      <td>0x537bf75de19f3d229e3a9018ee1a23c0c9c7d39c</td>\n",
       "      <td>0xa74476443119a942de498590fe1f2454d7d4ac0d</td>\n",
       "      <td>Token</td>\n",
       "      <td>427.000000</td>\n",
       "      <td>ETH</td>\n",
       "      <td>0x0000000000000000000000000000000000000000</td>\n",
       "      <td>NaN</td>\n",
       "      <td>4395.148299</td>\n",
       "      <td>6.200000e-08</td>\n",
       "      <td>60000.0</td>\n",
       "      <td>50163</td>\n",
       "      <td>NaN</td>\n",
       "      <td>NaN</td>\n",
       "      <td>NaN</td>\n",
       "      <td>0</td>\n",
       "      <td>NaN</td>\n",
       "      <td>Furucombo006.csv</td>\n",
       "    </tr>\n",
       "    <tr>\n",
       "      <th>905515</th>\n",
       "      <td>0x6781dd5a1a42c60bcbdfc12b7c1478656a0a7295b378...</td>\n",
       "      <td>NaN</td>\n",
       "      <td>2016-11-14 11:25:05+00:00</td>\n",
       "      <td>0x537bf75de19f3d229e3a9018ee1a23c0c9c7d39c</td>\n",
       "      <td>0xa7bb8713774cc9a2992affc741e364c710a4d10d</td>\n",
       "      <td>Wallet</td>\n",
       "      <td>10000.000000</td>\n",
       "      <td>GNT</td>\n",
       "      <td>0xa74476443119a942de498590fe1f2454d7d4ac0d</td>\n",
       "      <td>ERC20</td>\n",
       "      <td>NaN</td>\n",
       "      <td>6.400000e-08</td>\n",
       "      <td>51728.0</td>\n",
       "      <td>51728</td>\n",
       "      <td>NaN</td>\n",
       "      <td>NaN</td>\n",
       "      <td>NaN</td>\n",
       "      <td>0</td>\n",
       "      <td>NaN</td>\n",
       "      <td>Furucombo006.csv</td>\n",
       "    </tr>\n",
       "    <tr>\n",
       "      <th>905514</th>\n",
       "      <td>0x66c746aa5eb7f746f8d2ac14ae58832c0006635d97d6...</td>\n",
       "      <td>NaN</td>\n",
       "      <td>2016-11-14 11:48:26+00:00</td>\n",
       "      <td>0x537bf75de19f3d229e3a9018ee1a23c0c9c7d39c</td>\n",
       "      <td>0xa7bb8713774cc9a2992affc741e364c710a4d10d</td>\n",
       "      <td>Wallet</td>\n",
       "      <td>20000.000000</td>\n",
       "      <td>GNT</td>\n",
       "      <td>0xa74476443119a942de498590fe1f2454d7d4ac0d</td>\n",
       "      <td>ERC20</td>\n",
       "      <td>NaN</td>\n",
       "      <td>6.400000e-08</td>\n",
       "      <td>51728.0</td>\n",
       "      <td>51728</td>\n",
       "      <td>NaN</td>\n",
       "      <td>NaN</td>\n",
       "      <td>NaN</td>\n",
       "      <td>0</td>\n",
       "      <td>NaN</td>\n",
       "      <td>Furucombo006.csv</td>\n",
       "    </tr>\n",
       "  </tbody>\n",
       "</table>\n",
       "</div>"
      ],
      "text/plain": [
       "                                           Transaction ID  Transaction Time  \\\n",
       "905528  0x2971c7bcbf18c57a2879b07a0f6dbbc14b7c928a0335...               NaN   \n",
       "905527  0xc18b50d6311d2de6f6bfd450a38291297eb0e1c96320...               NaN   \n",
       "905526  0x29d0b83aeead81925d6df3a5c252bb759811fbc5bb5d...               NaN   \n",
       "905525  0x292d05383a2d9150c5b24718ceef760608561469222f...               NaN   \n",
       "905524  0x4020de95411dd43e8613588f07a8e9643093c8e9c9a2...               NaN   \n",
       "905523  0xde1fb69bc6f78d32413ef8cc800ee4379855636c8daa...               NaN   \n",
       "509135  0xf8e45e7a318827cd54a415005b30fc67dc4c62e0bb42...               NaN   \n",
       "509134  0x056b34ec266003515e00f5c4dba9e07be9acf52a2e39...               NaN   \n",
       "509133  0x25f0d4e11d6eb9929b9ddc85a6a2485b93337d65640e...               NaN   \n",
       "509132  0x6008875514e32a1fc5152aac6deed0482ff5527aab3d...               NaN   \n",
       "509131  0xa7f48ef0dac09e9e4174467c2b0e464a9b89707a2eec...               NaN   \n",
       "905522  0xfb4686f9c20f25573ad8e0b67b4dca472270a49f5e47...               NaN   \n",
       "905521  0x14dbc5b173174d831285b69676dcb6bbb7cd1f3b4e11...               NaN   \n",
       "905520  0x517c5c9eb46465df40d79946ae8c369a9efcf26b68de...               NaN   \n",
       "905519  0xc1bb43777ef943f1e5f80f7d16967f8858049bb3052e...               NaN   \n",
       "905518  0x092df2a5f78e59a26cf946a15bf32d939632f775659d...               NaN   \n",
       "905517  0xd820f34137a9871fd538bb32f88c0459f49b33a49b73...               NaN   \n",
       "905516  0xa8d334d6912d02a6bb02de418a107c03eef15869df24...               NaN   \n",
       "905515  0x6781dd5a1a42c60bcbdfc12b7c1478656a0a7295b378...               NaN   \n",
       "905514  0x66c746aa5eb7f746f8d2ac14ae58832c0006635d97d6...               NaN   \n",
       "\n",
       "                      Block Time                                   Sender ID  \\\n",
       "905528 2016-02-12 11:01:25+00:00  0x537bf75de19f3d229e3a9018ee1a23c0c9c7d39c   \n",
       "905527 2016-05-11 09:23:12+00:00  0x537bf75de19f3d229e3a9018ee1a23c0c9c7d39c   \n",
       "905526 2016-05-13 11:44:02+00:00  0x537bf75de19f3d229e3a9018ee1a23c0c9c7d39c   \n",
       "905525 2016-05-19 07:50:40+00:00  0x537bf75de19f3d229e3a9018ee1a23c0c9c7d39c   \n",
       "905524 2016-05-20 12:29:30+00:00  0x537bf75de19f3d229e3a9018ee1a23c0c9c7d39c   \n",
       "905523 2016-07-20 13:30:33+00:00  0x537bf75de19f3d229e3a9018ee1a23c0c9c7d39c   \n",
       "509135 2016-08-03 10:46:16+00:00  0x022026b542a9aa18aae7d61c54a4c17e448fda6b   \n",
       "509134 2016-08-03 11:03:28+00:00  0x022026b542a9aa18aae7d61c54a4c17e448fda6b   \n",
       "509133 2016-08-03 11:37:25+00:00  0x022026b542a9aa18aae7d61c54a4c17e448fda6b   \n",
       "509132 2016-08-03 11:48:55+00:00  0x022026b542a9aa18aae7d61c54a4c17e448fda6b   \n",
       "509131 2016-08-03 12:21:39+00:00  0x022026b542a9aa18aae7d61c54a4c17e448fda6b   \n",
       "905522 2016-08-28 15:26:36+00:00  0x537bf75de19f3d229e3a9018ee1a23c0c9c7d39c   \n",
       "905521 2016-09-25 17:06:46+00:00  0x537bf75de19f3d229e3a9018ee1a23c0c9c7d39c   \n",
       "905520 2016-09-26 00:00:53+00:00  0x537bf75de19f3d229e3a9018ee1a23c0c9c7d39c   \n",
       "905519 2016-10-01 19:48:52+00:00  0x537bf75de19f3d229e3a9018ee1a23c0c9c7d39c   \n",
       "905518 2016-10-01 19:51:05+00:00  0x537bf75de19f3d229e3a9018ee1a23c0c9c7d39c   \n",
       "905517 2016-10-02 11:56:34+00:00  0x537bf75de19f3d229e3a9018ee1a23c0c9c7d39c   \n",
       "905516 2016-11-11 15:27:42+00:00  0x537bf75de19f3d229e3a9018ee1a23c0c9c7d39c   \n",
       "905515 2016-11-14 11:25:05+00:00  0x537bf75de19f3d229e3a9018ee1a23c0c9c7d39c   \n",
       "905514 2016-11-14 11:48:26+00:00  0x537bf75de19f3d229e3a9018ee1a23c0c9c7d39c   \n",
       "\n",
       "                                       Receiver ID   Receiver Type  \\\n",
       "905528  0x537bf75de19f3d229e3a9018ee1a23c0c9c7d39c          Wallet   \n",
       "905527  0xbb9bc244d798123fde783fcc1c72d3bb8c189413           Token   \n",
       "905526  0x335195726ba56b51cbd5d569c0aa5ccf5c1f4e28          Wallet   \n",
       "905525  0x335195726ba56b51cbd5d569c0aa5ccf5c1f4e28          Wallet   \n",
       "905524  0x335195726ba56b51cbd5d569c0aa5ccf5c1f4e28          Wallet   \n",
       "905523  0xbf4ed7b27f1d666546e30d74d50d173d20bca754  Smart Contract   \n",
       "509135  0xaa1a6e3e6ef20068f7f8d8c835d2d22fd5116444             NaN   \n",
       "509134  0xaa1a6e3e6ef20068f7f8d8c835d2d22fd5116444             NaN   \n",
       "509133  0xaa1a6e3e6ef20068f7f8d8c835d2d22fd5116444             NaN   \n",
       "509132  0xaa1a6e3e6ef20068f7f8d8c835d2d22fd5116444             NaN   \n",
       "509131  0xaa1a6e3e6ef20068f7f8d8c835d2d22fd5116444             NaN   \n",
       "905522  0x51f4d62b7444f058aba634f9ec43590a9cd768a3          Wallet   \n",
       "905521  0x755cdba6ae4f479f7164792b318b2a06c759833b  Smart Contract   \n",
       "905520  0xaf30d2a7e90d7dc361c8c4585e9bb7d2f6f15bc7           Token   \n",
       "905519  0x94d9620d4b33b08922f12ddfb15c8d8b08597f5b          Wallet   \n",
       "905518  0x94d9620d4b33b08922f12ddfb15c8d8b08597f5b          Wallet   \n",
       "905517  0x94d9620d4b33b08922f12ddfb15c8d8b08597f5b          Wallet   \n",
       "905516  0xa74476443119a942de498590fe1f2454d7d4ac0d           Token   \n",
       "905515  0xa7bb8713774cc9a2992affc741e364c710a4d10d          Wallet   \n",
       "905514  0xa7bb8713774cc9a2992affc741e364c710a4d10d          Wallet   \n",
       "\n",
       "              Amount Currency                               Currency Hash  \\\n",
       "905528      0.500000      ETH  0x0000000000000000000000000000000000000000   \n",
       "905527     50.000000      ETH  0x0000000000000000000000000000000000000000   \n",
       "905526     26.000000      ETH  0x0000000000000000000000000000000000000000   \n",
       "905525     50.000000      ETH  0x0000000000000000000000000000000000000000   \n",
       "905524    100.000000      ETH  0x0000000000000000000000000000000000000000   \n",
       "905523   5000.000000      DAO  0xbb9bc244d798123fde783fcc1c72d3bb8c189413   \n",
       "509135      1.000000      ETH  0x0000000000000000000000000000000000000000   \n",
       "509134      1.000000      ETH  0x0000000000000000000000000000000000000000   \n",
       "509133      5.000000      ETH  0x0000000000000000000000000000000000000000   \n",
       "509132     27.000000      ETH  0x0000000000000000000000000000000000000000   \n",
       "509131      5.000000      ETH  0x0000000000000000000000000000000000000000   \n",
       "905522      8.572152      DGD  0xe0b7927c4af23765cb51314a0e0521a9645f0e2a   \n",
       "905521      0.000000        -                                           -   \n",
       "905520     25.000000      ETH  0x0000000000000000000000000000000000000000   \n",
       "905519      5.000000      ETH  0x0000000000000000000000000000000000000000   \n",
       "905518    150.000000      ETH  0x0000000000000000000000000000000000000000   \n",
       "905517    179.000000      ETH  0x0000000000000000000000000000000000000000   \n",
       "905516    427.000000      ETH  0x0000000000000000000000000000000000000000   \n",
       "905515  10000.000000      GNT  0xa74476443119a942de498590fe1f2454d7d4ac0d   \n",
       "905514  20000.000000      GNT  0xa74476443119a942de498590fe1f2454d7d4ac0d   \n",
       "\n",
       "       Currency Type  Amount [USD]     Gas Price  Gas Limit  Gas Used  \\\n",
       "905528           NaN      2.737825  5.000000e-08   121000.0     21000   \n",
       "905527           NaN    499.065146  3.221000e-08   174091.0     74091   \n",
       "905526           NaN    275.227201  3.221000e-08   121000.0     21000   \n",
       "905525           NaN    735.916238  2.000000e-08   121000.0     21000   \n",
       "905524           NaN   1369.368343  2.000000e-08   121000.0     21000   \n",
       "905523         ERC20           NaN  2.000000e-08   158971.0     43971   \n",
       "509135           NaN     10.221748  5.000000e-08   131561.0     31561   \n",
       "509134           NaN     10.221748  5.000000e-08   131561.0     31561   \n",
       "509133           NaN     51.108739  5.000000e-08   131561.0     31561   \n",
       "509132           NaN    275.987191  5.000000e-08   131561.0     31561   \n",
       "509131           NaN     51.108739  5.000000e-08   131561.0     31561   \n",
       "905522         ERC20     88.207441  3.221000e-08   150245.0     36525   \n",
       "905521             -           NaN  3.100000e-08   100000.0     40655   \n",
       "905520           NaN    320.468660  3.300000e-08   300000.0     72056   \n",
       "905519           NaN     66.349136  2.300000e-08    21000.0     21000   \n",
       "905518           NaN   1990.474084  2.300000e-08    21000.0     21000   \n",
       "905517           NaN   2362.425878  3.300000e-08    21000.0     21000   \n",
       "905516           NaN   4395.148299  6.200000e-08    60000.0     50163   \n",
       "905515         ERC20           NaN  6.400000e-08    51728.0     51728   \n",
       "905514         ERC20           NaN  6.400000e-08    51728.0     51728   \n",
       "\n",
       "        Gas Predicted  Balance In  Balance Out  Label  Risk Level  \\\n",
       "905528            NaN         NaN          NaN      0         NaN   \n",
       "905527            NaN         NaN          NaN      0         NaN   \n",
       "905526            NaN         NaN          NaN      0         NaN   \n",
       "905525            NaN         NaN          NaN      0         NaN   \n",
       "905524            NaN         NaN          NaN      0         NaN   \n",
       "905523            NaN         NaN          NaN      0         NaN   \n",
       "509135            NaN         NaN          NaN      0         NaN   \n",
       "509134            NaN         NaN          NaN      0         NaN   \n",
       "509133            NaN         NaN          NaN      0         NaN   \n",
       "509132            NaN         NaN          NaN      0         NaN   \n",
       "509131            NaN         NaN          NaN      0         NaN   \n",
       "905522            NaN         NaN          NaN      0         NaN   \n",
       "905521            NaN         NaN          NaN      0         NaN   \n",
       "905520            NaN         NaN          NaN      0         NaN   \n",
       "905519            NaN         NaN          NaN      0         NaN   \n",
       "905518            NaN         NaN          NaN      0         NaN   \n",
       "905517            NaN         NaN          NaN      0         NaN   \n",
       "905516            NaN         NaN          NaN      0         NaN   \n",
       "905515            NaN         NaN          NaN      0         NaN   \n",
       "905514            NaN         NaN          NaN      0         NaN   \n",
       "\n",
       "                 File Name  \n",
       "905528    Furucombo006.csv  \n",
       "905527    Furucombo006.csv  \n",
       "905526    Furucombo006.csv  \n",
       "905525    Furucombo006.csv  \n",
       "905524    Furucombo006.csv  \n",
       "905523    Furucombo006.csv  \n",
       "509135  FakeHack137001.csv  \n",
       "509134  FakeHack137001.csv  \n",
       "509133  FakeHack137001.csv  \n",
       "509132  FakeHack137001.csv  \n",
       "509131  FakeHack137001.csv  \n",
       "905522    Furucombo006.csv  \n",
       "905521    Furucombo006.csv  \n",
       "905520    Furucombo006.csv  \n",
       "905519    Furucombo006.csv  \n",
       "905518    Furucombo006.csv  \n",
       "905517    Furucombo006.csv  \n",
       "905516    Furucombo006.csv  \n",
       "905515    Furucombo006.csv  \n",
       "905514    Furucombo006.csv  "
      ]
     },
     "execution_count": 9,
     "metadata": {},
     "output_type": "execute_result"
    }
   ],
   "source": [
    "# Meet the data\n",
    "dfData.head(20)"
   ]
  },
  {
   "cell_type": "markdown",
   "metadata": {},
   "source": [
    "# Pre Processing\n",
    "\n",
    "1. Remove invalid data.\n",
    "2. Remove outliers."
   ]
  },
  {
   "cell_type": "code",
   "execution_count": 10,
   "metadata": {},
   "outputs": [
    {
     "name": "stdout",
     "output_type": "stream",
     "text": [
      "Number of invalid `Amount [USD]`: 163887\n"
     ]
    }
   ],
   "source": [
    "# Detecting invalid `Amount USD`\n",
    "\n",
    "dsInValidTrnsUsd = ((dfData['Amount [USD]'] == 0) | (dfData['Amount [USD]'].isna()) | (dfData['Amount [USD]'] == ''))\n",
    "\n",
    "print(f'Number of invalid `Amount [USD]`: {dsInValidTrnsUsd.sum()}')"
   ]
  },
  {
   "cell_type": "code",
   "execution_count": 11,
   "metadata": {},
   "outputs": [],
   "source": [
    "# Remove invalid data\n",
    "dfData.drop(dfData.index[dsInValidTrnsUsd], inplace = True) #<! Royi: Should we do a reset index?"
   ]
  },
  {
   "cell_type": "code",
   "execution_count": 12,
   "metadata": {},
   "outputs": [
    {
     "name": "stdout",
     "output_type": "stream",
     "text": [
      "Number of outliers `Amount [USD]`: 0\n"
     ]
    }
   ],
   "source": [
    "# Detecting Outliers in the `Amount [USD]`\n",
    "\n",
    "dsOutlierTrnsUsd = ((dfData['Amount [USD]'] >= amountUsdOutlierThr) | (dfData['Amount [USD]'] <= 0))\n",
    "\n",
    "print(f'Number of outliers `Amount [USD]`: {dsOutlierTrnsUsd.sum()}')"
   ]
  },
  {
   "cell_type": "code",
   "execution_count": 13,
   "metadata": {},
   "outputs": [],
   "source": [
    "# Remove outliers\n",
    "dfData.drop(dfData.index[dsOutlierTrnsUsd], inplace = True) #<! Royi: Should we do a reset index?"
   ]
  },
  {
   "cell_type": "code",
   "execution_count": 14,
   "metadata": {},
   "outputs": [
    {
     "name": "stdout",
     "output_type": "stream",
     "text": [
      "The number of rows (Samples): 1681760, The number of columns: 20\n"
     ]
    }
   ],
   "source": [
    "# From now on this is the data to work with\n",
    "numRows, numCols = dfData.shape\n",
    "\n",
    "print(f'The number of rows (Samples): {numRows}, The number of columns: {numCols}')"
   ]
  },
  {
   "cell_type": "markdown",
   "metadata": {},
   "source": [
    "# Meet the Data\n",
    "\n",
    "Basic infomration about the data."
   ]
  },
  {
   "cell_type": "code",
   "execution_count": 15,
   "metadata": {},
   "outputs": [],
   "source": [
    "# Initialize the Pandas Extension (Don't change the Index from now on!)\n",
    "numGrps = dfData.GrpBySender.numGrps"
   ]
  },
  {
   "cell_type": "markdown",
   "metadata": {},
   "source": [
    "### SASA vs. SAMA Cases\n",
    "\n",
    "Definitions:\n",
    "\n",
    " * SASA:\n",
    " * SAMA:\n",
    "\n",
    "**Remark**: Move to:\n",
    "\n",
    "SASASW - Single Asset, Single   Attacks, Single   Wallets  \n",
    "SAMASW - Single Asset, Multiple Attacks, Single   Wallets (SAMA)  \n",
    "SAMAMW - Single Asset, Multiple Attacks, Multiple Wallets (SAMA)  "
   ]
  },
  {
   "cell_type": "code",
   "execution_count": 16,
   "metadata": {},
   "outputs": [],
   "source": [
    "# Analysis of Attack Type\n",
    "# !!! The function `CalcAttackType()` uses the Pandas extension, hence it should be initialized before!\n",
    "dsAttackType, dfAttackType = CalcAttackType(dfData)"
   ]
  },
  {
   "cell_type": "markdown",
   "metadata": {},
   "source": [
    "## Feature Engineering\n",
    "\n",
    "This section adds features and engineers them.  \n",
    "Most features work on the `Sender ID` group.\n",
    "\n",
    "#### Amount Based Features:\n",
    "\n",
    "1. The STD of the user vs the average STD of all other users of the asset.\n",
    "2. The Median of the user vs the average STD of all other users of the asset.\n",
    "3. \n",
    "\n",
    "#### Date Based Features\n",
    "\n",
    "1. The day of the week.\n",
    "2. Weekend.\n",
    "3. Hour of the day.\n",
    "4. STD fo the time difference of the user vs. the avergae of all other users.\n",
    "5. Median fo the time difference of the user vs. the avergae of all other users.\n",
    "\n",
    "**Remark**: For wallets with a lot of activity we need to analyze the \"activity hours\" and profile it.\n",
    "\n",
    "\n",
    "The features are:\n",
    "\n",
    " 1. Day of the Week.\n",
    "\n",
    "Remarks:\n",
    "\n",
    " *  Features x-y are time / frequency related.\n",
    " *  Features z-t are trasnaction realted.\n"
   ]
  },
  {
   "cell_type": "code",
   "execution_count": 17,
   "metadata": {},
   "outputs": [],
   "source": [
    "# Pre Process\n",
    "\n",
    "dfGbs = dfData.GrpBySender"
   ]
  },
  {
   "cell_type": "markdown",
   "metadata": {},
   "source": [
    "### Features per Asset"
   ]
  },
  {
   "cell_type": "code",
   "execution_count": 18,
   "metadata": {},
   "outputs": [],
   "source": [
    "# Features - Amount Based\n",
    "\n",
    "sum_s           = dfGbs.AggBySender(colName = dfGbs.amountUSDColLabel, grpLabel = None, calcType = CalcType.TYPE_SUM)\n",
    "mean_s          = dfGbs.AggBySender(colName = dfGbs.amountUSDColLabel, grpLabel = None, calcType = CalcType.TYPE_MEAN)\n",
    "std_s           = dfGbs.AggBySender(colName = dfGbs.amountUSDColLabel, grpLabel = None, calcType = CalcType.TYPE_STD)\n",
    "var_s           = dfGbs.AggBySender(colName = dfGbs.amountUSDColLabel, grpLabel = None, calcType = CalcType.TYPE_VAR)\n",
    "median_s        = dfGbs.AggBySender(colName = dfGbs.amountUSDColLabel, grpLabel = None, calcType = CalcType.TYPE_MEDIAN)\n",
    "count_s         = dfGbs.AggBySender(colName = dfGbs.amountUSDColLabel, grpLabel = None, calcType = CalcType.TYPE_COUNT)\n",
    "min_s           = dfGbs.AggBySender(colName = dfGbs.amountUSDColLabel, grpLabel = None, calcType = CalcType.TYPE_MIN)\n",
    "max_s           = dfGbs.AggBySender(colName = dfGbs.amountUSDColLabel, grpLabel = None, calcType = CalcType.TYPE_MAX)\n",
    "coint_c         = dfGbs.AggBySender(colName = dfGbs.currencyColLabel, grpLabel = None, calcType = CalcType.TYPE_COUNT_COIN_TYPE)\n",
    "receiver_type_c = dfGbs.AggBySender(colName = dfGbs.receiverTypeColLabel, grpLabel = None, calcType = CalcType.TYPE_COUNT_RECEIVER_TYPE)\n",
    "\n",
    "gas_pr_mean     = dfGbs.AggBySender(colName = dfGbs.gasPriceColLabel, grpLabel = None, calcType = CalcType.TYPE_MEAN)\n",
    "gas_lim_mean    = dfGbs.AggBySender(colName = dfGbs.gasLimitColLabel, grpLabel = None, calcType = CalcType.TYPE_MEAN)\n",
    "gas_used_mean   = dfGbs.AggBySender(colName = dfGbs.gasUsedColLabel, grpLabel = None, calcType = CalcType.TYPE_MEAN)\n",
    "gas_pr_std      = dfGbs.AggBySender(colName = dfGbs.gasPriceColLabel, grpLabel = None, calcType = CalcType.TYPE_STD)\n",
    "gas_lim_std     = dfGbs.AggBySender(colName = dfGbs.gasLimitColLabel, grpLabel = None, calcType = CalcType.TYPE_STD)\n",
    "gas_used_std    = dfGbs.AggBySender(colName = dfGbs.gasUsedColLabel, grpLabel = None, calcType = CalcType.TYPE_STD)\n",
    "gas_pr_med      = dfGbs.AggBySender(colName = dfGbs.gasPriceColLabel, grpLabel = None, calcType = CalcType.TYPE_MEDIAN)\n",
    "gas_lim_med     = dfGbs.AggBySender(colName = dfGbs.gasLimitColLabel, grpLabel = None, calcType = CalcType.TYPE_MEDIAN)\n",
    "gas_used_med    = dfGbs.AggBySender(colName = dfGbs.gasUsedColLabel, grpLabel = None, calcType = CalcType.TYPE_MEDIAN)\n",
    "\n",
    "\n",
    "dfData[FeatureName.AMOUNT_SUM_ASSET.name]          = sum_s\n",
    "dfData[FeatureName.AMOUNT_MEAN_ASSET.name]         = mean_s\n",
    "dfData[FeatureName.AMOUNT_STD_ASSET.name]          = std_s\n",
    "dfData[FeatureName.AMOUNT_VAR_ASSET.name]          = var_s\n",
    "dfData[FeatureName.AMOUNT_MEDIAN_ASSET.name]       = median_s\n",
    "dfData[FeatureName.AMOUNT_MIN_ASSET.name]          = min_s\n",
    "dfData[FeatureName.AMOUNT_MAX_ASSET.name]          = max_s\n",
    "dfData[FeatureName.TSX_COUNT_ASSET.name]           = count_s\n",
    "dfData[FeatureName.COIN_TYPE_COUNT_ASSET.name]     = coint_c\n",
    "dfData[FeatureName.RECEIVER_TYPE_COUNT_ASSET.name] = receiver_type_c\n",
    "\n",
    "dfData[FeatureName.GAS_PRICE_MEAN_ASSET.name] = gas_pr_mean\n",
    "dfData[FeatureName.GAS_PRICE_STD_ASSET.name] = gas_pr_std\n",
    "dfData[FeatureName.GAS_PRICE_MEDIAN_ASSET.name] = gas_pr_med\n",
    "\n",
    "dfData[FeatureName.GAS_LIMIT_MEAN_ASSET.name] = gas_lim_mean\n",
    "dfData[FeatureName.GAS_LIMIT_STD_ASSET.name] = gas_lim_std\n",
    "dfData[FeatureName.GAS_LIMIT_MEDIAN_ASSET.name] = gas_lim_med\n",
    "\n",
    "dfData[FeatureName.GAS_USED_MEAN_ASSET.name] = gas_used_mean\n",
    "dfData[FeatureName.GAS_USED_STD_ASSET.name] = gas_used_std\n",
    "dfData[FeatureName.GAS_USED_MEDIAN_ASSET.name] = gas_used_med\n",
    "\n",
    "#COIN_TYPE_COUNT_USR                 "
   ]
  },
  {
   "cell_type": "code",
   "execution_count": 19,
   "metadata": {},
   "outputs": [],
   "source": [
    "# Features - Time Based\n",
    "\n",
    "td_mean_s   = dfGbs.AggBySender(colName = dfGbs.timeDiffAssetColLabel, grpLabel = None, calcType = CalcType.TYPE_TIME_DIFF_MEAN)\n",
    "td_std_s    = dfGbs.AggBySender(colName = dfGbs.timeDiffAssetColLabel, grpLabel = None, calcType = CalcType.TYPE_TIME_DIFF_STD)\n",
    "td_median_s = dfGbs.AggBySender(colName = dfGbs.timeDiffAssetColLabel, grpLabel = None, calcType = CalcType.TYPE_TIME_DIFF_MEDIAN)\n",
    "td_min_s    = dfGbs.AggBySender(colName = dfGbs.timeDiffAssetColLabel, grpLabel = None, calcType = CalcType.TYPE_TIME_DIFF_MIN)\n",
    "td_max_s    = dfGbs.AggBySender(colName = dfGbs.timeDiffAssetColLabel, grpLabel = None, calcType = CalcType.TYPE_TIME_DIFF_MAX)\n",
    "\n",
    "dfData[FeatureName.TIME_DIFF_MEAN_ASSET.name]   = td_mean_s\n",
    "dfData[FeatureName.TIME_DIFF_STD_ASSET.name]    = td_std_s\n",
    "dfData[FeatureName.TIME_DIFF_MEDIAN_ASSET.name] = td_median_s\n",
    "dfData[FeatureName.TIME_DIFF_MIN_ASSET.name]    = td_min_s\n",
    "dfData[FeatureName.TIME_DIFF_MAX_ASSET.name]    = td_max_s"
   ]
  },
  {
   "cell_type": "markdown",
   "metadata": {},
   "source": [
    "### Features per User"
   ]
  },
  {
   "cell_type": "code",
   "execution_count": 20,
   "metadata": {},
   "outputs": [],
   "source": [
    "# Features - Amount Based (User)\n",
    "\n",
    "sum_s           = dfGbs.AggByReceiver(colName = dfGbs.amountUSDColLabel, grpLabel = None, subGrpLabel = None, calcType = CalcType.TYPE_SUM)\n",
    "mean_s          = dfGbs.AggByReceiver(colName = dfGbs.amountUSDColLabel, grpLabel = None, subGrpLabel = None, calcType = CalcType.TYPE_MEAN)\n",
    "std_s           = dfGbs.AggByReceiver(colName = dfGbs.amountUSDColLabel, grpLabel = None, subGrpLabel = None, calcType = CalcType.TYPE_STD)\n",
    "var_s           = dfGbs.AggByReceiver(colName = dfGbs.amountUSDColLabel, grpLabel = None, subGrpLabel = None, calcType = CalcType.TYPE_VAR)\n",
    "median_s        = dfGbs.AggByReceiver(colName = dfGbs.amountUSDColLabel, grpLabel = None, subGrpLabel = None, calcType = CalcType.TYPE_MEDIAN)\n",
    "count_s         = dfGbs.AggByReceiver(colName = dfGbs.amountUSDColLabel, grpLabel = None, subGrpLabel = None, calcType = CalcType.TYPE_COUNT)\n",
    "min_s           = dfGbs.AggByReceiver(colName = dfGbs.amountUSDColLabel, grpLabel = None, subGrpLabel = None, calcType = CalcType.TYPE_MIN)\n",
    "max_s           = dfGbs.AggByReceiver(colName = dfGbs.amountUSDColLabel, grpLabel = None, subGrpLabel = None, calcType = CalcType.TYPE_MAX)\n",
    "coin_c          = dfGbs.AggByReceiver(colName = dfGbs.currencyColLabel, grpLabel = None, calcType = CalcType.TYPE_COUNT_COIN_TYPE)\n",
    "receiver_type_c = dfGbs.AggByReceiver(colName = dfGbs.receiverTypeColLabel, grpLabel = None, calcType = CalcType.TYPE_COUNT_RECEIVER_TYPE) #<! Royi: We need to check why is it so important?!?!\n",
    "\n",
    "gas_pr_mean     = dfGbs.AggByReceiver(colName = dfGbs.gasPriceColLabel, grpLabel = None, calcType = CalcType.TYPE_MEAN)\n",
    "gas_lim_mean    = dfGbs.AggByReceiver(colName = dfGbs.gasLimitColLabel, grpLabel = None, calcType = CalcType.TYPE_MEAN)\n",
    "gas_used_mean   = dfGbs.AggByReceiver(colName = dfGbs.gasUsedColLabel, grpLabel = None, calcType = CalcType.TYPE_MEAN)\n",
    "\n",
    "gas_pr_std      = dfGbs.AggByReceiver(colName = dfGbs.gasPriceColLabel, grpLabel = None, calcType = CalcType.TYPE_STD)\n",
    "gas_lim_std     = dfGbs.AggByReceiver(colName = dfGbs.gasLimitColLabel, grpLabel = None, calcType = CalcType.TYPE_STD)\n",
    "gas_used_std    = dfGbs.AggByReceiver(colName = dfGbs.gasUsedColLabel, grpLabel = None, calcType = CalcType.TYPE_STD)\n",
    "\n",
    "gas_pr_med      = dfGbs.AggByReceiver(colName = dfGbs.gasPriceColLabel, grpLabel = None, calcType = CalcType.TYPE_MEDIAN)\n",
    "gas_lim_med     = dfGbs.AggByReceiver(colName = dfGbs.gasLimitColLabel, grpLabel = None, calcType = CalcType.TYPE_MEDIAN)\n",
    "gas_used_med    = dfGbs.AggByReceiver(colName = dfGbs.gasUsedColLabel, grpLabel = None, calcType = CalcType.TYPE_MEDIAN)\n",
    "\n",
    "gas_pr_quant    = dfGbs.dfSubGrpByRec[dfGbs.gasPriceColLabel].transform('quantile' ,q =0.75)#dfGbs.AggByReceiver(colName = dfGbs.gasPriceColLabel, grpLabel = None, calcType = CalcType.TYPE_PCTILE)\n",
    "gas_lim_quant   = dfGbs.dfSubGrpByRec[dfGbs.gasLimitColLabel].transform('quantile' ,q =0.75)#dfGbs.AggByReceiver(colName = dfGbs.gasLimitColLabel, grpLabel = None, calcType = CalcType.TYPE_PCTILE)\n",
    "gas_used_quant  = dfGbs.dfSubGrpByRec[dfGbs.gasUsedColLabel].transform('quantile' ,q =0.75)#dfGbs.AggByReceiver(colName = dfGbs.gasUsedColLabel, grpLabel = None, calcType = CalcType.TYPE_PCTILE)\n",
    "\n",
    "\n",
    "dfData[FeatureName.AMOUNT_SUM_USR.name]          = sum_s\n",
    "dfData[FeatureName.AMOUNT_MEAN_USR.name]         = mean_s\n",
    "dfData[FeatureName.AMOUNT_STD_USR.name]          = std_s\n",
    "dfData[FeatureName.AMOUNT_VAR_USR.name]          = var_s\n",
    "dfData[FeatureName.AMOUNT_MEDIAN_USR.name]       = median_s\n",
    "dfData[FeatureName.AMOUNT_MIN_USR.name]          = min_s\n",
    "dfData[FeatureName.AMOUNT_MAX_USR.name]          = max_s\n",
    "dfData[FeatureName.TSX_COUNT_USR.name]           = count_s\n",
    "dfData[FeatureName.COIN_TYPE_COUNT_USR.name]     = coin_c\n",
    "dfData[FeatureName.RECEIVER_TYPE_COUNT_USR.name] = receiver_type_c    \n",
    "\n",
    "dfData[FeatureName.GAS_PRICE_MEAN_USR.name] = gas_pr_mean\n",
    "dfData[FeatureName.GAS_PRICE_STD_USR.name] = gas_pr_std\n",
    "dfData[FeatureName.GAS_PRICE_MEDIAN_USR.name] = gas_pr_med\n",
    "\n",
    "dfData[FeatureName.GAS_LIMIT_MEAN_USR.name] = gas_lim_mean\n",
    "dfData[FeatureName.GAS_LIMIT_STD_USR.name] = gas_lim_std\n",
    "dfData[FeatureName.GAS_LIMIT_MEDIAN_USR.name] = gas_lim_med\n",
    "\n",
    "dfData[FeatureName.GAS_USED_MEAN_USR.name] = gas_used_mean\n",
    "dfData[FeatureName.GAS_USED_STD_USR.name] = gas_used_std\n",
    "dfData[FeatureName.GAS_USED_MEDIAN_USR.name] = gas_used_med\n",
    "\n",
    "dfData[FeatureName.GAS_PRICE_QUANTILE_USR.name] = gas_pr_quant\n",
    "dfData[FeatureName.GAS_LIMIT_QUANTILE_USR.name] = gas_lim_quant\n",
    "dfData[FeatureName.GAS_USED_QUANTILE_USR.name] = gas_used_quant\n"
   ]
  },
  {
   "cell_type": "code",
   "execution_count": 21,
   "metadata": {},
   "outputs": [],
   "source": [
    "# Features - Time Based (User)\n",
    "\n",
    "td_mean_s   = dfGbs.AggByReceiver(colName = dfGbs.timeDiffUserColLabel, grpLabel = None, subGrpLabel = None, calcType = CalcType.TYPE_TIME_DIFF_MEAN)\n",
    "td_std_s    = dfGbs.AggByReceiver(colName = dfGbs.timeDiffUserColLabel, grpLabel = None, subGrpLabel = None, calcType = CalcType.TYPE_TIME_DIFF_STD)\n",
    "td_median_s = dfGbs.AggByReceiver(colName = dfGbs.timeDiffUserColLabel, grpLabel = None, subGrpLabel = None, calcType = CalcType.TYPE_TIME_DIFF_MEDIAN)\n",
    "td_min_s    = dfGbs.AggByReceiver(colName = dfGbs.timeDiffUserColLabel, grpLabel = None, subGrpLabel = None, calcType = CalcType.TYPE_TIME_DIFF_MIN)\n",
    "td_max_s    = dfGbs.AggByReceiver(colName = dfGbs.timeDiffUserColLabel, grpLabel = None, subGrpLabel = None, calcType = CalcType.TYPE_TIME_DIFF_MAX)\n",
    "\n",
    "dfData[FeatureName.TIME_DIFF_MEAN_USR.name]   = td_mean_s\n",
    "dfData[FeatureName.TIME_DIFF_STD_USR.name]    = td_std_s\n",
    "dfData[FeatureName.TIME_DIFF_MEDIAN_USR.name] = td_median_s\n",
    "dfData[FeatureName.TIME_DIFF_MIN_USR.name]    = td_min_s\n",
    "dfData[FeatureName.TIME_DIFF_MAX_USR.name]    = td_max_s"
   ]
  },
  {
   "cell_type": "markdown",
   "metadata": {},
   "source": [
    "### Features based on Transaction Time"
   ]
  },
  {
   "cell_type": "code",
   "execution_count": 22,
   "metadata": {},
   "outputs": [],
   "source": [
    "# Features - Time Based\n",
    "\n",
    "dfData[FeatureName.TIME_HOUR.name]    = dfGbs.GetTimeVals(periodTimeType = PeriodTimeType.HOUR_DAY)\n",
    "dfData[FeatureName.TIME_WEEKDAY.name] = dfGbs.GetTimeVals(periodTimeType = PeriodTimeType.DAY_WEEK)"
   ]
  },
  {
   "cell_type": "markdown",
   "metadata": {},
   "source": [
    "### Features based on Ratios"
   ]
  },
  {
   "cell_type": "code",
   "execution_count": 23,
   "metadata": {},
   "outputs": [],
   "source": [
    "# Ratio Based Features\n",
    "\n",
    "dfData[FeatureName.AMOUNT_MEAN_RATIO_USR_ASSET.name]    = dfData[FeatureName.AMOUNT_MEAN_USR.name] / dfData[FeatureName.AMOUNT_MEAN_ASSET.name]\n",
    "dfData[FeatureName.AMOUNT_STD_RATIO_USR_ASSET.name]    = dfData[FeatureName.AMOUNT_STD_USR.name] / dfData[FeatureName.AMOUNT_STD_ASSET.name]\n",
    "dfData[FeatureName.TIME_DIFF_MEAN_RATIO_USR_ASSET.name] = dfData[FeatureName.TIME_DIFF_MEAN_USR.name] / dfData[FeatureName.TIME_DIFF_MEAN_ASSET.name]\n",
    "dfData[FeatureName.TIME_DIFF_STD_RATIO_USR_ASSET.name] = dfData[FeatureName.TIME_DIFF_STD_USR.name] / dfData[FeatureName.TIME_DIFF_STD_ASSET.name]"
   ]
  },
  {
   "cell_type": "markdown",
   "metadata": {},
   "source": [
    "### Features based on Frequency"
   ]
  },
  {
   "cell_type": "code",
   "execution_count": 24,
   "metadata": {},
   "outputs": [],
   "source": [
    "# Frequency Based Features\n",
    "\n",
    "dfData[FeatureName.TIME_MAX.name] = dfGbs.AggByReceiver(colName = timeColStr, grpLabel = None, subGrpLabel = None, calcType = CalcType.TYPE_MAX)\n",
    "dfData[FeatureName.TIME_MIN.name] = dfGbs.AggByReceiver(colName = timeColStr, grpLabel = None, subGrpLabel = None, calcType = CalcType.TYPE_MIN)\n",
    "\n",
    "dfData[FeatureName.TIME_INTERVL_USR.name] = ((dfData[FeatureName.TIME_MAX.name] - dfData[FeatureName.TIME_MIN.name])).dt.total_seconds()\n",
    "\n",
    "# Frequency of the User Transactions\n",
    "dfData[FeatureName.TSX_FREQ_HZ_USR.name] = dfData[FeatureName.TSX_COUNT_USR.name] / dfData[FeatureName.TIME_INTERVL_USR.name]"
   ]
  },
  {
   "cell_type": "markdown",
   "metadata": {},
   "source": [
    "### Gas ratio features(experimental)"
   ]
  },
  {
   "cell_type": "code",
   "execution_count": 25,
   "metadata": {},
   "outputs": [],
   "source": [
    "#Ratios between the user to the mean of all users.\n",
    "dfData[FeatureName.GAS_PRICE_USR_ASSET_RATIO_MEAN.name] = dfData[FeatureName.GAS_PRICE_MEAN_USR.name] / dfData[FeatureName.GAS_PRICE_MEAN_ASSET.name]\n",
    "dfData[FeatureName.GAS_LIMIT_USR_ASSET_RATIO_MEAN.name] = dfData[FeatureName.GAS_LIMIT_MEAN_USR.name] / dfData[FeatureName.GAS_LIMIT_MEAN_ASSET.name]\n",
    "dfData[FeatureName.GAS_USED_USR_ASSET_RATIO_MEAN.name] = dfData[FeatureName.GAS_USED_MEAN_USR.name] / dfData[FeatureName.GAS_USED_MEAN_ASSET.name] \n",
    "#Gas Price', 'Gas Limit', 'Gas Used'\n",
    "dfData[FeatureName.GAS_PRICE_LIMIT_RATIO.name] = dfData['Gas Price'] / dfData['Gas Limit']\n",
    "dfData[FeatureName.GAS_PRICE_USED_RATIO.name] = dfData['Gas Price'] / dfData['Gas Used']\n",
    "dfData[FeatureName.GAS_USED_LIMIT_RATIO.name] = dfData['Gas Used'] / dfData['Gas Limit'] \n",
    "\n",
    "dfData[FeatureName.GAS_PRICE_LIMIT_RATIO_MEAN.name] = dfData[FeatureName.GAS_PRICE_MEAN_USR.name] / dfData[FeatureName.GAS_LIMIT_MEAN_USR.name]\n",
    "dfData[FeatureName.GAS_PRICE_USED_RATIO_MEAN.name] = dfData[FeatureName.GAS_PRICE_MEAN_USR.name] / dfData[FeatureName.GAS_USED_MEAN_USR.name]\n",
    "dfData[FeatureName.GAS_USED_LIMIT_RATIO_MEAN.name] = dfData[FeatureName.GAS_USED_MEAN_USR.name] / dfData[FeatureName.GAS_PRICE_MEAN_USR.name] \n",
    "\n",
    "\n",
    "#Compare it to 75 quantile (TSX Gas Price / Quantile(75) of Gas Price).\n",
    "dfData[FeatureName.GAS_PRICE_QUANTILE_RATIO.name] = dfData['Gas Price'] / dfData[FeatureName.GAS_PRICE_QUANTILE_USR.name]\n",
    "dfData[FeatureName.GAS_LIMIT_QUANTILE_RATIO.name] = dfData['Gas Limit'] / dfData[FeatureName.GAS_LIMIT_QUANTILE_USR.name]\n",
    "dfData[FeatureName.GAS_USED_QUANTILE_RATIO.name] =  dfData['Gas Used'] / dfData[FeatureName.GAS_USED_QUANTILE_USR.name]"
   ]
  },
  {
   "cell_type": "code",
   "execution_count": 26,
   "metadata": {},
   "outputs": [],
   "source": [
    "#Feature to indicate first transaction\n",
    "dfData[FeatureName.MIN_INDICATOR.name] = 0 ; dfData.loc[dfData[timeColStr] == dfData[FeatureName.TIME_MIN.name], FeatureName.MIN_INDICATOR.name] = 1 \n",
    "### TODO !!! this can be invorrect. it will need a review !!!!!! "
   ]
  },
  {
   "cell_type": "code",
   "execution_count": 27,
   "metadata": {},
   "outputs": [],
   "source": [
    "#56\n",
    "#Create features based on the currency of the transactions:\n",
    "# 1. The number of different types of currencies per user. <-- done previously = dfData[FeatureName.COIN_TYPE_COUNT_USR.name]\n",
    "# 2. The average of the number of types of all user for an asset. <-- groupby asset , mean(number of different types of currencies per user)\n",
    "# 3. The ratio between a specific user to the average of the asset. --> 1/2\n",
    "    \n",
    "\n",
    "dfData[FeatureName.COIN_TYPE_COUNT_USR_MEAN_ASSET.name]    = dfGbs.AvgByUserCoinType()\n",
    "dfData[FeatureName.COIN_TYPE_USR_MEAN_ASSET_RATIO.name]  = dfData[FeatureName.COIN_TYPE_COUNT_USR.name] / dfData[FeatureName.COIN_TYPE_COUNT_USR_MEAN_ASSET.name]\n"
   ]
  },
  {
   "cell_type": "code",
   "execution_count": 28,
   "metadata": {},
   "outputs": [],
   "source": [
    "sama_ids = dfAttackType[dfAttackType['Attack Type'] == 'SAMASW']['Asset ID'].to_list()\n",
    "sasa_ids = dfAttackType[dfAttackType['Attack Type'] == 'SASASW']['Asset ID'].to_list()"
   ]
  },
  {
   "cell_type": "code",
   "execution_count": 29,
   "metadata": {},
   "outputs": [],
   "source": [
    "dfData_sama = dfData[dfData['Sender ID'].isin(sama_ids)]\n",
    "dfData_sasa = dfData[dfData['Sender ID'].isin(sasa_ids)]"
   ]
  },
  {
   "cell_type": "markdown",
   "metadata": {},
   "source": [
    "## Features Pre Processing (For Training Phase)"
   ]
  },
  {
   "cell_type": "code",
   "execution_count": 30,
   "metadata": {},
   "outputs": [],
   "source": [
    "dfData_ = dfData.copy(deep=True) ###<<-- I create a copy of data frame for experiment with categorical variables "
   ]
  },
  {
   "cell_type": "code",
   "execution_count": 32,
   "metadata": {},
   "outputs": [
    {
     "data": {
      "text/plain": [
       "1681760"
      ]
     },
     "execution_count": 32,
     "metadata": {},
     "output_type": "execute_result"
    }
   ],
   "source": [
    "_df = dfData.groupby(['File Name'])['Transaction ID'].count().reset_index(name = 'Count of TSX')\n"
   ]
  },
  {
   "cell_type": "code",
   "execution_count": 53,
   "metadata": {},
   "outputs": [],
   "source": [
    "n_tsx = 1000\n",
    "_files =_df[_df['Count of TSX'] > n_tsx ]['File Name'].to_list()"
   ]
  },
  {
   "cell_type": "code",
   "execution_count": 54,
   "metadata": {},
   "outputs": [],
   "source": [
    "_dfData = dfData[dfData['File Name'].isin(_files)]"
   ]
  },
  {
   "cell_type": "code",
   "execution_count": 55,
   "metadata": {},
   "outputs": [],
   "source": [
    "# Pre Processing Data categorical mine, here dfData_ <-- is used for experiment\n",
    "\n",
    "_dfData.replace([np.inf, -np.inf], np.nan, inplace = True)\n",
    "_dfData.fillna(0, inplace = True)\n",
    "dfX_ = _dfData[lSlctdFeatures].copy()\n",
    "\n",
    "for catColName in lCatFeatures:\n",
    "    dfX_[catColName] = dfX_[catColName].astype(\"category\", copy = False)\n",
    "hStdScaler = StandardScaler()\n",
    "dfX_[lNumericalFeatures] = hStdScaler.fit_transform(dfX_[lNumericalFeatures])\n"
   ]
  },
  {
   "cell_type": "code",
   "execution_count": 56,
   "metadata": {},
   "outputs": [],
   "source": [
    "mX = dfX_[lTotalFeatures]\n",
    "mX.rename(columns = {'Amount [USD]':'Amount USD'}, inplace = True)\n",
    "vY = _dfData['Label']\n"
   ]
  },
  {
   "cell_type": "code",
   "execution_count": 57,
   "metadata": {},
   "outputs": [
    {
     "data": {
      "image/png": "[encoded data removed]",
      "text/plain": [
       "<Figure size 640x480 with 2 Axes>"
      ]
     },
     "metadata": {},
     "output_type": "display_data"
    },
    {
     "name": "stdout",
     "output_type": "stream",
     "text": [
      "Accuracy         0.999326\n",
      "F1               0.719145\n",
      "Precision        0.971129\n",
      "Recall           0.570988\n",
      "ROC AUC Score    0.785481\n",
      "dtype: float64\n"
     ]
    },
    {
     "data": {
      "image/png": "[encoded data removed]",
      "text/plain": [
       "<Figure size 640x480 with 2 Axes>"
      ]
     },
     "metadata": {},
     "output_type": "display_data"
    },
    {
     "name": "stdout",
     "output_type": "stream",
     "text": [
      "Accuracy         0.999290\n",
      "F1               0.566434\n",
      "Precision        0.870968\n",
      "Recall           0.419689\n",
      "ROC AUC Score    0.709810\n",
      "dtype: float64\n"
     ]
    },
    {
     "data": {
      "image/png": "[encoded data removed]",
      "text/plain": [
       "<Figure size 640x480 with 2 Axes>"
      ]
     },
     "metadata": {},
     "output_type": "display_data"
    },
    {
     "name": "stdout",
     "output_type": "stream",
     "text": [
      "Accuracy         0.999391\n",
      "F1               0.697575\n",
      "Precision        0.873214\n",
      "Recall           0.580760\n",
      "ROC AUC Score    0.790329\n",
      "dtype: float64\n"
     ]
    }
   ],
   "source": [
    "hKFoldSplt = StratifiedGroupKFold(n_splits = numKFolds, shuffle = True, random_state = randomState)\n",
    "for vTrainIdx, vTestIdx in hKFoldSplt.split(mX, vY, groups = _dfData['Sender ID']):\n",
    "    mXTrain, mXTest, vYTrain, vYTest = mX.iloc[vTrainIdx], mX.iloc[vTestIdx], vY.iloc[vTrainIdx], vY.iloc[vTestIdx]\n",
    "    xgbModel =XGBClassifier(n_estimators=250, tree_method=\"hist\", max_depth = 20,  random_state=seedNum, enable_categorical=True)\n",
    "    xgbModel.fit(mXTrain, vYTrain)\n",
    "    vYPred = xgbModel.predict(mXTest)\n",
    "    DisplayConfusionMatrix(vYTest, vYPred, lClasses = xgbModel.classes_)\n",
    "    print(GenClassifierSummaryResults(vYTest, vYPred))"
   ]
  },
  {
   "cell_type": "markdown",
   "metadata": {},
   "source": [
    "### K-fold training, using categorical variables (EXPERIMENT)"
   ]
  },
  {
   "cell_type": "code",
   "execution_count": 40,
   "metadata": {},
   "outputs": [],
   "source": [
    "###### only pd.df approach is working, numpy(dtype=object) didn't work so it is not represented\n",
    "#make sure below lists are defined\n",
    "lNumericalFeatures = [featureName for featureName in lSlctdFeatures if featureName not in lCatFeatures]\n",
    "lTotalFeatures = lNumericalFeatures + lCatFeatures\n",
    "feature_types_ = ['c' if x in lCatFeatures  else 'float' for x in lTotalFeatures]#feature_types_ = ['c' if x in lCatFeatures  else float for x in lTotalFeatures]"
   ]
  },
  {
   "cell_type": "code",
   "execution_count": 68,
   "metadata": {},
   "outputs": [],
   "source": [
    "# Pre Processing Data categorical mine, here dfData_ <-- is used for experiment\n",
    "\n",
    "dfData_sasa.replace([np.inf, -np.inf], np.nan, inplace = True)\n",
    "dfData_sasa.fillna(0, inplace = True)\n",
    "dfX_ = dfData_sasa[l_sfs].copy()\n",
    "\n",
    "#for catColName in lCatFeatures:\n",
    "#    dfX_[catColName] = dfX_[catColName].astype(\"category\", copy = False)\n",
    "hStdScaler = StandardScaler()\n",
    "dfX_[l_sfs] = hStdScaler.fit_transform(dfX_[l_sfs])\n"
   ]
  },
  {
   "cell_type": "code",
   "execution_count": 69,
   "metadata": {},
   "outputs": [],
   "source": [
    "mX = dfX_[lTotalFeatures]\n",
    "mX.rename(columns = {'Amount [USD]':'Amount USD'}, inplace = True)\n",
    "vY = dfData_sasa['Label']\n"
   ]
  },
  {
   "cell_type": "code",
   "execution_count": 70,
   "metadata": {},
   "outputs": [
    {
     "data": {
      "image/png": "[encoded data removed]",
      "text/plain": [
       "<Figure size 640x480 with 2 Axes>"
      ]
     },
     "metadata": {},
     "output_type": "display_data"
    },
    {
     "name": "stdout",
     "output_type": "stream",
     "text": [
      "Accuracy         0.998622\n",
      "F1               0.119205\n",
      "Precision        0.081818\n",
      "Recall           0.219512\n",
      "ROC AUC Score    0.609233\n",
      "dtype: float64\n"
     ]
    },
    {
     "data": {
      "image/png": "[encoded data removed]",
      "text/plain": [
       "<Figure size 640x480 with 2 Axes>"
      ]
     },
     "metadata": {},
     "output_type": "display_data"
    },
    {
     "name": "stdout",
     "output_type": "stream",
     "text": [
      "Accuracy         0.999766\n",
      "F1               0.451613\n",
      "Precision        0.636364\n",
      "Recall           0.350000\n",
      "ROC AUC Score    0.674972\n",
      "dtype: float64\n"
     ]
    },
    {
     "data": {
      "image/png": "[encoded data removed]",
      "text/plain": [
       "<Figure size 640x480 with 2 Axes>"
      ]
     },
     "metadata": {},
     "output_type": "display_data"
    },
    {
     "name": "stdout",
     "output_type": "stream",
     "text": [
      "Accuracy         0.999656\n",
      "F1               0.428571\n",
      "Precision        0.666667\n",
      "Recall           0.315789\n",
      "ROC AUC Score    0.657862\n",
      "dtype: float64\n"
     ]
    }
   ],
   "source": [
    "hKFoldSplt = StratifiedGroupKFold(n_splits = numKFolds, shuffle = True, random_state = randomState)\n",
    "for vTrainIdx, vTestIdx in hKFoldSplt.split(mX, vY, groups = dfData_sasa['Sender ID']):\n",
    "    mXTrain, mXTest, vYTrain, vYTest = mX.iloc[vTrainIdx], mX.iloc[vTestIdx], vY.iloc[vTrainIdx], vY.iloc[vTestIdx]\n",
    "    #xgbModel =XGBClassifier(tree_method=\"gpu_hist\", max_depth = 20, feature_names = lTotalFeatures, feature_types = feature_types_, random_state=seedNum, enable_categorical=True) #XGBClassifier(use_label_encoder = False)\n",
    "    xgbModel =XGBClassifier(n_estimators=250, tree_method=\"hist\", max_depth = 20,  random_state=seedNum, enable_categorical=True)\n",
    "    xgbModel.fit(mXTrain, vYTrain)\n",
    "    vYPred = xgbModel.predict(mXTest)\n",
    "    DisplayConfusionMatrix(vYTest, vYPred, lClasses = xgbModel.classes_)\n",
    "    print(GenClassifierSummaryResults(vYTest, vYPred))"
   ]
  },
  {
   "cell_type": "code",
   "execution_count": 74,
   "metadata": {},
   "outputs": [],
   "source": [
    "_df = dfData_sama.groupby(['File Name'])['Transaction ID'].count().reset_index(name = 'Count of TSX')\n",
    "n_tsx = 1000\n",
    "_files =_df[_df['Count of TSX'] > n_tsx ]['File Name'].to_list()\n",
    "_dfData_sama = dfData_sama[dfData_sama['File Name'].isin(_files)]"
   ]
  },
  {
   "cell_type": "code",
   "execution_count": 75,
   "metadata": {},
   "outputs": [],
   "source": [
    "# Pre Processing Data categorical mine, here dfData_ <-- is used for experiment\n",
    "\n",
    "_dfData_sama.replace([np.inf, -np.inf], np.nan, inplace = True)\n",
    "_dfData_sama.fillna(0, inplace = True)\n",
    "dfX_ = _dfData_sama[l_sfs].copy()\n",
    "\n",
    "#for catColName in lCatFeatures:\n",
    "#    dfX_[catColName] = dfX_[catColName].astype(\"category\", copy = False)\n",
    "hStdScaler = StandardScaler()\n",
    "dfX_[l_sfs] = hStdScaler.fit_transform(dfX_[l_sfs])\n"
   ]
  },
  {
   "cell_type": "code",
   "execution_count": 76,
   "metadata": {},
   "outputs": [],
   "source": [
    "mX = dfX_[lTotalFeatures]\n",
    "mX.rename(columns = {'Amount [USD]':'Amount USD'}, inplace = True)\n",
    "vY = _dfData_sama['Label']\n"
   ]
  },
  {
   "cell_type": "code",
   "execution_count": 77,
   "metadata": {},
   "outputs": [
    {
     "data": {
      "image/png": "[encoded data removed]",
      "text/plain": [
       "<Figure size 640x480 with 2 Axes>"
      ]
     },
     "metadata": {},
     "output_type": "display_data"
    },
    {
     "name": "stdout",
     "output_type": "stream",
     "text": [
      "Accuracy         0.998484\n",
      "F1               0.619048\n",
      "Precision        0.587227\n",
      "Recall           0.654514\n",
      "ROC AUC Score    0.826823\n",
      "dtype: float64\n"
     ]
    },
    {
     "data": {
      "image/png": "[encoded data removed]",
      "text/plain": [
       "<Figure size 640x480 with 2 Axes>"
      ]
     },
     "metadata": {},
     "output_type": "display_data"
    },
    {
     "name": "stdout",
     "output_type": "stream",
     "text": [
      "Accuracy         0.999157\n",
      "F1               0.579470\n",
      "Precision        0.985915\n",
      "Recall           0.410317\n",
      "ROC AUC Score    0.705154\n",
      "dtype: float64\n"
     ]
    },
    {
     "data": {
      "image/png": "[encoded data removed]",
      "text/plain": [
       "<Figure size 640x480 with 2 Axes>"
      ]
     },
     "metadata": {},
     "output_type": "display_data"
    },
    {
     "name": "stdout",
     "output_type": "stream",
     "text": [
      "Accuracy         0.999114\n",
      "F1               0.571429\n",
      "Precision        0.995951\n",
      "Recall           0.400651\n",
      "ROC AUC Score    0.700325\n",
      "dtype: float64\n"
     ]
    }
   ],
   "source": [
    "hKFoldSplt = StratifiedGroupKFold(n_splits = numKFolds, shuffle = True, random_state = randomState)\n",
    "for vTrainIdx, vTestIdx in hKFoldSplt.split(mX, vY, groups = _dfData_sama['Sender ID']):\n",
    "    mXTrain, mXTest, vYTrain, vYTest = mX.iloc[vTrainIdx], mX.iloc[vTestIdx], vY.iloc[vTrainIdx], vY.iloc[vTestIdx]\n",
    "    xgbModel =XGBClassifier(n_estimators=250, tree_method=\"hist\", max_depth = 20,  random_state=seedNum, enable_categorical=True)\n",
    "    xgbModel.fit(mXTrain, vYTrain)\n",
    "    vYPred = xgbModel.predict(mXTest)\n",
    "    DisplayConfusionMatrix(vYTest, vYPred, lClasses = xgbModel.classes_)\n",
    "    print(GenClassifierSummaryResults(vYTest, vYPred))"
   ]
  },
  {
   "cell_type": "code",
   "execution_count": null,
   "metadata": {},
   "outputs": [],
   "source": [
    "#####################################################"
   ]
  },
  {
   "cell_type": "code",
   "execution_count": 58,
   "metadata": {},
   "outputs": [],
   "source": [
    "l_sfs = ['Amount',\n",
    " 'Gas Price',\n",
    " 'Gas Used',\n",
    " 'AMOUNT_SUM_USR',\n",
    " 'AMOUNT_MEAN_ASSET',\n",
    " 'AMOUNT_STD_USR',\n",
    " 'AMOUNT_VAR_USR',\n",
    " 'AMOUNT_MIN_ASSET',\n",
    " 'AMOUNT_MIN_USR',\n",
    " 'AMOUNT_MAX_USR',\n",
    " 'TIME_DIFF_MEAN_USR',\n",
    " 'TIME_DIFF_STD_USR',\n",
    " 'TIME_DIFF_MEDIAN_USR',\n",
    " 'TIME_DIFF_MIN_ASSET',\n",
    " 'TIME_DIFF_MIN_USR',\n",
    " 'TIME_DIFF_MAX_ASSET',\n",
    " 'TIME_DIFF_MAX_USR',\n",
    " 'COIN_TYPE_USR_MEAN_ASSET_RATIO',\n",
    " 'COIN_TYPE_COUNT_USR',\n",
    " 'RECEIVER_TYPE_COUNT_USR',\n",
    " 'TIME_HOUR',\n",
    " 'TIME_WEEKDAY',\n",
    " 'TIME_INTERVL_USR',\n",
    " 'TIME_DIFF_STD_RATIO_USR_ASSET',\n",
    " 'TIME_DIFF_MEAN_RATIO_USR_ASSET',\n",
    " 'GAS_PRICE_STD_USR',\n",
    " 'GAS_PRICE_MEDIAN_USR',\n",
    " 'GAS_USED_MEAN_USR',\n",
    " 'GAS_USED_STD_ASSET',\n",
    " 'GAS_USED_STD_USR',\n",
    " 'MIN_INDICATOR',\n",
    " 'GAS_PRICE_USR_ASSET_RATIO_MEAN',\n",
    " 'GAS_USED_LIMIT_RATIO',\n",
    " 'GAS_PRICE_USED_RATIO_MEAN',\n",
    " 'GAS_USED_LIMIT_RATIO_MEAN',\n",
    " 'GAS_PRICE_QUANTILE_RATIO',\n",
    " 'GAS_USED_QUANTILE_RATIO',\n",
    " 'GAS_LIMIT_QUANTILE_RATIO',\n",
    " 'GAS_PRICE_QUANTILE_USR',\n",
    " 'GAS_USED_QUANTILE_USR']\n"
   ]
  },
  {
   "cell_type": "code",
   "execution_count": 59,
   "metadata": {},
   "outputs": [],
   "source": [
    "dfData_ = dfData.copy(deep=True) ###<<-- I create a copy of data frame for experiment with categorical variables "
   ]
  },
  {
   "cell_type": "code",
   "execution_count": 62,
   "metadata": {},
   "outputs": [],
   "source": [
    "lTotalFeatures = l_sfs "
   ]
  },
  {
   "cell_type": "code",
   "execution_count": 63,
   "metadata": {},
   "outputs": [],
   "source": [
    "# Pre Processing Data categorical mine, here dfData_ <-- is used for experiment\n",
    "\n",
    "dfData_.replace([np.inf, -np.inf], np.nan, inplace = True)\n",
    "dfData_.fillna(0, inplace = True)\n",
    "dfX_ = dfData_[l_sfs].copy()\n",
    "\n",
    "#for catColName in lCatFeatures:\n",
    "#    dfX_[catColName] = dfX_[catColName].astype(\"category\", copy = False)\n",
    "hStdScaler = StandardScaler()\n",
    "dfX_[l_sfs] = hStdScaler.fit_transform(dfX_[l_sfs])\n"
   ]
  },
  {
   "cell_type": "code",
   "execution_count": 64,
   "metadata": {},
   "outputs": [],
   "source": [
    "mX = dfX_[lTotalFeatures]\n",
    "mX.rename(columns = {'Amount [USD]':'Amount USD'}, inplace = True)\n",
    "vY = dfData_['Label']"
   ]
  },
  {
   "cell_type": "code",
   "execution_count": 65,
   "metadata": {},
   "outputs": [
    {
     "data": {
      "image/png": "[encoded data removed]",
      "text/plain": [
       "<Figure size 640x480 with 2 Axes>"
      ]
     },
     "metadata": {},
     "output_type": "display_data"
    },
    {
     "name": "stdout",
     "output_type": "stream",
     "text": [
      "Accuracy         0.998801\n",
      "F1               0.628031\n",
      "Precision        0.958484\n",
      "Recall           0.467018\n",
      "ROC AUC Score    0.733487\n",
      "dtype: float64\n"
     ]
    },
    {
     "data": {
      "image/png": "[encoded data removed]",
      "text/plain": [
       "<Figure size 640x480 with 2 Axes>"
      ]
     },
     "metadata": {},
     "output_type": "display_data"
    },
    {
     "name": "stdout",
     "output_type": "stream",
     "text": [
      "Accuracy         0.998805\n",
      "F1               0.741752\n",
      "Precision        0.890710\n",
      "Recall           0.635478\n",
      "ROC AUC Score    0.817633\n",
      "dtype: float64\n"
     ]
    },
    {
     "data": {
      "image/png": "[encoded data removed]",
      "text/plain": [
       "<Figure size 640x480 with 2 Axes>"
      ]
     },
     "metadata": {},
     "output_type": "display_data"
    },
    {
     "name": "stdout",
     "output_type": "stream",
     "text": [
      "Accuracy         0.998741\n",
      "F1               0.469951\n",
      "Precision        0.527981\n",
      "Recall           0.423415\n",
      "ROC AUC Score    0.711457\n",
      "dtype: float64\n"
     ]
    }
   ],
   "source": [
    "hKFoldSplt = StratifiedGroupKFold(n_splits = numKFolds, shuffle = True, random_state = randomState)\n",
    "for vTrainIdx, vTestIdx in hKFoldSplt.split(mX, vY, groups = dfData['Sender ID']):\n",
    "    mXTrain, mXTest, vYTrain, vYTest = mX.iloc[vTrainIdx], mX.iloc[vTestIdx], vY.iloc[vTrainIdx], vY.iloc[vTestIdx]\n",
    "    #xgbModel =XGBClassifier(tree_method=\"gpu_hist\", max_depth = 20, feature_names = lTotalFeatures, feature_types = feature_types_, random_state=seedNum, enable_categorical=True) #XGBClassifier(use_label_encoder = False)\n",
    "    xgbModel =XGBClassifier(n_estimators=250, tree_method=\"hist\", max_depth = 20,  random_state=seedNum, enable_categorical=True)\n",
    "    xgbModel.fit(mXTrain, vYTrain)\n",
    "    vYPred = xgbModel.predict(mXTest)\n",
    "    DisplayConfusionMatrix(vYTest, vYPred, lClasses = xgbModel.classes_)\n",
    "    print(GenClassifierSummaryResults(vYTest, vYPred))"
   ]
  },
  {
   "cell_type": "code",
   "execution_count": 66,
   "metadata": {},
   "outputs": [
    {
     "data": {
      "text/plain": [
       "(0.5086369999999999, 0.49023866666666666)"
      ]
     },
     "execution_count": 66,
     "metadata": {},
     "output_type": "execute_result"
    }
   ],
   "source": [
    "(0.467018 + 0.635478 + 0.423415)/3, (0.481091 + 0.634503 + 0.355122)/3"
   ]
  },
  {
   "cell_type": "code",
   "execution_count": null,
   "metadata": {},
   "outputs": [],
   "source": []
  }
 ],
 "metadata": {
  "kernelspec": {
   "display_name": "Python 3.10.5 64-bit (system)",
   "language": "python",
   "name": "python3"
  },
  "language_info": {
   "codemirror_mode": {
    "name": "ipython",
    "version": 3
   },
   "file_extension": ".py",
   "mimetype": "text/x-python",
   "name": "python",
   "nbconvert_exporter": "python",
   "pygments_lexer": "ipython3",
   "version": "3.10.5"
  },
  "orig_nbformat": 4,
  "vscode": {
   "interpreter": {
    "hash": "95ddca318bf123e47b38b5a5b9dcba5a0c9d5dde3556722e5a10703c6b4cbfc1"
   }
  }
 },
 "nbformat": 4,
 "nbformat_minor": 2
}
