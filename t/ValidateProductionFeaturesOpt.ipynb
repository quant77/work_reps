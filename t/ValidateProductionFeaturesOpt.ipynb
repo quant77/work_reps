{
 "cells": [
  {
   "cell_type": "markdown",
   "metadata": {},
   "source": [
    "[![CyVers](https://i.imgur.com/yyhmZET.png)](https://www.cyvers.ai/)\n",
    "\n",
    "# Validate Production Features and Reules Calculations  \n",
    "This notebook validates the calculationdone online as described in https://github.com/CyVers-AI/SolidusBlindTest/issues/10.\n",
    "\n",
    "> Notebook by:\n",
    "> - Royi Avital Royi@cyvers.ai\n",
    "\n",
    "## Revision History\n",
    "\n",
    "| Version | Date       | Name            | Content / Changes     |\n",
    "|---------|------------|-----------------|-----------------------|\n",
    "| 1.0.000 | 27/06/2022 | Royi Avital     | First version         |\n",
    "|         |            |                 |                       |"
   ]
  },
  {
   "cell_type": "code",
   "execution_count": null,
   "metadata": {},
   "outputs": [],
   "source": [
    "# General Tools\n",
    "import numpy as np\n",
    "import scipy as sp\n",
    "import pandas as pd\n",
    "\n",
    "# Misc\n",
    "import datetime\n",
    "import os\n",
    "from platform import python_version\n",
    "import random\n",
    "\n",
    "from numba import njit\n",
    "\n",
    "# Machine Learning\n",
    "from sklearn.preprocessing import LabelEncoder\n",
    "\n",
    "# EDA Tools\n",
    "import ppscore as pps #<! See https://github.com/8080labs/ppscore -> pip install git+https://github.com/8080labs/ppscore.git\n",
    "\n",
    "# Ensemble Engines\n",
    "import lightgbm\n",
    "import xgboost\n",
    "\n",
    "# Visualization\n",
    "import matplotlib.pyplot as plt\n",
    "import seaborn as sns\n",
    "from bokeh.plotting import figure, show\n",
    "\n",
    "# Jupyter\n",
    "from ipywidgets import interact, Dropdown, Layout"
   ]
  },
  {
   "cell_type": "code",
   "execution_count": null,
   "metadata": {},
   "outputs": [],
   "source": [
    "# Configuration\n",
    "%matplotlib inline\n",
    "\n",
    "seedNum = 512\n",
    "np.random.seed(seedNum)\n",
    "random.seed(seedNum)\n",
    "\n",
    "sns.set_theme() #>! Apply SeaBorn theme"
   ]
  },
  {
   "cell_type": "code",
   "execution_count": null,
   "metadata": {},
   "outputs": [],
   "source": [
    "# Constants\n",
    "\n",
    "DATA_FOLDER_NAME    = 'DataSet'\n",
    "DATA_FILE_EXT       = 'csv'"
   ]
  },
  {
   "cell_type": "code",
   "execution_count": null,
   "metadata": {},
   "outputs": [],
   "source": [
    "# Parameters\n",
    "\n",
    "csvFileName = 'Dataset Bit2C Test Case.csv'\n",
    "\n",
    "tsxAmountThr    = 8\n",
    "tsxTimeDiffThr  = -0.99"
   ]
  },
  {
   "cell_type": "code",
   "execution_count": null,
   "metadata": {},
   "outputs": [],
   "source": [
    "# Loading / Generating Data\n",
    "\n",
    "dfData = pd.read_csv(os.path.join(DATA_FOLDER_NAME, csvFileName))\n",
    "numRows, numCols = dfData.shape\n",
    "\n",
    "print(f'The number of rows (Samples): {numRows}, The number of columns: {numCols}')"
   ]
  },
  {
   "cell_type": "code",
   "execution_count": null,
   "metadata": {},
   "outputs": [],
   "source": [
    "# Convert time data into Pandas format\n",
    "dfData['Transaction Time'] = pd.to_datetime(dfData['Transaction Time'], infer_datetime_format = 'True') #<! Stable time format"
   ]
  },
  {
   "cell_type": "code",
   "execution_count": null,
   "metadata": {},
   "outputs": [],
   "source": [
    "dfData.head(20)"
   ]
  },
  {
   "cell_type": "code",
   "execution_count": null,
   "metadata": {},
   "outputs": [],
   "source": [
    "dfData.info()"
   ]
  },
  {
   "cell_type": "code",
   "execution_count": null,
   "metadata": {},
   "outputs": [],
   "source": [
    "len(dfData['Receiver ID'].unique())"
   ]
  },
  {
   "cell_type": "code",
   "execution_count": null,
   "metadata": {},
   "outputs": [],
   "source": [
    "dfData.describe()"
   ]
  },
  {
   "cell_type": "code",
   "execution_count": null,
   "metadata": {},
   "outputs": [],
   "source": [
    "# We need data sorted by ascending time \n",
    "\n",
    "dfData.sort_values('Transaction Time', inplace = True)"
   ]
  },
  {
   "cell_type": "code",
   "execution_count": null,
   "metadata": {},
   "outputs": [],
   "source": [
    "dfData.reset_index(inplace = True)\n",
    "dfData.head(100)"
   ]
  },
  {
   "cell_type": "markdown",
   "metadata": {},
   "source": [
    "## Feature Calculation\n",
    "\n",
    "Features are calculated by time (Using current and past data only)."
   ]
  },
  {
   "cell_type": "code",
   "execution_count": null,
   "metadata": {},
   "outputs": [],
   "source": [
    "dfData['Rolling Average Amount [USD]'] = np.nan #<! Rolling average over time of all data\n",
    "dfData['Time Difference Group [Sec]'] = np.nan #<! The time difference from the previous transaction of teh same user\n",
    "dfData['Rolling Average Time Difference [Sec]'] = np.nan #<! The average of teh average time difference per group (Until the i-th transaction where i is the row index sorted by transaction time)\n",
    "\n",
    "dfData.head()"
   ]
  },
  {
   "cell_type": "code",
   "execution_count": null,
   "metadata": {},
   "outputs": [],
   "source": [
    "dfData['Rolling Average Amount [USD]'] = dfData['Amount [USD]'].cumsum() / np.arange(1.0, dfData.shape[0] + 1)\n",
    "dfData.head()"
   ]
  },
  {
   "cell_type": "code",
   "execution_count": null,
   "metadata": {},
   "outputs": [],
   "source": [
    "dsUniqueUser = dfData['Receiver ID'].unique()\n",
    "dsUniqueUser"
   ]
  },
  {
   "cell_type": "code",
   "execution_count": null,
   "metadata": {},
   "outputs": [],
   "source": [
    "numUniqUsr = len(dsUniqueUser)"
   ]
  },
  {
   "cell_type": "code",
   "execution_count": null,
   "metadata": {},
   "outputs": [],
   "source": [
    "labelEncoder = LabelEncoder()\n",
    "labelEncoder.fit(dsUniqueUser)\n",
    "labelEncoder.classes_\n",
    "\n",
    "dfData['UserEnc'] = labelEncoder.transform(dfData['Receiver ID'])"
   ]
  },
  {
   "cell_type": "code",
   "execution_count": null,
   "metadata": {},
   "outputs": [],
   "source": [
    "# Calculating the relative time in [Sec]\n",
    "dfData['TransactionTime [Sec]'] = (dfData['Transaction Time'] - dfData['Transaction Time'].loc[0]).dt.total_seconds()"
   ]
  },
  {
   "cell_type": "code",
   "execution_count": null,
   "metadata": {},
   "outputs": [],
   "source": [
    "# NumPy vector of the user encoding in UINT\n",
    "vUserEnc = dfData['UserEnc'].to_numpy()\n",
    "vUserEnc"
   ]
  },
  {
   "cell_type": "code",
   "execution_count": null,
   "metadata": {},
   "outputs": [],
   "source": [
    "# Numpy vector of the relative transaction time\n",
    "vTimeDelta = dfData['TransactionTime [Sec]'].to_numpy()\n",
    "vTimeDelta"
   ]
  },
  {
   "cell_type": "code",
   "execution_count": null,
   "metadata": {},
   "outputs": [],
   "source": [
    "vGrpNumTrns         = np.zeros(numUniqUsr)\n",
    "vGrpLastTime        = np.zeros(numUniqUsr)\n",
    "vGrpTimeDiff        = np.zeros(dfData.shape[0])\n",
    "vGrpTimeDiffAvg     = np.empty(numUniqUsr)\n",
    "vGrpTimeDiffAvg.fill(np.nan)\n",
    "vAvgGrpTimeDiffAvg  = np.zeros(dfData.shape[0])"
   ]
  },
  {
   "cell_type": "code",
   "execution_count": null,
   "metadata": {},
   "outputs": [],
   "source": [
    "# @njit(fastmath = True)\n",
    "@njit\n",
    "def CalcluateAvgGrpTimeDiffAvg(vUserEnc, vTimeDelta, vGrpNumTrns, vGrpLastTime, vGrpTimeDiffAvg, vGrpTimeDiff, vAvgGrpTimeDiffAvg):\n",
    "    numTrns = vAvgGrpTimeDiffAvg.size\n",
    "\n",
    "    for ii in range(numTrns):\n",
    "        vGrpNumTrns[vUserEnc[ii]]      += 1\n",
    "        vGrpLastTime[vUserEnc[ii]]      = np.where(vGrpNumTrns[vUserEnc[ii]] == 1, vTimeDelta[ii], vGrpLastTime[vUserEnc[ii]]) #<! To make sure the time difference for the 1st one is zero\n",
    "        currDiff                        = vTimeDelta[ii] - vGrpLastTime[vUserEnc[ii]]\n",
    "        vGrpTimeDiffAvg[vUserEnc[ii]]   = np.where(np.isnan(vGrpTimeDiffAvg[vUserEnc[ii]]), 0, vGrpTimeDiffAvg[vUserEnc[ii]])\n",
    "        vGrpTimeDiffAvg[vUserEnc[ii]]  += ((currDiff - vGrpTimeDiffAvg[vUserEnc[ii]]) / vGrpNumTrns[vUserEnc[ii]]) #<! Welford's algorithm\n",
    "        vGrpLastTime[vUserEnc[ii]]      = vTimeDelta[ii]\n",
    "        vGrpTimeDiff[ii]                = currDiff\n",
    "        vAvgGrpTimeDiffAvg[ii]          = np.nanmean(vGrpTimeDiffAvg)"
   ]
  },
  {
   "cell_type": "code",
   "execution_count": null,
   "metadata": {},
   "outputs": [],
   "source": [
    "CalcluateAvgGrpTimeDiffAvg(vUserEnc, vTimeDelta, vGrpNumTrns, vGrpLastTime, vGrpTimeDiffAvg, vGrpTimeDiff, vAvgGrpTimeDiffAvg)"
   ]
  },
  {
   "cell_type": "code",
   "execution_count": null,
   "metadata": {},
   "outputs": [],
   "source": [
    "dfData['Time Difference Group [Sec]']           = vGrpTimeDiff\n",
    "dfData['Rolling Average Time Difference [Sec]'] = vAvgGrpTimeDiffAvg"
   ]
  },
  {
   "cell_type": "code",
   "execution_count": null,
   "metadata": {},
   "outputs": [],
   "source": [
    "# Rules - Amount\n",
    "\n",
    "dfData['Amount Rule'] = ((dfData['Amount [USD]'] - dfData['Rolling Average Amount [USD]']) / dfData['Rolling Average Amount [USD]']) >= tsxAmountThr"
   ]
  },
  {
   "cell_type": "code",
   "execution_count": null,
   "metadata": {},
   "outputs": [],
   "source": [
    "# Rules - Time Difference\n",
    "\n",
    "dfData['Time Diff Rule'] = ((dfData['Time Difference Group [Sec]'] - dfData['Rolling Average Time Difference [Sec]']) / dfData['Rolling Average Time Difference [Sec]']) <= tsxTimeDiffThr\n",
    "dfData['Time Diff Rule'].iloc[dfData['Rolling Average Time Difference [Sec]'] == 0] = True #<! To match the code which for a single Tx group only use the amount rule (See https://github.com/CyVers-AI/features-creator/blob/7b0acbb4b6554e1d700ae5a7801403a3a6a19241/app/services/rule_impl.py#L90)"
   ]
  },
  {
   "cell_type": "code",
   "execution_count": null,
   "metadata": {},
   "outputs": [],
   "source": [
    "dfData['Alert Rule'] = dfData['Amount Rule'] & dfData['Time Diff Rule']"
   ]
  },
  {
   "cell_type": "code",
   "execution_count": null,
   "metadata": {},
   "outputs": [],
   "source": [
    "dfData.head(40)"
   ]
  },
  {
   "cell_type": "code",
   "execution_count": null,
   "metadata": {},
   "outputs": [],
   "source": [
    "dfData['Alert Rule'].sum()"
   ]
  },
  {
   "cell_type": "code",
   "execution_count": null,
   "metadata": {},
   "outputs": [],
   "source": [
    "dfData.to_csv(os.path.join(DATA_FOLDER_NAME, 'Validate.csv'))"
   ]
  }
 ],
 "metadata": {
  "kernelspec": {
   "display_name": "Python 3.10.4 64-bit (system)",
   "language": "python",
   "name": "python3"
  },
  "language_info": {
   "codemirror_mode": {
    "name": "ipython",
    "version": 3
   },
   "file_extension": ".py",
   "mimetype": "text/x-python",
   "name": "python",
   "nbconvert_exporter": "python",
   "pygments_lexer": "ipython3",
   "version": "3.10.4"
  },
  "orig_nbformat": 4,
  "vscode": {
   "interpreter": {
    "hash": "be0bb58de34efdc896882b24f079eecc07771980f2877d3d2e7074352c003269"
   }
  }
 },
 "nbformat": 4,
 "nbformat_minor": 2
}
